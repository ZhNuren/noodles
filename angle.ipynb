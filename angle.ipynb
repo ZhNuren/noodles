{
 "cells": [
  {
   "cell_type": "code",
   "execution_count": 1,
   "metadata": {},
   "outputs": [],
   "source": [
    "from engine import val_step\n",
    "from utils.utils import souping, greedy_souping\n",
    "from models import get_model\n",
    "\n",
    "import torch\n",
    "from torch.utils.data import DataLoader\n",
    "from torchvision import transforms\n",
    "import torchvision\n",
    "\n",
    "from dataset import RSNADataset, HAM10000Dataset, AptosDataset\n",
    "from torchvision.transforms.v2 import AutoAugmentPolicy, functional as F, InterpolationMode, Transform\n",
    "from torchvision.transforms import v2\n",
    "torchvision.disable_beta_transforms_warning()\n",
    "from timm.data.transforms import RandomResizedCropAndInterpolation\n",
    "import matplotlib.pyplot as plt\n",
    "import numpy as np\n",
    "import random\n",
    "import pandas as pd\n",
    "import argparse\n",
    "\n",
    "from utils.utils import EarlyStopper, get_dataset\n",
    "from torch.utils.data.dataset import Subset\n",
    "\n",
    "import yaml\n",
    "import json\n",
    "import time\n",
    "import os\n",
    "import wandb\n",
    "from utils.utils import load_model\n",
    "import sys\n"
   ]
  },
  {
   "cell_type": "code",
   "execution_count": 12,
   "metadata": {},
   "outputs": [],
   "source": [
    "DATASET = 'APTOS'\n",
    "MODEL = 'DeiT-S'\n",
    "NUM_CLASSES = 5\n",
    "DEVICE = 'cuda'\n",
    "PATH = './dataset/224_data/DR/aptos/\"\"./dataset/224_data/DR/aptos/aptos_dataset_splits.csv'#'/dataset/ISIC/ISIC2018_Task3_Training_Input/\"\"./dataset/ISIC/ISIC2018_Task3_Validation_Input/\"\"./dataset/ISIC/ISIC2018_Task3_Test_Input/\"\"./dataset/ISIC/ISIC2018_Task3_Training_GroundTruth/ISIC2018_Task3_Training_GroundTruth.csv\"\"./dataset/ISIC/ISIC2018_Task3_Validation_GroundTruth/ISIC2018_Task3_Validation_GroundTruth.csv\"\"./dataset/ISIC/ISIC2018_Task3_Test_GroundTruth/ISIC2018_Task3_Test_GroundTruth.csv'\n",
    "test_sort_by = 'Test F1'\n",
    "val_sort_by = 'Val F1'\n",
    "WEIGHT_PATH = f'/l/users/santosh.sanjeev/model_soups/runs/test/fge/{DATASET}/DeiT-S/'\n"
   ]
  },
  {
   "cell_type": "code",
   "execution_count": 13,
   "metadata": {},
   "outputs": [],
   "source": [
    "final_val_df = pd.read_csv(os.path.join(WEIGHT_PATH, 'FINAL_VAL_RESULTS.csv'), index_col=[0])\n",
    "final_test_df = pd.read_csv(os.path.join(WEIGHT_PATH, 'FINAL_TEST_RESULTS.csv'), index_col=[0])"
   ]
  },
  {
   "cell_type": "code",
   "execution_count": 14,
   "metadata": {},
   "outputs": [
    {
     "data": {
      "text/html": [
       "<div>\n",
       "<style scoped>\n",
       "    .dataframe tbody tr th:only-of-type {\n",
       "        vertical-align: middle;\n",
       "    }\n",
       "\n",
       "    .dataframe tbody tr th {\n",
       "        vertical-align: top;\n",
       "    }\n",
       "\n",
       "    .dataframe thead th {\n",
       "        text-align: right;\n",
       "    }\n",
       "</style>\n",
       "<table border=\"1\" class=\"dataframe\">\n",
       "  <thead>\n",
       "    <tr style=\"text-align: right;\">\n",
       "      <th></th>\n",
       "      <th>Model Name</th>\n",
       "      <th>Val Accuracy</th>\n",
       "      <th>Val F1</th>\n",
       "      <th>Val Recall</th>\n",
       "      <th>Val Kappa</th>\n",
       "      <th>Val AUC</th>\n",
       "      <th>LR</th>\n",
       "      <th>model_path</th>\n",
       "    </tr>\n",
       "  </thead>\n",
       "  <tbody>\n",
       "    <tr>\n",
       "      <th>1</th>\n",
       "      <td>25</td>\n",
       "      <td>0.875095</td>\n",
       "      <td>0.774388</td>\n",
       "      <td>0.749560</td>\n",
       "      <td>0.912150</td>\n",
       "      <td>0</td>\n",
       "      <td>0.000001</td>\n",
       "      <td>/l/users/santosh.sanjeev/model_soups/runs/test...</td>\n",
       "    </tr>\n",
       "    <tr>\n",
       "      <th>2</th>\n",
       "      <td>10</td>\n",
       "      <td>0.872917</td>\n",
       "      <td>0.774021</td>\n",
       "      <td>0.752154</td>\n",
       "      <td>0.914058</td>\n",
       "      <td>0</td>\n",
       "      <td>0.000005</td>\n",
       "      <td>/l/users/santosh.sanjeev/model_soups/runs/test...</td>\n",
       "    </tr>\n",
       "    <tr>\n",
       "      <th>3</th>\n",
       "      <td>14</td>\n",
       "      <td>0.866856</td>\n",
       "      <td>0.769565</td>\n",
       "      <td>0.754965</td>\n",
       "      <td>0.915155</td>\n",
       "      <td>0</td>\n",
       "      <td>0.000005</td>\n",
       "      <td>/l/users/santosh.sanjeev/model_soups/runs/test...</td>\n",
       "    </tr>\n",
       "    <tr>\n",
       "      <th>4</th>\n",
       "      <td>1</td>\n",
       "      <td>0.875947</td>\n",
       "      <td>0.768924</td>\n",
       "      <td>0.734147</td>\n",
       "      <td>0.915382</td>\n",
       "      <td>0</td>\n",
       "      <td>0.000010</td>\n",
       "      <td>/l/users/santosh.sanjeev/model_soups/runs/test...</td>\n",
       "    </tr>\n",
       "    <tr>\n",
       "      <th>5</th>\n",
       "      <td>19</td>\n",
       "      <td>0.870312</td>\n",
       "      <td>0.766923</td>\n",
       "      <td>0.745258</td>\n",
       "      <td>0.908060</td>\n",
       "      <td>0</td>\n",
       "      <td>0.000010</td>\n",
       "      <td>/l/users/santosh.sanjeev/model_soups/runs/test...</td>\n",
       "    </tr>\n",
       "    <tr>\n",
       "      <th>...</th>\n",
       "      <td>...</td>\n",
       "      <td>...</td>\n",
       "      <td>...</td>\n",
       "      <td>...</td>\n",
       "      <td>...</td>\n",
       "      <td>...</td>\n",
       "      <td>...</td>\n",
       "      <td>...</td>\n",
       "    </tr>\n",
       "    <tr>\n",
       "      <th>204</th>\n",
       "      <td>12</td>\n",
       "      <td>0.763636</td>\n",
       "      <td>0.512504</td>\n",
       "      <td>0.497879</td>\n",
       "      <td>0.792084</td>\n",
       "      <td>0</td>\n",
       "      <td>0.001000</td>\n",
       "      <td>/l/users/santosh.sanjeev/model_soups/runs/test...</td>\n",
       "    </tr>\n",
       "    <tr>\n",
       "      <th>205</th>\n",
       "      <td>4</td>\n",
       "      <td>0.761032</td>\n",
       "      <td>0.511359</td>\n",
       "      <td>0.496768</td>\n",
       "      <td>0.788353</td>\n",
       "      <td>0</td>\n",
       "      <td>0.001000</td>\n",
       "      <td>/l/users/santosh.sanjeev/model_soups/runs/test...</td>\n",
       "    </tr>\n",
       "    <tr>\n",
       "      <th>206</th>\n",
       "      <td>1</td>\n",
       "      <td>0.769697</td>\n",
       "      <td>0.508694</td>\n",
       "      <td>0.501579</td>\n",
       "      <td>0.786995</td>\n",
       "      <td>0</td>\n",
       "      <td>0.001000</td>\n",
       "      <td>/l/users/santosh.sanjeev/model_soups/runs/test...</td>\n",
       "    </tr>\n",
       "    <tr>\n",
       "      <th>207</th>\n",
       "      <td>0</td>\n",
       "      <td>0.767093</td>\n",
       "      <td>0.506129</td>\n",
       "      <td>0.499579</td>\n",
       "      <td>0.785931</td>\n",
       "      <td>0</td>\n",
       "      <td>0.001000</td>\n",
       "      <td>/l/users/santosh.sanjeev/model_soups/runs/test...</td>\n",
       "    </tr>\n",
       "    <tr>\n",
       "      <th>208</th>\n",
       "      <td>14</td>\n",
       "      <td>0.763636</td>\n",
       "      <td>0.500183</td>\n",
       "      <td>0.493285</td>\n",
       "      <td>0.785260</td>\n",
       "      <td>0</td>\n",
       "      <td>0.001000</td>\n",
       "      <td>/l/users/santosh.sanjeev/model_soups/runs/test...</td>\n",
       "    </tr>\n",
       "  </tbody>\n",
       "</table>\n",
       "<p>208 rows × 8 columns</p>\n",
       "</div>"
      ],
      "text/plain": [
       "     Model Name  Val Accuracy    Val F1  Val Recall  Val Kappa  Val AUC  \\\n",
       "1            25      0.875095  0.774388    0.749560   0.912150        0   \n",
       "2            10      0.872917  0.774021    0.752154   0.914058        0   \n",
       "3            14      0.866856  0.769565    0.754965   0.915155        0   \n",
       "4             1      0.875947  0.768924    0.734147   0.915382        0   \n",
       "5            19      0.870312  0.766923    0.745258   0.908060        0   \n",
       "..          ...           ...       ...         ...        ...      ...   \n",
       "204          12      0.763636  0.512504    0.497879   0.792084        0   \n",
       "205           4      0.761032  0.511359    0.496768   0.788353        0   \n",
       "206           1      0.769697  0.508694    0.501579   0.786995        0   \n",
       "207           0      0.767093  0.506129    0.499579   0.785931        0   \n",
       "208          14      0.763636  0.500183    0.493285   0.785260        0   \n",
       "\n",
       "           LR                                         model_path  \n",
       "1    0.000001  /l/users/santosh.sanjeev/model_soups/runs/test...  \n",
       "2    0.000005  /l/users/santosh.sanjeev/model_soups/runs/test...  \n",
       "3    0.000005  /l/users/santosh.sanjeev/model_soups/runs/test...  \n",
       "4    0.000010  /l/users/santosh.sanjeev/model_soups/runs/test...  \n",
       "5    0.000010  /l/users/santosh.sanjeev/model_soups/runs/test...  \n",
       "..        ...                                                ...  \n",
       "204  0.001000  /l/users/santosh.sanjeev/model_soups/runs/test...  \n",
       "205  0.001000  /l/users/santosh.sanjeev/model_soups/runs/test...  \n",
       "206  0.001000  /l/users/santosh.sanjeev/model_soups/runs/test...  \n",
       "207  0.001000  /l/users/santosh.sanjeev/model_soups/runs/test...  \n",
       "208  0.001000  /l/users/santosh.sanjeev/model_soups/runs/test...  \n",
       "\n",
       "[208 rows x 8 columns]"
      ]
     },
     "execution_count": 14,
     "metadata": {},
     "output_type": "execute_result"
    }
   ],
   "source": [
    "final_val_df"
   ]
  },
  {
   "cell_type": "code",
   "execution_count": 15,
   "metadata": {},
   "outputs": [
    {
     "data": {
      "text/html": [
       "<div>\n",
       "<style scoped>\n",
       "    .dataframe tbody tr th:only-of-type {\n",
       "        vertical-align: middle;\n",
       "    }\n",
       "\n",
       "    .dataframe tbody tr th {\n",
       "        vertical-align: top;\n",
       "    }\n",
       "\n",
       "    .dataframe thead th {\n",
       "        text-align: right;\n",
       "    }\n",
       "</style>\n",
       "<table border=\"1\" class=\"dataframe\">\n",
       "  <thead>\n",
       "    <tr style=\"text-align: right;\">\n",
       "      <th></th>\n",
       "      <th>Model Name</th>\n",
       "      <th>Test Accuracy</th>\n",
       "      <th>Test F1</th>\n",
       "      <th>Test Recall</th>\n",
       "      <th>Test Kappa</th>\n",
       "      <th>Test AUC</th>\n",
       "      <th>LR</th>\n",
       "      <th>model_path</th>\n",
       "    </tr>\n",
       "  </thead>\n",
       "  <tbody>\n",
       "    <tr>\n",
       "      <th>1</th>\n",
       "      <td>23</td>\n",
       "      <td>0.859797</td>\n",
       "      <td>0.741403</td>\n",
       "      <td>0.733067</td>\n",
       "      <td>0.930030</td>\n",
       "      <td>0</td>\n",
       "      <td>1.000000e-04</td>\n",
       "      <td>/l/users/santosh.sanjeev/model_soups/runs/test...</td>\n",
       "    </tr>\n",
       "    <tr>\n",
       "      <th>2</th>\n",
       "      <td>25</td>\n",
       "      <td>0.860196</td>\n",
       "      <td>0.740262</td>\n",
       "      <td>0.730923</td>\n",
       "      <td>0.928859</td>\n",
       "      <td>0</td>\n",
       "      <td>1.000000e-04</td>\n",
       "      <td>/l/users/santosh.sanjeev/model_soups/runs/test...</td>\n",
       "    </tr>\n",
       "    <tr>\n",
       "      <th>3</th>\n",
       "      <td>8</td>\n",
       "      <td>0.862800</td>\n",
       "      <td>0.739565</td>\n",
       "      <td>0.716779</td>\n",
       "      <td>0.927728</td>\n",
       "      <td>0</td>\n",
       "      <td>1.000000e-04</td>\n",
       "      <td>/l/users/santosh.sanjeev/model_soups/runs/test...</td>\n",
       "    </tr>\n",
       "    <tr>\n",
       "      <th>4</th>\n",
       "      <td>22</td>\n",
       "      <td>0.854190</td>\n",
       "      <td>0.735311</td>\n",
       "      <td>0.729067</td>\n",
       "      <td>0.930496</td>\n",
       "      <td>0</td>\n",
       "      <td>1.000000e-04</td>\n",
       "      <td>/l/users/santosh.sanjeev/model_soups/runs/test...</td>\n",
       "    </tr>\n",
       "    <tr>\n",
       "      <th>5</th>\n",
       "      <td>21</td>\n",
       "      <td>0.867610</td>\n",
       "      <td>0.734985</td>\n",
       "      <td>0.718609</td>\n",
       "      <td>0.934969</td>\n",
       "      <td>0</td>\n",
       "      <td>1.000000e-04</td>\n",
       "      <td>/l/users/santosh.sanjeev/model_soups/runs/test...</td>\n",
       "    </tr>\n",
       "    <tr>\n",
       "      <th>...</th>\n",
       "      <td>...</td>\n",
       "      <td>...</td>\n",
       "      <td>...</td>\n",
       "      <td>...</td>\n",
       "      <td>...</td>\n",
       "      <td>...</td>\n",
       "      <td>...</td>\n",
       "      <td>...</td>\n",
       "    </tr>\n",
       "    <tr>\n",
       "      <th>204</th>\n",
       "      <td>2</td>\n",
       "      <td>0.758258</td>\n",
       "      <td>0.523570</td>\n",
       "      <td>0.503588</td>\n",
       "      <td>0.771087</td>\n",
       "      <td>0</td>\n",
       "      <td>1.000000e-03</td>\n",
       "      <td>/l/users/santosh.sanjeev/model_soups/runs/test...</td>\n",
       "    </tr>\n",
       "    <tr>\n",
       "      <th>205</th>\n",
       "      <td>4</td>\n",
       "      <td>0.760862</td>\n",
       "      <td>0.521825</td>\n",
       "      <td>0.500921</td>\n",
       "      <td>0.766500</td>\n",
       "      <td>0</td>\n",
       "      <td>1.000000e-03</td>\n",
       "      <td>/l/users/santosh.sanjeev/model_soups/runs/test...</td>\n",
       "    </tr>\n",
       "    <tr>\n",
       "      <th>206</th>\n",
       "      <td>3</td>\n",
       "      <td>0.761261</td>\n",
       "      <td>0.520966</td>\n",
       "      <td>0.500921</td>\n",
       "      <td>0.769001</td>\n",
       "      <td>0</td>\n",
       "      <td>1.000000e-03</td>\n",
       "      <td>/l/users/santosh.sanjeev/model_soups/runs/test...</td>\n",
       "    </tr>\n",
       "    <tr>\n",
       "      <th>207</th>\n",
       "      <td>0</td>\n",
       "      <td>0.778083</td>\n",
       "      <td>0.518094</td>\n",
       "      <td>0.502076</td>\n",
       "      <td>0.825896</td>\n",
       "      <td>0</td>\n",
       "      <td>1.000000e-07</td>\n",
       "      <td>/l/users/santosh.sanjeev/model_soups/runs/test...</td>\n",
       "    </tr>\n",
       "    <tr>\n",
       "      <th>208</th>\n",
       "      <td>1</td>\n",
       "      <td>0.755654</td>\n",
       "      <td>0.514330</td>\n",
       "      <td>0.496921</td>\n",
       "      <td>0.756325</td>\n",
       "      <td>0</td>\n",
       "      <td>1.000000e-03</td>\n",
       "      <td>/l/users/santosh.sanjeev/model_soups/runs/test...</td>\n",
       "    </tr>\n",
       "  </tbody>\n",
       "</table>\n",
       "<p>208 rows × 8 columns</p>\n",
       "</div>"
      ],
      "text/plain": [
       "     Model Name  Test Accuracy   Test F1  Test Recall  Test Kappa  Test AUC  \\\n",
       "1            23       0.859797  0.741403     0.733067    0.930030         0   \n",
       "2            25       0.860196  0.740262     0.730923    0.928859         0   \n",
       "3             8       0.862800  0.739565     0.716779    0.927728         0   \n",
       "4            22       0.854190  0.735311     0.729067    0.930496         0   \n",
       "5            21       0.867610  0.734985     0.718609    0.934969         0   \n",
       "..          ...            ...       ...          ...         ...       ...   \n",
       "204           2       0.758258  0.523570     0.503588    0.771087         0   \n",
       "205           4       0.760862  0.521825     0.500921    0.766500         0   \n",
       "206           3       0.761261  0.520966     0.500921    0.769001         0   \n",
       "207           0       0.778083  0.518094     0.502076    0.825896         0   \n",
       "208           1       0.755654  0.514330     0.496921    0.756325         0   \n",
       "\n",
       "               LR                                         model_path  \n",
       "1    1.000000e-04  /l/users/santosh.sanjeev/model_soups/runs/test...  \n",
       "2    1.000000e-04  /l/users/santosh.sanjeev/model_soups/runs/test...  \n",
       "3    1.000000e-04  /l/users/santosh.sanjeev/model_soups/runs/test...  \n",
       "4    1.000000e-04  /l/users/santosh.sanjeev/model_soups/runs/test...  \n",
       "5    1.000000e-04  /l/users/santosh.sanjeev/model_soups/runs/test...  \n",
       "..            ...                                                ...  \n",
       "204  1.000000e-03  /l/users/santosh.sanjeev/model_soups/runs/test...  \n",
       "205  1.000000e-03  /l/users/santosh.sanjeev/model_soups/runs/test...  \n",
       "206  1.000000e-03  /l/users/santosh.sanjeev/model_soups/runs/test...  \n",
       "207  1.000000e-07  /l/users/santosh.sanjeev/model_soups/runs/test...  \n",
       "208  1.000000e-03  /l/users/santosh.sanjeev/model_soups/runs/test...  \n",
       "\n",
       "[208 rows x 8 columns]"
      ]
     },
     "execution_count": 15,
     "metadata": {},
     "output_type": "execute_result"
    }
   ],
   "source": [
    "final_test_df"
   ]
  },
  {
   "cell_type": "code",
   "execution_count": 2,
   "metadata": {},
   "outputs": [],
   "source": [
    "\n",
    "def get_xy(point, origin, vector_x, vector_y):\n",
    "    return np.array([np.dot(point - origin, vector_x), np.dot(point - origin, vector_y)])\n",
    "\n",
    "\n",
    "def angle_between_vectors(vectors):\n",
    "    \"\"\"\n",
    "    Calculate the angle between the second and third vectors with respect to the origin.\n",
    "\n",
    "    Parameters:\n",
    "    - vectors: numpy array, each row represents a vector\n",
    "\n",
    "    Returns:\n",
    "    - angle_deg: float, angle in degrees\n",
    "    \"\"\"\n",
    "    # Extract the second and third vectors from the array\n",
    "    vector1 = vectors[1]\n",
    "    vector2 = vectors[2]\n",
    "\n",
    "    # Calculate vectors from origin to the given points\n",
    "    origin = np.zeros_like(vector1)\n",
    "    vector1_from_origin = vector1 - origin\n",
    "    vector2_from_origin = vector2 - origin\n",
    "\n",
    "    # Calculate the dot product\n",
    "    dot_product = np.dot(vector1_from_origin, vector2_from_origin)\n",
    "\n",
    "    # Calculate the magnitudes\n",
    "    magnitude_vector1 = np.linalg.norm(vector1_from_origin)\n",
    "    magnitude_vector2 = np.linalg.norm(vector2_from_origin)\n",
    "\n",
    "    # Calculate the cosine of the angle\n",
    "    cosine_theta = dot_product / (magnitude_vector1 * magnitude_vector2)\n",
    "\n",
    "\n",
    "    # Calculate the angle in radians\n",
    "    theta_rad = np.arccos(np.clip(cosine_theta, -1.0, 1.0))\n",
    "    \n",
    "    # Convert angle to degrees\n",
    "    angle_deg = np.degrees(theta_rad)\n",
    "\n",
    "    return angle_deg\n"
   ]
  },
  {
   "cell_type": "code",
   "execution_count": 18,
   "metadata": {},
   "outputs": [
    {
     "name": "stdout",
     "output_type": "stream",
     "text": [
      "2 0.13562092827251518\n",
      "3 0.14803752532310693\n",
      "4 0.16432452156180904\n",
      "5 0.13562092827251518\n",
      "6 0.034264020096037975\n",
      "7 0.1282042487280194\n",
      "8 0.15065786343767226\n",
      "9 0.16071255014426922\n",
      "10 0.13988230894202303\n",
      "11 0.14935344105781187\n",
      "12 0.13122123336572936\n",
      "13 0.12194656246489415\n",
      "14 0.16192549306284887\n",
      "15 0.15450506866003139\n",
      "16 0.13270400689029618\n",
      "17 0.3981127325547928\n",
      "18 0.1282042487280194\n",
      "19 0.13122123336572936\n",
      "20 0.15450506866003139\n",
      "21 0.12194656246489415\n",
      "22 0.3891652016442876\n",
      "23 0.14803752532310693\n",
      "24 0.11703392759136522\n",
      "25 0.4044517555675433\n",
      "26 0.14803752532310693\n",
      "27 0.4005626901348312\n",
      "28 0.12354070345060092\n",
      "29 0.3936643883838593\n",
      "30 0.39515273375223087\n",
      "31 0.11534989781745353\n",
      "32 0.14803752532310693\n",
      "33 0.423823481996739\n",
      "34 0.15065786343767226\n",
      "35 0.4106929493613624\n",
      "36 0.14803752532310693\n",
      "37 0.16071255014426922\n",
      "38 0.17582936122100767\n",
      "39 0.16071255014426922\n",
      "40 0.048456642643301504\n",
      "41 0.3936643883838593\n",
      "42 0.3921703946518569\n",
      "43 0.3921703946518569\n",
      "44 0.15065786343767226\n",
      "45 0.7375442489242597\n",
      "46 0.40348300344823895\n",
      "47 0.14536996258882304\n",
      "48 0.17017419378319848\n",
      "49 0.7576975863522948\n",
      "50 0.39067068775520747\n",
      "51 0.40590054866317626\n",
      "52 0.1655109964311004\n",
      "53 0.16432452156180904\n",
      "54 0.05934702544657821\n",
      "55 0.41777848794322114\n",
      "56 0.11703392759136522\n",
      "57 0.40926112153302896\n",
      "58 0.39016950448481\n",
      "59 0.7548514795779888\n",
      "60 0.16902045629320203\n",
      "61 0.7530347203645325\n",
      "62 0.14536996258882304\n",
      "63 0.18238424868700404\n",
      "64 0.7396636627112572\n",
      "65 0.14536996258882304\n",
      "66 0.41543006954569667\n",
      "67 0.1532333996180995\n",
      "68 0.40299775412308025\n",
      "69 0.39712851762917784\n",
      "70 0.749387989578397\n",
      "71 0.03956468264845247\n",
      "72 0.07132624918176021\n",
      "73 4.983579691794034\n",
      "74 0.12033130429241841\n",
      "75 0.07912937001338384\n",
      "76 0.16902045629320203\n",
      "77 4.984247961211033\n",
      "78 0.7470342627376982\n",
      "79 0.14935344105781187\n",
      "80 0.14803752532310693\n",
      "81 0.7478196614430778\n",
      "82 0.4196477605949864\n",
      "83 0.7386047159788077\n",
      "84 4.9839728022754075\n",
      "85 0.41543006954569667\n",
      "86 0.7378095085764401\n",
      "87 0.7348863866635044\n",
      "88 0.11703392759136522\n",
      "89 0.751994601721937\n",
      "90 0.7346200715773545\n",
      "91 0.7348863866635044\n",
      "92 0.08622923312351063\n",
      "93 0.1532333996180995\n",
      "94 4.982989968069936\n",
      "95 0.17245851507387555\n",
      "96 0.17913678902801208\n",
      "97 0.14935344105781187\n",
      "98 4.983579691794034\n",
      "99 0.39712851762917784\n",
      "100 0.7362165171436313\n",
      "101 0.14536996258882304\n",
      "102 0.09891171693842998\n",
      "103 0.1370561110185936\n",
      "104 0.7420407678801975\n",
      "105 0.1412742076966625\n",
      "106 0.13270400689029618\n",
      "107 0.1412742076966625\n",
      "108 0.42428491427026155\n",
      "109 0.41354173305531616\n",
      "110 4.983147234536395\n",
      "111 0.07661668268387072\n",
      "112 4.98464101912276\n",
      "113 0.7569224366742412\n",
      "114 0.7423044208092652\n",
      "115 0.7415131808040024\n",
      "116 0.1412742076966625\n",
      "117 4.982950650679734\n",
      "118 4.984601714722814\n",
      "119 0.40878273111984914\n",
      "120 4.982557459756809\n",
      "121 4.982203561462217\n",
      "122 0.17693870661400976\n",
      "123 4.9841300378083\n",
      "124 0.15450506866003139\n",
      "125 0.16902045629320203\n",
      "126 0.11534989781745353\n",
      "127 4.9839728022754075\n",
      "128 0.7514740025694913\n",
      "129 0.12354070345060092\n",
      "130 0.13270400689029618\n",
      "131 0.14536996258882304\n",
      "132 0.13270400689029618\n",
      "133 4.983422438940599\n",
      "134 0.7462480374763173\n",
      "135 0.09487278508118449\n",
      "136 0.019782341029446364\n",
      "137 4.981928289896413\n",
      "138 0.1532333996180995\n",
      "139 0.14803752532310693\n",
      "140 4.983736939698158\n",
      "141 4.983147234536395\n",
      "142 4.982989968069936\n",
      "143 4.982872014970977\n",
      "144 0.13562092827251518\n",
      "145 0.7330201493093237\n",
      "146 0.7319515917065432\n",
      "147 4.984758930467825\n",
      "148 0.12033130429241841\n",
      "149 4.983304496052254\n",
      "150 4.982124913991468\n",
      "151 0.1370561110185936\n",
      "152 4.982478817858189\n",
      "153 0.16071255014426922\n",
      "154 4.982124913991468\n",
      "155 0.034264020096037975\n",
      "156 0.10653118153060223\n",
      "157 0.7308814719463294\n",
      "158 0.7446730968106735\n",
      "159 0.16071255014426922\n",
      "160 4.982518138962264\n",
      "161 0.16192549306284887\n",
      "162 0.7319515917065432\n",
      "163 0.13988230894202303\n",
      "164 0.10087055545943382\n",
      "165 0.14536996258882304\n",
      "166 4.981770985046898\n",
      "167 0.1282042487280194\n",
      "168 0.1532333996180995\n",
      "169 0.17245851507387555\n",
      "170 0.16785878907325083\n",
      "171 0.16432452156180904\n",
      "172 0.14536996258882304\n",
      "173 0.16902045629320203\n",
      "174 0.17913678902801208\n",
      "175 0.17358940356200137\n",
      "176 0.17693870661400976\n",
      "177 0.1412742076966625\n",
      "178 0.1866263135942662\n",
      "179 0.1958352792096712\n",
      "180 0.19683190382077603\n",
      "181 7.41624409277415\n",
      "182 7.41547677531827\n",
      "183 7.416005968219339\n",
      "184 7.416270550588693\n",
      "185 7.416429295504904\n",
      "186 7.415820754975516\n",
      "187 0.2027087792782551\n",
      "188 7.415582616902747\n",
      "189 7.415953050619047\n",
      "190 7.415873673514556\n",
      "191 7.413147880273816\n",
      "192 7.415132779793394\n",
      "193 7.413518434967438\n",
      "194 7.416191176863474\n",
      "195 7.414868157052296\n",
      "196 7.414206559109793\n",
      "197 7.413756638973425\n",
      "198 7.4137037054075945\n",
      "199 7.414550597366186\n",
      "200 7.415106317941871\n",
      "201 7.414471205331381\n",
      "202 7.415185703214729\n",
      "203 7.415185703214729\n",
      "204 7.413544902455065\n",
      "205 7.413597837148422\n",
      "206 7.413412564077266\n",
      "207 7.414894619749004\n"
     ]
    },
    {
     "ename": "IndexError",
     "evalue": "single positional indexer is out-of-bounds",
     "output_type": "error",
     "traceback": [
      "\u001b[0;31m---------------------------------------------------------------------------\u001b[0m",
      "\u001b[0;31mIndexError\u001b[0m                                Traceback (most recent call last)",
      "Cell \u001b[0;32mIn[18], line 14\u001b[0m\n\u001b[1;32m     12\u001b[0m model3 \u001b[39m=\u001b[39m get_model(MODEL, num_classes\u001b[39m=\u001b[39mNUM_CLASSES)\n\u001b[1;32m     13\u001b[0m model2\u001b[39m.\u001b[39mload_state_dict(torch\u001b[39m.\u001b[39mload(final_val_df\u001b[39m.\u001b[39miloc[\u001b[39m0\u001b[39m][\u001b[39m'\u001b[39m\u001b[39mmodel_path\u001b[39m\u001b[39m'\u001b[39m])[\u001b[39m'\u001b[39m\u001b[39mmodel_state\u001b[39m\u001b[39m'\u001b[39m])\n\u001b[0;32m---> 14\u001b[0m model3\u001b[39m.\u001b[39mload_state_dict(torch\u001b[39m.\u001b[39mload(final_val_df\u001b[39m.\u001b[39;49miloc[index][\u001b[39m'\u001b[39m\u001b[39mmodel_path\u001b[39m\u001b[39m'\u001b[39m])[\u001b[39m'\u001b[39m\u001b[39mmodel_state\u001b[39m\u001b[39m'\u001b[39m])\n\u001b[1;32m     15\u001b[0m model2 \u001b[39m=\u001b[39m model2\u001b[39m.\u001b[39mto(DEVICE)\n\u001b[1;32m     16\u001b[0m model3 \u001b[39m=\u001b[39m model3\u001b[39m.\u001b[39mto(DEVICE)\n",
      "File \u001b[0;32m~/.conda/envs/nunoodles/lib/python3.8/site-packages/pandas/core/indexing.py:1103\u001b[0m, in \u001b[0;36m_LocationIndexer.__getitem__\u001b[0;34m(self, key)\u001b[0m\n\u001b[1;32m   1100\u001b[0m axis \u001b[39m=\u001b[39m \u001b[39mself\u001b[39m\u001b[39m.\u001b[39maxis \u001b[39mor\u001b[39;00m \u001b[39m0\u001b[39m\n\u001b[1;32m   1102\u001b[0m maybe_callable \u001b[39m=\u001b[39m com\u001b[39m.\u001b[39mapply_if_callable(key, \u001b[39mself\u001b[39m\u001b[39m.\u001b[39mobj)\n\u001b[0;32m-> 1103\u001b[0m \u001b[39mreturn\u001b[39;00m \u001b[39mself\u001b[39;49m\u001b[39m.\u001b[39;49m_getitem_axis(maybe_callable, axis\u001b[39m=\u001b[39;49maxis)\n",
      "File \u001b[0;32m~/.conda/envs/nunoodles/lib/python3.8/site-packages/pandas/core/indexing.py:1656\u001b[0m, in \u001b[0;36m_iLocIndexer._getitem_axis\u001b[0;34m(self, key, axis)\u001b[0m\n\u001b[1;32m   1653\u001b[0m     \u001b[39mraise\u001b[39;00m \u001b[39mTypeError\u001b[39;00m(\u001b[39m\"\u001b[39m\u001b[39mCannot index by location index with a non-integer key\u001b[39m\u001b[39m\"\u001b[39m)\n\u001b[1;32m   1655\u001b[0m \u001b[39m# validate the location\u001b[39;00m\n\u001b[0;32m-> 1656\u001b[0m \u001b[39mself\u001b[39;49m\u001b[39m.\u001b[39;49m_validate_integer(key, axis)\n\u001b[1;32m   1658\u001b[0m \u001b[39mreturn\u001b[39;00m \u001b[39mself\u001b[39m\u001b[39m.\u001b[39mobj\u001b[39m.\u001b[39m_ixs(key, axis\u001b[39m=\u001b[39maxis)\n",
      "File \u001b[0;32m~/.conda/envs/nunoodles/lib/python3.8/site-packages/pandas/core/indexing.py:1589\u001b[0m, in \u001b[0;36m_iLocIndexer._validate_integer\u001b[0;34m(self, key, axis)\u001b[0m\n\u001b[1;32m   1587\u001b[0m len_axis \u001b[39m=\u001b[39m \u001b[39mlen\u001b[39m(\u001b[39mself\u001b[39m\u001b[39m.\u001b[39mobj\u001b[39m.\u001b[39m_get_axis(axis))\n\u001b[1;32m   1588\u001b[0m \u001b[39mif\u001b[39;00m key \u001b[39m>\u001b[39m\u001b[39m=\u001b[39m len_axis \u001b[39mor\u001b[39;00m key \u001b[39m<\u001b[39m \u001b[39m-\u001b[39mlen_axis:\n\u001b[0;32m-> 1589\u001b[0m     \u001b[39mraise\u001b[39;00m \u001b[39mIndexError\u001b[39;00m(\u001b[39m\"\u001b[39m\u001b[39msingle positional indexer is out-of-bounds\u001b[39m\u001b[39m\"\u001b[39m)\n",
      "\u001b[0;31mIndexError\u001b[0m: single positional indexer is out-of-bounds"
     ]
    }
   ],
   "source": [
    "\n",
    "best_model_acc = final_val_df.iloc[0][val_sort_by]\n",
    "best_model_id = 1 #final_val_df.iloc[0]['Model Name']\n",
    "model_data = []\n",
    "\n",
    "for index, row in final_val_df.iloc[1:].iterrows():\n",
    "    # model_id = final_val_df.iloc[index]['Model Name']\n",
    "    model = get_model(MODEL, num_classes=NUM_CLASSES)\n",
    "    model = model.to(DEVICE)\n",
    "    model1 = get_model(MODEL, num_classes=NUM_CLASSES)\n",
    "    model1 = model1.to(DEVICE)\n",
    "    model2 = get_model(MODEL, num_classes=NUM_CLASSES)\n",
    "    model3 = get_model(MODEL, num_classes=NUM_CLASSES)\n",
    "    model2.load_state_dict(torch.load(final_val_df.iloc[0]['model_path'])['model_state'])\n",
    "    model3.load_state_dict(torch.load(final_val_df.iloc[index]['model_path'])['model_state'])\n",
    "    model2 = model2.to(DEVICE)\n",
    "    model3 = model3.to(DEVICE)\n",
    "\n",
    "    w = list()\n",
    "    curve_parameters = [model1.parameters(), model2.parameters(), model3.parameters()]\n",
    "    for i in range(3):\n",
    "        w.append(np.concatenate([\n",
    "            p.data.cpu().numpy().ravel() for p in curve_parameters[i]\n",
    "        ]))\n",
    "\n",
    "    u = w[2] - w[0]\n",
    "    dx = np.linalg.norm(u)\n",
    "    u /= dx\n",
    "    v = w[1] - w[0]\n",
    "    v -= np.dot(u, v) * u\n",
    "    dy = np.linalg.norm(v)\n",
    "    v /= dy\n",
    "    bend_coordinates = np.stack(get_xy(p, w[0], u, v) for p in w)\n",
    "    angle = angle_between_vectors(bend_coordinates)\n",
    "    model_data.append((index, angle, final_val_df.iloc[index]['LR']))\n",
    "    print(index, angle, final_val_df.iloc[index]['LR'])\n",
    "# Sort the model IDs based on angles in descending order\n",
    "sorted_model_data = sorted(model_data, key=lambda x: x[1], reverse=True)\n",
    "\n",
    "# Extract sorted model IDs and angles\n",
    "sorted_model_ids = [model_id for model_id, angle in sorted_model_data]\n",
    "sorted_angles = [angle for model_id, angle in sorted_model_data]\n",
    "\n",
    "sorted_model_ids = [model_id for model_id, angle, LRv in sorted_model_data]\n",
    "sorted_angles = [angle for model_id, angle, LRv in sorted_model_data]\n",
    "sorted_LRs = [LRv for model_id, angle, LRv in sorted_model_data]\n",
    "print(\"Sorted Model IDs based on angle:\")\n",
    "print(sorted_model_ids)\n",
    "print(\"Corresponding Angles:\")\n",
    "print(sorted_angles)\n",
    "print(\"Corresponding LR:\")\n",
    "print(sorted_LRs)\n"
   ]
  },
  {
   "cell_type": "code",
   "execution_count": 19,
   "metadata": {},
   "outputs": [
    {
     "name": "stdout",
     "output_type": "stream",
     "text": [
      "0\n",
      "1\n",
      "2\n",
      "3\n",
      "4\n",
      "5\n",
      "6\n",
      "7\n",
      "8\n",
      "9\n",
      "10\n",
      "11\n",
      "12\n",
      "13\n",
      "14\n",
      "15\n",
      "16\n",
      "17\n",
      "18\n",
      "19\n",
      "20\n",
      "21\n",
      "22\n",
      "23\n",
      "24\n",
      "25\n",
      "26\n",
      "27\n",
      "28\n",
      "29\n",
      "30\n",
      "31\n",
      "32\n",
      "33\n",
      "34\n",
      "35\n",
      "36\n",
      "37\n",
      "38\n",
      "39\n",
      "40\n",
      "41\n",
      "42\n",
      "43\n",
      "44\n",
      "45\n",
      "46\n",
      "47\n",
      "48\n"
     ]
    }
   ],
   "source": [
    "state_dicts = []\n",
    "WEIGHT_PATH_v2 = '/l/users/santosh.sanjeev/model_soups/runs/san_final_hyp_models/san-finetune/aptos_final_hyp/deitS_imagenet/2024-01-10_02-53-56/'\n",
    "\n",
    "for idx, folder in enumerate(sorted(os.listdir(WEIGHT_PATH_v2))):\n",
    "    print(idx)\n",
    "    if folder.startswith('testresults'):\n",
    "        continue\n",
    "    model_path = os.path.join(WEIGHT_PATH_v2, folder)\n",
    "    train_summary = json.load(open(os.path.join(model_path, \"train_summary.json\"), 'r'))\n",
    "    model_config = train_summary[\"config\"]\n",
    "\n",
    "    checkpoint = torch.load(os.path.join(model_path, \"best_checkpoint.pth\"), map_location=DEVICE)\n",
    "    state_dicts.append(checkpoint['model'])\n",
    "\n",
    "    model.load_state_dict(checkpoint['model'])"
   ]
  },
  {
   "cell_type": "code",
   "execution_count": 3,
   "metadata": {},
   "outputs": [
    {
     "name": "stdout",
     "output_type": "stream",
     "text": [
      "0\n",
      "1\n",
      "2\n",
      "3\n",
      "4\n",
      "5\n",
      "6\n",
      "7\n",
      "8\n",
      "9\n",
      "10\n",
      "11\n",
      "12\n",
      "13\n",
      "14\n",
      "15\n",
      "16\n",
      "17\n",
      "18\n",
      "19\n",
      "20\n",
      "21\n",
      "22\n",
      "23\n",
      "24\n",
      "25\n",
      "26\n",
      "27\n",
      "28\n",
      "29\n",
      "30\n",
      "31\n",
      "32\n",
      "33\n",
      "34\n",
      "35\n",
      "36\n",
      "37\n",
      "38\n",
      "39\n",
      "40\n",
      "41\n",
      "42\n",
      "43\n",
      "44\n",
      "45\n",
      "46\n",
      "47\n",
      "48\n"
     ]
    }
   ],
   "source": [
    "WEIGHT_PATH_v2 = '/l/users/santosh.sanjeev/model_soups/runs/san_final_hyp_models/san-finetune/aptos_final_hyp/deitS_imagenet/2024-01-10_02-53-56/'\n",
    "initial_val_df = pd.read_csv('/home/santosh.sanjeev/Projects/model-soups/noodles/test/APTOS/DeiT-S/VAL_RESULTS.csv')\n",
    "initial_test_df = pd.read_csv('/home/santosh.sanjeev/Projects/model-soups/noodles/test/APTOS/DeiT-S/TEST_RESULTS.csv')\n",
    "NUM_CLASSES = 5\n",
    "MODEL = 'DeiT-S'\n",
    "DEVICE = 'cuda'\n",
    "val_sort_by = 'Val F1'\n",
    "initial_model_path = '/home/santosh.sanjeev/Projects/model-soups/noodles/runs/san_final_hyp_models/san-initial_models/aptos_final_hyp/deitS_imagenet/2024-01-10_02-40-01/best_checkpoint.pth'\n",
    "\n",
    "\n",
    "state_dicts = []\n",
    "for idx, folder in enumerate(sorted(os.listdir(WEIGHT_PATH_v2))):\n",
    "    print(idx)\n",
    "    if folder.startswith('testresults'):\n",
    "        continue\n",
    "    model_path = os.path.join(WEIGHT_PATH_v2, folder)\n",
    "    train_summary = json.load(open(os.path.join(model_path, \"train_summary.json\"), 'r'))\n",
    "    model_config = train_summary[\"config\"]\n",
    "\n",
    "    checkpoint = torch.load(os.path.join(model_path, \"best_checkpoint.pth\"), map_location=DEVICE)\n",
    "    state_dicts.append(checkpoint['model'])\n"
   ]
  },
  {
   "cell_type": "code",
   "execution_count": 4,
   "metadata": {},
   "outputs": [
    {
     "name": "stdout",
     "output_type": "stream",
     "text": [
      "28 49.885243975275095 1e-05\n",
      "23 56.93102426170751 5e-05\n",
      "35 28.547976888693423 5e-06\n",
      "33 57.506675272865444 5e-06\n",
      "27 61.44778465962536 1e-05\n",
      "34 43.52722298685051 5e-06\n",
      "21 72.52906378256105 5e-05\n",
      "15 79.80760752829123 0.0001\n",
      "32 57.2359312872043 5e-06\n",
      "26 60.83666059327612 1e-05\n",
      "22 66.8603084164231 5e-05\n",
      "31 58.853118226846185 5e-06\n",
      "24 59.37875816465356 1e-05\n",
      "17 76.20570506099327 0.0001\n",
      "19 74.35061620864073 5e-05\n",
      "9 88.42150006320237 0.0005\n",
      "25 59.26473582355239 1e-05\n",
      "18 73.97820271184139 5e-05\n",
      "13 85.74811188459131 0.0001\n",
      "30 58.50575258020187 5e-06\n",
      "37 57.73804251163515 1e-06\n",
      "20 71.95620912039139 5e-05\n",
      "10 88.72254121373653 0.0005\n",
      "36 57.57962380552404 1e-06\n",
      "16 79.16878839180451 0.0001\n",
      "11 86.54835759356139 0.0005\n",
      "41 41.46644148210051 1e-06\n",
      "40 46.28862628692736 1e-06\n",
      "38 59.754964675876806 1e-06\n",
      "39 59.98375970214904 1e-06\n",
      "14 79.9642079044497 0.0001\n",
      "12 86.2563662851514 0.0001\n",
      "8 88.8370101054782 0.0005\n",
      "7 89.13938210577213 0.0005\n",
      "42 68.08430309960772 1e-07\n",
      "43 68.12367637517079 1e-07\n",
      "2 88.8354047865968 0.001\n",
      "3 88.83849448290657 0.001\n",
      "47 63.083462623970895 1e-07\n",
      "46 64.19068414227151 1e-07\n",
      "6 89.44590240519788 0.0005\n",
      "4 89.12020942104266 0.001\n",
      "5 87.0575214145646 0.001\n",
      "44 72.5421348206846 1e-07\n",
      "45 72.50172648975592 1e-07\n",
      "0 89.17850398874965 0.001\n",
      "1 89.07942655669532 0.001\n",
      "Sorted Model IDs based on angle:\n",
      "[6, 0, 7, 4, 1, 3, 8, 2, 10, 9, 5, 11, 12, 13, 14, 15, 16, 17, 19, 18, 44, 21, 45, 20, 43, 42, 22, 46, 47, 27, 26, 39, 38, 24, 25, 31, 30, 37, 36, 33, 32, 23, 28, 40, 34, 41, 35]\n",
      "Corresponding Angles:\n",
      "[89.44590240519788, 89.17850398874965, 89.13938210577213, 89.12020942104266, 89.07942655669532, 88.83849448290657, 88.8370101054782, 88.8354047865968, 88.72254121373653, 88.42150006320237, 87.0575214145646, 86.54835759356139, 86.2563662851514, 85.74811188459131, 79.9642079044497, 79.80760752829123, 79.16878839180451, 76.20570506099327, 74.35061620864073, 73.97820271184139, 72.5421348206846, 72.52906378256105, 72.50172648975592, 71.95620912039139, 68.12367637517079, 68.08430309960772, 66.8603084164231, 64.19068414227151, 63.083462623970895, 61.44778465962536, 60.83666059327612, 59.98375970214904, 59.754964675876806, 59.37875816465356, 59.26473582355239, 58.853118226846185, 58.50575258020187, 57.73804251163515, 57.57962380552404, 57.506675272865444, 57.2359312872043, 56.93102426170751, 49.885243975275095, 46.28862628692736, 43.52722298685051, 41.46644148210051, 28.547976888693423]\n",
      "Corresponding LR:\n",
      "[0.0005, 0.001, 0.0005, 0.001, 0.001, 0.001, 0.0005, 0.001, 0.0005, 0.0005, 0.001, 0.0005, 0.0001, 0.0001, 0.0001, 0.0001, 0.0001, 0.0001, 5e-05, 5e-05, 1e-07, 5e-05, 1e-07, 5e-05, 1e-07, 1e-07, 5e-05, 1e-07, 1e-07, 1e-05, 1e-05, 1e-06, 1e-06, 1e-05, 1e-05, 5e-06, 5e-06, 1e-06, 1e-06, 5e-06, 5e-06, 5e-05, 1e-05, 1e-06, 5e-06, 1e-06, 5e-06]\n"
     ]
    }
   ],
   "source": [
    "\n",
    "best_model_acc = initial_val_df.iloc[0][val_sort_by]\n",
    "best_model_id = initial_val_df.iloc[0]['Model Name']\n",
    "model_data = []\n",
    "\n",
    "for index, row in initial_val_df.iloc[1:].iterrows():\n",
    "    model_id = initial_val_df.iloc[index]['Model Name']\n",
    "    # model = get_model(MODEL, num_classes=NUM_CLASSES)\n",
    "    # model = model.to(DEVICE)\n",
    "    model1 = get_model(MODEL, num_classes=NUM_CLASSES)\n",
    "    model1.load_state_dict(torch.load(initial_model_path,map_location='cuda')['model'])\n",
    "\n",
    "    model1 = model1.to(DEVICE)\n",
    "    model2 = get_model(MODEL, num_classes=NUM_CLASSES)\n",
    "    model3 = get_model(MODEL, num_classes=NUM_CLASSES)\n",
    "    model2.load_state_dict(state_dicts[best_model_id])\n",
    "    model3.load_state_dict(state_dicts[model_id])\n",
    "    model2 = model2.to(DEVICE)\n",
    "    model3 = model3.to(DEVICE)\n",
    "\n",
    "    w = list()\n",
    "    curve_parameters = [model1.parameters(), model2.parameters(), model3.parameters()]\n",
    "    for i in range(3):\n",
    "        w.append(np.concatenate([\n",
    "            p.data.cpu().numpy().ravel() for p in curve_parameters[i]\n",
    "        ]))\n",
    "\n",
    "    u = w[2] - w[0]\n",
    "    dx = np.linalg.norm(u)\n",
    "    u /= dx\n",
    "    v = w[1] - w[0]\n",
    "    v -= np.dot(u, v) * u\n",
    "    dy = np.linalg.norm(v)\n",
    "    v /= dy\n",
    "    bend_coordinates = np.stack(get_xy(p, w[0], u, v) for p in w)\n",
    "    angle = angle_between_vectors(bend_coordinates)\n",
    "    model_data.append((model_id, angle, initial_val_df.iloc[index]['Learning Rate']))\n",
    "    print(model_id, angle, initial_val_df.iloc[index]['Learning Rate'])\n",
    "# Sort the model IDs based on angles in descending order\n",
    "sorted_model_data = sorted(model_data, key=lambda x: x[1], reverse=True)\n",
    "\n",
    "# Extract sorted model IDs and angles\n",
    "sorted_model_ids = [model_id for model_id, angle, LRv in sorted_model_data]\n",
    "sorted_angles = [angle for model_id, angle, LRv in sorted_model_data]\n",
    "sorted_LRs = [LRv for model_id, angle, LRv in sorted_model_data]\n",
    "print(\"Sorted Model IDs based on angle:\")\n",
    "print(sorted_model_ids)\n",
    "print(\"Corresponding Angles:\")\n",
    "print(sorted_angles)\n",
    "print(\"Corresponding LR:\")\n",
    "print(sorted_LRs)\n"
   ]
  },
  {
   "cell_type": "code",
   "execution_count": 16,
   "metadata": {},
   "outputs": [
    {
     "name": "stdout",
     "output_type": "stream",
     "text": [
      "['./dataset/224_data/DR/aptos/', './dataset/224_data/DR/aptos/aptos_dataset_splits.csv']\n",
      "APTOS 2929 366 367\n",
      "6\n",
      "[0.5, 0.5]\n"
     ]
    },
    {
     "name": "stderr",
     "output_type": "stream",
     "text": [
      "100%|██████████| 3/3 [00:05<00:00,  1.74s/it]\n"
     ]
    },
    {
     "name": "stdout",
     "output_type": "stream",
     "text": [
      "0.3044290712468193 0.7619860919530116\n",
      "0\n",
      "[0.5, 0.5]\n"
     ]
    },
    {
     "name": "stderr",
     "output_type": "stream",
     "text": [
      "100%|██████████| 3/3 [00:05<00:00,  1.77s/it]\n"
     ]
    },
    {
     "name": "stdout",
     "output_type": "stream",
     "text": [
      "0.2871482248293843 0.7619860919530116\n",
      "7\n",
      "[0.5, 0.5]\n"
     ]
    },
    {
     "name": "stderr",
     "output_type": "stream",
     "text": [
      "100%|██████████| 3/3 [00:05<00:00,  1.78s/it]\n"
     ]
    },
    {
     "name": "stdout",
     "output_type": "stream",
     "text": [
      "0.32380729881532966 0.7619860919530116\n",
      "4\n",
      "[0.5, 0.5]\n"
     ]
    },
    {
     "name": "stderr",
     "output_type": "stream",
     "text": [
      "100%|██████████| 3/3 [00:05<00:00,  1.78s/it]\n"
     ]
    },
    {
     "name": "stdout",
     "output_type": "stream",
     "text": [
      "0.3061136712749616 0.7619860919530116\n",
      "1\n",
      "[0.5, 0.5]\n"
     ]
    },
    {
     "name": "stderr",
     "output_type": "stream",
     "text": [
      "100%|██████████| 3/3 [00:05<00:00,  1.78s/it]\n"
     ]
    },
    {
     "name": "stdout",
     "output_type": "stream",
     "text": [
      "0.31001775687479005 0.7619860919530116\n",
      "3\n",
      "[0.5, 0.5]\n"
     ]
    },
    {
     "name": "stderr",
     "output_type": "stream",
     "text": [
      "100%|██████████| 3/3 [00:05<00:00,  1.77s/it]\n"
     ]
    },
    {
     "name": "stdout",
     "output_type": "stream",
     "text": [
      "0.3391246731287234 0.7619860919530116\n",
      "8\n",
      "[0.5, 0.5]\n"
     ]
    },
    {
     "name": "stderr",
     "output_type": "stream",
     "text": [
      "100%|██████████| 3/3 [00:05<00:00,  1.76s/it]\n"
     ]
    },
    {
     "name": "stdout",
     "output_type": "stream",
     "text": [
      "0.3303962703962704 0.7619860919530116\n",
      "2\n",
      "[0.5, 0.5]\n"
     ]
    },
    {
     "name": "stderr",
     "output_type": "stream",
     "text": [
      "100%|██████████| 3/3 [00:05<00:00,  1.69s/it]\n"
     ]
    },
    {
     "name": "stdout",
     "output_type": "stream",
     "text": [
      "0.306408345752608 0.7619860919530116\n",
      "10\n",
      "[0.5, 0.5]\n"
     ]
    },
    {
     "name": "stderr",
     "output_type": "stream",
     "text": [
      "100%|██████████| 3/3 [00:05<00:00,  1.74s/it]\n"
     ]
    },
    {
     "name": "stdout",
     "output_type": "stream",
     "text": [
      "0.41147946712587596 0.7619860919530116\n",
      "9\n",
      "[0.5, 0.5]\n"
     ]
    },
    {
     "name": "stderr",
     "output_type": "stream",
     "text": [
      "100%|██████████| 3/3 [00:05<00:00,  1.75s/it]\n"
     ]
    },
    {
     "name": "stdout",
     "output_type": "stream",
     "text": [
      "0.4538069708801416 0.7619860919530116\n",
      "5\n",
      "[0.5, 0.5]\n"
     ]
    },
    {
     "name": "stderr",
     "output_type": "stream",
     "text": [
      "100%|██████████| 3/3 [00:05<00:00,  1.74s/it]\n"
     ]
    },
    {
     "name": "stdout",
     "output_type": "stream",
     "text": [
      "0.2627043781480046 0.7619860919530116\n",
      "11\n",
      "[0.5, 0.5]\n"
     ]
    },
    {
     "name": "stderr",
     "output_type": "stream",
     "text": [
      "100%|██████████| 3/3 [00:05<00:00,  1.77s/it]\n"
     ]
    },
    {
     "name": "stdout",
     "output_type": "stream",
     "text": [
      "0.5729952762061334 0.7619860919530116\n",
      "12\n",
      "[0.5, 0.5]\n"
     ]
    },
    {
     "name": "stderr",
     "output_type": "stream",
     "text": [
      "100%|██████████| 3/3 [00:05<00:00,  1.71s/it]\n"
     ]
    },
    {
     "name": "stdout",
     "output_type": "stream",
     "text": [
      "0.4928349523444833 0.7619860919530116\n",
      "13\n",
      "[0.5, 0.5]\n"
     ]
    },
    {
     "name": "stderr",
     "output_type": "stream",
     "text": [
      "100%|██████████| 3/3 [00:05<00:00,  1.75s/it]\n"
     ]
    },
    {
     "name": "stdout",
     "output_type": "stream",
     "text": [
      "0.5730494285245906 0.7619860919530116\n",
      "14\n",
      "[0.5, 0.5]\n"
     ]
    },
    {
     "name": "stderr",
     "output_type": "stream",
     "text": [
      "100%|██████████| 3/3 [00:05<00:00,  1.73s/it]\n"
     ]
    },
    {
     "name": "stdout",
     "output_type": "stream",
     "text": [
      "0.6718156905495626 0.7619860919530116\n",
      "15\n",
      "[0.5, 0.5]\n"
     ]
    },
    {
     "name": "stderr",
     "output_type": "stream",
     "text": [
      "100%|██████████| 3/3 [00:05<00:00,  1.77s/it]\n"
     ]
    },
    {
     "name": "stdout",
     "output_type": "stream",
     "text": [
      "0.7289283035217531 0.7619860919530116\n",
      "16\n",
      "[0.5, 0.5]\n"
     ]
    },
    {
     "name": "stderr",
     "output_type": "stream",
     "text": [
      "100%|██████████| 3/3 [00:05<00:00,  1.74s/it]\n"
     ]
    },
    {
     "name": "stdout",
     "output_type": "stream",
     "text": [
      "0.6496724794289283 0.7619860919530116\n",
      "17\n",
      "[0.5, 0.5]\n"
     ]
    },
    {
     "name": "stderr",
     "output_type": "stream",
     "text": [
      "100%|██████████| 3/3 [00:05<00:00,  1.78s/it]\n"
     ]
    },
    {
     "name": "stdout",
     "output_type": "stream",
     "text": [
      "0.6283248233848284 0.7619860919530116\n",
      "19\n",
      "[0.5, 0.5]\n"
     ]
    },
    {
     "name": "stderr",
     "output_type": "stream",
     "text": [
      "100%|██████████| 3/3 [00:05<00:00,  1.77s/it]\n"
     ]
    },
    {
     "name": "stdout",
     "output_type": "stream",
     "text": [
      "0.7139499435655594 0.7619860919530116\n",
      "18\n",
      "[0.5, 0.5]\n"
     ]
    },
    {
     "name": "stderr",
     "output_type": "stream",
     "text": [
      "100%|██████████| 3/3 [00:05<00:00,  1.75s/it]\n"
     ]
    },
    {
     "name": "stdout",
     "output_type": "stream",
     "text": [
      "0.7083049826997003 0.7619860919530116\n",
      "44\n",
      "[0.5, 0.5]\n"
     ]
    },
    {
     "name": "stderr",
     "output_type": "stream",
     "text": [
      "100%|██████████| 3/3 [00:05<00:00,  1.75s/it]\n"
     ]
    },
    {
     "name": "stdout",
     "output_type": "stream",
     "text": [
      "0.6886993738148455 0.7619860919530116\n",
      "21\n",
      "[0.5, 0.5]\n"
     ]
    },
    {
     "name": "stderr",
     "output_type": "stream",
     "text": [
      "100%|██████████| 3/3 [00:05<00:00,  1.76s/it]\n"
     ]
    },
    {
     "name": "stdout",
     "output_type": "stream",
     "text": [
      "0.7538286133022976 0.7619860919530116\n",
      "45\n",
      "[0.5, 0.5]\n"
     ]
    },
    {
     "name": "stderr",
     "output_type": "stream",
     "text": [
      "100%|██████████| 3/3 [00:05<00:00,  1.76s/it]\n"
     ]
    },
    {
     "name": "stdout",
     "output_type": "stream",
     "text": [
      "0.6886993738148455 0.7619860919530116\n",
      "20\n",
      "[0.5, 0.5]\n"
     ]
    },
    {
     "name": "stderr",
     "output_type": "stream",
     "text": [
      "100%|██████████| 3/3 [00:05<00:00,  1.76s/it]\n"
     ]
    },
    {
     "name": "stdout",
     "output_type": "stream",
     "text": [
      "0.7537642806669436 0.7619860919530116\n",
      "43\n",
      "[0.5, 0.5]\n"
     ]
    },
    {
     "name": "stderr",
     "output_type": "stream",
     "text": [
      "100%|██████████| 3/3 [00:05<00:00,  1.77s/it]\n"
     ]
    },
    {
     "name": "stdout",
     "output_type": "stream",
     "text": [
      "0.6945162208265367 0.7619860919530116\n",
      "42\n",
      "[0.5, 0.5]\n"
     ]
    },
    {
     "name": "stderr",
     "output_type": "stream",
     "text": [
      "100%|██████████| 3/3 [00:05<00:00,  1.73s/it]\n"
     ]
    },
    {
     "name": "stdout",
     "output_type": "stream",
     "text": [
      "0.6945162208265367 0.7619860919530116\n",
      "22\n",
      "[0.5, 0.5]\n"
     ]
    },
    {
     "name": "stderr",
     "output_type": "stream",
     "text": [
      "100%|██████████| 3/3 [00:05<00:00,  1.75s/it]\n"
     ]
    },
    {
     "name": "stdout",
     "output_type": "stream",
     "text": [
      "0.7495847046353299 0.7619860919530116\n",
      "46\n",
      "[0.5, 0.5]\n"
     ]
    },
    {
     "name": "stderr",
     "output_type": "stream",
     "text": [
      "100%|██████████| 3/3 [00:05<00:00,  1.75s/it]\n"
     ]
    },
    {
     "name": "stdout",
     "output_type": "stream",
     "text": [
      "0.6936653347622871 0.7619860919530116\n",
      "47\n",
      "[0.5, 0.5]\n"
     ]
    },
    {
     "name": "stderr",
     "output_type": "stream",
     "text": [
      "100%|██████████| 3/3 [00:05<00:00,  1.74s/it]\n"
     ]
    },
    {
     "name": "stdout",
     "output_type": "stream",
     "text": [
      "0.6936653347622871 0.7619860919530116\n",
      "27\n",
      "[0.5, 0.5]\n"
     ]
    },
    {
     "name": "stderr",
     "output_type": "stream",
     "text": [
      "100%|██████████| 3/3 [00:05<00:00,  1.71s/it]\n"
     ]
    },
    {
     "name": "stdout",
     "output_type": "stream",
     "text": [
      "0.7855317939457205 0.7619860919530116\n",
      "in uniform testtttttttttttttttt\n",
      "0.7855317939457205 [29, 27]\n",
      "[6, 0, 7, 4, 1, 3, 8, 2, 10, 9, 5, 11, 12, 13, 14, 15, 16, 17, 19, 18, 44, 21, 45, 20, 43, 42, 22, 46, 47, 26, 39, 38, 24, 25, 31, 30, 37, 36, 33, 32, 23, 40, 34, 41, 35]\n",
      "Sorted Model IDs based on angle:\n",
      "[6, 0, 4, 1, 7, 5, 10, 8, 2, 3, 11, 9, 12, 13, 17, 16, 19, 18, 15, 42, 43, 14, 47, 46, 44, 45, 22, 23, 25, 24, 37, 36, 30, 31, 21, 41, 40, 20, 38, 35, 39, 34, 26, 32, 33]\n",
      "Corresponding Angles:\n",
      "[89.25824394842304, 88.99409411496148, 88.96132245306822, 88.91551336829765, 88.88400000188011, 88.5784978916366, 88.48700407313063, 87.77757580763381, 87.76381643649663, 87.65866437692141, 87.58632803103248, 86.87212535699885, 85.75565306826127, 84.9850890395382, 79.27919535495518, 78.1750430821427, 74.23722941961272, 73.7363836537183, 71.53319709379844, 70.5844830982909, 70.58033155516324, 70.28396230667865, 70.13344046979124, 70.05508885182293, 67.91608335815816, 67.33482450263865, 66.69386584310843, 65.96945463313585, 60.527337023542, 60.44767813797124, 60.09510898919767, 59.98199669293166, 59.82469432051642, 59.80230086059322, 58.73696051088108, 55.7874021806014, 55.48698623645678, 50.5224252381027, 49.90584068443621, 47.776555830749274, 47.23621725905267, 46.67330605686454, 44.024547187932086, 37.98802026444606, 25.132298772584388]\n",
      "6\n",
      "[0.6666666666666666, 0.33333333333333337]\n"
     ]
    },
    {
     "name": "stderr",
     "output_type": "stream",
     "text": [
      "100%|██████████| 3/3 [00:04<00:00,  1.62s/it]\n"
     ]
    },
    {
     "name": "stdout",
     "output_type": "stream",
     "text": [
      "0.2899815892919341 0.7855317939457205\n",
      "0\n",
      "[0.6666666666666666, 0.33333333333333337]\n"
     ]
    },
    {
     "name": "stderr",
     "output_type": "stream",
     "text": [
      "100%|██████████| 3/3 [00:04<00:00,  1.67s/it]\n"
     ]
    },
    {
     "name": "stdout",
     "output_type": "stream",
     "text": [
      "0.16722689075630254 0.7855317939457205\n",
      "4\n",
      "[0.6666666666666666, 0.33333333333333337]\n"
     ]
    },
    {
     "name": "stderr",
     "output_type": "stream",
     "text": [
      "100%|██████████| 3/3 [00:04<00:00,  1.62s/it]\n"
     ]
    },
    {
     "name": "stdout",
     "output_type": "stream",
     "text": [
      "0.27541046752371323 0.7855317939457205\n",
      "1\n",
      "[0.6666666666666666, 0.33333333333333337]\n"
     ]
    },
    {
     "name": "stderr",
     "output_type": "stream",
     "text": [
      "100%|██████████| 3/3 [00:04<00:00,  1.64s/it]\n"
     ]
    },
    {
     "name": "stdout",
     "output_type": "stream",
     "text": [
      "0.2830184331797235 0.7855317939457205\n",
      "7\n",
      "[0.6666666666666666, 0.33333333333333337]\n"
     ]
    },
    {
     "name": "stderr",
     "output_type": "stream",
     "text": [
      "100%|██████████| 3/3 [00:05<00:00,  1.67s/it]\n"
     ]
    },
    {
     "name": "stdout",
     "output_type": "stream",
     "text": [
      "0.21266330611022105 0.7855317939457205\n",
      "5\n",
      "[0.6666666666666666, 0.33333333333333337]\n"
     ]
    },
    {
     "name": "stderr",
     "output_type": "stream",
     "text": [
      "100%|██████████| 3/3 [00:05<00:00,  1.67s/it]\n"
     ]
    },
    {
     "name": "stdout",
     "output_type": "stream",
     "text": [
      "0.08583690987124463 0.7855317939457205\n",
      "10\n",
      "[0.6666666666666666, 0.33333333333333337]\n"
     ]
    },
    {
     "name": "stderr",
     "output_type": "stream",
     "text": [
      "100%|██████████| 3/3 [00:04<00:00,  1.65s/it]\n"
     ]
    },
    {
     "name": "stdout",
     "output_type": "stream",
     "text": [
      "0.3320508945546726 0.7855317939457205\n",
      "8\n",
      "[0.6666666666666666, 0.33333333333333337]\n"
     ]
    },
    {
     "name": "stderr",
     "output_type": "stream",
     "text": [
      "100%|██████████| 3/3 [00:05<00:00,  1.69s/it]\n"
     ]
    },
    {
     "name": "stdout",
     "output_type": "stream",
     "text": [
      "0.2626113845318604 0.7855317939457205\n",
      "2\n",
      "[0.6666666666666666, 0.33333333333333337]\n"
     ]
    },
    {
     "name": "stderr",
     "output_type": "stream",
     "text": [
      "100%|██████████| 3/3 [00:04<00:00,  1.63s/it]\n"
     ]
    },
    {
     "name": "stdout",
     "output_type": "stream",
     "text": [
      "0.2512254783474654 0.7855317939457205\n",
      "3\n",
      "[0.6666666666666666, 0.33333333333333337]\n"
     ]
    },
    {
     "name": "stderr",
     "output_type": "stream",
     "text": [
      "100%|██████████| 3/3 [00:05<00:00,  1.68s/it]\n"
     ]
    },
    {
     "name": "stdout",
     "output_type": "stream",
     "text": [
      "0.13186813186813187 0.7855317939457205\n",
      "11\n",
      "[0.6666666666666666, 0.33333333333333337]\n"
     ]
    },
    {
     "name": "stderr",
     "output_type": "stream",
     "text": [
      "100%|██████████| 3/3 [00:05<00:00,  1.72s/it]\n"
     ]
    },
    {
     "name": "stdout",
     "output_type": "stream",
     "text": [
      "0.320613810741688 0.7855317939457205\n",
      "9\n",
      "[0.6666666666666666, 0.33333333333333337]\n"
     ]
    },
    {
     "name": "stderr",
     "output_type": "stream",
     "text": [
      "100%|██████████| 3/3 [00:04<00:00,  1.65s/it]\n"
     ]
    },
    {
     "name": "stdout",
     "output_type": "stream",
     "text": [
      "0.3163506863506863 0.7855317939457205\n",
      "12\n",
      "[0.6666666666666666, 0.33333333333333337]\n"
     ]
    },
    {
     "name": "stderr",
     "output_type": "stream",
     "text": [
      "100%|██████████| 3/3 [00:04<00:00,  1.65s/it]\n"
     ]
    },
    {
     "name": "stdout",
     "output_type": "stream",
     "text": [
      "0.44046815982608073 0.7855317939457205\n",
      "13\n",
      "[0.6666666666666666, 0.33333333333333337]\n"
     ]
    },
    {
     "name": "stderr",
     "output_type": "stream",
     "text": [
      "100%|██████████| 3/3 [00:05<00:00,  1.67s/it]\n"
     ]
    },
    {
     "name": "stdout",
     "output_type": "stream",
     "text": [
      "0.45262913081149847 0.7855317939457205\n",
      "17\n",
      "[0.6666666666666666, 0.33333333333333337]\n"
     ]
    },
    {
     "name": "stderr",
     "output_type": "stream",
     "text": [
      "100%|██████████| 3/3 [00:04<00:00,  1.66s/it]\n"
     ]
    },
    {
     "name": "stdout",
     "output_type": "stream",
     "text": [
      "0.6192964677789896 0.7855317939457205\n",
      "16\n",
      "[0.6666666666666666, 0.33333333333333337]\n"
     ]
    },
    {
     "name": "stderr",
     "output_type": "stream",
     "text": [
      "100%|██████████| 3/3 [00:04<00:00,  1.64s/it]\n"
     ]
    },
    {
     "name": "stdout",
     "output_type": "stream",
     "text": [
      "0.6354822900888286 0.7855317939457205\n",
      "19\n",
      "[0.6666666666666666, 0.33333333333333337]\n"
     ]
    },
    {
     "name": "stderr",
     "output_type": "stream",
     "text": [
      "100%|██████████| 3/3 [00:05<00:00,  1.70s/it]\n"
     ]
    },
    {
     "name": "stdout",
     "output_type": "stream",
     "text": [
      "0.6903422932988381 0.7855317939457205\n",
      "18\n",
      "[0.6666666666666666, 0.33333333333333337]\n"
     ]
    },
    {
     "name": "stderr",
     "output_type": "stream",
     "text": [
      "100%|██████████| 3/3 [00:04<00:00,  1.63s/it]\n"
     ]
    },
    {
     "name": "stdout",
     "output_type": "stream",
     "text": [
      "0.6944410432269986 0.7855317939457205\n",
      "15\n",
      "[0.6666666666666666, 0.33333333333333337]\n"
     ]
    },
    {
     "name": "stderr",
     "output_type": "stream",
     "text": [
      "100%|██████████| 3/3 [00:04<00:00,  1.65s/it]\n"
     ]
    },
    {
     "name": "stdout",
     "output_type": "stream",
     "text": [
      "0.7276254537689516 0.7855317939457205\n",
      "42\n",
      "[0.6666666666666666, 0.33333333333333337]\n"
     ]
    },
    {
     "name": "stderr",
     "output_type": "stream",
     "text": [
      "100%|██████████| 3/3 [00:04<00:00,  1.62s/it]\n"
     ]
    },
    {
     "name": "stdout",
     "output_type": "stream",
     "text": [
      "0.7311370001524162 0.7855317939457205\n",
      "43\n",
      "[0.6666666666666666, 0.33333333333333337]\n"
     ]
    },
    {
     "name": "stderr",
     "output_type": "stream",
     "text": [
      "100%|██████████| 3/3 [00:04<00:00,  1.65s/it]\n"
     ]
    },
    {
     "name": "stdout",
     "output_type": "stream",
     "text": [
      "0.7311370001524162 0.7855317939457205\n",
      "14\n",
      "[0.6666666666666666, 0.33333333333333337]\n"
     ]
    },
    {
     "name": "stderr",
     "output_type": "stream",
     "text": [
      "100%|██████████| 3/3 [00:05<00:00,  1.70s/it]\n"
     ]
    },
    {
     "name": "stdout",
     "output_type": "stream",
     "text": [
      "0.6979250220845908 0.7855317939457205\n",
      "47\n",
      "[0.6666666666666666, 0.33333333333333337]\n"
     ]
    },
    {
     "name": "stderr",
     "output_type": "stream",
     "text": [
      "100%|██████████| 3/3 [00:04<00:00,  1.64s/it]\n"
     ]
    },
    {
     "name": "stdout",
     "output_type": "stream",
     "text": [
      "0.7202651826225888 0.7855317939457205\n",
      "46\n",
      "[0.6666666666666666, 0.33333333333333337]\n"
     ]
    },
    {
     "name": "stderr",
     "output_type": "stream",
     "text": [
      "100%|██████████| 3/3 [00:04<00:00,  1.66s/it]\n"
     ]
    },
    {
     "name": "stdout",
     "output_type": "stream",
     "text": [
      "0.7202651826225888 0.7855317939457205\n",
      "44\n",
      "[0.6666666666666666, 0.33333333333333337]\n"
     ]
    },
    {
     "name": "stderr",
     "output_type": "stream",
     "text": [
      "100%|██████████| 3/3 [00:04<00:00,  1.62s/it]\n"
     ]
    },
    {
     "name": "stdout",
     "output_type": "stream",
     "text": [
      "0.72435233067586 0.7855317939457205\n",
      "45\n",
      "[0.6666666666666666, 0.33333333333333337]\n"
     ]
    },
    {
     "name": "stderr",
     "output_type": "stream",
     "text": [
      "100%|██████████| 3/3 [00:04<00:00,  1.63s/it]\n"
     ]
    },
    {
     "name": "stdout",
     "output_type": "stream",
     "text": [
      "0.72435233067586 0.7855317939457205\n",
      "22\n",
      "[0.6666666666666666, 0.33333333333333337]\n"
     ]
    },
    {
     "name": "stderr",
     "output_type": "stream",
     "text": [
      "100%|██████████| 3/3 [00:04<00:00,  1.66s/it]\n"
     ]
    },
    {
     "name": "stdout",
     "output_type": "stream",
     "text": [
      "0.7491488012107574 0.7855317939457205\n",
      "23\n",
      "[0.6666666666666666, 0.33333333333333337]\n"
     ]
    },
    {
     "name": "stderr",
     "output_type": "stream",
     "text": [
      "100%|██████████| 3/3 [00:05<00:00,  1.71s/it]\n"
     ]
    },
    {
     "name": "stdout",
     "output_type": "stream",
     "text": [
      "0.776550489325452 0.7855317939457205\n",
      "25\n",
      "[0.6666666666666666, 0.33333333333333337]\n"
     ]
    },
    {
     "name": "stderr",
     "output_type": "stream",
     "text": [
      "100%|██████████| 3/3 [00:05<00:00,  1.72s/it]\n"
     ]
    },
    {
     "name": "stdout",
     "output_type": "stream",
     "text": [
      "0.7445573255370159 0.7855317939457205\n",
      "24\n",
      "[0.6666666666666666, 0.33333333333333337]\n"
     ]
    },
    {
     "name": "stderr",
     "output_type": "stream",
     "text": [
      "100%|██████████| 3/3 [00:05<00:00,  1.68s/it]\n"
     ]
    },
    {
     "name": "stdout",
     "output_type": "stream",
     "text": [
      "0.7436290764958516 0.7855317939457205\n",
      "37\n",
      "[0.6666666666666666, 0.33333333333333337]\n"
     ]
    },
    {
     "name": "stderr",
     "output_type": "stream",
     "text": [
      "100%|██████████| 3/3 [00:05<00:00,  1.67s/it]\n"
     ]
    },
    {
     "name": "stdout",
     "output_type": "stream",
     "text": [
      "0.7306902146451913 0.7855317939457205\n",
      "36\n",
      "[0.6666666666666666, 0.33333333333333337]\n"
     ]
    },
    {
     "name": "stderr",
     "output_type": "stream",
     "text": [
      "100%|██████████| 3/3 [00:04<00:00,  1.65s/it]\n"
     ]
    },
    {
     "name": "stdout",
     "output_type": "stream",
     "text": [
      "0.7306902146451913 0.7855317939457205\n",
      "30\n",
      "[0.6666666666666666, 0.33333333333333337]\n"
     ]
    },
    {
     "name": "stderr",
     "output_type": "stream",
     "text": [
      "100%|██████████| 3/3 [00:05<00:00,  1.71s/it]\n"
     ]
    },
    {
     "name": "stdout",
     "output_type": "stream",
     "text": [
      "0.7436299441771824 0.7855317939457205\n",
      "31\n",
      "[0.6666666666666666, 0.33333333333333337]\n"
     ]
    },
    {
     "name": "stderr",
     "output_type": "stream",
     "text": [
      "100%|██████████| 3/3 [00:04<00:00,  1.62s/it]\n"
     ]
    },
    {
     "name": "stdout",
     "output_type": "stream",
     "text": [
      "0.7505747234414987 0.7855317939457205\n",
      "21\n",
      "[0.6666666666666666, 0.33333333333333337]\n"
     ]
    },
    {
     "name": "stderr",
     "output_type": "stream",
     "text": [
      "100%|██████████| 3/3 [00:04<00:00,  1.66s/it]\n"
     ]
    },
    {
     "name": "stdout",
     "output_type": "stream",
     "text": [
      "0.7382132351439832 0.7855317939457205\n",
      "41\n",
      "[0.6666666666666666, 0.33333333333333337]\n"
     ]
    },
    {
     "name": "stderr",
     "output_type": "stream",
     "text": [
      "100%|██████████| 3/3 [00:04<00:00,  1.66s/it]\n"
     ]
    },
    {
     "name": "stdout",
     "output_type": "stream",
     "text": [
      "0.7301949904668532 0.7855317939457205\n",
      "40\n",
      "[0.6666666666666666, 0.33333333333333337]\n"
     ]
    },
    {
     "name": "stderr",
     "output_type": "stream",
     "text": [
      "100%|██████████| 3/3 [00:04<00:00,  1.60s/it]\n"
     ]
    },
    {
     "name": "stdout",
     "output_type": "stream",
     "text": [
      "0.7285641414309165 0.7855317939457205\n",
      "20\n",
      "[0.6666666666666666, 0.33333333333333337]\n"
     ]
    },
    {
     "name": "stderr",
     "output_type": "stream",
     "text": [
      "100%|██████████| 3/3 [00:04<00:00,  1.66s/it]\n"
     ]
    },
    {
     "name": "stdout",
     "output_type": "stream",
     "text": [
      "0.7708186935885697 0.7855317939457205\n",
      "38\n",
      "[0.6666666666666666, 0.33333333333333337]\n"
     ]
    },
    {
     "name": "stderr",
     "output_type": "stream",
     "text": [
      "100%|██████████| 3/3 [00:05<00:00,  1.70s/it]\n"
     ]
    },
    {
     "name": "stdout",
     "output_type": "stream",
     "text": [
      "0.7202922326200631 0.7855317939457205\n",
      "35\n",
      "[0.6666666666666666, 0.33333333333333337]\n"
     ]
    },
    {
     "name": "stderr",
     "output_type": "stream",
     "text": [
      "100%|██████████| 3/3 [00:05<00:00,  1.69s/it]\n"
     ]
    },
    {
     "name": "stdout",
     "output_type": "stream",
     "text": [
      "0.7638290312254828 0.7855317939457205\n",
      "39\n",
      "[0.6666666666666666, 0.33333333333333337]\n"
     ]
    },
    {
     "name": "stderr",
     "output_type": "stream",
     "text": [
      "100%|██████████| 3/3 [00:05<00:00,  1.67s/it]\n"
     ]
    },
    {
     "name": "stdout",
     "output_type": "stream",
     "text": [
      "0.7202922326200631 0.7855317939457205\n",
      "34\n",
      "[0.6666666666666666, 0.33333333333333337]\n"
     ]
    },
    {
     "name": "stderr",
     "output_type": "stream",
     "text": [
      "100%|██████████| 3/3 [00:04<00:00,  1.64s/it]\n"
     ]
    },
    {
     "name": "stdout",
     "output_type": "stream",
     "text": [
      "0.7641943831645747 0.7855317939457205\n",
      "26\n",
      "[0.6666666666666666, 0.33333333333333337]\n"
     ]
    },
    {
     "name": "stderr",
     "output_type": "stream",
     "text": [
      "100%|██████████| 3/3 [00:04<00:00,  1.64s/it]\n"
     ]
    },
    {
     "name": "stdout",
     "output_type": "stream",
     "text": [
      "0.7439011128740696 0.7855317939457205\n",
      "32\n",
      "[0.6666666666666666, 0.33333333333333337]\n"
     ]
    },
    {
     "name": "stderr",
     "output_type": "stream",
     "text": [
      "100%|██████████| 3/3 [00:04<00:00,  1.64s/it]\n"
     ]
    },
    {
     "name": "stdout",
     "output_type": "stream",
     "text": [
      "0.7601903614695449 0.7855317939457205\n",
      "33\n",
      "[0.6666666666666666, 0.33333333333333337]\n"
     ]
    },
    {
     "name": "stderr",
     "output_type": "stream",
     "text": [
      "100%|██████████| 3/3 [00:05<00:00,  1.68s/it]"
     ]
    },
    {
     "name": "stdout",
     "output_type": "stream",
     "text": [
      "0.7591136139737015 0.7855317939457205\n"
     ]
    },
    {
     "name": "stderr",
     "output_type": "stream",
     "text": [
      "\n"
     ]
    }
   ],
   "source": [
    "\n",
    "import copy\n",
    "train_loader, val_loader, test_loader = get_dataset('APTOS', './dataset/224_data/DR/aptos/\"\"./dataset/224_data/DR/aptos/aptos_dataset_splits.csv', \"Minimal\", \n",
    "                                                        'ImageNet', 224, 128, 16, 'Classification')\n",
    "CLASSIFICATION = 'MultiClass'\n",
    "loss = torch.nn.CrossEntropyLoss()\n",
    "best_model_acc = initial_val_df.iloc[0][val_sort_by]\n",
    "best_model_id = initial_val_df.iloc[0]['Model Name']\n",
    "best_ls = [best_model_id]\n",
    "model_data = []\n",
    "ls = sorted_model_ids#[33, 30, 34, 37, 32, 31, 38, 41, 36, 35, 39, 21, 18, 22, 25, 20, 19, 26, 29, 23, 24, 40, 0, 3, 27, 12, 42, 45, 14, 13, 16, 15, 17, 7, 2, 4, 1, 44, 49, 46, 43, 50, 53, 47, 48, 8, 11, 51, 5, 6, 52, 9, 10]\n",
    "dkfjsdfk = 0\n",
    "while True:\n",
    "    if dkfjsdfk >= len(ls):\n",
    "        break\n",
    "    model_id = ls[dkfjsdfk]\n",
    "    print(model_id)\n",
    "    model = get_model(MODEL, num_classes=NUM_CLASSES)\n",
    "    model = model.to(DEVICE)\n",
    "    model1 = get_model(MODEL, num_classes=NUM_CLASSES)\n",
    "    model1.load_state_dict(torch.load(initial_model_path,map_location='cuda')['model'])\n",
    "    model1 = model1.to(DEVICE)\n",
    "    model2 = get_model(MODEL, num_classes=NUM_CLASSES)\n",
    "    model3 = get_model(MODEL, num_classes=NUM_CLASSES)\n",
    "    model2.load_state_dict(state_dicts[best_model_id])\n",
    "    model3.load_state_dict(state_dicts[model_id])\n",
    "    model2 = model2.to(DEVICE)\n",
    "    model3 = model3.to(DEVICE)\n",
    "\n",
    "    sd = [state_dicts[best_model_id], state_dicts[model_id]]\n",
    "    alphal = [len(best_ls)/(len(best_ls)+1),1- (len(best_ls)/(len(best_ls)+1))]\n",
    "    print(alphal)\n",
    "    # alphal = [0.5,0.5]\n",
    "    uniform_model = souping(model, sd, alphal)\n",
    "    uniform_test_loss, uniform_test_acc, uniform_test_f1, uniform_test_recall, uniform_test_kappa, uniform_test_auc = val_step(uniform_model, val_loader, train_loader, loss, DEVICE, CLASSIFICATION)\n",
    "    print(uniform_test_f1, best_model_acc)\n",
    "    if uniform_test_f1 > best_model_acc:\n",
    "        print('in uniform testtttttttttttttttt')\n",
    "        best_model_acc = uniform_test_f1\n",
    "        state_dicts[best_model_id] = copy.deepcopy(uniform_model.state_dict())\n",
    "        best_ls.append(model_id)\n",
    "        print(uniform_test_f1, best_ls)\n",
    "        ls.remove(model_id)\n",
    "        print(ls)#ls[ls.index(model_id) + 1:]\n",
    "        model2 = get_model(MODEL, num_classes=NUM_CLASSES)\n",
    "        model3 = get_model(MODEL, num_classes=NUM_CLASSES)\n",
    "\n",
    "        model2.load_state_dict(state_dicts[best_model_id])\n",
    "        model2 = model2.to(DEVICE)\n",
    "        angles_with_remaining_models = []\n",
    "        for j in ls:\n",
    "            model_j_id = j\n",
    "            model3 = get_model(MODEL, num_classes=NUM_CLASSES)\n",
    "            model3.load_state_dict(state_dicts[model_j_id])\n",
    "            model3 = model3.to(DEVICE)\n",
    "\n",
    "\n",
    "            w = list()\n",
    "            curve_parameters = [model1.parameters(), model2.parameters(), model3.parameters()]\n",
    "            for i in range(3):\n",
    "                w.append(np.concatenate([\n",
    "                    p.data.cpu().numpy().ravel() for p in curve_parameters[i]\n",
    "                ]))\n",
    "\n",
    "            u = w[2] - w[0]\n",
    "            dx = np.linalg.norm(u)\n",
    "            u /= dx\n",
    "            v = w[1] - w[0]\n",
    "            v -= np.dot(u, v) * u\n",
    "            dy = np.linalg.norm(v)\n",
    "            v /= dy\n",
    "            bend_coordinates = np.stack(get_xy(p, w[0], u, v) for p in w)\n",
    "            angle = angle_between_vectors(bend_coordinates)\n",
    "            angles_with_remaining_models.append((model_j_id, angle))\n",
    "\n",
    "        # Sort ls based on angles in descending order\n",
    "        ls = [model_id for model_id, _ in sorted(angles_with_remaining_models, key=lambda x: x[1], reverse=True)]\n",
    "\n",
    "        # Print the sorted ls and corresponding angles\n",
    "        print(\"Sorted Model IDs based on angle:\")\n",
    "        print(ls)\n",
    "        print(\"Corresponding Angles:\")\n",
    "        print([angle for _, angle in sorted(angles_with_remaining_models, key=lambda x: x[1], reverse=True)])\n",
    "        dkfjsdfk = 0\n",
    "    else:\n",
    "        dkfjsdfk+=1\n"
   ]
  },
  {
   "cell_type": "code",
   "execution_count": 15,
   "metadata": {},
   "outputs": [
    {
     "name": "stdout",
     "output_type": "stream",
     "text": [
      "[29, 28]\n",
      "[0.5, 0.5]\n"
     ]
    },
    {
     "name": "stderr",
     "output_type": "stream",
     "text": [
      "100%|██████████| 3/3 [00:05<00:00,  1.90s/it]\n"
     ]
    },
    {
     "name": "stdout",
     "output_type": "stream",
     "text": [
      "0.8733428030303031 0.768060500157213 0.7448777052914983 0.9077142653250553 0\n"
     ]
    },
    {
     "name": "stderr",
     "output_type": "stream",
     "text": [
      "100%|██████████| 3/3 [00:05<00:00,  1.77s/it]"
     ]
    },
    {
     "name": "stdout",
     "output_type": "stream",
     "text": [
      "0.8407704579579579 0.6919765706491214 0.682011013048524 0.9106395716382336 0\n"
     ]
    },
    {
     "name": "stderr",
     "output_type": "stream",
     "text": [
      "\n"
     ]
    }
   ],
   "source": [
    "\n",
    "model = get_model(MODEL, num_classes=NUM_CLASSES)\n",
    "model = model.to(DEVICE)\n",
    "sd = []\n",
    "best_ls = [29, 28]#, 20]#, 27]\n",
    "for i in best_ls:\n",
    "    sd.append(state_dicts[i])\n",
    "alphal = [1/len(best_ls)]*len(best_ls)\n",
    "# alphal = [0.25,0.25, 0.25,0.25]\n",
    "print(best_ls)\n",
    "print(alphal)\n",
    "uniform_model = souping(model, sd, alphal)\n",
    "uniform_test_loss, uniform_test_acc, uniform_test_f1, uniform_test_recall, uniform_test_kappa, uniform_test_auc = val_step(uniform_model, val_loader, train_loader, loss, DEVICE, CLASSIFICATION)\n",
    "print(uniform_test_acc, uniform_test_f1, uniform_test_recall, uniform_test_kappa, uniform_test_auc)\n",
    "\n",
    "uniform_test_loss, uniform_test_acc, uniform_test_f1, uniform_test_recall, uniform_test_kappa, uniform_test_auc = val_step(uniform_model, test_loader, train_loader, loss, DEVICE, CLASSIFICATION)\n",
    "\n",
    "print(uniform_test_acc, uniform_test_f1, uniform_test_recall, uniform_test_kappa, uniform_test_auc)\n"
   ]
  },
  {
   "cell_type": "code",
   "execution_count": null,
   "metadata": {},
   "outputs": [],
   "source": []
  }
 ],
 "metadata": {
  "kernelspec": {
   "display_name": "nunoodles",
   "language": "python",
   "name": "python3"
  },
  "language_info": {
   "codemirror_mode": {
    "name": "ipython",
    "version": 3
   },
   "file_extension": ".py",
   "mimetype": "text/x-python",
   "name": "python",
   "nbconvert_exporter": "python",
   "pygments_lexer": "ipython3",
   "version": "3.8.18"
  },
  "orig_nbformat": 4
 },
 "nbformat": 4,
 "nbformat_minor": 2
}
