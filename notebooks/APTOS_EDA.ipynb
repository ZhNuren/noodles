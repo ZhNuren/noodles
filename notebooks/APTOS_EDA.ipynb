{
 "cells": [
  {
   "cell_type": "code",
   "execution_count": 22,
   "metadata": {},
   "outputs": [],
   "source": [
    "import os\n",
    "import pandas as pd\n",
    "from sklearn.model_selection import train_test_split\n",
    "from collections import defaultdict\n",
    "import shutil\n",
    "\n",
    "\n",
    "data_dir = '../dataset/224_data/DR/aptos/'\n",
    "folders = ['0', '1', '2', '3', '4']\n",
    "\n",
    "file_paths = []\n",
    "labels = []\n",
    "\n",
    "for folder in folders:\n",
    "    folder_path = os.path.join(data_dir, folder)\n",
    "    files = os.listdir(folder_path)\n",
    "    file_paths.extend([os.path.join(folder_path, file) for file in files])\n",
    "    labels.extend([folder] * len(files))\n"
   ]
  },
  {
   "cell_type": "code",
   "execution_count": 23,
   "metadata": {},
   "outputs": [
    {
     "name": "stdout",
     "output_type": "stream",
     "text": [
      "Train Counts:\n",
      "0    1444\n",
      "1     296\n",
      "2     799\n",
      "3     154\n",
      "4     236\n",
      "Name: class, dtype: int64\n",
      "\n",
      "Val Counts:\n",
      "0    180\n",
      "1     37\n",
      "2    100\n",
      "3     20\n",
      "4     29\n",
      "Name: class, dtype: int64\n",
      "\n",
      "Test Counts:\n",
      "0    181\n",
      "1     37\n",
      "2    100\n",
      "3     19\n",
      "4     30\n",
      "Name: class, dtype: int64\n",
      "\n"
     ]
    }
   ],
   "source": [
    "train_files, remaining_files, train_labels, remaining_labels = train_test_split(\n",
    "    file_paths, labels, test_size=0.2, stratify=labels, random_state=9)\n",
    "\n",
    "val_files, test_files, val_labels, test_labels = train_test_split(\n",
    "    remaining_files, remaining_labels, test_size=0.5, stratify=remaining_labels, random_state=9)\n",
    "\n",
    "all_files = train_files + val_files + test_files\n",
    "all_labels = train_labels + val_labels + test_labels\n",
    "all_splits = ['train'] * len(train_files) + ['val'] * len(val_files) + ['test'] * len(test_files)\n",
    "\n",
    "data = {'filename': [os.path.basename(file) for file in all_files],\n",
    "        'class': all_labels,\n",
    "        'split': all_splits}\n",
    "df = pd.DataFrame(data)\n",
    "\n",
    "csv_filename = 'aptos_dataset_splits.csv'\n",
    "df.to_csv(csv_filename, index=False)\n",
    "\n",
    "for split_name in ['train', 'val', 'test']:\n",
    "    split_data = df[df['split'] == split_name]\n",
    "    class_counts = split_data['class'].value_counts().sort_index()\n",
    "    print(f\"{split_name.capitalize()} Counts:\")\n",
    "    print(class_counts)\n",
    "    print()"
   ]
  },
  {
   "cell_type": "code",
   "execution_count": null,
   "metadata": {},
   "outputs": [],
   "source": []
  }
 ],
 "metadata": {
  "kernelspec": {
   "display_name": "nunoodles",
   "language": "python",
   "name": "python3"
  },
  "language_info": {
   "codemirror_mode": {
    "name": "ipython",
    "version": 3
   },
   "file_extension": ".py",
   "mimetype": "text/x-python",
   "name": "python",
   "nbconvert_exporter": "python",
   "pygments_lexer": "ipython3",
   "version": "3.8.13"
  },
  "orig_nbformat": 4
 },
 "nbformat": 4,
 "nbformat_minor": 2
}
