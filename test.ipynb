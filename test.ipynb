{
 "cells": [
  {
   "cell_type": "code",
   "execution_count": null,
   "metadata": {},
   "outputs": [],
   "source": [
    "/l/users/santosh.sanjeev/model_soups/runs/test/fge/Cifar10_2/ResNet50/1.00e-05/"
   ]
  },
  {
   "cell_type": "code",
   "execution_count": 3,
   "metadata": {},
   "outputs": [],
   "source": [
    "from engine import val_step\n",
    "from utils.utils import souping, greedy_souping\n",
    "from models import get_model\n",
    "\n",
    "import torch\n",
    "from torch.utils.data import DataLoader\n",
    "from torchvision import transforms\n",
    "import torchvision\n",
    "\n",
    "from dataset import RSNADataset, HAM10000Dataset, AptosDataset\n",
    "from torchvision.transforms.v2 import AutoAugmentPolicy, functional as F, InterpolationMode, Transform\n",
    "from torchvision.transforms import v2\n",
    "torchvision.disable_beta_transforms_warning()\n",
    "from timm.data.transforms import RandomResizedCropAndInterpolation\n",
    "import matplotlib.pyplot as plt\n",
    "import numpy as np\n",
    "import random\n",
    "import pandas as pd\n",
    "import argparse\n",
    "\n",
    "from utils.utils import EarlyStopper, get_dataset\n",
    "from torch.utils.data.dataset import Subset\n",
    "\n",
    "import yaml\n",
    "import json\n",
    "import time\n",
    "import os\n",
    "import wandb\n",
    "from utils.utils import load_model\n",
    "import sys\n"
   ]
  },
  {
   "cell_type": "code",
   "execution_count": 21,
   "metadata": {},
   "outputs": [
    {
     "name": "stdout",
     "output_type": "stream",
     "text": [
      "['./dataset/cifar', './dataset/cifar/cifar1098_idxs.npy']\n",
      "Cifar10 45000 5000 10000\n",
      "1.00e-04\n",
      "/l/users/santosh.sanjeev/model_soups/runs/test/fge/Cifar10/DeiT-S/1.00e-04/fge-0.pt\n"
     ]
    },
    {
     "name": "stderr",
     "output_type": "stream",
     "text": [
      "100%|██████████| 79/79 [00:44<00:00,  1.77it/s]\n",
      "100%|██████████| 40/40 [00:24<00:00,  1.65it/s]\n"
     ]
    },
    {
     "name": "stdout",
     "output_type": "stream",
     "text": [
      "/l/users/santosh.sanjeev/model_soups/runs/test/fge/Cifar10/DeiT-S/1.00e-04/fge-1.pt\n"
     ]
    },
    {
     "name": "stderr",
     "output_type": "stream",
     "text": [
      "100%|██████████| 79/79 [00:45<00:00,  1.74it/s]\n",
      "100%|██████████| 40/40 [00:24<00:00,  1.63it/s]\n"
     ]
    },
    {
     "name": "stdout",
     "output_type": "stream",
     "text": [
      "/l/users/santosh.sanjeev/model_soups/runs/test/fge/Cifar10/DeiT-S/1.00e-04/fge-10.pt\n"
     ]
    },
    {
     "name": "stderr",
     "output_type": "stream",
     "text": [
      "100%|██████████| 79/79 [00:45<00:00,  1.74it/s]\n",
      "100%|██████████| 40/40 [00:24<00:00,  1.65it/s]\n"
     ]
    },
    {
     "name": "stdout",
     "output_type": "stream",
     "text": [
      "/l/users/santosh.sanjeev/model_soups/runs/test/fge/Cifar10/DeiT-S/1.00e-04/fge-11.pt\n"
     ]
    },
    {
     "name": "stderr",
     "output_type": "stream",
     "text": [
      "100%|██████████| 79/79 [00:45<00:00,  1.74it/s]\n",
      "100%|██████████| 40/40 [00:24<00:00,  1.64it/s]\n"
     ]
    },
    {
     "name": "stdout",
     "output_type": "stream",
     "text": [
      "/l/users/santosh.sanjeev/model_soups/runs/test/fge/Cifar10/DeiT-S/1.00e-04/fge-12.pt\n"
     ]
    },
    {
     "name": "stderr",
     "output_type": "stream",
     "text": [
      "100%|██████████| 79/79 [00:43<00:00,  1.82it/s]\n",
      "100%|██████████| 40/40 [00:23<00:00,  1.67it/s]\n"
     ]
    },
    {
     "name": "stdout",
     "output_type": "stream",
     "text": [
      "/l/users/santosh.sanjeev/model_soups/runs/test/fge/Cifar10/DeiT-S/1.00e-04/fge-13.pt\n"
     ]
    },
    {
     "name": "stderr",
     "output_type": "stream",
     "text": [
      "100%|██████████| 79/79 [00:43<00:00,  1.81it/s]\n",
      "100%|██████████| 40/40 [00:23<00:00,  1.67it/s]\n"
     ]
    },
    {
     "name": "stdout",
     "output_type": "stream",
     "text": [
      "/l/users/santosh.sanjeev/model_soups/runs/test/fge/Cifar10/DeiT-S/1.00e-04/fge-14.pt\n"
     ]
    },
    {
     "name": "stderr",
     "output_type": "stream",
     "text": [
      "100%|██████████| 79/79 [00:44<00:00,  1.79it/s]\n",
      "100%|██████████| 40/40 [00:23<00:00,  1.71it/s]\n"
     ]
    },
    {
     "name": "stdout",
     "output_type": "stream",
     "text": [
      "/l/users/santosh.sanjeev/model_soups/runs/test/fge/Cifar10/DeiT-S/1.00e-04/fge-15.pt\n"
     ]
    },
    {
     "name": "stderr",
     "output_type": "stream",
     "text": [
      "100%|██████████| 79/79 [00:43<00:00,  1.80it/s]\n",
      "100%|██████████| 40/40 [00:23<00:00,  1.67it/s]\n"
     ]
    },
    {
     "name": "stdout",
     "output_type": "stream",
     "text": [
      "/l/users/santosh.sanjeev/model_soups/runs/test/fge/Cifar10/DeiT-S/1.00e-04/fge-16.pt\n"
     ]
    },
    {
     "name": "stderr",
     "output_type": "stream",
     "text": [
      "100%|██████████| 79/79 [00:43<00:00,  1.80it/s]\n",
      "100%|██████████| 40/40 [00:23<00:00,  1.72it/s]\n"
     ]
    },
    {
     "name": "stdout",
     "output_type": "stream",
     "text": [
      "/l/users/santosh.sanjeev/model_soups/runs/test/fge/Cifar10/DeiT-S/1.00e-04/fge-17.pt\n"
     ]
    },
    {
     "name": "stderr",
     "output_type": "stream",
     "text": [
      "100%|██████████| 79/79 [00:43<00:00,  1.83it/s]\n",
      "100%|██████████| 40/40 [00:23<00:00,  1.68it/s]\n"
     ]
    },
    {
     "name": "stdout",
     "output_type": "stream",
     "text": [
      "/l/users/santosh.sanjeev/model_soups/runs/test/fge/Cifar10/DeiT-S/1.00e-04/fge-18.pt\n"
     ]
    },
    {
     "name": "stderr",
     "output_type": "stream",
     "text": [
      "100%|██████████| 79/79 [00:44<00:00,  1.77it/s]\n",
      "100%|██████████| 40/40 [00:25<00:00,  1.58it/s]\n"
     ]
    },
    {
     "name": "stdout",
     "output_type": "stream",
     "text": [
      "/l/users/santosh.sanjeev/model_soups/runs/test/fge/Cifar10/DeiT-S/1.00e-04/fge-19.pt\n"
     ]
    },
    {
     "name": "stderr",
     "output_type": "stream",
     "text": [
      "100%|██████████| 79/79 [00:46<00:00,  1.70it/s]\n",
      "100%|██████████| 40/40 [00:23<00:00,  1.67it/s]\n"
     ]
    },
    {
     "name": "stdout",
     "output_type": "stream",
     "text": [
      "/l/users/santosh.sanjeev/model_soups/runs/test/fge/Cifar10/DeiT-S/1.00e-04/fge-2.pt\n"
     ]
    },
    {
     "name": "stderr",
     "output_type": "stream",
     "text": [
      "100%|██████████| 79/79 [00:43<00:00,  1.82it/s]\n",
      "100%|██████████| 40/40 [00:23<00:00,  1.69it/s]\n"
     ]
    },
    {
     "name": "stdout",
     "output_type": "stream",
     "text": [
      "/l/users/santosh.sanjeev/model_soups/runs/test/fge/Cifar10/DeiT-S/1.00e-04/fge-20.pt\n"
     ]
    },
    {
     "name": "stderr",
     "output_type": "stream",
     "text": [
      "100%|██████████| 79/79 [00:43<00:00,  1.82it/s]\n",
      "100%|██████████| 40/40 [00:23<00:00,  1.69it/s]\n"
     ]
    },
    {
     "name": "stdout",
     "output_type": "stream",
     "text": [
      "/l/users/santosh.sanjeev/model_soups/runs/test/fge/Cifar10/DeiT-S/1.00e-04/fge-21.pt\n"
     ]
    },
    {
     "name": "stderr",
     "output_type": "stream",
     "text": [
      "100%|██████████| 79/79 [00:44<00:00,  1.79it/s]\n",
      "100%|██████████| 40/40 [00:25<00:00,  1.59it/s]\n"
     ]
    },
    {
     "name": "stdout",
     "output_type": "stream",
     "text": [
      "/l/users/santosh.sanjeev/model_soups/runs/test/fge/Cifar10/DeiT-S/1.00e-04/fge-22.pt\n"
     ]
    },
    {
     "name": "stderr",
     "output_type": "stream",
     "text": [
      "100%|██████████| 79/79 [00:46<00:00,  1.69it/s]\n",
      "100%|██████████| 40/40 [00:24<00:00,  1.64it/s]\n"
     ]
    },
    {
     "name": "stdout",
     "output_type": "stream",
     "text": [
      "/l/users/santosh.sanjeev/model_soups/runs/test/fge/Cifar10/DeiT-S/1.00e-04/fge-23.pt\n"
     ]
    },
    {
     "name": "stderr",
     "output_type": "stream",
     "text": [
      "100%|██████████| 79/79 [00:43<00:00,  1.80it/s]\n",
      "100%|██████████| 40/40 [00:24<00:00,  1.63it/s]\n"
     ]
    },
    {
     "name": "stdout",
     "output_type": "stream",
     "text": [
      "/l/users/santosh.sanjeev/model_soups/runs/test/fge/Cifar10/DeiT-S/1.00e-04/fge-24.pt\n"
     ]
    },
    {
     "name": "stderr",
     "output_type": "stream",
     "text": [
      "100%|██████████| 79/79 [00:41<00:00,  1.88it/s]\n",
      "100%|██████████| 40/40 [00:23<00:00,  1.70it/s]\n"
     ]
    },
    {
     "name": "stdout",
     "output_type": "stream",
     "text": [
      "/l/users/santosh.sanjeev/model_soups/runs/test/fge/Cifar10/DeiT-S/1.00e-04/fge-25.pt\n"
     ]
    },
    {
     "name": "stderr",
     "output_type": "stream",
     "text": [
      "100%|██████████| 79/79 [00:42<00:00,  1.86it/s]\n",
      "100%|██████████| 40/40 [00:23<00:00,  1.71it/s]\n"
     ]
    },
    {
     "name": "stdout",
     "output_type": "stream",
     "text": [
      "/l/users/santosh.sanjeev/model_soups/runs/test/fge/Cifar10/DeiT-S/1.00e-04/fge-3.pt\n"
     ]
    },
    {
     "name": "stderr",
     "output_type": "stream",
     "text": [
      "100%|██████████| 79/79 [00:42<00:00,  1.86it/s]\n",
      "100%|██████████| 40/40 [00:23<00:00,  1.68it/s]\n"
     ]
    },
    {
     "name": "stdout",
     "output_type": "stream",
     "text": [
      "/l/users/santosh.sanjeev/model_soups/runs/test/fge/Cifar10/DeiT-S/1.00e-04/fge-4.pt\n"
     ]
    },
    {
     "name": "stderr",
     "output_type": "stream",
     "text": [
      "100%|██████████| 79/79 [00:42<00:00,  1.84it/s]\n",
      "100%|██████████| 40/40 [00:22<00:00,  1.77it/s]\n"
     ]
    },
    {
     "name": "stdout",
     "output_type": "stream",
     "text": [
      "/l/users/santosh.sanjeev/model_soups/runs/test/fge/Cifar10/DeiT-S/1.00e-04/fge-5.pt\n"
     ]
    },
    {
     "name": "stderr",
     "output_type": "stream",
     "text": [
      "100%|██████████| 79/79 [00:43<00:00,  1.80it/s]\n",
      "100%|██████████| 40/40 [00:22<00:00,  1.75it/s]\n"
     ]
    },
    {
     "name": "stdout",
     "output_type": "stream",
     "text": [
      "/l/users/santosh.sanjeev/model_soups/runs/test/fge/Cifar10/DeiT-S/1.00e-04/fge-6.pt\n"
     ]
    },
    {
     "name": "stderr",
     "output_type": "stream",
     "text": [
      "100%|██████████| 79/79 [00:42<00:00,  1.87it/s]\n",
      "100%|██████████| 40/40 [00:23<00:00,  1.73it/s]\n"
     ]
    },
    {
     "name": "stdout",
     "output_type": "stream",
     "text": [
      "/l/users/santosh.sanjeev/model_soups/runs/test/fge/Cifar10/DeiT-S/1.00e-04/fge-7.pt\n"
     ]
    },
    {
     "name": "stderr",
     "output_type": "stream",
     "text": [
      "100%|██████████| 79/79 [00:41<00:00,  1.88it/s]\n",
      "100%|██████████| 40/40 [00:22<00:00,  1.74it/s]\n"
     ]
    },
    {
     "name": "stdout",
     "output_type": "stream",
     "text": [
      "/l/users/santosh.sanjeev/model_soups/runs/test/fge/Cifar10/DeiT-S/1.00e-04/fge-8.pt\n"
     ]
    },
    {
     "name": "stderr",
     "output_type": "stream",
     "text": [
      "100%|██████████| 79/79 [00:42<00:00,  1.87it/s]\n",
      "100%|██████████| 40/40 [00:22<00:00,  1.76it/s]\n"
     ]
    },
    {
     "name": "stdout",
     "output_type": "stream",
     "text": [
      "/l/users/santosh.sanjeev/model_soups/runs/test/fge/Cifar10/DeiT-S/1.00e-04/fge-9.pt\n"
     ]
    },
    {
     "name": "stderr",
     "output_type": "stream",
     "text": [
      "100%|██████████| 79/79 [00:42<00:00,  1.87it/s]\n",
      "100%|██████████| 40/40 [00:22<00:00,  1.75it/s]\n"
     ]
    },
    {
     "name": "stdout",
     "output_type": "stream",
     "text": [
      "1.00e-05\n",
      "/l/users/santosh.sanjeev/model_soups/runs/test/fge/Cifar10/DeiT-S/1.00e-05/fge--1.pt\n"
     ]
    },
    {
     "name": "stderr",
     "output_type": "stream",
     "text": [
      "100%|██████████| 79/79 [00:41<00:00,  1.89it/s]\n",
      "100%|██████████| 40/40 [00:22<00:00,  1.76it/s]\n"
     ]
    },
    {
     "name": "stdout",
     "output_type": "stream",
     "text": [
      "/l/users/santosh.sanjeev/model_soups/runs/test/fge/Cifar10/DeiT-S/1.00e-05/fge-1.pt\n"
     ]
    },
    {
     "name": "stderr",
     "output_type": "stream",
     "text": [
      "100%|██████████| 79/79 [00:41<00:00,  1.89it/s]\n",
      "100%|██████████| 40/40 [00:22<00:00,  1.78it/s]\n"
     ]
    },
    {
     "name": "stdout",
     "output_type": "stream",
     "text": [
      "/l/users/santosh.sanjeev/model_soups/runs/test/fge/Cifar10/DeiT-S/1.00e-05/fge-10.pt\n"
     ]
    },
    {
     "name": "stderr",
     "output_type": "stream",
     "text": [
      "100%|██████████| 79/79 [00:40<00:00,  1.94it/s]\n",
      "100%|██████████| 40/40 [00:23<00:00,  1.73it/s]\n"
     ]
    },
    {
     "name": "stdout",
     "output_type": "stream",
     "text": [
      "/l/users/santosh.sanjeev/model_soups/runs/test/fge/Cifar10/DeiT-S/1.00e-05/fge-11.pt\n"
     ]
    },
    {
     "name": "stderr",
     "output_type": "stream",
     "text": [
      "100%|██████████| 79/79 [00:44<00:00,  1.77it/s]\n",
      "100%|██████████| 40/40 [00:24<00:00,  1.66it/s]\n"
     ]
    },
    {
     "name": "stdout",
     "output_type": "stream",
     "text": [
      "/l/users/santosh.sanjeev/model_soups/runs/test/fge/Cifar10/DeiT-S/1.00e-05/fge-12.pt\n"
     ]
    },
    {
     "name": "stderr",
     "output_type": "stream",
     "text": [
      "100%|██████████| 79/79 [00:42<00:00,  1.88it/s]\n",
      "100%|██████████| 40/40 [00:22<00:00,  1.75it/s]\n"
     ]
    },
    {
     "name": "stdout",
     "output_type": "stream",
     "text": [
      "/l/users/santosh.sanjeev/model_soups/runs/test/fge/Cifar10/DeiT-S/1.00e-05/fge-13.pt\n"
     ]
    },
    {
     "name": "stderr",
     "output_type": "stream",
     "text": [
      "100%|██████████| 79/79 [00:41<00:00,  1.89it/s]\n",
      "100%|██████████| 40/40 [00:23<00:00,  1.74it/s]\n"
     ]
    },
    {
     "name": "stdout",
     "output_type": "stream",
     "text": [
      "/l/users/santosh.sanjeev/model_soups/runs/test/fge/Cifar10/DeiT-S/1.00e-05/fge-14.pt\n"
     ]
    },
    {
     "name": "stderr",
     "output_type": "stream",
     "text": [
      "100%|██████████| 79/79 [00:42<00:00,  1.87it/s]\n",
      "100%|██████████| 40/40 [00:23<00:00,  1.73it/s]\n"
     ]
    },
    {
     "name": "stdout",
     "output_type": "stream",
     "text": [
      "/l/users/santosh.sanjeev/model_soups/runs/test/fge/Cifar10/DeiT-S/1.00e-05/fge-15.pt\n"
     ]
    },
    {
     "name": "stderr",
     "output_type": "stream",
     "text": [
      "100%|██████████| 79/79 [00:42<00:00,  1.88it/s]\n",
      "100%|██████████| 40/40 [00:22<00:00,  1.74it/s]\n"
     ]
    },
    {
     "name": "stdout",
     "output_type": "stream",
     "text": [
      "/l/users/santosh.sanjeev/model_soups/runs/test/fge/Cifar10/DeiT-S/1.00e-05/fge-16.pt\n"
     ]
    },
    {
     "name": "stderr",
     "output_type": "stream",
     "text": [
      "100%|██████████| 79/79 [00:42<00:00,  1.87it/s]\n",
      "100%|██████████| 40/40 [00:23<00:00,  1.73it/s]\n"
     ]
    },
    {
     "name": "stdout",
     "output_type": "stream",
     "text": [
      "/l/users/santosh.sanjeev/model_soups/runs/test/fge/Cifar10/DeiT-S/1.00e-05/fge-17.pt\n"
     ]
    },
    {
     "name": "stderr",
     "output_type": "stream",
     "text": [
      "100%|██████████| 79/79 [00:45<00:00,  1.74it/s]\n",
      "100%|██████████| 40/40 [00:24<00:00,  1.66it/s]\n"
     ]
    },
    {
     "name": "stdout",
     "output_type": "stream",
     "text": [
      "/l/users/santosh.sanjeev/model_soups/runs/test/fge/Cifar10/DeiT-S/1.00e-05/fge-18.pt\n"
     ]
    },
    {
     "name": "stderr",
     "output_type": "stream",
     "text": [
      "100%|██████████| 79/79 [00:42<00:00,  1.85it/s]\n",
      "100%|██████████| 40/40 [00:22<00:00,  1.80it/s]\n"
     ]
    },
    {
     "name": "stdout",
     "output_type": "stream",
     "text": [
      "/l/users/santosh.sanjeev/model_soups/runs/test/fge/Cifar10/DeiT-S/1.00e-05/fge-19.pt\n"
     ]
    },
    {
     "name": "stderr",
     "output_type": "stream",
     "text": [
      "100%|██████████| 79/79 [00:40<00:00,  1.94it/s]\n",
      "100%|██████████| 40/40 [00:22<00:00,  1.78it/s]\n"
     ]
    },
    {
     "name": "stdout",
     "output_type": "stream",
     "text": [
      "/l/users/santosh.sanjeev/model_soups/runs/test/fge/Cifar10/DeiT-S/1.00e-05/fge-2.pt\n"
     ]
    },
    {
     "name": "stderr",
     "output_type": "stream",
     "text": [
      "100%|██████████| 79/79 [00:40<00:00,  1.93it/s]\n",
      "100%|██████████| 40/40 [00:23<00:00,  1.73it/s]\n"
     ]
    },
    {
     "name": "stdout",
     "output_type": "stream",
     "text": [
      "/l/users/santosh.sanjeev/model_soups/runs/test/fge/Cifar10/DeiT-S/1.00e-05/fge-20.pt\n"
     ]
    },
    {
     "name": "stderr",
     "output_type": "stream",
     "text": [
      "100%|██████████| 79/79 [00:41<00:00,  1.90it/s]\n",
      "100%|██████████| 40/40 [00:22<00:00,  1.76it/s]\n"
     ]
    },
    {
     "name": "stdout",
     "output_type": "stream",
     "text": [
      "/l/users/santosh.sanjeev/model_soups/runs/test/fge/Cifar10/DeiT-S/1.00e-05/fge-21.pt\n"
     ]
    },
    {
     "name": "stderr",
     "output_type": "stream",
     "text": [
      "100%|██████████| 79/79 [00:41<00:00,  1.91it/s]\n",
      "100%|██████████| 40/40 [00:22<00:00,  1.80it/s]\n"
     ]
    },
    {
     "name": "stdout",
     "output_type": "stream",
     "text": [
      "/l/users/santosh.sanjeev/model_soups/runs/test/fge/Cifar10/DeiT-S/1.00e-05/fge-22.pt\n"
     ]
    },
    {
     "name": "stderr",
     "output_type": "stream",
     "text": [
      "100%|██████████| 79/79 [00:41<00:00,  1.89it/s]\n",
      "100%|██████████| 40/40 [00:23<00:00,  1.73it/s]\n"
     ]
    },
    {
     "name": "stdout",
     "output_type": "stream",
     "text": [
      "/l/users/santosh.sanjeev/model_soups/runs/test/fge/Cifar10/DeiT-S/1.00e-05/fge-23.pt\n"
     ]
    },
    {
     "name": "stderr",
     "output_type": "stream",
     "text": [
      "100%|██████████| 79/79 [00:41<00:00,  1.91it/s]\n",
      "100%|██████████| 40/40 [00:22<00:00,  1.79it/s]\n"
     ]
    },
    {
     "name": "stdout",
     "output_type": "stream",
     "text": [
      "/l/users/santosh.sanjeev/model_soups/runs/test/fge/Cifar10/DeiT-S/1.00e-05/fge-24.pt\n"
     ]
    },
    {
     "name": "stderr",
     "output_type": "stream",
     "text": [
      "100%|██████████| 79/79 [00:42<00:00,  1.85it/s]\n",
      "100%|██████████| 40/40 [00:25<00:00,  1.59it/s]\n"
     ]
    },
    {
     "name": "stdout",
     "output_type": "stream",
     "text": [
      "/l/users/santosh.sanjeev/model_soups/runs/test/fge/Cifar10/DeiT-S/1.00e-05/fge-25.pt\n"
     ]
    },
    {
     "name": "stderr",
     "output_type": "stream",
     "text": [
      "100%|██████████| 79/79 [00:45<00:00,  1.72it/s]\n",
      "100%|██████████| 40/40 [00:24<00:00,  1.62it/s]\n"
     ]
    },
    {
     "name": "stdout",
     "output_type": "stream",
     "text": [
      "/l/users/santosh.sanjeev/model_soups/runs/test/fge/Cifar10/DeiT-S/1.00e-05/fge-3.pt\n"
     ]
    },
    {
     "name": "stderr",
     "output_type": "stream",
     "text": [
      "100%|██████████| 79/79 [00:46<00:00,  1.69it/s]\n",
      "100%|██████████| 40/40 [00:25<00:00,  1.57it/s]\n"
     ]
    },
    {
     "name": "stdout",
     "output_type": "stream",
     "text": [
      "/l/users/santosh.sanjeev/model_soups/runs/test/fge/Cifar10/DeiT-S/1.00e-05/fge-4.pt\n"
     ]
    },
    {
     "name": "stderr",
     "output_type": "stream",
     "text": [
      "100%|██████████| 79/79 [00:46<00:00,  1.71it/s]\n",
      "100%|██████████| 40/40 [00:25<00:00,  1.59it/s]\n"
     ]
    },
    {
     "name": "stdout",
     "output_type": "stream",
     "text": [
      "/l/users/santosh.sanjeev/model_soups/runs/test/fge/Cifar10/DeiT-S/1.00e-05/fge-5.pt\n"
     ]
    },
    {
     "name": "stderr",
     "output_type": "stream",
     "text": [
      "100%|██████████| 79/79 [00:45<00:00,  1.73it/s]\n",
      "100%|██████████| 40/40 [00:24<00:00,  1.62it/s]\n"
     ]
    },
    {
     "name": "stdout",
     "output_type": "stream",
     "text": [
      "/l/users/santosh.sanjeev/model_soups/runs/test/fge/Cifar10/DeiT-S/1.00e-05/fge-6.pt\n"
     ]
    },
    {
     "name": "stderr",
     "output_type": "stream",
     "text": [
      "100%|██████████| 79/79 [00:45<00:00,  1.73it/s]\n",
      "100%|██████████| 40/40 [00:24<00:00,  1.63it/s]\n"
     ]
    },
    {
     "name": "stdout",
     "output_type": "stream",
     "text": [
      "/l/users/santosh.sanjeev/model_soups/runs/test/fge/Cifar10/DeiT-S/1.00e-05/fge-7.pt\n"
     ]
    },
    {
     "name": "stderr",
     "output_type": "stream",
     "text": [
      "100%|██████████| 79/79 [00:45<00:00,  1.75it/s]\n",
      "100%|██████████| 40/40 [00:24<00:00,  1.63it/s]\n"
     ]
    },
    {
     "name": "stdout",
     "output_type": "stream",
     "text": [
      "/l/users/santosh.sanjeev/model_soups/runs/test/fge/Cifar10/DeiT-S/1.00e-05/fge-8.pt\n"
     ]
    },
    {
     "name": "stderr",
     "output_type": "stream",
     "text": [
      "100%|██████████| 79/79 [00:45<00:00,  1.72it/s]\n",
      "100%|██████████| 40/40 [00:24<00:00,  1.61it/s]\n"
     ]
    },
    {
     "name": "stdout",
     "output_type": "stream",
     "text": [
      "/l/users/santosh.sanjeev/model_soups/runs/test/fge/Cifar10/DeiT-S/1.00e-05/fge-9.pt\n"
     ]
    },
    {
     "name": "stderr",
     "output_type": "stream",
     "text": [
      "100%|██████████| 79/79 [00:45<00:00,  1.75it/s]\n",
      "100%|██████████| 40/40 [00:25<00:00,  1.59it/s]\n"
     ]
    },
    {
     "name": "stdout",
     "output_type": "stream",
     "text": [
      "5.00e-05\n",
      "/l/users/santosh.sanjeev/model_soups/runs/test/fge/Cifar10/DeiT-S/5.00e-05/fge-0.pt\n"
     ]
    },
    {
     "name": "stderr",
     "output_type": "stream",
     "text": [
      "100%|██████████| 79/79 [00:45<00:00,  1.74it/s]\n",
      "100%|██████████| 40/40 [00:25<00:00,  1.60it/s]\n"
     ]
    },
    {
     "name": "stdout",
     "output_type": "stream",
     "text": [
      "/l/users/santosh.sanjeev/model_soups/runs/test/fge/Cifar10/DeiT-S/5.00e-05/fge-1.pt\n"
     ]
    },
    {
     "name": "stderr",
     "output_type": "stream",
     "text": [
      "100%|██████████| 79/79 [00:45<00:00,  1.73it/s]\n",
      "100%|██████████| 40/40 [00:24<00:00,  1.63it/s]\n"
     ]
    },
    {
     "name": "stdout",
     "output_type": "stream",
     "text": [
      "/l/users/santosh.sanjeev/model_soups/runs/test/fge/Cifar10/DeiT-S/5.00e-05/fge-10.pt\n"
     ]
    },
    {
     "name": "stderr",
     "output_type": "stream",
     "text": [
      "100%|██████████| 79/79 [00:45<00:00,  1.74it/s]\n",
      "100%|██████████| 40/40 [00:24<00:00,  1.63it/s]\n"
     ]
    },
    {
     "name": "stdout",
     "output_type": "stream",
     "text": [
      "/l/users/santosh.sanjeev/model_soups/runs/test/fge/Cifar10/DeiT-S/5.00e-05/fge-11.pt\n"
     ]
    },
    {
     "name": "stderr",
     "output_type": "stream",
     "text": [
      "  0%|          | 0/79 [00:04<?, ?it/s]\n"
     ]
    },
    {
     "ename": "OutOfMemoryError",
     "evalue": "CUDA out of memory. Tried to allocate 296.00 MiB (GPU 0; 23.62 GiB total capacity; 20.40 GiB already allocated; 304.12 MiB free; 20.86 GiB reserved in total by PyTorch) If reserved memory is >> allocated memory try setting max_split_size_mb to avoid fragmentation.  See documentation for Memory Management and PYTORCH_CUDA_ALLOC_CONF",
     "output_type": "error",
     "traceback": [
      "\u001b[0;31m---------------------------------------------------------------------------\u001b[0m",
      "\u001b[0;31mOutOfMemoryError\u001b[0m                          Traceback (most recent call last)",
      "Cell \u001b[0;32mIn[21], line 29\u001b[0m\n\u001b[1;32m     27\u001b[0m     model\u001b[39m.\u001b[39mload_state_dict(checkpoint[\u001b[39m'\u001b[39m\u001b[39mmodel_state\u001b[39m\u001b[39m'\u001b[39m])\n\u001b[1;32m     28\u001b[0m     model \u001b[39m=\u001b[39m model\u001b[39m.\u001b[39mto(\u001b[39m'\u001b[39m\u001b[39mcuda\u001b[39m\u001b[39m'\u001b[39m)\n\u001b[0;32m---> 29\u001b[0m test_loss, test_acc, test_f1, test_recall, test_kappa, test_auc \u001b[39m=\u001b[39m val_step(model, test_loader, train_loader, loss, device \u001b[39m=\u001b[39;49m \u001b[39m'\u001b[39;49m\u001b[39mcuda\u001b[39;49m\u001b[39m'\u001b[39;49m, classification \u001b[39m=\u001b[39;49m \u001b[39m'\u001b[39;49m\u001b[39mMultiClass\u001b[39;49m\u001b[39m'\u001b[39;49m)\n\u001b[1;32m     30\u001b[0m val_loss, val_acc, val_f1, val_recall, val_kappa, val_auc \u001b[39m=\u001b[39m val_step(model, val_loader, train_loader, loss, device \u001b[39m=\u001b[39m \u001b[39m'\u001b[39m\u001b[39mcuda\u001b[39m\u001b[39m'\u001b[39m, classification \u001b[39m=\u001b[39m \u001b[39m'\u001b[39m\u001b[39mMultiClass\u001b[39m\u001b[39m'\u001b[39m)\n\u001b[1;32m     32\u001b[0m val_results\u001b[39m.\u001b[39mappend({\u001b[39m'\u001b[39m\u001b[39mModel Name\u001b[39m\u001b[39m'\u001b[39m: idx,\n\u001b[1;32m     33\u001b[0m                                 \u001b[39m'\u001b[39m\u001b[39mVal Accuracy\u001b[39m\u001b[39m'\u001b[39m: val_acc,\n\u001b[1;32m     34\u001b[0m                                 \u001b[39m'\u001b[39m\u001b[39mVal F1\u001b[39m\u001b[39m'\u001b[39m: val_f1,\n\u001b[1;32m     35\u001b[0m                                 \u001b[39m'\u001b[39m\u001b[39mVal Recall\u001b[39m\u001b[39m'\u001b[39m: val_recall,\n\u001b[1;32m     36\u001b[0m                                 \u001b[39m'\u001b[39m\u001b[39mVal Kappa\u001b[39m\u001b[39m'\u001b[39m: val_kappa,\n\u001b[1;32m     37\u001b[0m                                 \u001b[39m'\u001b[39m\u001b[39mVal AUC\u001b[39m\u001b[39m'\u001b[39m: val_auc,})\n",
      "File \u001b[0;32m~/Projects/model-soups/noodles/engine.py:188\u001b[0m, in \u001b[0;36mval_step\u001b[0;34m(model, val_loader, train_loader, loss_fn, device, classification)\u001b[0m\n\u001b[1;32m    186\u001b[0m data, target \u001b[39m=\u001b[39m data\u001b[39m.\u001b[39mto(device), target\u001b[39m.\u001b[39mto(device)\n\u001b[1;32m    187\u001b[0m data \u001b[39m=\u001b[39m data\u001b[39m.\u001b[39mfloat()\n\u001b[0;32m--> 188\u001b[0m output \u001b[39m=\u001b[39m model(data)\n\u001b[1;32m    189\u001b[0m \u001b[39mif\u001b[39;00m classification \u001b[39m==\u001b[39m \u001b[39m'\u001b[39m\u001b[39mMultiLabel\u001b[39m\u001b[39m'\u001b[39m:\n\u001b[1;32m    190\u001b[0m     weights \u001b[39m=\u001b[39m get_weights(device \u001b[39m=\u001b[39m device, train_loader\u001b[39m=\u001b[39mtrain_loader, taskweights\u001b[39m=\u001b[39m\u001b[39mTrue\u001b[39;00m)\n",
      "File \u001b[0;32m~/.conda/envs/nunoodles/lib/python3.8/site-packages/torch/nn/modules/module.py:1501\u001b[0m, in \u001b[0;36mModule._call_impl\u001b[0;34m(self, *args, **kwargs)\u001b[0m\n\u001b[1;32m   1496\u001b[0m \u001b[39m# If we don't have any hooks, we want to skip the rest of the logic in\u001b[39;00m\n\u001b[1;32m   1497\u001b[0m \u001b[39m# this function, and just call forward.\u001b[39;00m\n\u001b[1;32m   1498\u001b[0m \u001b[39mif\u001b[39;00m \u001b[39mnot\u001b[39;00m (\u001b[39mself\u001b[39m\u001b[39m.\u001b[39m_backward_hooks \u001b[39mor\u001b[39;00m \u001b[39mself\u001b[39m\u001b[39m.\u001b[39m_backward_pre_hooks \u001b[39mor\u001b[39;00m \u001b[39mself\u001b[39m\u001b[39m.\u001b[39m_forward_hooks \u001b[39mor\u001b[39;00m \u001b[39mself\u001b[39m\u001b[39m.\u001b[39m_forward_pre_hooks\n\u001b[1;32m   1499\u001b[0m         \u001b[39mor\u001b[39;00m _global_backward_pre_hooks \u001b[39mor\u001b[39;00m _global_backward_hooks\n\u001b[1;32m   1500\u001b[0m         \u001b[39mor\u001b[39;00m _global_forward_hooks \u001b[39mor\u001b[39;00m _global_forward_pre_hooks):\n\u001b[0;32m-> 1501\u001b[0m     \u001b[39mreturn\u001b[39;00m forward_call(\u001b[39m*\u001b[39;49margs, \u001b[39m*\u001b[39;49m\u001b[39m*\u001b[39;49mkwargs)\n\u001b[1;32m   1502\u001b[0m \u001b[39m# Do not call functions when jit is used\u001b[39;00m\n\u001b[1;32m   1503\u001b[0m full_backward_hooks, non_full_backward_hooks \u001b[39m=\u001b[39m [], []\n",
      "File \u001b[0;32m~/.conda/envs/nunoodles/lib/python3.8/site-packages/timm/models/vision_transformer.py:692\u001b[0m, in \u001b[0;36mVisionTransformer.forward\u001b[0;34m(self, x)\u001b[0m\n\u001b[1;32m    691\u001b[0m \u001b[39mdef\u001b[39;00m \u001b[39mforward\u001b[39m(\u001b[39mself\u001b[39m, x: torch\u001b[39m.\u001b[39mTensor) \u001b[39m-\u001b[39m\u001b[39m>\u001b[39m torch\u001b[39m.\u001b[39mTensor:\n\u001b[0;32m--> 692\u001b[0m     x \u001b[39m=\u001b[39m \u001b[39mself\u001b[39;49m\u001b[39m.\u001b[39;49mforward_features(x)\n\u001b[1;32m    693\u001b[0m     x \u001b[39m=\u001b[39m \u001b[39mself\u001b[39m\u001b[39m.\u001b[39mforward_head(x)\n\u001b[1;32m    694\u001b[0m     \u001b[39mreturn\u001b[39;00m x\n",
      "File \u001b[0;32m~/.conda/envs/nunoodles/lib/python3.8/site-packages/timm/models/vision_transformer.py:676\u001b[0m, in \u001b[0;36mVisionTransformer.forward_features\u001b[0;34m(self, x)\u001b[0m\n\u001b[1;32m    674\u001b[0m     x \u001b[39m=\u001b[39m checkpoint_seq(\u001b[39mself\u001b[39m\u001b[39m.\u001b[39mblocks, x)\n\u001b[1;32m    675\u001b[0m \u001b[39melse\u001b[39;00m:\n\u001b[0;32m--> 676\u001b[0m     x \u001b[39m=\u001b[39m \u001b[39mself\u001b[39;49m\u001b[39m.\u001b[39;49mblocks(x)\n\u001b[1;32m    677\u001b[0m x \u001b[39m=\u001b[39m \u001b[39mself\u001b[39m\u001b[39m.\u001b[39mnorm(x)\n\u001b[1;32m    678\u001b[0m \u001b[39mreturn\u001b[39;00m x\n",
      "File \u001b[0;32m~/.conda/envs/nunoodles/lib/python3.8/site-packages/torch/nn/modules/module.py:1501\u001b[0m, in \u001b[0;36mModule._call_impl\u001b[0;34m(self, *args, **kwargs)\u001b[0m\n\u001b[1;32m   1496\u001b[0m \u001b[39m# If we don't have any hooks, we want to skip the rest of the logic in\u001b[39;00m\n\u001b[1;32m   1497\u001b[0m \u001b[39m# this function, and just call forward.\u001b[39;00m\n\u001b[1;32m   1498\u001b[0m \u001b[39mif\u001b[39;00m \u001b[39mnot\u001b[39;00m (\u001b[39mself\u001b[39m\u001b[39m.\u001b[39m_backward_hooks \u001b[39mor\u001b[39;00m \u001b[39mself\u001b[39m\u001b[39m.\u001b[39m_backward_pre_hooks \u001b[39mor\u001b[39;00m \u001b[39mself\u001b[39m\u001b[39m.\u001b[39m_forward_hooks \u001b[39mor\u001b[39;00m \u001b[39mself\u001b[39m\u001b[39m.\u001b[39m_forward_pre_hooks\n\u001b[1;32m   1499\u001b[0m         \u001b[39mor\u001b[39;00m _global_backward_pre_hooks \u001b[39mor\u001b[39;00m _global_backward_hooks\n\u001b[1;32m   1500\u001b[0m         \u001b[39mor\u001b[39;00m _global_forward_hooks \u001b[39mor\u001b[39;00m _global_forward_pre_hooks):\n\u001b[0;32m-> 1501\u001b[0m     \u001b[39mreturn\u001b[39;00m forward_call(\u001b[39m*\u001b[39;49margs, \u001b[39m*\u001b[39;49m\u001b[39m*\u001b[39;49mkwargs)\n\u001b[1;32m   1502\u001b[0m \u001b[39m# Do not call functions when jit is used\u001b[39;00m\n\u001b[1;32m   1503\u001b[0m full_backward_hooks, non_full_backward_hooks \u001b[39m=\u001b[39m [], []\n",
      "File \u001b[0;32m~/.conda/envs/nunoodles/lib/python3.8/site-packages/torch/nn/modules/container.py:217\u001b[0m, in \u001b[0;36mSequential.forward\u001b[0;34m(self, input)\u001b[0m\n\u001b[1;32m    215\u001b[0m \u001b[39mdef\u001b[39;00m \u001b[39mforward\u001b[39m(\u001b[39mself\u001b[39m, \u001b[39minput\u001b[39m):\n\u001b[1;32m    216\u001b[0m     \u001b[39mfor\u001b[39;00m module \u001b[39min\u001b[39;00m \u001b[39mself\u001b[39m:\n\u001b[0;32m--> 217\u001b[0m         \u001b[39minput\u001b[39m \u001b[39m=\u001b[39m module(\u001b[39minput\u001b[39;49m)\n\u001b[1;32m    218\u001b[0m     \u001b[39mreturn\u001b[39;00m \u001b[39minput\u001b[39m\n",
      "File \u001b[0;32m~/.conda/envs/nunoodles/lib/python3.8/site-packages/torch/nn/modules/module.py:1501\u001b[0m, in \u001b[0;36mModule._call_impl\u001b[0;34m(self, *args, **kwargs)\u001b[0m\n\u001b[1;32m   1496\u001b[0m \u001b[39m# If we don't have any hooks, we want to skip the rest of the logic in\u001b[39;00m\n\u001b[1;32m   1497\u001b[0m \u001b[39m# this function, and just call forward.\u001b[39;00m\n\u001b[1;32m   1498\u001b[0m \u001b[39mif\u001b[39;00m \u001b[39mnot\u001b[39;00m (\u001b[39mself\u001b[39m\u001b[39m.\u001b[39m_backward_hooks \u001b[39mor\u001b[39;00m \u001b[39mself\u001b[39m\u001b[39m.\u001b[39m_backward_pre_hooks \u001b[39mor\u001b[39;00m \u001b[39mself\u001b[39m\u001b[39m.\u001b[39m_forward_hooks \u001b[39mor\u001b[39;00m \u001b[39mself\u001b[39m\u001b[39m.\u001b[39m_forward_pre_hooks\n\u001b[1;32m   1499\u001b[0m         \u001b[39mor\u001b[39;00m _global_backward_pre_hooks \u001b[39mor\u001b[39;00m _global_backward_hooks\n\u001b[1;32m   1500\u001b[0m         \u001b[39mor\u001b[39;00m _global_forward_hooks \u001b[39mor\u001b[39;00m _global_forward_pre_hooks):\n\u001b[0;32m-> 1501\u001b[0m     \u001b[39mreturn\u001b[39;00m forward_call(\u001b[39m*\u001b[39;49margs, \u001b[39m*\u001b[39;49m\u001b[39m*\u001b[39;49mkwargs)\n\u001b[1;32m   1502\u001b[0m \u001b[39m# Do not call functions when jit is used\u001b[39;00m\n\u001b[1;32m   1503\u001b[0m full_backward_hooks, non_full_backward_hooks \u001b[39m=\u001b[39m [], []\n",
      "File \u001b[0;32m~/.conda/envs/nunoodles/lib/python3.8/site-packages/timm/models/vision_transformer.py:165\u001b[0m, in \u001b[0;36mBlock.forward\u001b[0;34m(self, x)\u001b[0m\n\u001b[1;32m    163\u001b[0m \u001b[39mdef\u001b[39;00m \u001b[39mforward\u001b[39m(\u001b[39mself\u001b[39m, x: torch\u001b[39m.\u001b[39mTensor) \u001b[39m-\u001b[39m\u001b[39m>\u001b[39m torch\u001b[39m.\u001b[39mTensor:\n\u001b[1;32m    164\u001b[0m     x \u001b[39m=\u001b[39m x \u001b[39m+\u001b[39m \u001b[39mself\u001b[39m\u001b[39m.\u001b[39mdrop_path1(\u001b[39mself\u001b[39m\u001b[39m.\u001b[39mls1(\u001b[39mself\u001b[39m\u001b[39m.\u001b[39mattn(\u001b[39mself\u001b[39m\u001b[39m.\u001b[39mnorm1(x))))\n\u001b[0;32m--> 165\u001b[0m     x \u001b[39m=\u001b[39m x \u001b[39m+\u001b[39m \u001b[39mself\u001b[39m\u001b[39m.\u001b[39mdrop_path2(\u001b[39mself\u001b[39m\u001b[39m.\u001b[39mls2(\u001b[39mself\u001b[39;49m\u001b[39m.\u001b[39;49mmlp(\u001b[39mself\u001b[39;49m\u001b[39m.\u001b[39;49mnorm2(x))))\n\u001b[1;32m    166\u001b[0m     \u001b[39mreturn\u001b[39;00m x\n",
      "File \u001b[0;32m~/.conda/envs/nunoodles/lib/python3.8/site-packages/torch/nn/modules/module.py:1501\u001b[0m, in \u001b[0;36mModule._call_impl\u001b[0;34m(self, *args, **kwargs)\u001b[0m\n\u001b[1;32m   1496\u001b[0m \u001b[39m# If we don't have any hooks, we want to skip the rest of the logic in\u001b[39;00m\n\u001b[1;32m   1497\u001b[0m \u001b[39m# this function, and just call forward.\u001b[39;00m\n\u001b[1;32m   1498\u001b[0m \u001b[39mif\u001b[39;00m \u001b[39mnot\u001b[39;00m (\u001b[39mself\u001b[39m\u001b[39m.\u001b[39m_backward_hooks \u001b[39mor\u001b[39;00m \u001b[39mself\u001b[39m\u001b[39m.\u001b[39m_backward_pre_hooks \u001b[39mor\u001b[39;00m \u001b[39mself\u001b[39m\u001b[39m.\u001b[39m_forward_hooks \u001b[39mor\u001b[39;00m \u001b[39mself\u001b[39m\u001b[39m.\u001b[39m_forward_pre_hooks\n\u001b[1;32m   1499\u001b[0m         \u001b[39mor\u001b[39;00m _global_backward_pre_hooks \u001b[39mor\u001b[39;00m _global_backward_hooks\n\u001b[1;32m   1500\u001b[0m         \u001b[39mor\u001b[39;00m _global_forward_hooks \u001b[39mor\u001b[39;00m _global_forward_pre_hooks):\n\u001b[0;32m-> 1501\u001b[0m     \u001b[39mreturn\u001b[39;00m forward_call(\u001b[39m*\u001b[39;49margs, \u001b[39m*\u001b[39;49m\u001b[39m*\u001b[39;49mkwargs)\n\u001b[1;32m   1502\u001b[0m \u001b[39m# Do not call functions when jit is used\u001b[39;00m\n\u001b[1;32m   1503\u001b[0m full_backward_hooks, non_full_backward_hooks \u001b[39m=\u001b[39m [], []\n",
      "File \u001b[0;32m~/.conda/envs/nunoodles/lib/python3.8/site-packages/timm/layers/mlp.py:43\u001b[0m, in \u001b[0;36mMlp.forward\u001b[0;34m(self, x)\u001b[0m\n\u001b[1;32m     41\u001b[0m \u001b[39mdef\u001b[39;00m \u001b[39mforward\u001b[39m(\u001b[39mself\u001b[39m, x):\n\u001b[1;32m     42\u001b[0m     x \u001b[39m=\u001b[39m \u001b[39mself\u001b[39m\u001b[39m.\u001b[39mfc1(x)\n\u001b[0;32m---> 43\u001b[0m     x \u001b[39m=\u001b[39m \u001b[39mself\u001b[39;49m\u001b[39m.\u001b[39;49mact(x)\n\u001b[1;32m     44\u001b[0m     x \u001b[39m=\u001b[39m \u001b[39mself\u001b[39m\u001b[39m.\u001b[39mdrop1(x)\n\u001b[1;32m     45\u001b[0m     x \u001b[39m=\u001b[39m \u001b[39mself\u001b[39m\u001b[39m.\u001b[39mnorm(x)\n",
      "File \u001b[0;32m~/.conda/envs/nunoodles/lib/python3.8/site-packages/torch/nn/modules/module.py:1501\u001b[0m, in \u001b[0;36mModule._call_impl\u001b[0;34m(self, *args, **kwargs)\u001b[0m\n\u001b[1;32m   1496\u001b[0m \u001b[39m# If we don't have any hooks, we want to skip the rest of the logic in\u001b[39;00m\n\u001b[1;32m   1497\u001b[0m \u001b[39m# this function, and just call forward.\u001b[39;00m\n\u001b[1;32m   1498\u001b[0m \u001b[39mif\u001b[39;00m \u001b[39mnot\u001b[39;00m (\u001b[39mself\u001b[39m\u001b[39m.\u001b[39m_backward_hooks \u001b[39mor\u001b[39;00m \u001b[39mself\u001b[39m\u001b[39m.\u001b[39m_backward_pre_hooks \u001b[39mor\u001b[39;00m \u001b[39mself\u001b[39m\u001b[39m.\u001b[39m_forward_hooks \u001b[39mor\u001b[39;00m \u001b[39mself\u001b[39m\u001b[39m.\u001b[39m_forward_pre_hooks\n\u001b[1;32m   1499\u001b[0m         \u001b[39mor\u001b[39;00m _global_backward_pre_hooks \u001b[39mor\u001b[39;00m _global_backward_hooks\n\u001b[1;32m   1500\u001b[0m         \u001b[39mor\u001b[39;00m _global_forward_hooks \u001b[39mor\u001b[39;00m _global_forward_pre_hooks):\n\u001b[0;32m-> 1501\u001b[0m     \u001b[39mreturn\u001b[39;00m forward_call(\u001b[39m*\u001b[39;49margs, \u001b[39m*\u001b[39;49m\u001b[39m*\u001b[39;49mkwargs)\n\u001b[1;32m   1502\u001b[0m \u001b[39m# Do not call functions when jit is used\u001b[39;00m\n\u001b[1;32m   1503\u001b[0m full_backward_hooks, non_full_backward_hooks \u001b[39m=\u001b[39m [], []\n",
      "File \u001b[0;32m~/.conda/envs/nunoodles/lib/python3.8/site-packages/torch/nn/modules/activation.py:685\u001b[0m, in \u001b[0;36mGELU.forward\u001b[0;34m(self, input)\u001b[0m\n\u001b[1;32m    684\u001b[0m \u001b[39mdef\u001b[39;00m \u001b[39mforward\u001b[39m(\u001b[39mself\u001b[39m, \u001b[39minput\u001b[39m: Tensor) \u001b[39m-\u001b[39m\u001b[39m>\u001b[39m Tensor:\n\u001b[0;32m--> 685\u001b[0m     \u001b[39mreturn\u001b[39;00m F\u001b[39m.\u001b[39;49mgelu(\u001b[39minput\u001b[39;49m, approximate\u001b[39m=\u001b[39;49m\u001b[39mself\u001b[39;49m\u001b[39m.\u001b[39;49mapproximate)\n",
      "\u001b[0;31mOutOfMemoryError\u001b[0m: CUDA out of memory. Tried to allocate 296.00 MiB (GPU 0; 23.62 GiB total capacity; 20.40 GiB already allocated; 304.12 MiB free; 20.86 GiB reserved in total by PyTorch) If reserved memory is >> allocated memory try setting max_split_size_mb to avoid fragmentation.  See documentation for Memory Management and PYTORCH_CUDA_ALLOC_CONF"
     ]
    }
   ],
   "source": [
    "state_dicts, val_results, test_results = [], [], []\n",
    "loss = torch.nn.CrossEntropyLoss()\n",
    "train_loader, val_loader, test_loader = get_dataset('Cifar10', './dataset/cifar\"\"./dataset/cifar/cifar1098_idxs.npy', \"Minimal\", 'ImageNet', 224, 128, 16, 'Classification')\n",
    "\n",
    "WEIGHT_PATH = '/l/users/santosh.sanjeev/model_soups/runs/test/fge/Cifar10/DeiT-S/'\n",
    "for idx, folder in enumerate(sorted(os.listdir(WEIGHT_PATH))):\n",
    "    print(folder)\n",
    "    if folder.startswith('output'):\n",
    "        continue\n",
    "    folder_path = os.path.join(WEIGHT_PATH, folder)\n",
    "    for idx, model in enumerate(sorted(os.listdir(folder_path))):\n",
    "        if model.endswith('RESULTS.csv'):\n",
    "            continue\n",
    "        model_path = os.path.join(folder_path, model)\n",
    "        #read config in train_summary.json\n",
    "        print(model_path)\n",
    "\n",
    "        checkpoint = torch.load(model_path, map_location='cuda')\n",
    "        if '.pth' in model_path:\n",
    "            state_dicts.append(checkpoint['model'])\n",
    "            model = get_model('DeiT-S', num_classes=10)\n",
    "            model.load_state_dict(checkpoint['model'])\n",
    "            model = model.to('cuda')\n",
    "        else:        \n",
    "            state_dicts.append(checkpoint['model_state'])\n",
    "            model = get_model('DeiT-S', num_classes=10)\n",
    "            model.load_state_dict(checkpoint['model_state'])\n",
    "            model = model.to('cuda')\n",
    "        test_loss, test_acc, test_f1, test_recall, test_kappa, test_auc = val_step(model, test_loader, train_loader, loss, device = 'cuda', classification = 'MultiClass')\n",
    "        val_loss, val_acc, val_f1, val_recall, val_kappa, val_auc = val_step(model, val_loader, train_loader, loss, device = 'cuda', classification = 'MultiClass')\n",
    "\n",
    "        val_results.append({'Model Name': idx,\n",
    "                                        'Val Accuracy': val_acc,\n",
    "                                        'Val F1': val_f1,\n",
    "                                        'Val Recall': val_recall,\n",
    "                                        'Val Kappa': val_kappa,\n",
    "                                        'Val AUC': val_auc,})\n",
    "        test_results.append({'Model Name': idx,\n",
    "                                        'Test Accuracy': test_acc,\n",
    "                                        'Test F1': test_f1,\n",
    "                                        'Test Recall': test_recall,\n",
    "                                        'Test Kappa': test_kappa,\n",
    "                                        'Test AUC': test_auc,})\n",
    "        \n",
    "\n",
    "results_test_df = pd.DataFrame(test_results)\n",
    "results_val_df = pd.DataFrame(val_results)\n",
    "print(results_val_df)\n",
    "print(results_test_df)\n",
    "\n",
    "\n",
    "\n",
    "print(\"Uniform souping ...\")\n",
    "alphal = [1 / len(state_dicts) for i in range(len(state_dicts))]\n",
    "model = get_model('DeiT-S', num_classes=10)\n",
    "uniform_model = souping(model, state_dicts, alphal)\n",
    "uniform_model.to('cuda')\n",
    "\n",
    "uniform_test_loss, uniform_test_acc, uniform_test_f1, uniform_test_recall, uniform_test_kappa, uniform_test_auc = val_step(uniform_model, test_loader, train_loader, loss, 'cuda', 'MultiClass')\n",
    "\n",
    "#greedy\n",
    "\n",
    "print(\"Greedy souping ...\")\n",
    "model = get_model('DeiT-S', num_classes=10)\n",
    "\n",
    "val_results = list(results_val_df['Val Accuracy'])\n",
    "val_models = list(results_val_df[\"Model Name\"])\n",
    "greedy_model, best_ingredients = greedy_souping(state_dicts, val_results, 'DeiT-S', 10, val_loader,train_loader, loss, 'cuda' , 'MultiClass', 'Val Accuracy', val_models =val_models)\n",
    "greedy_model.to('cuda')\n",
    "print('VAL INGREDIENTS',best_ingredients)\n",
    "greedy_test_loss, greedy_test_acc, greedy_test_f1, greedy_test_recall, greedy_test_kappa, greedy_test_auc = val_step(greedy_model, test_loader, train_loader, loss, 'cuda', 'MultiClass')\n",
    "test_results = list(results_test_df['Test Accuracy'])\n",
    "test_models = list(results_test_df[\"Model Name\"])\n",
    "greedy_model_test, best_ingredients_test = greedy_souping(state_dicts, test_results, 'DeiT-S', 10, test_loader, train_loader, loss, 'cuda', 'MultiClass', 'Test Accuracy', test_models)\n",
    "print('TEST INGREDIENTS', best_ingredients_test)\n",
    "greedy_model_test.to('cuda')\n",
    "greedy_test_loss_test, greedy_test_acc_test, greedy_test_f1_test, greedy_test_recall_test, greedy_test_kappa_test, greedy_test_auc_test = val_step(greedy_model_test, test_loader, train_loader, loss, 'cuda', 'MultiClass')\n"
   ]
  },
  {
   "cell_type": "code",
   "execution_count": null,
   "metadata": {},
   "outputs": [],
   "source": []
  },
  {
   "cell_type": "code",
   "execution_count": null,
   "metadata": {},
   "outputs": [],
   "source": []
  },
  {
   "cell_type": "code",
   "execution_count": null,
   "metadata": {},
   "outputs": [],
   "source": []
  },
  {
   "cell_type": "code",
   "execution_count": null,
   "metadata": {},
   "outputs": [],
   "source": []
  },
  {
   "cell_type": "code",
   "execution_count": null,
   "metadata": {},
   "outputs": [],
   "source": []
  },
  {
   "cell_type": "code",
   "execution_count": null,
   "metadata": {},
   "outputs": [],
   "source": []
  },
  {
   "cell_type": "code",
   "execution_count": null,
   "metadata": {},
   "outputs": [],
   "source": []
  },
  {
   "cell_type": "code",
   "execution_count": null,
   "metadata": {},
   "outputs": [],
   "source": []
  },
  {
   "cell_type": "code",
   "execution_count": null,
   "metadata": {},
   "outputs": [],
   "source": []
  },
  {
   "cell_type": "code",
   "execution_count": 18,
   "metadata": {},
   "outputs": [
    {
     "name": "stdout",
     "output_type": "stream",
     "text": [
      "['./dataset/cifar', './dataset/cifar/cifar1098_idxs.npy']\n",
      "Cifar10 45000 5000 10000\n",
      "1.00e-04\n",
      "/l/users/santosh.sanjeev/model_soups/runs/test/fge/Cifar10_4/DeiT-S/1.00e-04/fge-0.pt\n"
     ]
    },
    {
     "name": "stderr",
     "output_type": "stream",
     "text": [
      "100%|██████████| 79/79 [00:42<00:00,  1.85it/s]\n",
      "100%|██████████| 40/40 [00:23<00:00,  1.70it/s]\n"
     ]
    },
    {
     "name": "stdout",
     "output_type": "stream",
     "text": [
      "/l/users/santosh.sanjeev/model_soups/runs/test/fge/Cifar10_4/DeiT-S/1.00e-04/fge-1.pt\n"
     ]
    },
    {
     "name": "stderr",
     "output_type": "stream",
     "text": [
      "100%|██████████| 79/79 [00:43<00:00,  1.83it/s]\n",
      "100%|██████████| 40/40 [00:23<00:00,  1.68it/s]\n"
     ]
    },
    {
     "name": "stdout",
     "output_type": "stream",
     "text": [
      "/l/users/santosh.sanjeev/model_soups/runs/test/fge/Cifar10_4/DeiT-S/1.00e-04/fge-13.pt\n"
     ]
    },
    {
     "name": "stderr",
     "output_type": "stream",
     "text": [
      "100%|██████████| 79/79 [00:43<00:00,  1.82it/s]\n",
      "100%|██████████| 40/40 [00:23<00:00,  1.71it/s]\n"
     ]
    },
    {
     "name": "stdout",
     "output_type": "stream",
     "text": [
      "/l/users/santosh.sanjeev/model_soups/runs/test/fge/Cifar10_4/DeiT-S/1.00e-04/fge-17.pt\n"
     ]
    },
    {
     "name": "stderr",
     "output_type": "stream",
     "text": [
      "100%|██████████| 79/79 [00:43<00:00,  1.81it/s]\n",
      "100%|██████████| 40/40 [00:23<00:00,  1.68it/s]\n"
     ]
    },
    {
     "name": "stdout",
     "output_type": "stream",
     "text": [
      "/l/users/santosh.sanjeev/model_soups/runs/test/fge/Cifar10_4/DeiT-S/1.00e-04/fge-21.pt\n"
     ]
    },
    {
     "name": "stderr",
     "output_type": "stream",
     "text": [
      "100%|██████████| 79/79 [00:42<00:00,  1.87it/s]\n",
      "100%|██████████| 40/40 [00:22<00:00,  1.76it/s]\n"
     ]
    },
    {
     "name": "stdout",
     "output_type": "stream",
     "text": [
      "/l/users/santosh.sanjeev/model_soups/runs/test/fge/Cifar10_4/DeiT-S/1.00e-04/fge-25.pt\n"
     ]
    },
    {
     "name": "stderr",
     "output_type": "stream",
     "text": [
      "100%|██████████| 79/79 [00:42<00:00,  1.88it/s]\n",
      "100%|██████████| 40/40 [00:23<00:00,  1.73it/s]\n"
     ]
    },
    {
     "name": "stdout",
     "output_type": "stream",
     "text": [
      "/l/users/santosh.sanjeev/model_soups/runs/test/fge/Cifar10_4/DeiT-S/1.00e-04/fge-5.pt\n"
     ]
    },
    {
     "name": "stderr",
     "output_type": "stream",
     "text": [
      "100%|██████████| 79/79 [00:41<00:00,  1.88it/s]\n",
      "100%|██████████| 40/40 [00:22<00:00,  1.78it/s]\n"
     ]
    },
    {
     "name": "stdout",
     "output_type": "stream",
     "text": [
      "/l/users/santosh.sanjeev/model_soups/runs/test/fge/Cifar10_4/DeiT-S/1.00e-04/fge-9.pt\n"
     ]
    },
    {
     "name": "stderr",
     "output_type": "stream",
     "text": [
      "100%|██████████| 79/79 [00:41<00:00,  1.88it/s]\n",
      "100%|██████████| 40/40 [00:22<00:00,  1.78it/s]\n"
     ]
    },
    {
     "name": "stdout",
     "output_type": "stream",
     "text": [
      "output_log.txt\n",
      "   Model Name  Val Accuracy    Val F1  Val Recall  Val Kappa  Val AUC\n",
      "0           0      0.988086  0.987784      0.9878   0.985160        0\n",
      "1           1      0.984375  0.986991      0.9870   0.983825        0\n",
      "2           2      0.983594  0.983170      0.9832   0.978608        0\n",
      "3           3      0.984375  0.983965      0.9840   0.980985        0\n",
      "4           4      0.982031  0.981565      0.9816   0.975504        0\n",
      "5           5      0.980664  0.980139      0.9802   0.976535        0\n",
      "6           6      0.984375  0.983983      0.9840   0.977502        0\n",
      "7           7      0.986133  0.985791      0.9858   0.981358        0\n",
      "   Model Name  Test Accuracy   Test F1  Test Recall  Test Kappa  Test AUC\n",
      "0           0       0.985957  0.985791       0.9858    0.980962         0\n",
      "1           1       0.982496  0.982293       0.9823    0.975678         0\n",
      "2           2       0.982991  0.982787       0.9828    0.979836         0\n",
      "3           3       0.981903  0.981674       0.9817    0.980503         0\n",
      "4           4       0.981903  0.981694       0.9817    0.979086         0\n",
      "5           5       0.981606  0.981386       0.9814    0.977035         0\n",
      "6           6       0.979430  0.979195       0.9792    0.973238         0\n",
      "7           7       0.981408  0.981190       0.9812    0.978249         0\n",
      "Uniform souping ...\n"
     ]
    },
    {
     "name": "stderr",
     "output_type": "stream",
     "text": [
      "100%|██████████| 79/79 [00:41<00:00,  1.89it/s]\n"
     ]
    },
    {
     "name": "stdout",
     "output_type": "stream",
     "text": [
      "Greedy souping ...\n",
      "[0, 7, 1, 3, 6, 2, 4, 5]\n",
      "currentttttttt bestttttttt 0.9880859375\n"
     ]
    },
    {
     "name": "stderr",
     "output_type": "stream",
     "text": [
      "100%|██████████| 40/40 [00:22<00:00,  1.76it/s]\n"
     ]
    },
    {
     "name": "stdout",
     "output_type": "stream",
     "text": [
      "Models [0, 7] got 0.9875 on validation.\n"
     ]
    },
    {
     "name": "stderr",
     "output_type": "stream",
     "text": [
      "100%|██████████| 40/40 [00:22<00:00,  1.80it/s]\n"
     ]
    },
    {
     "name": "stdout",
     "output_type": "stream",
     "text": [
      "Models [0, 1] got 0.988671875 on validation.\n"
     ]
    },
    {
     "name": "stderr",
     "output_type": "stream",
     "text": [
      "100%|██████████| 40/40 [00:22<00:00,  1.74it/s]\n"
     ]
    },
    {
     "name": "stdout",
     "output_type": "stream",
     "text": [
      "Models [0, 1, 3] got 0.9904296875 on validation.\n"
     ]
    },
    {
     "name": "stderr",
     "output_type": "stream",
     "text": [
      "100%|██████████| 40/40 [00:22<00:00,  1.76it/s]\n"
     ]
    },
    {
     "name": "stdout",
     "output_type": "stream",
     "text": [
      "Models [0, 1, 3, 6] got 0.990625 on validation.\n"
     ]
    },
    {
     "name": "stderr",
     "output_type": "stream",
     "text": [
      "100%|██████████| 40/40 [00:22<00:00,  1.78it/s]\n"
     ]
    },
    {
     "name": "stdout",
     "output_type": "stream",
     "text": [
      "Models [0, 1, 3, 6, 2] got 0.9904296875 on validation.\n"
     ]
    },
    {
     "name": "stderr",
     "output_type": "stream",
     "text": [
      "100%|██████████| 40/40 [00:22<00:00,  1.75it/s]\n"
     ]
    },
    {
     "name": "stdout",
     "output_type": "stream",
     "text": [
      "Models [0, 1, 3, 6, 4] got 0.9896484375 on validation.\n"
     ]
    },
    {
     "name": "stderr",
     "output_type": "stream",
     "text": [
      "100%|██████████| 40/40 [00:22<00:00,  1.76it/s]\n"
     ]
    },
    {
     "name": "stdout",
     "output_type": "stream",
     "text": [
      "Models [0, 1, 3, 6, 5] got 0.9888671875 on validation.\n",
      "VAL INGREDIENTS [0, 1, 3, 6]\n"
     ]
    },
    {
     "name": "stderr",
     "output_type": "stream",
     "text": [
      "100%|██████████| 79/79 [00:41<00:00,  1.90it/s]\n"
     ]
    },
    {
     "name": "stdout",
     "output_type": "stream",
     "text": [
      "[0, 2, 1, 3, 4, 5, 7, 6]\n",
      "currentttttttt bestttttttt 0.9859572784810127\n"
     ]
    },
    {
     "name": "stderr",
     "output_type": "stream",
     "text": [
      "100%|██████████| 79/79 [00:41<00:00,  1.89it/s]\n"
     ]
    },
    {
     "name": "stdout",
     "output_type": "stream",
     "text": [
      "Models [0, 2] got 0.9865506329113924 on validation.\n"
     ]
    },
    {
     "name": "stderr",
     "output_type": "stream",
     "text": [
      "100%|██████████| 79/79 [00:41<00:00,  1.89it/s]\n"
     ]
    },
    {
     "name": "stdout",
     "output_type": "stream",
     "text": [
      "Models [0, 2, 1] got 0.9866495253164557 on validation.\n"
     ]
    },
    {
     "name": "stderr",
     "output_type": "stream",
     "text": [
      "100%|██████████| 79/79 [00:41<00:00,  1.88it/s]\n"
     ]
    },
    {
     "name": "stdout",
     "output_type": "stream",
     "text": [
      "Models [0, 2, 1, 3] got 0.9866495253164557 on validation.\n"
     ]
    },
    {
     "name": "stderr",
     "output_type": "stream",
     "text": [
      "100%|██████████| 79/79 [00:45<00:00,  1.74it/s]\n"
     ]
    },
    {
     "name": "stdout",
     "output_type": "stream",
     "text": [
      "Models [0, 2, 1, 4] got 0.9873417721518988 on validation.\n"
     ]
    },
    {
     "name": "stderr",
     "output_type": "stream",
     "text": [
      "100%|██████████| 79/79 [00:46<00:00,  1.71it/s]\n"
     ]
    },
    {
     "name": "stdout",
     "output_type": "stream",
     "text": [
      "Models [0, 2, 1, 4, 5] got 0.9865506329113924 on validation.\n"
     ]
    },
    {
     "name": "stderr",
     "output_type": "stream",
     "text": [
      "100%|██████████| 79/79 [00:45<00:00,  1.72it/s]\n"
     ]
    },
    {
     "name": "stdout",
     "output_type": "stream",
     "text": [
      "Models [0, 2, 1, 4, 7] got 0.9862539556962026 on validation.\n"
     ]
    },
    {
     "name": "stderr",
     "output_type": "stream",
     "text": [
      "100%|██████████| 79/79 [00:46<00:00,  1.71it/s]\n"
     ]
    },
    {
     "name": "stdout",
     "output_type": "stream",
     "text": [
      "Models [0, 2, 1, 4, 6] got 0.9866495253164557 on validation.\n",
      "TEST INGREDIENTS [0, 2, 1, 4]\n"
     ]
    },
    {
     "name": "stderr",
     "output_type": "stream",
     "text": [
      "100%|██████████| 79/79 [00:45<00:00,  1.72it/s]\n"
     ]
    }
   ],
   "source": [
    "state_dicts, val_results, test_results = [], [], []\n",
    "loss = torch.nn.CrossEntropyLoss()\n",
    "train_loader, val_loader, test_loader = get_dataset('Cifar10', './dataset/cifar\"\"./dataset/cifar/cifar1098_idxs.npy', \"Minimal\", 'ImageNet', 224, 128, 16, 'Classification')\n",
    "\n",
    "WEIGHT_PATH = '/l/users/santosh.sanjeev/model_soups/runs/test/fge/Cifar10_4/DeiT-S/'\n",
    "for idx, folder in enumerate(sorted(os.listdir(WEIGHT_PATH))):\n",
    "    print(folder)\n",
    "    if folder.startswith('output'):\n",
    "        continue\n",
    "    folder_path = os.path.join(WEIGHT_PATH, folder)\n",
    "    for idx, model in enumerate(sorted(os.listdir(folder_path))):\n",
    "        if model.endswith('RESULTS.csv'):\n",
    "            continue\n",
    "        model_path = os.path.join(folder_path, model)\n",
    "        #read config in train_summary.json\n",
    "        print(model_path)\n",
    "\n",
    "        checkpoint = torch.load(model_path, map_location='cuda')\n",
    "        if '.pth' in model_path:\n",
    "            state_dicts.append(checkpoint['model'])\n",
    "            model = get_model('DeiT-S', num_classes=10)\n",
    "            model.load_state_dict(checkpoint['model'])\n",
    "            model = model.to('cuda')\n",
    "        else:        \n",
    "            state_dicts.append(checkpoint['model_state'])\n",
    "            model = get_model('DeiT-S', num_classes=10)\n",
    "            model.load_state_dict(checkpoint['model_state'])\n",
    "            model = model.to('cuda')\n",
    "        test_loss, test_acc, test_f1, test_recall, test_kappa, test_auc = val_step(model, test_loader, train_loader, loss, device = 'cuda', classification = 'MultiClass')\n",
    "        val_loss, val_acc, val_f1, val_recall, val_kappa, val_auc = val_step(model, val_loader, train_loader, loss, device = 'cuda', classification = 'MultiClass')\n",
    "\n",
    "        val_results.append({'Model Name': idx,\n",
    "                                        'Val Accuracy': val_acc,\n",
    "                                        'Val F1': val_f1,\n",
    "                                        'Val Recall': val_recall,\n",
    "                                        'Val Kappa': val_kappa,\n",
    "                                        'Val AUC': val_auc,})\n",
    "        test_results.append({'Model Name': idx,\n",
    "                                        'Test Accuracy': test_acc,\n",
    "                                        'Test F1': test_f1,\n",
    "                                        'Test Recall': test_recall,\n",
    "                                        'Test Kappa': test_kappa,\n",
    "                                        'Test AUC': test_auc,})\n",
    "        \n",
    "\n",
    "results_test_df = pd.DataFrame(test_results)\n",
    "results_val_df = pd.DataFrame(val_results)\n",
    "print(results_val_df)\n",
    "print(results_test_df)\n",
    "\n",
    "\n",
    "\n",
    "print(\"Uniform souping ...\")\n",
    "alphal = [1 / len(state_dicts) for i in range(len(state_dicts))]\n",
    "model = get_model('DeiT-S', num_classes=10)\n",
    "uniform_model = souping(model, state_dicts, alphal)\n",
    "uniform_model.to('cuda')\n",
    "\n",
    "uniform_test_loss, uniform_test_acc, uniform_test_f1, uniform_test_recall, uniform_test_kappa, uniform_test_auc = val_step(uniform_model, test_loader, train_loader, loss, 'cuda', 'MultiClass')\n",
    "\n",
    "#greedy\n",
    "\n",
    "print(\"Greedy souping ...\")\n",
    "model = get_model('DeiT-S', num_classes=10)\n",
    "\n",
    "val_results = list(results_val_df['Val Accuracy'])\n",
    "val_models = list(results_val_df[\"Model Name\"])\n",
    "greedy_model, best_ingredients = greedy_souping(state_dicts, val_results, 'DeiT-S', 10, val_loader,train_loader, loss, 'cuda' , 'MultiClass', 'Val Accuracy', val_models =val_models)\n",
    "greedy_model.to('cuda')\n",
    "print('VAL INGREDIENTS',best_ingredients)\n",
    "greedy_test_loss, greedy_test_acc, greedy_test_f1, greedy_test_recall, greedy_test_kappa, greedy_test_auc = val_step(greedy_model, test_loader, train_loader, loss, 'cuda', 'MultiClass')\n",
    "test_results = list(results_test_df['Test Accuracy'])\n",
    "test_models = list(results_test_df[\"Model Name\"])\n",
    "greedy_model_test, best_ingredients_test = greedy_souping(state_dicts, test_results, 'DeiT-S', 10, test_loader, train_loader, loss, 'cuda', 'MultiClass', 'Test Accuracy', test_models)\n",
    "print('TEST INGREDIENTS', best_ingredients_test)\n",
    "greedy_model_test.to('cuda')\n",
    "greedy_test_loss_test, greedy_test_acc_test, greedy_test_f1_test, greedy_test_recall_test, greedy_test_kappa_test, greedy_test_auc_test = val_step(greedy_model_test, test_loader, train_loader, loss, 'cuda', 'MultiClass')\n"
   ]
  },
  {
   "cell_type": "code",
   "execution_count": 20,
   "metadata": {},
   "outputs": [
    {
     "name": "stdout",
     "output_type": "stream",
     "text": [
      "0.9866495253164557 0.9861550632911392 0.9873417721518988\n"
     ]
    }
   ],
   "source": [
    "print(uniform_test_acc, greedy_test_acc, greedy_test_acc_test)"
   ]
  },
  {
   "cell_type": "code",
   "execution_count": 11,
   "metadata": {},
   "outputs": [],
   "source": [
    "\n",
    "# results_test_df = pd.DataFrame(test_results)\n",
    "# results_val_df = pd.DataFrame(val_results)\n",
    "\n",
    "\n"
   ]
  },
  {
   "cell_type": "code",
   "execution_count": null,
   "metadata": {},
   "outputs": [],
   "source": []
  },
  {
   "cell_type": "code",
   "execution_count": null,
   "metadata": {},
   "outputs": [],
   "source": []
  },
  {
   "cell_type": "code",
   "execution_count": null,
   "metadata": {},
   "outputs": [],
   "source": []
  },
  {
   "cell_type": "code",
   "execution_count": null,
   "metadata": {},
   "outputs": [],
   "source": []
  },
  {
   "cell_type": "code",
   "execution_count": null,
   "metadata": {},
   "outputs": [],
   "source": []
  },
  {
   "cell_type": "code",
   "execution_count": null,
   "metadata": {},
   "outputs": [],
   "source": []
  },
  {
   "cell_type": "code",
   "execution_count": null,
   "metadata": {},
   "outputs": [],
   "source": []
  },
  {
   "cell_type": "code",
   "execution_count": null,
   "metadata": {},
   "outputs": [],
   "source": []
  },
  {
   "cell_type": "code",
   "execution_count": null,
   "metadata": {},
   "outputs": [],
   "source": []
  },
  {
   "cell_type": "code",
   "execution_count": null,
   "metadata": {},
   "outputs": [],
   "source": []
  },
  {
   "cell_type": "code",
   "execution_count": 12,
   "metadata": {},
   "outputs": [
    {
     "data": {
      "text/html": [
       "<div>\n",
       "<style scoped>\n",
       "    .dataframe tbody tr th:only-of-type {\n",
       "        vertical-align: middle;\n",
       "    }\n",
       "\n",
       "    .dataframe tbody tr th {\n",
       "        vertical-align: top;\n",
       "    }\n",
       "\n",
       "    .dataframe thead th {\n",
       "        text-align: right;\n",
       "    }\n",
       "</style>\n",
       "<table border=\"1\" class=\"dataframe\">\n",
       "  <thead>\n",
       "    <tr style=\"text-align: right;\">\n",
       "      <th></th>\n",
       "      <th>Model Name</th>\n",
       "      <th>Val Accuracy</th>\n",
       "      <th>Val F1</th>\n",
       "      <th>Val Recall</th>\n",
       "      <th>Val Kappa</th>\n",
       "      <th>Val AUC</th>\n",
       "    </tr>\n",
       "  </thead>\n",
       "  <tbody>\n",
       "    <tr>\n",
       "      <th>0</th>\n",
       "      <td>0</td>\n",
       "      <td>0.989844</td>\n",
       "      <td>0.989593</td>\n",
       "      <td>0.9896</td>\n",
       "      <td>0.986788</td>\n",
       "      <td>0</td>\n",
       "    </tr>\n",
       "    <tr>\n",
       "      <th>1</th>\n",
       "      <td>1</td>\n",
       "      <td>0.988086</td>\n",
       "      <td>0.987784</td>\n",
       "      <td>0.9878</td>\n",
       "      <td>0.985160</td>\n",
       "      <td>0</td>\n",
       "    </tr>\n",
       "    <tr>\n",
       "      <th>2</th>\n",
       "      <td>2</td>\n",
       "      <td>0.985156</td>\n",
       "      <td>0.984767</td>\n",
       "      <td>0.9848</td>\n",
       "      <td>0.981920</td>\n",
       "      <td>0</td>\n",
       "    </tr>\n",
       "    <tr>\n",
       "      <th>3</th>\n",
       "      <td>3</td>\n",
       "      <td>0.981055</td>\n",
       "      <td>0.983561</td>\n",
       "      <td>0.9836</td>\n",
       "      <td>0.981626</td>\n",
       "      <td>0</td>\n",
       "    </tr>\n",
       "    <tr>\n",
       "      <th>4</th>\n",
       "      <td>4</td>\n",
       "      <td>0.983789</td>\n",
       "      <td>0.983351</td>\n",
       "      <td>0.9834</td>\n",
       "      <td>0.980323</td>\n",
       "      <td>0</td>\n",
       "    </tr>\n",
       "    <tr>\n",
       "      <th>5</th>\n",
       "      <td>5</td>\n",
       "      <td>0.980664</td>\n",
       "      <td>0.983167</td>\n",
       "      <td>0.9832</td>\n",
       "      <td>0.980289</td>\n",
       "      <td>0</td>\n",
       "    </tr>\n",
       "    <tr>\n",
       "      <th>6</th>\n",
       "      <td>6</td>\n",
       "      <td>0.979492</td>\n",
       "      <td>0.981977</td>\n",
       "      <td>0.9820</td>\n",
       "      <td>0.978611</td>\n",
       "      <td>0</td>\n",
       "    </tr>\n",
       "    <tr>\n",
       "      <th>7</th>\n",
       "      <td>7</td>\n",
       "      <td>0.983984</td>\n",
       "      <td>0.983580</td>\n",
       "      <td>0.9836</td>\n",
       "      <td>0.980604</td>\n",
       "      <td>0</td>\n",
       "    </tr>\n",
       "    <tr>\n",
       "      <th>8</th>\n",
       "      <td>8</td>\n",
       "      <td>0.981055</td>\n",
       "      <td>0.983580</td>\n",
       "      <td>0.9836</td>\n",
       "      <td>0.983637</td>\n",
       "      <td>0</td>\n",
       "    </tr>\n",
       "  </tbody>\n",
       "</table>\n",
       "</div>"
      ],
      "text/plain": [
       "   Model Name  Val Accuracy    Val F1  Val Recall  Val Kappa  Val AUC\n",
       "0           0      0.989844  0.989593      0.9896   0.986788        0\n",
       "1           1      0.988086  0.987784      0.9878   0.985160        0\n",
       "2           2      0.985156  0.984767      0.9848   0.981920        0\n",
       "3           3      0.981055  0.983561      0.9836   0.981626        0\n",
       "4           4      0.983789  0.983351      0.9834   0.980323        0\n",
       "5           5      0.980664  0.983167      0.9832   0.980289        0\n",
       "6           6      0.979492  0.981977      0.9820   0.978611        0\n",
       "7           7      0.983984  0.983580      0.9836   0.980604        0\n",
       "8           8      0.981055  0.983580      0.9836   0.983637        0"
      ]
     },
     "execution_count": 12,
     "metadata": {},
     "output_type": "execute_result"
    }
   ],
   "source": [
    "results_val_df"
   ]
  },
  {
   "cell_type": "code",
   "execution_count": 13,
   "metadata": {},
   "outputs": [
    {
     "data": {
      "text/html": [
       "<div>\n",
       "<style scoped>\n",
       "    .dataframe tbody tr th:only-of-type {\n",
       "        vertical-align: middle;\n",
       "    }\n",
       "\n",
       "    .dataframe tbody tr th {\n",
       "        vertical-align: top;\n",
       "    }\n",
       "\n",
       "    .dataframe thead th {\n",
       "        text-align: right;\n",
       "    }\n",
       "</style>\n",
       "<table border=\"1\" class=\"dataframe\">\n",
       "  <thead>\n",
       "    <tr style=\"text-align: right;\">\n",
       "      <th></th>\n",
       "      <th>Model Name</th>\n",
       "      <th>Test Accuracy</th>\n",
       "      <th>Test F1</th>\n",
       "      <th>Test Recall</th>\n",
       "      <th>Test Kappa</th>\n",
       "      <th>Test AUC</th>\n",
       "    </tr>\n",
       "  </thead>\n",
       "  <tbody>\n",
       "    <tr>\n",
       "      <th>0</th>\n",
       "      <td>0</td>\n",
       "      <td>0.987638</td>\n",
       "      <td>0.987491</td>\n",
       "      <td>0.9875</td>\n",
       "      <td>0.984240</td>\n",
       "      <td>0</td>\n",
       "    </tr>\n",
       "    <tr>\n",
       "      <th>1</th>\n",
       "      <td>1</td>\n",
       "      <td>0.985957</td>\n",
       "      <td>0.985791</td>\n",
       "      <td>0.9858</td>\n",
       "      <td>0.980962</td>\n",
       "      <td>0</td>\n",
       "    </tr>\n",
       "    <tr>\n",
       "      <th>2</th>\n",
       "      <td>2</td>\n",
       "      <td>0.983386</td>\n",
       "      <td>0.983187</td>\n",
       "      <td>0.9832</td>\n",
       "      <td>0.978572</td>\n",
       "      <td>0</td>\n",
       "    </tr>\n",
       "    <tr>\n",
       "      <th>3</th>\n",
       "      <td>3</td>\n",
       "      <td>0.982002</td>\n",
       "      <td>0.981785</td>\n",
       "      <td>0.9818</td>\n",
       "      <td>0.980448</td>\n",
       "      <td>0</td>\n",
       "    </tr>\n",
       "    <tr>\n",
       "      <th>4</th>\n",
       "      <td>4</td>\n",
       "      <td>0.983188</td>\n",
       "      <td>0.982980</td>\n",
       "      <td>0.9830</td>\n",
       "      <td>0.978452</td>\n",
       "      <td>0</td>\n",
       "    </tr>\n",
       "    <tr>\n",
       "      <th>5</th>\n",
       "      <td>5</td>\n",
       "      <td>0.982298</td>\n",
       "      <td>0.982087</td>\n",
       "      <td>0.9821</td>\n",
       "      <td>0.980993</td>\n",
       "      <td>0</td>\n",
       "    </tr>\n",
       "    <tr>\n",
       "      <th>6</th>\n",
       "      <td>6</td>\n",
       "      <td>0.982298</td>\n",
       "      <td>0.982075</td>\n",
       "      <td>0.9821</td>\n",
       "      <td>0.977957</td>\n",
       "      <td>0</td>\n",
       "    </tr>\n",
       "    <tr>\n",
       "      <th>7</th>\n",
       "      <td>7</td>\n",
       "      <td>0.982694</td>\n",
       "      <td>0.982496</td>\n",
       "      <td>0.9825</td>\n",
       "      <td>0.978417</td>\n",
       "      <td>0</td>\n",
       "    </tr>\n",
       "    <tr>\n",
       "      <th>8</th>\n",
       "      <td>8</td>\n",
       "      <td>0.980617</td>\n",
       "      <td>0.980403</td>\n",
       "      <td>0.9804</td>\n",
       "      <td>0.975170</td>\n",
       "      <td>0</td>\n",
       "    </tr>\n",
       "  </tbody>\n",
       "</table>\n",
       "</div>"
      ],
      "text/plain": [
       "   Model Name  Test Accuracy   Test F1  Test Recall  Test Kappa  Test AUC\n",
       "0           0       0.987638  0.987491       0.9875    0.984240         0\n",
       "1           1       0.985957  0.985791       0.9858    0.980962         0\n",
       "2           2       0.983386  0.983187       0.9832    0.978572         0\n",
       "3           3       0.982002  0.981785       0.9818    0.980448         0\n",
       "4           4       0.983188  0.982980       0.9830    0.978452         0\n",
       "5           5       0.982298  0.982087       0.9821    0.980993         0\n",
       "6           6       0.982298  0.982075       0.9821    0.977957         0\n",
       "7           7       0.982694  0.982496       0.9825    0.978417         0\n",
       "8           8       0.980617  0.980403       0.9804    0.975170         0"
      ]
     },
     "execution_count": 13,
     "metadata": {},
     "output_type": "execute_result"
    }
   ],
   "source": [
    "results_test_df"
   ]
  },
  {
   "cell_type": "code",
   "execution_count": 14,
   "metadata": {},
   "outputs": [
    {
     "name": "stdout",
     "output_type": "stream",
     "text": [
      "Uniform souping ...\n"
     ]
    },
    {
     "name": "stderr",
     "output_type": "stream",
     "text": [
      "100%|██████████| 79/79 [00:44<00:00,  1.79it/s]\n"
     ]
    },
    {
     "name": "stdout",
     "output_type": "stream",
     "text": [
      "Greedy souping ...\n",
      "[0, 1, 2, 7, 4, 3, 8, 5, 6]\n",
      "currentttttttt bestttttttt 0.98984375\n"
     ]
    },
    {
     "name": "stderr",
     "output_type": "stream",
     "text": [
      "100%|██████████| 40/40 [00:24<00:00,  1.62it/s]\n"
     ]
    },
    {
     "name": "stdout",
     "output_type": "stream",
     "text": [
      "Models [0, 1] got 0.9935546875 on validation.\n"
     ]
    },
    {
     "name": "stderr",
     "output_type": "stream",
     "text": [
      "100%|██████████| 40/40 [00:24<00:00,  1.61it/s]\n"
     ]
    },
    {
     "name": "stdout",
     "output_type": "stream",
     "text": [
      "Models [0, 1, 2] got 0.9919921875 on validation.\n"
     ]
    },
    {
     "name": "stderr",
     "output_type": "stream",
     "text": [
      "100%|██████████| 40/40 [00:23<00:00,  1.67it/s]\n"
     ]
    },
    {
     "name": "stdout",
     "output_type": "stream",
     "text": [
      "Models [0, 1, 7] got 0.9908203125 on validation.\n"
     ]
    },
    {
     "name": "stderr",
     "output_type": "stream",
     "text": [
      "100%|██████████| 40/40 [00:24<00:00,  1.66it/s]\n"
     ]
    },
    {
     "name": "stdout",
     "output_type": "stream",
     "text": [
      "Models [0, 1, 4] got 0.99140625 on validation.\n"
     ]
    },
    {
     "name": "stderr",
     "output_type": "stream",
     "text": [
      "100%|██████████| 40/40 [00:23<00:00,  1.71it/s]\n"
     ]
    },
    {
     "name": "stdout",
     "output_type": "stream",
     "text": [
      "Models [0, 1, 3] got 0.991796875 on validation.\n"
     ]
    },
    {
     "name": "stderr",
     "output_type": "stream",
     "text": [
      "100%|██████████| 40/40 [00:23<00:00,  1.67it/s]\n"
     ]
    },
    {
     "name": "stdout",
     "output_type": "stream",
     "text": [
      "Models [0, 1, 8] got 0.9923828125 on validation.\n"
     ]
    },
    {
     "name": "stderr",
     "output_type": "stream",
     "text": [
      "100%|██████████| 40/40 [00:24<00:00,  1.61it/s]\n"
     ]
    },
    {
     "name": "stdout",
     "output_type": "stream",
     "text": [
      "Models [0, 1, 5] got 0.9921875 on validation.\n"
     ]
    },
    {
     "name": "stderr",
     "output_type": "stream",
     "text": [
      "100%|██████████| 40/40 [00:25<00:00,  1.57it/s]\n"
     ]
    },
    {
     "name": "stdout",
     "output_type": "stream",
     "text": [
      "Models [0, 1, 6] got 0.991796875 on validation.\n",
      "VAL INGREDIENTS [0, 1]\n"
     ]
    },
    {
     "name": "stderr",
     "output_type": "stream",
     "text": [
      "100%|██████████| 79/79 [00:45<00:00,  1.73it/s]\n"
     ]
    },
    {
     "name": "stdout",
     "output_type": "stream",
     "text": [
      "[0, 1, 2, 4, 7, 5, 6, 3, 8]\n",
      "currentttttttt bestttttttt 0.9876384493670886\n"
     ]
    },
    {
     "name": "stderr",
     "output_type": "stream",
     "text": [
      "100%|██████████| 79/79 [00:45<00:00,  1.73it/s]\n"
     ]
    },
    {
     "name": "stdout",
     "output_type": "stream",
     "text": [
      "Models [0, 1] got 0.9886273734177216 on validation.\n"
     ]
    },
    {
     "name": "stderr",
     "output_type": "stream",
     "text": [
      "100%|██████████| 79/79 [00:45<00:00,  1.72it/s]\n"
     ]
    },
    {
     "name": "stdout",
     "output_type": "stream",
     "text": [
      "Models [0, 1, 2] got 0.9878362341772152 on validation.\n"
     ]
    },
    {
     "name": "stderr",
     "output_type": "stream",
     "text": [
      "100%|██████████| 79/79 [00:45<00:00,  1.73it/s]\n"
     ]
    },
    {
     "name": "stdout",
     "output_type": "stream",
     "text": [
      "Models [0, 1, 4] got 0.9889240506329114 on validation.\n"
     ]
    },
    {
     "name": "stderr",
     "output_type": "stream",
     "text": [
      "100%|██████████| 79/79 [00:45<00:00,  1.72it/s]\n"
     ]
    },
    {
     "name": "stdout",
     "output_type": "stream",
     "text": [
      "Models [0, 1, 4, 7] got 0.9887262658227848 on validation.\n"
     ]
    },
    {
     "name": "stderr",
     "output_type": "stream",
     "text": [
      "100%|██████████| 79/79 [00:46<00:00,  1.71it/s]\n"
     ]
    },
    {
     "name": "stdout",
     "output_type": "stream",
     "text": [
      "Models [0, 1, 4, 5] got 0.9887262658227848 on validation.\n"
     ]
    },
    {
     "name": "stderr",
     "output_type": "stream",
     "text": [
      "100%|██████████| 79/79 [00:45<00:00,  1.72it/s]\n"
     ]
    },
    {
     "name": "stdout",
     "output_type": "stream",
     "text": [
      "Models [0, 1, 4, 6] got 0.9885284810126582 on validation.\n"
     ]
    },
    {
     "name": "stderr",
     "output_type": "stream",
     "text": [
      "100%|██████████| 79/79 [00:46<00:00,  1.71it/s]\n"
     ]
    },
    {
     "name": "stdout",
     "output_type": "stream",
     "text": [
      "Models [0, 1, 4, 3] got 0.9879351265822784 on validation.\n"
     ]
    },
    {
     "name": "stderr",
     "output_type": "stream",
     "text": [
      "100%|██████████| 79/79 [00:46<00:00,  1.71it/s]\n"
     ]
    },
    {
     "name": "stdout",
     "output_type": "stream",
     "text": [
      "Models [0, 1, 4, 8] got 0.9885284810126582 on validation.\n",
      "TEST INGREDIENTS [0, 1, 4]\n"
     ]
    },
    {
     "name": "stderr",
     "output_type": "stream",
     "text": [
      "100%|██████████| 79/79 [00:44<00:00,  1.79it/s]\n"
     ]
    }
   ],
   "source": [
    "print(\"Uniform souping ...\")\n",
    "alphal = [1 / len(state_dicts) for i in range(len(state_dicts))]\n",
    "model = get_model('DeiT-S', num_classes=10)\n",
    "uniform_model = souping(model, state_dicts, alphal)\n",
    "uniform_model.to('cuda')\n",
    "\n",
    "uniform_test_loss, uniform_test_acc, uniform_test_f1, uniform_test_recall, uniform_test_kappa, uniform_test_auc = val_step(uniform_model, test_loader, train_loader, loss, 'cuda', 'MultiClass')\n",
    "\n",
    "#greedy\n",
    "\n",
    "print(\"Greedy souping ...\")\n",
    "model = get_model('DeiT-S', num_classes=10)\n",
    "\n",
    "val_results = list(results_val_df['Val Accuracy'])\n",
    "val_models = list(results_val_df[\"Model Name\"])\n",
    "greedy_model, best_ingredients = greedy_souping(state_dicts, val_results, 'DeiT-S', 10, val_loader,train_loader, loss, 'cuda' , 'MultiClass', 'Val Accuracy', val_models =val_models)\n",
    "greedy_model.to('cuda')\n",
    "print('VAL INGREDIENTS',best_ingredients)\n",
    "greedy_test_loss, greedy_test_acc, greedy_test_f1, greedy_test_recall, greedy_test_kappa, greedy_test_auc = val_step(greedy_model, test_loader, train_loader, loss, 'cuda', 'MultiClass')\n",
    "test_results = list(results_test_df['Test Accuracy'])\n",
    "test_models = list(results_test_df[\"Model Name\"])\n",
    "greedy_model_test, best_ingredients_test = greedy_souping(state_dicts, test_results, 'DeiT-S', 10, test_loader, train_loader, loss, 'cuda', 'MultiClass', 'Test Accuracy', test_models)\n",
    "print('TEST INGREDIENTS', best_ingredients_test)\n",
    "greedy_model_test.to('cuda')\n",
    "greedy_test_loss_test, greedy_test_acc_test, greedy_test_f1_test, greedy_test_recall_test, greedy_test_kappa_test, greedy_test_auc_test = val_step(greedy_model_test, test_loader, train_loader, loss, 'cuda', 'MultiClass')\n"
   ]
  },
  {
   "cell_type": "code",
   "execution_count": 15,
   "metadata": {},
   "outputs": [
    {
     "data": {
      "text/plain": [
       "0.9884295886075949"
      ]
     },
     "execution_count": 15,
     "metadata": {},
     "output_type": "execute_result"
    }
   ],
   "source": [
    "uniform_test_acc"
   ]
  },
  {
   "cell_type": "code",
   "execution_count": 16,
   "metadata": {},
   "outputs": [
    {
     "data": {
      "text/plain": [
       "0.9886273734177216"
      ]
     },
     "execution_count": 16,
     "metadata": {},
     "output_type": "execute_result"
    }
   ],
   "source": [
    "greedy_test_acc"
   ]
  },
  {
   "cell_type": "code",
   "execution_count": 17,
   "metadata": {},
   "outputs": [
    {
     "data": {
      "text/plain": [
       "0.9889240506329114"
      ]
     },
     "execution_count": 17,
     "metadata": {},
     "output_type": "execute_result"
    }
   ],
   "source": [
    "greedy_test_acc_test"
   ]
  },
  {
   "cell_type": "code",
   "execution_count": null,
   "metadata": {},
   "outputs": [],
   "source": []
  }
 ],
 "metadata": {
  "kernelspec": {
   "display_name": "nunoodles",
   "language": "python",
   "name": "python3"
  },
  "language_info": {
   "codemirror_mode": {
    "name": "ipython",
    "version": 3
   },
   "file_extension": ".py",
   "mimetype": "text/x-python",
   "name": "python",
   "nbconvert_exporter": "python",
   "pygments_lexer": "ipython3",
   "version": "3.8.18"
  },
  "orig_nbformat": 4
 },
 "nbformat": 4,
 "nbformat_minor": 2
}
