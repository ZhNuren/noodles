{
 "cells": [
  {
   "cell_type": "code",
   "execution_count": 1,
   "metadata": {},
   "outputs": [],
   "source": [
    "from engine import val_step\n",
    "from utils.utils import souping, greedy_souping\n",
    "from models import get_model\n",
    "\n",
    "import torch\n",
    "from torch.utils.data import DataLoader\n",
    "from torchvision import transforms\n",
    "import torchvision\n",
    "\n",
    "from dataset import RSNADataset, HAM10000Dataset, AptosDataset\n",
    "from torchvision.transforms.v2 import AutoAugmentPolicy, functional as F, InterpolationMode, Transform\n",
    "from torchvision.transforms import v2\n",
    "torchvision.disable_beta_transforms_warning()\n",
    "from timm.data.transforms import RandomResizedCropAndInterpolation\n",
    "import matplotlib.pyplot as plt\n",
    "import numpy as np\n",
    "import random\n",
    "import pandas as pd\n",
    "import argparse\n",
    "\n",
    "from utils.utils import EarlyStopper, get_dataset\n",
    "from torch.utils.data.dataset import Subset\n",
    "\n",
    "import yaml\n",
    "import json\n",
    "import time\n",
    "import os\n",
    "import wandb\n",
    "from utils.utils import load_model\n",
    "import sys\n"
   ]
  },
  {
   "cell_type": "code",
   "execution_count": 2,
   "metadata": {},
   "outputs": [
    {
     "name": "stdout",
     "output_type": "stream",
     "text": [
      "['./dataset/ISIC/ISIC2018_Task3_Training_Input/', './dataset/ISIC/ISIC2018_Task3_Validation_Input/', './dataset/ISIC/ISIC2018_Task3_Test_Input/', './dataset/ISIC/ISIC2018_Task3_Training_GroundTruth/ISIC2018_Task3_Training_GroundTruth.csv', './dataset/ISIC/ISIC2018_Task3_Validation_GroundTruth/ISIC2018_Task3_Validation_GroundTruth.csv', './dataset/ISIC/ISIC2018_Task3_Test_GroundTruth/ISIC2018_Task3_Test_GroundTruth.csv']\n",
      "HAM 10015 193 1512\n"
     ]
    }
   ],
   "source": [
    "\n",
    "DATASET = 'HAM'\n",
    "MODEL = 'DeiT-S'\n",
    "NUM_CLASSES = 7\n",
    "PATH = './dataset/ISIC/ISIC2018_Task3_Training_Input/\"\"./dataset/ISIC/ISIC2018_Task3_Validation_Input/\"\"./dataset/ISIC/ISIC2018_Task3_Test_Input/\"\"./dataset/ISIC/ISIC2018_Task3_Training_GroundTruth/ISIC2018_Task3_Training_GroundTruth.csv\"\"./dataset/ISIC/ISIC2018_Task3_Validation_GroundTruth/ISIC2018_Task3_Validation_GroundTruth.csv\"\"./dataset/ISIC/ISIC2018_Task3_Test_GroundTruth/ISIC2018_Task3_Test_GroundTruth.csv'#./dataset/224_data/DR/aptos/\"\"./dataset/224_data/DR/aptos/aptos_dataset_splits.csv'#'/dataset/ISIC/ISIC2018_Task3_Training_Input/\"\"./dataset/ISIC/ISIC2018_Task3_Validation_Input/\"\"./dataset/ISIC/ISIC2018_Task3_Test_Input/\"\"./dataset/ISIC/ISIC2018_Task3_Training_GroundTruth/ISIC2018_Task3_Training_GroundTruth.csv\"\"./dataset/ISIC/ISIC2018_Task3_Validation_GroundTruth/ISIC2018_Task3_Validation_GroundTruth.csv\"\"./dataset/ISIC/ISIC2018_Task3_Test_GroundTruth/ISIC2018_Task3_Test_GroundTruth.csv'\n",
    "test_sort_by = 'Test Recall'\n",
    "val_sort_by = 'Val Recall'\n",
    "#if there is no folder named after dataset inside test directory create it\n",
    "# if not os.path.exists(os.path.join(\"test\", \"fge\", DATASET, MODEL)):\n",
    "#     os.makedirs(os.path.join(\"test\", \"fge\", DATASET, MODEL))\n",
    "\n",
    "# test_save_path = os.path.join(\"test\", \"fge\", DATASET, MODEL)\n",
    "\n",
    "# # # Open a text file for logging\n",
    "# log_file_path = os.path.join(\"test\", \"fge\", DATASET, MODEL, \"output_log.txt\")\n",
    "# log_file = open(log_file_path, \"w\")\n",
    "\n",
    "# # Redirect the standard output to the log file\n",
    "# sys.stdout = log_file\n",
    "\n",
    "\n",
    "\n",
    "state_dicts, val_results, test_results, val_dfs, test_dfs = [], [], [], [], []\n",
    "loss = torch.nn.CrossEntropyLoss()\n",
    "train_loader, val_loader, test_loader = get_dataset(DATASET, PATH, \"Minimal\", 'ImageNet', 224, 128, 16, 'Classification')\n",
    "WEIGHT_PATH = f'/l/users/santosh.sanjeev/model_soups/runs/test/fge/{DATASET}/{MODEL}/'\n",
    "for idx, folder in enumerate(sorted(os.listdir(WEIGHT_PATH))):\n",
    "    if folder.startswith('output'):\n",
    "        continue\n",
    "\n",
    "    val_csv = os.path.join(WEIGHT_PATH, folder, 'VAL_RESULTS.csv')\n",
    "    val_df = pd.read_csv(val_csv)\n",
    "    for index, row in val_df.iterrows():\n",
    "        for idx, wt in enumerate(sorted(os.listdir(os.path.join(WEIGHT_PATH, folder)))):\n",
    "            if str(int(row['Model Name']))==0:\n",
    "                if '--1' in wt or '-0' in wt:\n",
    "                    model_path = os.path.join(WEIGHT_PATH, folder,wt)\n",
    "            else:\n",
    "                if str('-')+ str(int(row['Model Name'])) + str('.pt') in wt:\n",
    "                    model_path = os.path.join(WEIGHT_PATH, folder,wt)\n",
    "        val_df.at[index, 'LR'] = folder\n",
    "        val_df.at[index, 'model_path'] = model_path\n",
    "\n",
    "    \n",
    "    # print(val_df)\n",
    "\n",
    "\n",
    "    val_dfs.append(val_df)\n",
    "\n",
    "# Concatenate all DataFrames into one\n",
    "final_val_df = pd.concat(val_dfs)\n",
    "\n",
    "final_val_df = final_val_df.sort_values(by=val_sort_by, ascending=False)\n",
    "final_val_df.index = range(1, len(final_val_df) + 1)\n",
    "\n",
    "\n",
    "\n",
    "\n",
    "for idx, folder in enumerate(sorted(os.listdir(WEIGHT_PATH))):\n",
    "    if folder.startswith('output'):\n",
    "        continue\n",
    "\n",
    "    test_csv = os.path.join(WEIGHT_PATH, folder, 'TEST_RESULTS.csv')\n",
    "    test_df = pd.read_csv(test_csv)\n",
    "    for index, row in test_df.iterrows():\n",
    "        for idx, wt in enumerate(sorted(os.listdir(os.path.join(WEIGHT_PATH, folder)))):\n",
    "            if str(int(row['Model Name']))==0:\n",
    "                if '--1' in wt or '-0' in wt:\n",
    "                    model_path = os.path.join(WEIGHT_PATH, folder,wt)\n",
    "            else:\n",
    "                if str('-')+ str(int(row['Model Name'])) + str('.pt') in wt:\n",
    "                    model_path = os.path.join(WEIGHT_PATH, folder,wt)\n",
    "        test_df.at[index, 'LR'] = folder\n",
    "        test_df.at[index, 'model_path'] = model_path\n",
    "    test_dfs.append(test_df)\n",
    "\n",
    "final_test_df = pd.concat(test_dfs)\n",
    "final_test_df = final_test_df.sort_values(by=test_sort_by, ascending=False)\n",
    "final_test_df.index = range(1, len(final_test_df) + 1)\n",
    "\n",
    "\n",
    "\n",
    "# print(final_df)\n",
    "\n",
    "#     for idx, model in enumerate(sorted(os.listdir(folder_path))):\n",
    "#         if model.endswith('RESULTS.csv'):\n",
    "#             continue\n",
    "#         model_path = os.path.join(folder_path, model)\n",
    "#         #read config in train_summary.json\n",
    "#         print(model_path)\n",
    "\n",
    "#         checkpoint = torch.load(model_path, map_location='cuda')\n",
    "#         if '.pth' in model_path:\n",
    "#             state_dicts.append(checkpoint['model'])\n",
    "#             model = get_model('DeiT-S', num_classes=NUM_CLASSES)\n",
    "#             model.load_state_dict(checkpoint['model'])\n",
    "#             model = model.to('cuda')\n",
    "#         else:        \n",
    "#             state_dicts.append(checkpoint['model_state'])\n",
    "#             model = get_model('DeiT-S', num_classes=NUM_CLASSES)\n",
    "#             model.load_state_dict(checkpoint['model_state'])\n",
    "#             model = model.to('cuda')\n",
    "#         test_loss, test_acc, test_f1, test_recall, test_kappa, test_auc = val_step(model, test_loader, train_loader, loss, device = 'cuda', classification = 'MultiClass')\n",
    "#         val_loss, val_acc, val_f1, val_recall, val_kappa, val_auc = val_step(model, val_loader, train_loader, loss, device = 'cuda', classification = 'MultiClass')\n",
    "\n",
    "#         val_results.append({'Model Name': idx,\n",
    "#                                         'Val Accuracy': val_acc,\n",
    "#                                         'Val F1': val_f1,\n",
    "#                                         'Val Recall': val_recall,\n",
    "#                                         'Val Kappa': val_kappa,\n",
    "#                                         'Val AUC': val_auc,})\n",
    "#         test_results.append({'Model Name': idx,\n",
    "#                                         'Test Accuracy': test_acc,\n",
    "#                                         'Test F1': test_f1,\n",
    "#                                         'Test Recall': test_recall,\n",
    "#                                         'Test Kappa': test_kappa,\n",
    "#                                         'Test AUC': test_auc,})\n",
    "        \n",
    "\n",
    "# results_test_df = pd.DataFrame(test_results)\n",
    "# results_val_df = pd.DataFrame(val_results)\n",
    "# print(results_val_df)\n",
    "# print(results_test_df)\n",
    "\n",
    "# # val_copy = results_val_df.copy()\n",
    "# # sorted_val = val_copy.sort_values(by= 'Val Accuacy',ascending=False)\n",
    "# # sorted_val.to_csv(os.path.join(WEIGHT_PATH, \"VAL_RESULTS.csv\"), index=False)\n",
    "\n",
    "# # test_copy = results_test_df.copy()\n",
    "# # sorted_test = test_copy.sort_values(by= 'Test Accuracy',ascending=False)\n",
    "# # sorted_test.to_csv(os.path.join(WEIGHT_PATH, \"TEST_RESULTS.csv\"), index=False)\n",
    "\n",
    "\n",
    "# print(\"Uniform souping ...\")\n",
    "# alphal = [1 / len(state_dicts) for i in range(len(state_dicts))]\n",
    "# model = get_model('DeiT-S', num_classes=NUM_CLASSES)\n",
    "# uniform_model = souping(model, state_dicts, alphal)\n",
    "# uniform_model.to('cuda')\n",
    "\n",
    "# uniform_test_loss, uniform_test_acc, uniform_test_f1, uniform_test_recall, uniform_test_kappa, uniform_test_auc = val_step(uniform_model, test_loader, train_loader, loss, 'cuda', 'MultiClass')\n",
    "# print(uniform_test_loss, uniform_test_acc, uniform_test_f1, uniform_test_recall, uniform_test_kappa, uniform_test_auc )\n",
    "# #greedy\n",
    "\n",
    "# print(\"Greedy souping ...\")\n",
    "# model = get_model('DeiT-S', num_classes=NUM_CLASSES)\n",
    "\n",
    "# val_results = list(results_val_df['Val Accuracy'])\n",
    "# val_models = list(results_val_df[\"Model Name\"])\n",
    "# greedy_model, best_ingredients = greedy_souping(state_dicts, val_results, 'DeiT-S', NUM_CLASSES, val_loader,train_loader, loss, 'cuda' , 'MultiClass', 'Val Accuracy', val_models =val_models)\n",
    "# greedy_model.to('cuda')\n",
    "# print('VAL INGREDIENTS',best_ingredients)\n",
    "# greedy_test_loss, greedy_test_acc, greedy_test_f1, greedy_test_recall, greedy_test_kappa, greedy_test_auc = val_step(greedy_model, test_loader, train_loader, loss, 'cuda', 'MultiClass')\n",
    "# print(greedy_test_loss, greedy_test_acc, greedy_test_f1, greedy_test_recall, greedy_test_kappa, greedy_test_auc)\n",
    "\n",
    "\n",
    "# test_results = list(results_test_df['Test Accuracy'])\n",
    "# test_models = list(results_test_df[\"Model Name\"])\n",
    "# greedy_model_test, best_ingredients_test = greedy_souping(state_dicts, test_results, 'DeiT-S', NUM_CLASSES, test_loader, train_loader, loss, 'cuda', 'MultiClass', 'Test Accuracy', test_models)\n",
    "# print('TEST INGREDIENTS', best_ingredients_test)\n",
    "# greedy_model_test.to('cuda')\n",
    "# greedy_test_loss_test, greedy_test_acc_test, greedy_test_f1_test, greedy_test_recall_test, greedy_test_kappa_test, greedy_test_auc_test = val_step(greedy_model_test, test_loader, train_loader, loss, 'cuda', 'MultiClass')\n",
    "# print(greedy_test_loss_test, greedy_test_acc_test, greedy_test_f1_test, greedy_test_recall_test, greedy_test_kappa_test, greedy_test_auc_test)\n",
    "\n",
    "# log_file.close()"
   ]
  },
  {
   "cell_type": "code",
   "execution_count": 3,
   "metadata": {},
   "outputs": [
    {
     "data": {
      "text/html": [
       "<div>\n",
       "<style scoped>\n",
       "    .dataframe tbody tr th:only-of-type {\n",
       "        vertical-align: middle;\n",
       "    }\n",
       "\n",
       "    .dataframe tbody tr th {\n",
       "        vertical-align: top;\n",
       "    }\n",
       "\n",
       "    .dataframe thead th {\n",
       "        text-align: right;\n",
       "    }\n",
       "</style>\n",
       "<table border=\"1\" class=\"dataframe\">\n",
       "  <thead>\n",
       "    <tr style=\"text-align: right;\">\n",
       "      <th></th>\n",
       "      <th>Model Name</th>\n",
       "      <th>Val Accuracy</th>\n",
       "      <th>Val F1</th>\n",
       "      <th>Val Recall</th>\n",
       "      <th>Val Kappa</th>\n",
       "      <th>Val AUC</th>\n",
       "      <th>LR</th>\n",
       "      <th>model_path</th>\n",
       "    </tr>\n",
       "  </thead>\n",
       "  <tbody>\n",
       "    <tr>\n",
       "      <th>1</th>\n",
       "      <td>9</td>\n",
       "      <td>0.907091</td>\n",
       "      <td>0.883781</td>\n",
       "      <td>0.888967</td>\n",
       "      <td>0.844720</td>\n",
       "      <td>0</td>\n",
       "      <td>1.00e-05</td>\n",
       "      <td>/l/users/santosh.sanjeev/model_soups/runs/test...</td>\n",
       "    </tr>\n",
       "    <tr>\n",
       "      <th>2</th>\n",
       "      <td>10</td>\n",
       "      <td>0.907091</td>\n",
       "      <td>0.885218</td>\n",
       "      <td>0.888967</td>\n",
       "      <td>0.824267</td>\n",
       "      <td>0</td>\n",
       "      <td>1.00e-05</td>\n",
       "      <td>/l/users/santosh.sanjeev/model_soups/runs/test...</td>\n",
       "    </tr>\n",
       "    <tr>\n",
       "      <th>3</th>\n",
       "      <td>0</td>\n",
       "      <td>0.918690</td>\n",
       "      <td>0.886923</td>\n",
       "      <td>0.887950</td>\n",
       "      <td>0.842459</td>\n",
       "      <td>0</td>\n",
       "      <td>5.00e-06</td>\n",
       "      <td>/l/users/santosh.sanjeev/model_soups/runs/test...</td>\n",
       "    </tr>\n",
       "    <tr>\n",
       "      <th>4</th>\n",
       "      <td>23</td>\n",
       "      <td>0.887800</td>\n",
       "      <td>0.870491</td>\n",
       "      <td>0.887866</td>\n",
       "      <td>0.819985</td>\n",
       "      <td>0</td>\n",
       "      <td>1.00e-05</td>\n",
       "      <td>/l/users/santosh.sanjeev/model_soups/runs/test...</td>\n",
       "    </tr>\n",
       "    <tr>\n",
       "      <th>5</th>\n",
       "      <td>7</td>\n",
       "      <td>0.895613</td>\n",
       "      <td>0.827970</td>\n",
       "      <td>0.887386</td>\n",
       "      <td>0.869774</td>\n",
       "      <td>0</td>\n",
       "      <td>1.00e-05</td>\n",
       "      <td>/l/users/santosh.sanjeev/model_soups/runs/test...</td>\n",
       "    </tr>\n",
       "    <tr>\n",
       "      <th>...</th>\n",
       "      <td>...</td>\n",
       "      <td>...</td>\n",
       "      <td>...</td>\n",
       "      <td>...</td>\n",
       "      <td>...</td>\n",
       "      <td>...</td>\n",
       "      <td>...</td>\n",
       "      <td>...</td>\n",
       "    </tr>\n",
       "    <tr>\n",
       "      <th>204</th>\n",
       "      <td>16</td>\n",
       "      <td>0.786839</td>\n",
       "      <td>0.492828</td>\n",
       "      <td>0.470455</td>\n",
       "      <td>0.546104</td>\n",
       "      <td>0</td>\n",
       "      <td>1.00e-03</td>\n",
       "      <td>/l/users/santosh.sanjeev/model_soups/runs/test...</td>\n",
       "    </tr>\n",
       "    <tr>\n",
       "      <th>205</th>\n",
       "      <td>17</td>\n",
       "      <td>0.786839</td>\n",
       "      <td>0.492828</td>\n",
       "      <td>0.470455</td>\n",
       "      <td>0.546104</td>\n",
       "      <td>0</td>\n",
       "      <td>1.00e-03</td>\n",
       "      <td>/l/users/santosh.sanjeev/model_soups/runs/test...</td>\n",
       "    </tr>\n",
       "    <tr>\n",
       "      <th>206</th>\n",
       "      <td>19</td>\n",
       "      <td>0.782933</td>\n",
       "      <td>0.485387</td>\n",
       "      <td>0.463652</td>\n",
       "      <td>0.543012</td>\n",
       "      <td>0</td>\n",
       "      <td>1.00e-03</td>\n",
       "      <td>/l/users/santosh.sanjeev/model_soups/runs/test...</td>\n",
       "    </tr>\n",
       "    <tr>\n",
       "      <th>207</th>\n",
       "      <td>21</td>\n",
       "      <td>0.782933</td>\n",
       "      <td>0.485387</td>\n",
       "      <td>0.463652</td>\n",
       "      <td>0.543012</td>\n",
       "      <td>0</td>\n",
       "      <td>1.00e-03</td>\n",
       "      <td>/l/users/santosh.sanjeev/model_soups/runs/test...</td>\n",
       "    </tr>\n",
       "    <tr>\n",
       "      <th>208</th>\n",
       "      <td>22</td>\n",
       "      <td>0.782933</td>\n",
       "      <td>0.485387</td>\n",
       "      <td>0.463652</td>\n",
       "      <td>0.543012</td>\n",
       "      <td>0</td>\n",
       "      <td>1.00e-03</td>\n",
       "      <td>/l/users/santosh.sanjeev/model_soups/runs/test...</td>\n",
       "    </tr>\n",
       "  </tbody>\n",
       "</table>\n",
       "<p>208 rows × 8 columns</p>\n",
       "</div>"
      ],
      "text/plain": [
       "     Model Name  Val Accuracy    Val F1  Val Recall  Val Kappa  Val AUC  \\\n",
       "1             9      0.907091  0.883781    0.888967   0.844720        0   \n",
       "2            10      0.907091  0.885218    0.888967   0.824267        0   \n",
       "3             0      0.918690  0.886923    0.887950   0.842459        0   \n",
       "4            23      0.887800  0.870491    0.887866   0.819985        0   \n",
       "5             7      0.895613  0.827970    0.887386   0.869774        0   \n",
       "..          ...           ...       ...         ...        ...      ...   \n",
       "204          16      0.786839  0.492828    0.470455   0.546104        0   \n",
       "205          17      0.786839  0.492828    0.470455   0.546104        0   \n",
       "206          19      0.782933  0.485387    0.463652   0.543012        0   \n",
       "207          21      0.782933  0.485387    0.463652   0.543012        0   \n",
       "208          22      0.782933  0.485387    0.463652   0.543012        0   \n",
       "\n",
       "           LR                                         model_path  \n",
       "1    1.00e-05  /l/users/santosh.sanjeev/model_soups/runs/test...  \n",
       "2    1.00e-05  /l/users/santosh.sanjeev/model_soups/runs/test...  \n",
       "3    5.00e-06  /l/users/santosh.sanjeev/model_soups/runs/test...  \n",
       "4    1.00e-05  /l/users/santosh.sanjeev/model_soups/runs/test...  \n",
       "5    1.00e-05  /l/users/santosh.sanjeev/model_soups/runs/test...  \n",
       "..        ...                                                ...  \n",
       "204  1.00e-03  /l/users/santosh.sanjeev/model_soups/runs/test...  \n",
       "205  1.00e-03  /l/users/santosh.sanjeev/model_soups/runs/test...  \n",
       "206  1.00e-03  /l/users/santosh.sanjeev/model_soups/runs/test...  \n",
       "207  1.00e-03  /l/users/santosh.sanjeev/model_soups/runs/test...  \n",
       "208  1.00e-03  /l/users/santosh.sanjeev/model_soups/runs/test...  \n",
       "\n",
       "[208 rows x 8 columns]"
      ]
     },
     "execution_count": 3,
     "metadata": {},
     "output_type": "execute_result"
    }
   ],
   "source": [
    "final_val_df"
   ]
  },
  {
   "cell_type": "code",
   "execution_count": 4,
   "metadata": {},
   "outputs": [
    {
     "data": {
      "text/html": [
       "<div>\n",
       "<style scoped>\n",
       "    .dataframe tbody tr th:only-of-type {\n",
       "        vertical-align: middle;\n",
       "    }\n",
       "\n",
       "    .dataframe tbody tr th {\n",
       "        vertical-align: top;\n",
       "    }\n",
       "\n",
       "    .dataframe thead th {\n",
       "        text-align: right;\n",
       "    }\n",
       "</style>\n",
       "<table border=\"1\" class=\"dataframe\">\n",
       "  <thead>\n",
       "    <tr style=\"text-align: right;\">\n",
       "      <th></th>\n",
       "      <th>Model Name</th>\n",
       "      <th>Test Accuracy</th>\n",
       "      <th>Test F1</th>\n",
       "      <th>Test Recall</th>\n",
       "      <th>Test Kappa</th>\n",
       "      <th>Test AUC</th>\n",
       "      <th>LR</th>\n",
       "      <th>model_path</th>\n",
       "    </tr>\n",
       "  </thead>\n",
       "  <tbody>\n",
       "    <tr>\n",
       "      <th>1</th>\n",
       "      <td>19</td>\n",
       "      <td>0.827875</td>\n",
       "      <td>0.736417</td>\n",
       "      <td>0.715204</td>\n",
       "      <td>0.716608</td>\n",
       "      <td>0</td>\n",
       "      <td>1.00e-04</td>\n",
       "      <td>/l/users/santosh.sanjeev/model_soups/runs/test...</td>\n",
       "    </tr>\n",
       "    <tr>\n",
       "      <th>2</th>\n",
       "      <td>5</td>\n",
       "      <td>0.837490</td>\n",
       "      <td>0.744668</td>\n",
       "      <td>0.711026</td>\n",
       "      <td>0.738124</td>\n",
       "      <td>0</td>\n",
       "      <td>1.00e-04</td>\n",
       "      <td>/l/users/santosh.sanjeev/model_soups/runs/test...</td>\n",
       "    </tr>\n",
       "    <tr>\n",
       "      <th>3</th>\n",
       "      <td>18</td>\n",
       "      <td>0.826072</td>\n",
       "      <td>0.731892</td>\n",
       "      <td>0.700188</td>\n",
       "      <td>0.694966</td>\n",
       "      <td>0</td>\n",
       "      <td>1.00e-04</td>\n",
       "      <td>/l/users/santosh.sanjeev/model_soups/runs/test...</td>\n",
       "    </tr>\n",
       "    <tr>\n",
       "      <th>4</th>\n",
       "      <td>10</td>\n",
       "      <td>0.833383</td>\n",
       "      <td>0.735850</td>\n",
       "      <td>0.698873</td>\n",
       "      <td>0.716832</td>\n",
       "      <td>0</td>\n",
       "      <td>1.00e-04</td>\n",
       "      <td>/l/users/santosh.sanjeev/model_soups/runs/test...</td>\n",
       "    </tr>\n",
       "    <tr>\n",
       "      <th>5</th>\n",
       "      <td>3</td>\n",
       "      <td>0.835337</td>\n",
       "      <td>0.732460</td>\n",
       "      <td>0.698516</td>\n",
       "      <td>0.744517</td>\n",
       "      <td>0</td>\n",
       "      <td>1.00e-04</td>\n",
       "      <td>/l/users/santosh.sanjeev/model_soups/runs/test...</td>\n",
       "    </tr>\n",
       "    <tr>\n",
       "      <th>...</th>\n",
       "      <td>...</td>\n",
       "      <td>...</td>\n",
       "      <td>...</td>\n",
       "      <td>...</td>\n",
       "      <td>...</td>\n",
       "      <td>...</td>\n",
       "      <td>...</td>\n",
       "      <td>...</td>\n",
       "    </tr>\n",
       "    <tr>\n",
       "      <th>204</th>\n",
       "      <td>4</td>\n",
       "      <td>0.735276</td>\n",
       "      <td>0.530724</td>\n",
       "      <td>0.484839</td>\n",
       "      <td>0.507709</td>\n",
       "      <td>0</td>\n",
       "      <td>1.00e-03</td>\n",
       "      <td>/l/users/santosh.sanjeev/model_soups/runs/test...</td>\n",
       "    </tr>\n",
       "    <tr>\n",
       "      <th>205</th>\n",
       "      <td>3</td>\n",
       "      <td>0.734776</td>\n",
       "      <td>0.532861</td>\n",
       "      <td>0.483220</td>\n",
       "      <td>0.508487</td>\n",
       "      <td>0</td>\n",
       "      <td>1.00e-03</td>\n",
       "      <td>/l/users/santosh.sanjeev/model_soups/runs/test...</td>\n",
       "    </tr>\n",
       "    <tr>\n",
       "      <th>206</th>\n",
       "      <td>2</td>\n",
       "      <td>0.728265</td>\n",
       "      <td>0.506913</td>\n",
       "      <td>0.451475</td>\n",
       "      <td>0.457255</td>\n",
       "      <td>0</td>\n",
       "      <td>1.00e-03</td>\n",
       "      <td>/l/users/santosh.sanjeev/model_soups/runs/test...</td>\n",
       "    </tr>\n",
       "    <tr>\n",
       "      <th>207</th>\n",
       "      <td>1</td>\n",
       "      <td>0.722556</td>\n",
       "      <td>0.479739</td>\n",
       "      <td>0.426235</td>\n",
       "      <td>0.444034</td>\n",
       "      <td>0</td>\n",
       "      <td>1.00e-03</td>\n",
       "      <td>/l/users/santosh.sanjeev/model_soups/runs/test...</td>\n",
       "    </tr>\n",
       "    <tr>\n",
       "      <th>208</th>\n",
       "      <td>0</td>\n",
       "      <td>0.722556</td>\n",
       "      <td>0.476586</td>\n",
       "      <td>0.423692</td>\n",
       "      <td>0.434764</td>\n",
       "      <td>0</td>\n",
       "      <td>1.00e-03</td>\n",
       "      <td>/l/users/santosh.sanjeev/model_soups/runs/test...</td>\n",
       "    </tr>\n",
       "  </tbody>\n",
       "</table>\n",
       "<p>208 rows × 8 columns</p>\n",
       "</div>"
      ],
      "text/plain": [
       "     Model Name  Test Accuracy   Test F1  Test Recall  Test Kappa  Test AUC  \\\n",
       "1            19       0.827875  0.736417     0.715204    0.716608         0   \n",
       "2             5       0.837490  0.744668     0.711026    0.738124         0   \n",
       "3            18       0.826072  0.731892     0.700188    0.694966         0   \n",
       "4            10       0.833383  0.735850     0.698873    0.716832         0   \n",
       "5             3       0.835337  0.732460     0.698516    0.744517         0   \n",
       "..          ...            ...       ...          ...         ...       ...   \n",
       "204           4       0.735276  0.530724     0.484839    0.507709         0   \n",
       "205           3       0.734776  0.532861     0.483220    0.508487         0   \n",
       "206           2       0.728265  0.506913     0.451475    0.457255         0   \n",
       "207           1       0.722556  0.479739     0.426235    0.444034         0   \n",
       "208           0       0.722556  0.476586     0.423692    0.434764         0   \n",
       "\n",
       "           LR                                         model_path  \n",
       "1    1.00e-04  /l/users/santosh.sanjeev/model_soups/runs/test...  \n",
       "2    1.00e-04  /l/users/santosh.sanjeev/model_soups/runs/test...  \n",
       "3    1.00e-04  /l/users/santosh.sanjeev/model_soups/runs/test...  \n",
       "4    1.00e-04  /l/users/santosh.sanjeev/model_soups/runs/test...  \n",
       "5    1.00e-04  /l/users/santosh.sanjeev/model_soups/runs/test...  \n",
       "..        ...                                                ...  \n",
       "204  1.00e-03  /l/users/santosh.sanjeev/model_soups/runs/test...  \n",
       "205  1.00e-03  /l/users/santosh.sanjeev/model_soups/runs/test...  \n",
       "206  1.00e-03  /l/users/santosh.sanjeev/model_soups/runs/test...  \n",
       "207  1.00e-03  /l/users/santosh.sanjeev/model_soups/runs/test...  \n",
       "208  1.00e-03  /l/users/santosh.sanjeev/model_soups/runs/test...  \n",
       "\n",
       "[208 rows x 8 columns]"
      ]
     },
     "execution_count": 4,
     "metadata": {},
     "output_type": "execute_result"
    }
   ],
   "source": [
    "final_test_df"
   ]
  },
  {
   "cell_type": "code",
   "execution_count": 5,
   "metadata": {},
   "outputs": [],
   "source": [
    "final_val_df.to_csv(os.path.join(WEIGHT_PATH, 'FINAL_VAL_RESULTS.csv'))\n",
    "final_test_df.to_csv(os.path.join(WEIGHT_PATH, 'FINAL_TEST_RESULTS.csv'))"
   ]
  },
  {
   "cell_type": "code",
   "execution_count": 6,
   "metadata": {},
   "outputs": [
    {
     "name": "stdout",
     "output_type": "stream",
     "text": [
      "Uniform souping ...\n",
      "/l/users/santosh.sanjeev/model_soups/runs/test/fge/HAM/ResNet50/1.00e-04/fge-25.pt\n",
      "2 [1, 2] 2 [0.5, 0.5]\n",
      "/l/users/santosh.sanjeev/model_soups/runs/test/fge/HAM/ResNet50/1.00e-04/fge-16.pt\n",
      "3 [1, 2, 3] 3 [0.6666666666666666, 0.33333333333333337]\n",
      "/l/users/santosh.sanjeev/model_soups/runs/test/fge/HAM/ResNet50/5.00e-04/fge-7.pt\n",
      "4 [1, 2, 3, 4] 4 [0.75, 0.25]\n",
      "/l/users/santosh.sanjeev/model_soups/runs/test/fge/HAM/ResNet50/1.00e-04/fge-14.pt\n",
      "5 [1, 2, 3, 4, 5] 5 [0.8, 0.19999999999999996]\n",
      "/l/users/santosh.sanjeev/model_soups/runs/test/fge/HAM/ResNet50/5.00e-04/fge-6.pt\n",
      "6 [1, 2, 3, 4, 5, 6] 6 [0.8333333333333334, 0.16666666666666663]\n",
      "/l/users/santosh.sanjeev/model_soups/runs/test/fge/HAM/ResNet50/1.00e-04/fge-17.pt\n",
      "7 [1, 2, 3, 4, 5, 6, 7] 7 [0.8571428571428571, 0.1428571428571429]\n",
      "/l/users/santosh.sanjeev/model_soups/runs/test/fge/HAM/ResNet50/1.00e-04/fge-15.pt\n",
      "8 [1, 2, 3, 4, 5, 6, 7, 8] 8 [0.875, 0.125]\n",
      "/l/users/santosh.sanjeev/model_soups/runs/test/fge/HAM/ResNet50/1.00e-04/fge-10.pt\n",
      "9 [1, 2, 3, 4, 5, 6, 7, 8, 9] 9 [0.8888888888888888, 0.11111111111111116]\n",
      "/l/users/santosh.sanjeev/model_soups/runs/test/fge/HAM/ResNet50/5.00e-04/fge-8.pt\n",
      "10 [1, 2, 3, 4, 5, 6, 7, 8, 9, 10] 10 [0.9, 0.09999999999999998]\n",
      "/l/users/santosh.sanjeev/model_soups/runs/test/fge/HAM/ResNet50/1.00e-04/fge-13.pt\n",
      "11 [1, 2, 3, 4, 5, 6, 7, 8, 9, 10, 11] 11 [0.9090909090909091, 0.09090909090909094]\n",
      "/l/users/santosh.sanjeev/model_soups/runs/test/fge/HAM/ResNet50/5.00e-04/fge-4.pt\n",
      "12 [1, 2, 3, 4, 5, 6, 7, 8, 9, 10, 11, 12] 12 [0.9166666666666666, 0.08333333333333337]\n",
      "/l/users/santosh.sanjeev/model_soups/runs/test/fge/HAM/ResNet50/1.00e-04/fge-7.pt\n",
      "13 [1, 2, 3, 4, 5, 6, 7, 8, 9, 10, 11, 12, 13] 13 [0.9230769230769231, 0.07692307692307687]\n",
      "/l/users/santosh.sanjeev/model_soups/runs/test/fge/HAM/ResNet50/5.00e-04/fge-3.pt\n",
      "14 [1, 2, 3, 4, 5, 6, 7, 8, 9, 10, 11, 12, 13, 14] 14 [0.9285714285714286, 0.0714285714285714]\n",
      "/l/users/santosh.sanjeev/model_soups/runs/test/fge/HAM/ResNet50/1.00e-04/fge-9.pt\n",
      "15 [1, 2, 3, 4, 5, 6, 7, 8, 9, 10, 11, 12, 13, 14, 15] 15 [0.9333333333333333, 0.06666666666666665]\n",
      "/l/users/santosh.sanjeev/model_soups/runs/test/fge/HAM/ResNet50/1.00e-04/fge-19.pt\n",
      "16 [1, 2, 3, 4, 5, 6, 7, 8, 9, 10, 11, 12, 13, 14, 15, 16] 16 [0.9375, 0.0625]\n",
      "/l/users/santosh.sanjeev/model_soups/runs/test/fge/HAM/ResNet50/5.00e-04/fge-2.pt\n",
      "17 [1, 2, 3, 4, 5, 6, 7, 8, 9, 10, 11, 12, 13, 14, 15, 16, 17] 17 [0.9411764705882353, 0.05882352941176472]\n",
      "/l/users/santosh.sanjeev/model_soups/runs/test/fge/HAM/ResNet50/1.00e-04/fge-5.pt\n",
      "18 [1, 2, 3, 4, 5, 6, 7, 8, 9, 10, 11, 12, 13, 14, 15, 16, 17, 18] 18 [0.9444444444444444, 0.05555555555555558]\n",
      "/l/users/santosh.sanjeev/model_soups/runs/test/fge/HAM/ResNet50/1.00e-04/fge-20.pt\n",
      "19 [1, 2, 3, 4, 5, 6, 7, 8, 9, 10, 11, 12, 13, 14, 15, 16, 17, 18, 19] 19 [0.9473684210526315, 0.052631578947368474]\n",
      "/l/users/santosh.sanjeev/model_soups/runs/test/fge/HAM/ResNet50/1.00e-05/fge-10.pt\n",
      "20 [1, 2, 3, 4, 5, 6, 7, 8, 9, 10, 11, 12, 13, 14, 15, 16, 17, 18, 19, 20] 20 [0.95, 0.050000000000000044]\n",
      "/l/users/santosh.sanjeev/model_soups/runs/test/fge/HAM/ResNet50/1.00e-05/fge-16.pt\n",
      "21 [1, 2, 3, 4, 5, 6, 7, 8, 9, 10, 11, 12, 13, 14, 15, 16, 17, 18, 19, 20, 21] 21 [0.9523809523809523, 0.04761904761904767]\n",
      "/l/users/santosh.sanjeev/model_soups/runs/test/fge/HAM/ResNet50/1.00e-04/fge-18.pt\n",
      "22 [1, 2, 3, 4, 5, 6, 7, 8, 9, 10, 11, 12, 13, 14, 15, 16, 17, 18, 19, 20, 21, 22] 22 [0.9545454545454546, 0.045454545454545414]\n",
      "/l/users/santosh.sanjeev/model_soups/runs/test/fge/HAM/ResNet50/1.00e-04/fge-22.pt\n",
      "23 [1, 2, 3, 4, 5, 6, 7, 8, 9, 10, 11, 12, 13, 14, 15, 16, 17, 18, 19, 20, 21, 22, 23] 23 [0.9565217391304348, 0.04347826086956519]\n",
      "/l/users/santosh.sanjeev/model_soups/runs/test/fge/HAM/ResNet50/5.00e-04/fge-5.pt\n",
      "24 [1, 2, 3, 4, 5, 6, 7, 8, 9, 10, 11, 12, 13, 14, 15, 16, 17, 18, 19, 20, 21, 22, 23, 24] 24 [0.9583333333333334, 0.04166666666666663]\n",
      "/l/users/santosh.sanjeev/model_soups/runs/test/fge/HAM/ResNet50/1.00e-05/fge-24.pt\n",
      "25 [1, 2, 3, 4, 5, 6, 7, 8, 9, 10, 11, 12, 13, 14, 15, 16, 17, 18, 19, 20, 21, 22, 23, 24, 25] 25 [0.96, 0.040000000000000036]\n",
      "/l/users/santosh.sanjeev/model_soups/runs/test/fge/HAM/ResNet50/5.00e-04/fge-1.pt\n",
      "26 [1, 2, 3, 4, 5, 6, 7, 8, 9, 10, 11, 12, 13, 14, 15, 16, 17, 18, 19, 20, 21, 22, 23, 24, 25, 26] 26 [0.9615384615384616, 0.038461538461538436]\n",
      "/l/users/santosh.sanjeev/model_soups/runs/test/fge/HAM/ResNet50/1.00e-04/fge-23.pt\n",
      "27 [1, 2, 3, 4, 5, 6, 7, 8, 9, 10, 11, 12, 13, 14, 15, 16, 17, 18, 19, 20, 21, 22, 23, 24, 25, 26, 27] 27 [0.9629629629629629, 0.03703703703703709]\n",
      "/l/users/santosh.sanjeev/model_soups/runs/test/fge/HAM/ResNet50/1.00e-06/fge-24.pt\n",
      "28 [1, 2, 3, 4, 5, 6, 7, 8, 9, 10, 11, 12, 13, 14, 15, 16, 17, 18, 19, 20, 21, 22, 23, 24, 25, 26, 27, 28] 28 [0.9642857142857143, 0.0357142857142857]\n",
      "/l/users/santosh.sanjeev/model_soups/runs/test/fge/HAM/ResNet50/1.00e-04/fge-21.pt\n",
      "29 [1, 2, 3, 4, 5, 6, 7, 8, 9, 10, 11, 12, 13, 14, 15, 16, 17, 18, 19, 20, 21, 22, 23, 24, 25, 26, 27, 28, 29] 29 [0.9655172413793104, 0.03448275862068961]\n",
      "/l/users/santosh.sanjeev/model_soups/runs/test/fge/HAM/ResNet50/1.00e-05/fge-22.pt\n",
      "30 [1, 2, 3, 4, 5, 6, 7, 8, 9, 10, 11, 12, 13, 14, 15, 16, 17, 18, 19, 20, 21, 22, 23, 24, 25, 26, 27, 28, 29, 30] 30 [0.9666666666666667, 0.033333333333333326]\n",
      "/l/users/santosh.sanjeev/model_soups/runs/test/fge/HAM/ResNet50/1.00e-05/fge-21.pt\n",
      "31 [1, 2, 3, 4, 5, 6, 7, 8, 9, 10, 11, 12, 13, 14, 15, 16, 17, 18, 19, 20, 21, 22, 23, 24, 25, 26, 27, 28, 29, 30, 31] 31 [0.967741935483871, 0.032258064516129004]\n",
      "/l/users/santosh.sanjeev/model_soups/runs/test/fge/HAM/ResNet50/1.00e-05/fge-20.pt\n",
      "32 [1, 2, 3, 4, 5, 6, 7, 8, 9, 10, 11, 12, 13, 14, 15, 16, 17, 18, 19, 20, 21, 22, 23, 24, 25, 26, 27, 28, 29, 30, 31, 32] 32 [0.96875, 0.03125]\n",
      "/l/users/santosh.sanjeev/model_soups/runs/test/fge/HAM/ResNet50/1.00e-05/fge-19.pt\n",
      "33 [1, 2, 3, 4, 5, 6, 7, 8, 9, 10, 11, 12, 13, 14, 15, 16, 17, 18, 19, 20, 21, 22, 23, 24, 25, 26, 27, 28, 29, 30, 31, 32, 33] 33 [0.9696969696969697, 0.030303030303030276]\n",
      "/l/users/santosh.sanjeev/model_soups/runs/test/fge/HAM/ResNet50/5.00e-06/fge-0.pt\n",
      "34 [1, 2, 3, 4, 5, 6, 7, 8, 9, 10, 11, 12, 13, 14, 15, 16, 17, 18, 19, 20, 21, 22, 23, 24, 25, 26, 27, 28, 29, 30, 31, 32, 33, 34] 34 [0.9705882352941176, 0.02941176470588236]\n",
      "/l/users/santosh.sanjeev/model_soups/runs/test/fge/HAM/ResNet50/1.00e-03/fge-25.pt\n",
      "35 [1, 2, 3, 4, 5, 6, 7, 8, 9, 10, 11, 12, 13, 14, 15, 16, 17, 18, 19, 20, 21, 22, 23, 24, 25, 26, 27, 28, 29, 30, 31, 32, 33, 34, 35] 35 [0.9714285714285714, 0.02857142857142858]\n",
      "/l/users/santosh.sanjeev/model_soups/runs/test/fge/HAM/ResNet50/1.00e-04/fge-4.pt\n",
      "36 [1, 2, 3, 4, 5, 6, 7, 8, 9, 10, 11, 12, 13, 14, 15, 16, 17, 18, 19, 20, 21, 22, 23, 24, 25, 26, 27, 28, 29, 30, 31, 32, 33, 34, 35, 36] 36 [0.9722222222222222, 0.02777777777777779]\n",
      "/l/users/santosh.sanjeev/model_soups/runs/test/fge/HAM/ResNet50/1.00e-05/fge-6.pt\n",
      "37 [1, 2, 3, 4, 5, 6, 7, 8, 9, 10, 11, 12, 13, 14, 15, 16, 17, 18, 19, 20, 21, 22, 23, 24, 25, 26, 27, 28, 29, 30, 31, 32, 33, 34, 35, 36, 37] 37 [0.972972972972973, 0.027027027027026973]\n",
      "/l/users/santosh.sanjeev/model_soups/runs/test/fge/HAM/ResNet50/5.00e-05/fge-1.pt\n",
      "38 [1, 2, 3, 4, 5, 6, 7, 8, 9, 10, 11, 12, 13, 14, 15, 16, 17, 18, 19, 20, 21, 22, 23, 24, 25, 26, 27, 28, 29, 30, 31, 32, 33, 34, 35, 36, 37, 38] 38 [0.9736842105263158, 0.02631578947368418]\n",
      "/l/users/santosh.sanjeev/model_soups/runs/test/fge/HAM/ResNet50/1.00e-04/fge-3.pt\n",
      "39 [1, 2, 3, 4, 5, 6, 7, 8, 9, 10, 11, 12, 13, 14, 15, 16, 17, 18, 19, 20, 21, 22, 23, 24, 25, 26, 27, 28, 29, 30, 31, 32, 33, 34, 35, 36, 37, 38, 39] 39 [0.9743589743589743, 0.02564102564102566]\n",
      "/l/users/santosh.sanjeev/model_soups/runs/test/fge/HAM/ResNet50/1.00e-05/fge-18.pt\n",
      "40 [1, 2, 3, 4, 5, 6, 7, 8, 9, 10, 11, 12, 13, 14, 15, 16, 17, 18, 19, 20, 21, 22, 23, 24, 25, 26, 27, 28, 29, 30, 31, 32, 33, 34, 35, 36, 37, 38, 39, 40] 40 [0.975, 0.025000000000000022]\n",
      "/l/users/santosh.sanjeev/model_soups/runs/test/fge/HAM/ResNet50/1.00e-04/fge-8.pt\n",
      "41 [1, 2, 3, 4, 5, 6, 7, 8, 9, 10, 11, 12, 13, 14, 15, 16, 17, 18, 19, 20, 21, 22, 23, 24, 25, 26, 27, 28, 29, 30, 31, 32, 33, 34, 35, 36, 37, 38, 39, 40, 41] 41 [0.975609756097561, 0.024390243902439046]\n",
      "/l/users/santosh.sanjeev/model_soups/runs/test/fge/HAM/ResNet50/5.00e-06/fge-15.pt\n",
      "42 [1, 2, 3, 4, 5, 6, 7, 8, 9, 10, 11, 12, 13, 14, 15, 16, 17, 18, 19, 20, 21, 22, 23, 24, 25, 26, 27, 28, 29, 30, 31, 32, 33, 34, 35, 36, 37, 38, 39, 40, 41, 42] 42 [0.9761904761904762, 0.023809523809523836]\n",
      "/l/users/santosh.sanjeev/model_soups/runs/test/fge/HAM/ResNet50/5.00e-06/fge-4.pt\n",
      "43 [1, 2, 3, 4, 5, 6, 7, 8, 9, 10, 11, 12, 13, 14, 15, 16, 17, 18, 19, 20, 21, 22, 23, 24, 25, 26, 27, 28, 29, 30, 31, 32, 33, 34, 35, 36, 37, 38, 39, 40, 41, 42, 43] 43 [0.9767441860465116, 0.023255813953488413]\n",
      "/l/users/santosh.sanjeev/model_soups/runs/test/fge/HAM/ResNet50/5.00e-06/fge-21.pt\n",
      "44 [1, 2, 3, 4, 5, 6, 7, 8, 9, 10, 11, 12, 13, 14, 15, 16, 17, 18, 19, 20, 21, 22, 23, 24, 25, 26, 27, 28, 29, 30, 31, 32, 33, 34, 35, 36, 37, 38, 39, 40, 41, 42, 43, 44] 44 [0.9772727272727273, 0.022727272727272707]\n",
      "/l/users/santosh.sanjeev/model_soups/runs/test/fge/HAM/ResNet50/5.00e-06/fge-17.pt\n",
      "45 [1, 2, 3, 4, 5, 6, 7, 8, 9, 10, 11, 12, 13, 14, 15, 16, 17, 18, 19, 20, 21, 22, 23, 24, 25, 26, 27, 28, 29, 30, 31, 32, 33, 34, 35, 36, 37, 38, 39, 40, 41, 42, 43, 44, 45] 45 [0.9777777777777777, 0.022222222222222254]\n",
      "/l/users/santosh.sanjeev/model_soups/runs/test/fge/HAM/ResNet50/1.00e-05/fge-8.pt\n",
      "46 [1, 2, 3, 4, 5, 6, 7, 8, 9, 10, 11, 12, 13, 14, 15, 16, 17, 18, 19, 20, 21, 22, 23, 24, 25, 26, 27, 28, 29, 30, 31, 32, 33, 34, 35, 36, 37, 38, 39, 40, 41, 42, 43, 44, 45, 46] 46 [0.9782608695652174, 0.021739130434782594]\n",
      "/l/users/santosh.sanjeev/model_soups/runs/test/fge/HAM/ResNet50/5.00e-05/fge-9.pt\n",
      "47 [1, 2, 3, 4, 5, 6, 7, 8, 9, 10, 11, 12, 13, 14, 15, 16, 17, 18, 19, 20, 21, 22, 23, 24, 25, 26, 27, 28, 29, 30, 31, 32, 33, 34, 35, 36, 37, 38, 39, 40, 41, 42, 43, 44, 45, 46, 47] 47 [0.9787234042553191, 0.021276595744680882]\n",
      "/l/users/santosh.sanjeev/model_soups/runs/test/fge/HAM/ResNet50/5.00e-06/fge-22.pt\n",
      "48 [1, 2, 3, 4, 5, 6, 7, 8, 9, 10, 11, 12, 13, 14, 15, 16, 17, 18, 19, 20, 21, 22, 23, 24, 25, 26, 27, 28, 29, 30, 31, 32, 33, 34, 35, 36, 37, 38, 39, 40, 41, 42, 43, 44, 45, 46, 47, 48] 48 [0.9791666666666666, 0.02083333333333337]\n",
      "/l/users/santosh.sanjeev/model_soups/runs/test/fge/HAM/ResNet50/5.00e-06/fge-16.pt\n",
      "49 [1, 2, 3, 4, 5, 6, 7, 8, 9, 10, 11, 12, 13, 14, 15, 16, 17, 18, 19, 20, 21, 22, 23, 24, 25, 26, 27, 28, 29, 30, 31, 32, 33, 34, 35, 36, 37, 38, 39, 40, 41, 42, 43, 44, 45, 46, 47, 48, 49] 49 [0.9795918367346939, 0.020408163265306145]\n",
      "/l/users/santosh.sanjeev/model_soups/runs/test/fge/HAM/ResNet50/5.00e-06/fge-3.pt\n",
      "50 [1, 2, 3, 4, 5, 6, 7, 8, 9, 10, 11, 12, 13, 14, 15, 16, 17, 18, 19, 20, 21, 22, 23, 24, 25, 26, 27, 28, 29, 30, 31, 32, 33, 34, 35, 36, 37, 38, 39, 40, 41, 42, 43, 44, 45, 46, 47, 48, 49, 50] 50 [0.98, 0.020000000000000018]\n",
      "/l/users/santosh.sanjeev/model_soups/runs/test/fge/HAM/ResNet50/1.00e-06/fge-22.pt\n",
      "51 [1, 2, 3, 4, 5, 6, 7, 8, 9, 10, 11, 12, 13, 14, 15, 16, 17, 18, 19, 20, 21, 22, 23, 24, 25, 26, 27, 28, 29, 30, 31, 32, 33, 34, 35, 36, 37, 38, 39, 40, 41, 42, 43, 44, 45, 46, 47, 48, 49, 50, 51] 51 [0.9803921568627451, 0.019607843137254943]\n",
      "/l/users/santosh.sanjeev/model_soups/runs/test/fge/HAM/ResNet50/1.00e-04/fge-6.pt\n",
      "52 [1, 2, 3, 4, 5, 6, 7, 8, 9, 10, 11, 12, 13, 14, 15, 16, 17, 18, 19, 20, 21, 22, 23, 24, 25, 26, 27, 28, 29, 30, 31, 32, 33, 34, 35, 36, 37, 38, 39, 40, 41, 42, 43, 44, 45, 46, 47, 48, 49, 50, 51, 52] 52 [0.9807692307692307, 0.019230769230769273]\n",
      "/l/users/santosh.sanjeev/model_soups/runs/test/fge/HAM/ResNet50/1.00e-03/fge-18.pt\n",
      "53 [1, 2, 3, 4, 5, 6, 7, 8, 9, 10, 11, 12, 13, 14, 15, 16, 17, 18, 19, 20, 21, 22, 23, 24, 25, 26, 27, 28, 29, 30, 31, 32, 33, 34, 35, 36, 37, 38, 39, 40, 41, 42, 43, 44, 45, 46, 47, 48, 49, 50, 51, 52, 53] 53 [0.9811320754716981, 0.018867924528301883]\n",
      "/l/users/santosh.sanjeev/model_soups/runs/test/fge/HAM/ResNet50/1.00e-03/fge-19.pt\n",
      "54 [1, 2, 3, 4, 5, 6, 7, 8, 9, 10, 11, 12, 13, 14, 15, 16, 17, 18, 19, 20, 21, 22, 23, 24, 25, 26, 27, 28, 29, 30, 31, 32, 33, 34, 35, 36, 37, 38, 39, 40, 41, 42, 43, 44, 45, 46, 47, 48, 49, 50, 51, 52, 53, 54] 54 [0.9814814814814815, 0.01851851851851849]\n",
      "/l/users/santosh.sanjeev/model_soups/runs/test/fge/HAM/ResNet50/1.00e-03/fge-22.pt\n",
      "55 [1, 2, 3, 4, 5, 6, 7, 8, 9, 10, 11, 12, 13, 14, 15, 16, 17, 18, 19, 20, 21, 22, 23, 24, 25, 26, 27, 28, 29, 30, 31, 32, 33, 34, 35, 36, 37, 38, 39, 40, 41, 42, 43, 44, 45, 46, 47, 48, 49, 50, 51, 52, 53, 54, 55] 55 [0.9818181818181818, 0.018181818181818188]\n",
      "/l/users/santosh.sanjeev/model_soups/runs/test/fge/HAM/ResNet50/1.00e-03/fge-24.pt\n",
      "56 [1, 2, 3, 4, 5, 6, 7, 8, 9, 10, 11, 12, 13, 14, 15, 16, 17, 18, 19, 20, 21, 22, 23, 24, 25, 26, 27, 28, 29, 30, 31, 32, 33, 34, 35, 36, 37, 38, 39, 40, 41, 42, 43, 44, 45, 46, 47, 48, 49, 50, 51, 52, 53, 54, 55, 56] 56 [0.9821428571428571, 0.017857142857142905]\n",
      "/l/users/santosh.sanjeev/model_soups/runs/test/fge/HAM/ResNet50/5.00e-06/fge-24.pt\n",
      "57 [1, 2, 3, 4, 5, 6, 7, 8, 9, 10, 11, 12, 13, 14, 15, 16, 17, 18, 19, 20, 21, 22, 23, 24, 25, 26, 27, 28, 29, 30, 31, 32, 33, 34, 35, 36, 37, 38, 39, 40, 41, 42, 43, 44, 45, 46, 47, 48, 49, 50, 51, 52, 53, 54, 55, 56, 57] 57 [0.9824561403508771, 0.01754385964912286]\n",
      "/l/users/santosh.sanjeev/model_soups/runs/test/fge/HAM/ResNet50/5.00e-06/fge-25.pt\n",
      "58 [1, 2, 3, 4, 5, 6, 7, 8, 9, 10, 11, 12, 13, 14, 15, 16, 17, 18, 19, 20, 21, 22, 23, 24, 25, 26, 27, 28, 29, 30, 31, 32, 33, 34, 35, 36, 37, 38, 39, 40, 41, 42, 43, 44, 45, 46, 47, 48, 49, 50, 51, 52, 53, 54, 55, 56, 57, 58] 58 [0.9827586206896551, 0.017241379310344862]\n",
      "/l/users/santosh.sanjeev/model_soups/runs/test/fge/HAM/ResNet50/5.00e-05/fge-6.pt\n",
      "59 [1, 2, 3, 4, 5, 6, 7, 8, 9, 10, 11, 12, 13, 14, 15, 16, 17, 18, 19, 20, 21, 22, 23, 24, 25, 26, 27, 28, 29, 30, 31, 32, 33, 34, 35, 36, 37, 38, 39, 40, 41, 42, 43, 44, 45, 46, 47, 48, 49, 50, 51, 52, 53, 54, 55, 56, 57, 58, 59] 59 [0.9830508474576272, 0.016949152542372836]\n",
      "/l/users/santosh.sanjeev/model_soups/runs/test/fge/HAM/ResNet50/1.00e-06/fge-23.pt\n",
      "60 [1, 2, 3, 4, 5, 6, 7, 8, 9, 10, 11, 12, 13, 14, 15, 16, 17, 18, 19, 20, 21, 22, 23, 24, 25, 26, 27, 28, 29, 30, 31, 32, 33, 34, 35, 36, 37, 38, 39, 40, 41, 42, 43, 44, 45, 46, 47, 48, 49, 50, 51, 52, 53, 54, 55, 56, 57, 58, 59, 60] 60 [0.9833333333333333, 0.01666666666666672]\n",
      "/l/users/santosh.sanjeev/model_soups/runs/test/fge/HAM/ResNet50/1.00e-03/fge-20.pt\n",
      "61 [1, 2, 3, 4, 5, 6, 7, 8, 9, 10, 11, 12, 13, 14, 15, 16, 17, 18, 19, 20, 21, 22, 23, 24, 25, 26, 27, 28, 29, 30, 31, 32, 33, 34, 35, 36, 37, 38, 39, 40, 41, 42, 43, 44, 45, 46, 47, 48, 49, 50, 51, 52, 53, 54, 55, 56, 57, 58, 59, 60, 61] 61 [0.9836065573770492, 0.016393442622950838]\n",
      "/l/users/santosh.sanjeev/model_soups/runs/test/fge/HAM/ResNet50/1.00e-07/fge-16.pt\n",
      "62 [1, 2, 3, 4, 5, 6, 7, 8, 9, 10, 11, 12, 13, 14, 15, 16, 17, 18, 19, 20, 21, 22, 23, 24, 25, 26, 27, 28, 29, 30, 31, 32, 33, 34, 35, 36, 37, 38, 39, 40, 41, 42, 43, 44, 45, 46, 47, 48, 49, 50, 51, 52, 53, 54, 55, 56, 57, 58, 59, 60, 61, 62] 62 [0.9838709677419355, 0.016129032258064502]\n",
      "/l/users/santosh.sanjeev/model_soups/runs/test/fge/HAM/ResNet50/5.00e-05/fge-5.pt\n",
      "63 [1, 2, 3, 4, 5, 6, 7, 8, 9, 10, 11, 12, 13, 14, 15, 16, 17, 18, 19, 20, 21, 22, 23, 24, 25, 26, 27, 28, 29, 30, 31, 32, 33, 34, 35, 36, 37, 38, 39, 40, 41, 42, 43, 44, 45, 46, 47, 48, 49, 50, 51, 52, 53, 54, 55, 56, 57, 58, 59, 60, 61, 62, 63] 63 [0.9841269841269841, 0.015873015873015928]\n",
      "/l/users/santosh.sanjeev/model_soups/runs/test/fge/HAM/ResNet50/1.00e-05/fge-9.pt\n",
      "64 [1, 2, 3, 4, 5, 6, 7, 8, 9, 10, 11, 12, 13, 14, 15, 16, 17, 18, 19, 20, 21, 22, 23, 24, 25, 26, 27, 28, 29, 30, 31, 32, 33, 34, 35, 36, 37, 38, 39, 40, 41, 42, 43, 44, 45, 46, 47, 48, 49, 50, 51, 52, 53, 54, 55, 56, 57, 58, 59, 60, 61, 62, 63, 64] 64 [0.984375, 0.015625]\n",
      "/l/users/santosh.sanjeev/model_soups/runs/test/fge/HAM/ResNet50/1.00e-03/fge-23.pt\n",
      "65 [1, 2, 3, 4, 5, 6, 7, 8, 9, 10, 11, 12, 13, 14, 15, 16, 17, 18, 19, 20, 21, 22, 23, 24, 25, 26, 27, 28, 29, 30, 31, 32, 33, 34, 35, 36, 37, 38, 39, 40, 41, 42, 43, 44, 45, 46, 47, 48, 49, 50, 51, 52, 53, 54, 55, 56, 57, 58, 59, 60, 61, 62, 63, 64, 65] 65 [0.9846153846153847, 0.01538461538461533]\n",
      "/l/users/santosh.sanjeev/model_soups/runs/test/fge/HAM/ResNet50/1.00e-05/fge-7.pt\n",
      "66 [1, 2, 3, 4, 5, 6, 7, 8, 9, 10, 11, 12, 13, 14, 15, 16, 17, 18, 19, 20, 21, 22, 23, 24, 25, 26, 27, 28, 29, 30, 31, 32, 33, 34, 35, 36, 37, 38, 39, 40, 41, 42, 43, 44, 45, 46, 47, 48, 49, 50, 51, 52, 53, 54, 55, 56, 57, 58, 59, 60, 61, 62, 63, 64, 65, 66] 66 [0.9848484848484849, 0.015151515151515138]\n",
      "/l/users/santosh.sanjeev/model_soups/runs/test/fge/HAM/ResNet50/1.00e-06/fge-14.pt\n",
      "67 [1, 2, 3, 4, 5, 6, 7, 8, 9, 10, 11, 12, 13, 14, 15, 16, 17, 18, 19, 20, 21, 22, 23, 24, 25, 26, 27, 28, 29, 30, 31, 32, 33, 34, 35, 36, 37, 38, 39, 40, 41, 42, 43, 44, 45, 46, 47, 48, 49, 50, 51, 52, 53, 54, 55, 56, 57, 58, 59, 60, 61, 62, 63, 64, 65, 66, 67] 67 [0.9850746268656716, 0.014925373134328401]\n",
      "/l/users/santosh.sanjeev/model_soups/runs/test/fge/HAM/ResNet50/1.00e-05/fge-25.pt\n",
      "68 [1, 2, 3, 4, 5, 6, 7, 8, 9, 10, 11, 12, 13, 14, 15, 16, 17, 18, 19, 20, 21, 22, 23, 24, 25, 26, 27, 28, 29, 30, 31, 32, 33, 34, 35, 36, 37, 38, 39, 40, 41, 42, 43, 44, 45, 46, 47, 48, 49, 50, 51, 52, 53, 54, 55, 56, 57, 58, 59, 60, 61, 62, 63, 64, 65, 66, 67, 68] 68 [0.9852941176470589, 0.014705882352941124]\n",
      "/l/users/santosh.sanjeev/model_soups/runs/test/fge/HAM/ResNet50/5.00e-06/fge-20.pt\n",
      "69 [1, 2, 3, 4, 5, 6, 7, 8, 9, 10, 11, 12, 13, 14, 15, 16, 17, 18, 19, 20, 21, 22, 23, 24, 25, 26, 27, 28, 29, 30, 31, 32, 33, 34, 35, 36, 37, 38, 39, 40, 41, 42, 43, 44, 45, 46, 47, 48, 49, 50, 51, 52, 53, 54, 55, 56, 57, 58, 59, 60, 61, 62, 63, 64, 65, 66, 67, 68, 69] 69 [0.9855072463768116, 0.01449275362318836]\n",
      "/l/users/santosh.sanjeev/model_soups/runs/test/fge/HAM/ResNet50/5.00e-06/fge-14.pt\n",
      "70 [1, 2, 3, 4, 5, 6, 7, 8, 9, 10, 11, 12, 13, 14, 15, 16, 17, 18, 19, 20, 21, 22, 23, 24, 25, 26, 27, 28, 29, 30, 31, 32, 33, 34, 35, 36, 37, 38, 39, 40, 41, 42, 43, 44, 45, 46, 47, 48, 49, 50, 51, 52, 53, 54, 55, 56, 57, 58, 59, 60, 61, 62, 63, 64, 65, 66, 67, 68, 69, 70] 70 [0.9857142857142858, 0.014285714285714235]\n",
      "/l/users/santosh.sanjeev/model_soups/runs/test/fge/HAM/ResNet50/5.00e-06/fge-18.pt\n",
      "71 [1, 2, 3, 4, 5, 6, 7, 8, 9, 10, 11, 12, 13, 14, 15, 16, 17, 18, 19, 20, 21, 22, 23, 24, 25, 26, 27, 28, 29, 30, 31, 32, 33, 34, 35, 36, 37, 38, 39, 40, 41, 42, 43, 44, 45, 46, 47, 48, 49, 50, 51, 52, 53, 54, 55, 56, 57, 58, 59, 60, 61, 62, 63, 64, 65, 66, 67, 68, 69, 70, 71] 71 [0.9859154929577465, 0.014084507042253502]\n",
      "/l/users/santosh.sanjeev/model_soups/runs/test/fge/HAM/ResNet50/5.00e-06/fge-13.pt\n",
      "72 [1, 2, 3, 4, 5, 6, 7, 8, 9, 10, 11, 12, 13, 14, 15, 16, 17, 18, 19, 20, 21, 22, 23, 24, 25, 26, 27, 28, 29, 30, 31, 32, 33, 34, 35, 36, 37, 38, 39, 40, 41, 42, 43, 44, 45, 46, 47, 48, 49, 50, 51, 52, 53, 54, 55, 56, 57, 58, 59, 60, 61, 62, 63, 64, 65, 66, 67, 68, 69, 70, 71, 72] 72 [0.9861111111111112, 0.01388888888888884]\n",
      "/l/users/santosh.sanjeev/model_soups/runs/test/fge/HAM/ResNet50/1.00e-05/fge-1.pt\n",
      "73 [1, 2, 3, 4, 5, 6, 7, 8, 9, 10, 11, 12, 13, 14, 15, 16, 17, 18, 19, 20, 21, 22, 23, 24, 25, 26, 27, 28, 29, 30, 31, 32, 33, 34, 35, 36, 37, 38, 39, 40, 41, 42, 43, 44, 45, 46, 47, 48, 49, 50, 51, 52, 53, 54, 55, 56, 57, 58, 59, 60, 61, 62, 63, 64, 65, 66, 67, 68, 69, 70, 71, 72, 73] 73 [0.9863013698630136, 0.013698630136986356]\n",
      "/l/users/santosh.sanjeev/model_soups/runs/test/fge/HAM/ResNet50/5.00e-05/fge-0.pt\n",
      "74 [1, 2, 3, 4, 5, 6, 7, 8, 9, 10, 11, 12, 13, 14, 15, 16, 17, 18, 19, 20, 21, 22, 23, 24, 25, 26, 27, 28, 29, 30, 31, 32, 33, 34, 35, 36, 37, 38, 39, 40, 41, 42, 43, 44, 45, 46, 47, 48, 49, 50, 51, 52, 53, 54, 55, 56, 57, 58, 59, 60, 61, 62, 63, 64, 65, 66, 67, 68, 69, 70, 71, 72, 73, 74] 74 [0.9864864864864865, 0.013513513513513487]\n",
      "/l/users/santosh.sanjeev/model_soups/runs/test/fge/HAM/ResNet50/5.00e-06/fge-2.pt\n",
      "75 [1, 2, 3, 4, 5, 6, 7, 8, 9, 10, 11, 12, 13, 14, 15, 16, 17, 18, 19, 20, 21, 22, 23, 24, 25, 26, 27, 28, 29, 30, 31, 32, 33, 34, 35, 36, 37, 38, 39, 40, 41, 42, 43, 44, 45, 46, 47, 48, 49, 50, 51, 52, 53, 54, 55, 56, 57, 58, 59, 60, 61, 62, 63, 64, 65, 66, 67, 68, 69, 70, 71, 72, 73, 74, 75] 75 [0.9866666666666667, 0.013333333333333308]\n",
      "/l/users/santosh.sanjeev/model_soups/runs/test/fge/HAM/ResNet50/1.00e-06/fge-25.pt\n",
      "76 [1, 2, 3, 4, 5, 6, 7, 8, 9, 10, 11, 12, 13, 14, 15, 16, 17, 18, 19, 20, 21, 22, 23, 24, 25, 26, 27, 28, 29, 30, 31, 32, 33, 34, 35, 36, 37, 38, 39, 40, 41, 42, 43, 44, 45, 46, 47, 48, 49, 50, 51, 52, 53, 54, 55, 56, 57, 58, 59, 60, 61, 62, 63, 64, 65, 66, 67, 68, 69, 70, 71, 72, 73, 74, 75, 76] 76 [0.9868421052631579, 0.013157894736842146]\n",
      "/l/users/santosh.sanjeev/model_soups/runs/test/fge/HAM/ResNet50/5.00e-05/fge-3.pt\n",
      "77 [1, 2, 3, 4, 5, 6, 7, 8, 9, 10, 11, 12, 13, 14, 15, 16, 17, 18, 19, 20, 21, 22, 23, 24, 25, 26, 27, 28, 29, 30, 31, 32, 33, 34, 35, 36, 37, 38, 39, 40, 41, 42, 43, 44, 45, 46, 47, 48, 49, 50, 51, 52, 53, 54, 55, 56, 57, 58, 59, 60, 61, 62, 63, 64, 65, 66, 67, 68, 69, 70, 71, 72, 73, 74, 75, 76, 77] 77 [0.987012987012987, 0.012987012987012991]\n",
      "/l/users/santosh.sanjeev/model_soups/runs/test/fge/HAM/ResNet50/1.00e-05/fge-0.pt\n",
      "78 [1, 2, 3, 4, 5, 6, 7, 8, 9, 10, 11, 12, 13, 14, 15, 16, 17, 18, 19, 20, 21, 22, 23, 24, 25, 26, 27, 28, 29, 30, 31, 32, 33, 34, 35, 36, 37, 38, 39, 40, 41, 42, 43, 44, 45, 46, 47, 48, 49, 50, 51, 52, 53, 54, 55, 56, 57, 58, 59, 60, 61, 62, 63, 64, 65, 66, 67, 68, 69, 70, 71, 72, 73, 74, 75, 76, 77, 78] 78 [0.9871794871794872, 0.012820512820512775]\n",
      "/l/users/santosh.sanjeev/model_soups/runs/test/fge/HAM/ResNet50/1.00e-05/fge-5.pt\n",
      "79 [1, 2, 3, 4, 5, 6, 7, 8, 9, 10, 11, 12, 13, 14, 15, 16, 17, 18, 19, 20, 21, 22, 23, 24, 25, 26, 27, 28, 29, 30, 31, 32, 33, 34, 35, 36, 37, 38, 39, 40, 41, 42, 43, 44, 45, 46, 47, 48, 49, 50, 51, 52, 53, 54, 55, 56, 57, 58, 59, 60, 61, 62, 63, 64, 65, 66, 67, 68, 69, 70, 71, 72, 73, 74, 75, 76, 77, 78, 79] 79 [0.9873417721518988, 0.012658227848101222]\n",
      "/l/users/santosh.sanjeev/model_soups/runs/test/fge/HAM/ResNet50/5.00e-06/fge-23.pt\n",
      "80 [1, 2, 3, 4, 5, 6, 7, 8, 9, 10, 11, 12, 13, 14, 15, 16, 17, 18, 19, 20, 21, 22, 23, 24, 25, 26, 27, 28, 29, 30, 31, 32, 33, 34, 35, 36, 37, 38, 39, 40, 41, 42, 43, 44, 45, 46, 47, 48, 49, 50, 51, 52, 53, 54, 55, 56, 57, 58, 59, 60, 61, 62, 63, 64, 65, 66, 67, 68, 69, 70, 71, 72, 73, 74, 75, 76, 77, 78, 79, 80] 80 [0.9875, 0.012499999999999956]\n",
      "/l/users/santosh.sanjeev/model_soups/runs/test/fge/HAM/ResNet50/5.00e-05/fge-7.pt\n",
      "81 [1, 2, 3, 4, 5, 6, 7, 8, 9, 10, 11, 12, 13, 14, 15, 16, 17, 18, 19, 20, 21, 22, 23, 24, 25, 26, 27, 28, 29, 30, 31, 32, 33, 34, 35, 36, 37, 38, 39, 40, 41, 42, 43, 44, 45, 46, 47, 48, 49, 50, 51, 52, 53, 54, 55, 56, 57, 58, 59, 60, 61, 62, 63, 64, 65, 66, 67, 68, 69, 70, 71, 72, 73, 74, 75, 76, 77, 78, 79, 80, 81] 81 [0.9876543209876543, 0.012345679012345734]\n",
      "/l/users/santosh.sanjeev/model_soups/runs/test/fge/HAM/ResNet50/5.00e-05/fge-11.pt\n",
      "82 [1, 2, 3, 4, 5, 6, 7, 8, 9, 10, 11, 12, 13, 14, 15, 16, 17, 18, 19, 20, 21, 22, 23, 24, 25, 26, 27, 28, 29, 30, 31, 32, 33, 34, 35, 36, 37, 38, 39, 40, 41, 42, 43, 44, 45, 46, 47, 48, 49, 50, 51, 52, 53, 54, 55, 56, 57, 58, 59, 60, 61, 62, 63, 64, 65, 66, 67, 68, 69, 70, 71, 72, 73, 74, 75, 76, 77, 78, 79, 80, 81, 82] 82 [0.9878048780487805, 0.012195121951219523]\n",
      "/l/users/santosh.sanjeev/model_soups/runs/test/fge/HAM/ResNet50/5.00e-06/fge-5.pt\n",
      "83 [1, 2, 3, 4, 5, 6, 7, 8, 9, 10, 11, 12, 13, 14, 15, 16, 17, 18, 19, 20, 21, 22, 23, 24, 25, 26, 27, 28, 29, 30, 31, 32, 33, 34, 35, 36, 37, 38, 39, 40, 41, 42, 43, 44, 45, 46, 47, 48, 49, 50, 51, 52, 53, 54, 55, 56, 57, 58, 59, 60, 61, 62, 63, 64, 65, 66, 67, 68, 69, 70, 71, 72, 73, 74, 75, 76, 77, 78, 79, 80, 81, 82, 83] 83 [0.9879518072289156, 0.012048192771084376]\n",
      "/l/users/santosh.sanjeev/model_soups/runs/test/fge/HAM/ResNet50/5.00e-05/fge-8.pt\n",
      "84 [1, 2, 3, 4, 5, 6, 7, 8, 9, 10, 11, 12, 13, 14, 15, 16, 17, 18, 19, 20, 21, 22, 23, 24, 25, 26, 27, 28, 29, 30, 31, 32, 33, 34, 35, 36, 37, 38, 39, 40, 41, 42, 43, 44, 45, 46, 47, 48, 49, 50, 51, 52, 53, 54, 55, 56, 57, 58, 59, 60, 61, 62, 63, 64, 65, 66, 67, 68, 69, 70, 71, 72, 73, 74, 75, 76, 77, 78, 79, 80, 81, 82, 83, 84] 84 [0.9880952380952381, 0.011904761904761862]\n",
      "/l/users/santosh.sanjeev/model_soups/runs/test/fge/HAM/ResNet50/5.00e-05/fge-4.pt\n",
      "85 [1, 2, 3, 4, 5, 6, 7, 8, 9, 10, 11, 12, 13, 14, 15, 16, 17, 18, 19, 20, 21, 22, 23, 24, 25, 26, 27, 28, 29, 30, 31, 32, 33, 34, 35, 36, 37, 38, 39, 40, 41, 42, 43, 44, 45, 46, 47, 48, 49, 50, 51, 52, 53, 54, 55, 56, 57, 58, 59, 60, 61, 62, 63, 64, 65, 66, 67, 68, 69, 70, 71, 72, 73, 74, 75, 76, 77, 78, 79, 80, 81, 82, 83, 84, 85] 85 [0.9882352941176471, 0.0117647058823529]\n",
      "/l/users/santosh.sanjeev/model_soups/runs/test/fge/HAM/ResNet50/5.00e-05/fge-10.pt\n",
      "86 [1, 2, 3, 4, 5, 6, 7, 8, 9, 10, 11, 12, 13, 14, 15, 16, 17, 18, 19, 20, 21, 22, 23, 24, 25, 26, 27, 28, 29, 30, 31, 32, 33, 34, 35, 36, 37, 38, 39, 40, 41, 42, 43, 44, 45, 46, 47, 48, 49, 50, 51, 52, 53, 54, 55, 56, 57, 58, 59, 60, 61, 62, 63, 64, 65, 66, 67, 68, 69, 70, 71, 72, 73, 74, 75, 76, 77, 78, 79, 80, 81, 82, 83, 84, 85, 86] 86 [0.9883720930232558, 0.011627906976744207]\n",
      "/l/users/santosh.sanjeev/model_soups/runs/test/fge/HAM/ResNet50/1.00e-07/fge-20.pt\n",
      "87 [1, 2, 3, 4, 5, 6, 7, 8, 9, 10, 11, 12, 13, 14, 15, 16, 17, 18, 19, 20, 21, 22, 23, 24, 25, 26, 27, 28, 29, 30, 31, 32, 33, 34, 35, 36, 37, 38, 39, 40, 41, 42, 43, 44, 45, 46, 47, 48, 49, 50, 51, 52, 53, 54, 55, 56, 57, 58, 59, 60, 61, 62, 63, 64, 65, 66, 67, 68, 69, 70, 71, 72, 73, 74, 75, 76, 77, 78, 79, 80, 81, 82, 83, 84, 85, 86, 87] 87 [0.9885057471264368, 0.011494252873563204]\n",
      "/l/users/santosh.sanjeev/model_soups/runs/test/fge/HAM/ResNet50/1.00e-07/fge-24.pt\n",
      "88 [1, 2, 3, 4, 5, 6, 7, 8, 9, 10, 11, 12, 13, 14, 15, 16, 17, 18, 19, 20, 21, 22, 23, 24, 25, 26, 27, 28, 29, 30, 31, 32, 33, 34, 35, 36, 37, 38, 39, 40, 41, 42, 43, 44, 45, 46, 47, 48, 49, 50, 51, 52, 53, 54, 55, 56, 57, 58, 59, 60, 61, 62, 63, 64, 65, 66, 67, 68, 69, 70, 71, 72, 73, 74, 75, 76, 77, 78, 79, 80, 81, 82, 83, 84, 85, 86, 87, 88] 88 [0.9886363636363636, 0.011363636363636354]\n",
      "/l/users/santosh.sanjeev/model_soups/runs/test/fge/HAM/ResNet50/1.00e-04/fge-24.pt\n",
      "89 [1, 2, 3, 4, 5, 6, 7, 8, 9, 10, 11, 12, 13, 14, 15, 16, 17, 18, 19, 20, 21, 22, 23, 24, 25, 26, 27, 28, 29, 30, 31, 32, 33, 34, 35, 36, 37, 38, 39, 40, 41, 42, 43, 44, 45, 46, 47, 48, 49, 50, 51, 52, 53, 54, 55, 56, 57, 58, 59, 60, 61, 62, 63, 64, 65, 66, 67, 68, 69, 70, 71, 72, 73, 74, 75, 76, 77, 78, 79, 80, 81, 82, 83, 84, 85, 86, 87, 88, 89] 89 [0.9887640449438202, 0.011235955056179803]\n",
      "/l/users/santosh.sanjeev/model_soups/runs/test/fge/HAM/ResNet50/1.00e-05/fge-17.pt\n",
      "90 [1, 2, 3, 4, 5, 6, 7, 8, 9, 10, 11, 12, 13, 14, 15, 16, 17, 18, 19, 20, 21, 22, 23, 24, 25, 26, 27, 28, 29, 30, 31, 32, 33, 34, 35, 36, 37, 38, 39, 40, 41, 42, 43, 44, 45, 46, 47, 48, 49, 50, 51, 52, 53, 54, 55, 56, 57, 58, 59, 60, 61, 62, 63, 64, 65, 66, 67, 68, 69, 70, 71, 72, 73, 74, 75, 76, 77, 78, 79, 80, 81, 82, 83, 84, 85, 86, 87, 88, 89, 90] 90 [0.9888888888888889, 0.011111111111111072]\n",
      "/l/users/santosh.sanjeev/model_soups/runs/test/fge/HAM/ResNet50/5.00e-04/fge-0.pt\n",
      "91 [1, 2, 3, 4, 5, 6, 7, 8, 9, 10, 11, 12, 13, 14, 15, 16, 17, 18, 19, 20, 21, 22, 23, 24, 25, 26, 27, 28, 29, 30, 31, 32, 33, 34, 35, 36, 37, 38, 39, 40, 41, 42, 43, 44, 45, 46, 47, 48, 49, 50, 51, 52, 53, 54, 55, 56, 57, 58, 59, 60, 61, 62, 63, 64, 65, 66, 67, 68, 69, 70, 71, 72, 73, 74, 75, 76, 77, 78, 79, 80, 81, 82, 83, 84, 85, 86, 87, 88, 89, 90, 91] 91 [0.989010989010989, 0.01098901098901095]\n",
      "/l/users/santosh.sanjeev/model_soups/runs/test/fge/HAM/ResNet50/1.00e-04/fge-12.pt\n",
      "92 [1, 2, 3, 4, 5, 6, 7, 8, 9, 10, 11, 12, 13, 14, 15, 16, 17, 18, 19, 20, 21, 22, 23, 24, 25, 26, 27, 28, 29, 30, 31, 32, 33, 34, 35, 36, 37, 38, 39, 40, 41, 42, 43, 44, 45, 46, 47, 48, 49, 50, 51, 52, 53, 54, 55, 56, 57, 58, 59, 60, 61, 62, 63, 64, 65, 66, 67, 68, 69, 70, 71, 72, 73, 74, 75, 76, 77, 78, 79, 80, 81, 82, 83, 84, 85, 86, 87, 88, 89, 90, 91, 92] 92 [0.9891304347826086, 0.010869565217391353]\n",
      "/l/users/santosh.sanjeev/model_soups/runs/test/fge/HAM/ResNet50/1.00e-07/fge-18.pt\n",
      "93 [1, 2, 3, 4, 5, 6, 7, 8, 9, 10, 11, 12, 13, 14, 15, 16, 17, 18, 19, 20, 21, 22, 23, 24, 25, 26, 27, 28, 29, 30, 31, 32, 33, 34, 35, 36, 37, 38, 39, 40, 41, 42, 43, 44, 45, 46, 47, 48, 49, 50, 51, 52, 53, 54, 55, 56, 57, 58, 59, 60, 61, 62, 63, 64, 65, 66, 67, 68, 69, 70, 71, 72, 73, 74, 75, 76, 77, 78, 79, 80, 81, 82, 83, 84, 85, 86, 87, 88, 89, 90, 91, 92, 93] 93 [0.989247311827957, 0.010752688172043001]\n",
      "/l/users/santosh.sanjeev/model_soups/runs/test/fge/HAM/ResNet50/5.00e-06/fge-19.pt\n",
      "94 [1, 2, 3, 4, 5, 6, 7, 8, 9, 10, 11, 12, 13, 14, 15, 16, 17, 18, 19, 20, 21, 22, 23, 24, 25, 26, 27, 28, 29, 30, 31, 32, 33, 34, 35, 36, 37, 38, 39, 40, 41, 42, 43, 44, 45, 46, 47, 48, 49, 50, 51, 52, 53, 54, 55, 56, 57, 58, 59, 60, 61, 62, 63, 64, 65, 66, 67, 68, 69, 70, 71, 72, 73, 74, 75, 76, 77, 78, 79, 80, 81, 82, 83, 84, 85, 86, 87, 88, 89, 90, 91, 92, 93, 94] 94 [0.9893617021276596, 0.010638297872340385]\n",
      "/l/users/santosh.sanjeev/model_soups/runs/test/fge/HAM/ResNet50/5.00e-06/fge-11.pt\n",
      "95 [1, 2, 3, 4, 5, 6, 7, 8, 9, 10, 11, 12, 13, 14, 15, 16, 17, 18, 19, 20, 21, 22, 23, 24, 25, 26, 27, 28, 29, 30, 31, 32, 33, 34, 35, 36, 37, 38, 39, 40, 41, 42, 43, 44, 45, 46, 47, 48, 49, 50, 51, 52, 53, 54, 55, 56, 57, 58, 59, 60, 61, 62, 63, 64, 65, 66, 67, 68, 69, 70, 71, 72, 73, 74, 75, 76, 77, 78, 79, 80, 81, 82, 83, 84, 85, 86, 87, 88, 89, 90, 91, 92, 93, 94, 95] 95 [0.9894736842105263, 0.010526315789473717]\n",
      "/l/users/santosh.sanjeev/model_soups/runs/test/fge/HAM/ResNet50/5.00e-06/fge-9.pt\n",
      "96 [1, 2, 3, 4, 5, 6, 7, 8, 9, 10, 11, 12, 13, 14, 15, 16, 17, 18, 19, 20, 21, 22, 23, 24, 25, 26, 27, 28, 29, 30, 31, 32, 33, 34, 35, 36, 37, 38, 39, 40, 41, 42, 43, 44, 45, 46, 47, 48, 49, 50, 51, 52, 53, 54, 55, 56, 57, 58, 59, 60, 61, 62, 63, 64, 65, 66, 67, 68, 69, 70, 71, 72, 73, 74, 75, 76, 77, 78, 79, 80, 81, 82, 83, 84, 85, 86, 87, 88, 89, 90, 91, 92, 93, 94, 95, 96] 96 [0.9895833333333334, 0.01041666666666663]\n",
      "/l/users/santosh.sanjeev/model_soups/runs/test/fge/HAM/ResNet50/5.00e-06/fge-10.pt\n",
      "97 [1, 2, 3, 4, 5, 6, 7, 8, 9, 10, 11, 12, 13, 14, 15, 16, 17, 18, 19, 20, 21, 22, 23, 24, 25, 26, 27, 28, 29, 30, 31, 32, 33, 34, 35, 36, 37, 38, 39, 40, 41, 42, 43, 44, 45, 46, 47, 48, 49, 50, 51, 52, 53, 54, 55, 56, 57, 58, 59, 60, 61, 62, 63, 64, 65, 66, 67, 68, 69, 70, 71, 72, 73, 74, 75, 76, 77, 78, 79, 80, 81, 82, 83, 84, 85, 86, 87, 88, 89, 90, 91, 92, 93, 94, 95, 96, 97] 97 [0.9896907216494846, 0.010309278350515427]\n",
      "/l/users/santosh.sanjeev/model_soups/runs/test/fge/HAM/ResNet50/5.00e-06/fge-12.pt\n",
      "98 [1, 2, 3, 4, 5, 6, 7, 8, 9, 10, 11, 12, 13, 14, 15, 16, 17, 18, 19, 20, 21, 22, 23, 24, 25, 26, 27, 28, 29, 30, 31, 32, 33, 34, 35, 36, 37, 38, 39, 40, 41, 42, 43, 44, 45, 46, 47, 48, 49, 50, 51, 52, 53, 54, 55, 56, 57, 58, 59, 60, 61, 62, 63, 64, 65, 66, 67, 68, 69, 70, 71, 72, 73, 74, 75, 76, 77, 78, 79, 80, 81, 82, 83, 84, 85, 86, 87, 88, 89, 90, 91, 92, 93, 94, 95, 96, 97, 98] 98 [0.9897959183673469, 0.010204081632653073]\n",
      "/l/users/santosh.sanjeev/model_soups/runs/test/fge/HAM/ResNet50/1.00e-07/fge-19.pt\n",
      "99 [1, 2, 3, 4, 5, 6, 7, 8, 9, 10, 11, 12, 13, 14, 15, 16, 17, 18, 19, 20, 21, 22, 23, 24, 25, 26, 27, 28, 29, 30, 31, 32, 33, 34, 35, 36, 37, 38, 39, 40, 41, 42, 43, 44, 45, 46, 47, 48, 49, 50, 51, 52, 53, 54, 55, 56, 57, 58, 59, 60, 61, 62, 63, 64, 65, 66, 67, 68, 69, 70, 71, 72, 73, 74, 75, 76, 77, 78, 79, 80, 81, 82, 83, 84, 85, 86, 87, 88, 89, 90, 91, 92, 93, 94, 95, 96, 97, 98, 99] 99 [0.98989898989899, 0.010101010101010055]\n",
      "/l/users/santosh.sanjeev/model_soups/runs/test/fge/HAM/ResNet50/1.00e-06/fge-13.pt\n",
      "100 [1, 2, 3, 4, 5, 6, 7, 8, 9, 10, 11, 12, 13, 14, 15, 16, 17, 18, 19, 20, 21, 22, 23, 24, 25, 26, 27, 28, 29, 30, 31, 32, 33, 34, 35, 36, 37, 38, 39, 40, 41, 42, 43, 44, 45, 46, 47, 48, 49, 50, 51, 52, 53, 54, 55, 56, 57, 58, 59, 60, 61, 62, 63, 64, 65, 66, 67, 68, 69, 70, 71, 72, 73, 74, 75, 76, 77, 78, 79, 80, 81, 82, 83, 84, 85, 86, 87, 88, 89, 90, 91, 92, 93, 94, 95, 96, 97, 98, 99, 100] 100 [0.99, 0.010000000000000009]\n",
      "/l/users/santosh.sanjeev/model_soups/runs/test/fge/HAM/ResNet50/1.00e-06/fge-19.pt\n",
      "101 [1, 2, 3, 4, 5, 6, 7, 8, 9, 10, 11, 12, 13, 14, 15, 16, 17, 18, 19, 20, 21, 22, 23, 24, 25, 26, 27, 28, 29, 30, 31, 32, 33, 34, 35, 36, 37, 38, 39, 40, 41, 42, 43, 44, 45, 46, 47, 48, 49, 50, 51, 52, 53, 54, 55, 56, 57, 58, 59, 60, 61, 62, 63, 64, 65, 66, 67, 68, 69, 70, 71, 72, 73, 74, 75, 76, 77, 78, 79, 80, 81, 82, 83, 84, 85, 86, 87, 88, 89, 90, 91, 92, 93, 94, 95, 96, 97, 98, 99, 100, 101] 101 [0.9900990099009901, 0.00990099009900991]\n",
      "/l/users/santosh.sanjeev/model_soups/runs/test/fge/HAM/ResNet50/1.00e-06/fge-20.pt\n",
      "102 [1, 2, 3, 4, 5, 6, 7, 8, 9, 10, 11, 12, 13, 14, 15, 16, 17, 18, 19, 20, 21, 22, 23, 24, 25, 26, 27, 28, 29, 30, 31, 32, 33, 34, 35, 36, 37, 38, 39, 40, 41, 42, 43, 44, 45, 46, 47, 48, 49, 50, 51, 52, 53, 54, 55, 56, 57, 58, 59, 60, 61, 62, 63, 64, 65, 66, 67, 68, 69, 70, 71, 72, 73, 74, 75, 76, 77, 78, 79, 80, 81, 82, 83, 84, 85, 86, 87, 88, 89, 90, 91, 92, 93, 94, 95, 96, 97, 98, 99, 100, 101, 102] 102 [0.9901960784313726, 0.009803921568627416]\n",
      "/l/users/santosh.sanjeev/model_soups/runs/test/fge/HAM/ResNet50/1.00e-06/fge-21.pt\n",
      "103 [1, 2, 3, 4, 5, 6, 7, 8, 9, 10, 11, 12, 13, 14, 15, 16, 17, 18, 19, 20, 21, 22, 23, 24, 25, 26, 27, 28, 29, 30, 31, 32, 33, 34, 35, 36, 37, 38, 39, 40, 41, 42, 43, 44, 45, 46, 47, 48, 49, 50, 51, 52, 53, 54, 55, 56, 57, 58, 59, 60, 61, 62, 63, 64, 65, 66, 67, 68, 69, 70, 71, 72, 73, 74, 75, 76, 77, 78, 79, 80, 81, 82, 83, 84, 85, 86, 87, 88, 89, 90, 91, 92, 93, 94, 95, 96, 97, 98, 99, 100, 101, 102, 103] 103 [0.9902912621359223, 0.009708737864077666]\n",
      "/l/users/santosh.sanjeev/model_soups/runs/test/fge/HAM/ResNet50/5.00e-06/fge-1.pt\n",
      "104 [1, 2, 3, 4, 5, 6, 7, 8, 9, 10, 11, 12, 13, 14, 15, 16, 17, 18, 19, 20, 21, 22, 23, 24, 25, 26, 27, 28, 29, 30, 31, 32, 33, 34, 35, 36, 37, 38, 39, 40, 41, 42, 43, 44, 45, 46, 47, 48, 49, 50, 51, 52, 53, 54, 55, 56, 57, 58, 59, 60, 61, 62, 63, 64, 65, 66, 67, 68, 69, 70, 71, 72, 73, 74, 75, 76, 77, 78, 79, 80, 81, 82, 83, 84, 85, 86, 87, 88, 89, 90, 91, 92, 93, 94, 95, 96, 97, 98, 99, 100, 101, 102, 103, 104] 104 [0.9903846153846154, 0.009615384615384581]\n",
      "/l/users/santosh.sanjeev/model_soups/runs/test/fge/HAM/ResNet50/1.00e-03/fge-9.pt\n",
      "105 [1, 2, 3, 4, 5, 6, 7, 8, 9, 10, 11, 12, 13, 14, 15, 16, 17, 18, 19, 20, 21, 22, 23, 24, 25, 26, 27, 28, 29, 30, 31, 32, 33, 34, 35, 36, 37, 38, 39, 40, 41, 42, 43, 44, 45, 46, 47, 48, 49, 50, 51, 52, 53, 54, 55, 56, 57, 58, 59, 60, 61, 62, 63, 64, 65, 66, 67, 68, 69, 70, 71, 72, 73, 74, 75, 76, 77, 78, 79, 80, 81, 82, 83, 84, 85, 86, 87, 88, 89, 90, 91, 92, 93, 94, 95, 96, 97, 98, 99, 100, 101, 102, 103, 104, 105] 105 [0.9904761904761905, 0.00952380952380949]\n",
      "/l/users/santosh.sanjeev/model_soups/runs/test/fge/HAM/ResNet50/1.00e-03/fge-11.pt\n",
      "106 [1, 2, 3, 4, 5, 6, 7, 8, 9, 10, 11, 12, 13, 14, 15, 16, 17, 18, 19, 20, 21, 22, 23, 24, 25, 26, 27, 28, 29, 30, 31, 32, 33, 34, 35, 36, 37, 38, 39, 40, 41, 42, 43, 44, 45, 46, 47, 48, 49, 50, 51, 52, 53, 54, 55, 56, 57, 58, 59, 60, 61, 62, 63, 64, 65, 66, 67, 68, 69, 70, 71, 72, 73, 74, 75, 76, 77, 78, 79, 80, 81, 82, 83, 84, 85, 86, 87, 88, 89, 90, 91, 92, 93, 94, 95, 96, 97, 98, 99, 100, 101, 102, 103, 104, 105, 106] 106 [0.9905660377358491, 0.009433962264150941]\n",
      "/l/users/santosh.sanjeev/model_soups/runs/test/fge/HAM/ResNet50/5.00e-06/fge-8.pt\n",
      "107 [1, 2, 3, 4, 5, 6, 7, 8, 9, 10, 11, 12, 13, 14, 15, 16, 17, 18, 19, 20, 21, 22, 23, 24, 25, 26, 27, 28, 29, 30, 31, 32, 33, 34, 35, 36, 37, 38, 39, 40, 41, 42, 43, 44, 45, 46, 47, 48, 49, 50, 51, 52, 53, 54, 55, 56, 57, 58, 59, 60, 61, 62, 63, 64, 65, 66, 67, 68, 69, 70, 71, 72, 73, 74, 75, 76, 77, 78, 79, 80, 81, 82, 83, 84, 85, 86, 87, 88, 89, 90, 91, 92, 93, 94, 95, 96, 97, 98, 99, 100, 101, 102, 103, 104, 105, 106, 107] 107 [0.9906542056074766, 0.009345794392523366]\n",
      "/l/users/santosh.sanjeev/model_soups/runs/test/fge/HAM/ResNet50/5.00e-06/fge-6.pt\n",
      "108 [1, 2, 3, 4, 5, 6, 7, 8, 9, 10, 11, 12, 13, 14, 15, 16, 17, 18, 19, 20, 21, 22, 23, 24, 25, 26, 27, 28, 29, 30, 31, 32, 33, 34, 35, 36, 37, 38, 39, 40, 41, 42, 43, 44, 45, 46, 47, 48, 49, 50, 51, 52, 53, 54, 55, 56, 57, 58, 59, 60, 61, 62, 63, 64, 65, 66, 67, 68, 69, 70, 71, 72, 73, 74, 75, 76, 77, 78, 79, 80, 81, 82, 83, 84, 85, 86, 87, 88, 89, 90, 91, 92, 93, 94, 95, 96, 97, 98, 99, 100, 101, 102, 103, 104, 105, 106, 107, 108] 108 [0.9907407407407407, 0.0092592592592593]\n",
      "/l/users/santosh.sanjeev/model_soups/runs/test/fge/HAM/ResNet50/1.00e-07/fge-17.pt\n",
      "109 [1, 2, 3, 4, 5, 6, 7, 8, 9, 10, 11, 12, 13, 14, 15, 16, 17, 18, 19, 20, 21, 22, 23, 24, 25, 26, 27, 28, 29, 30, 31, 32, 33, 34, 35, 36, 37, 38, 39, 40, 41, 42, 43, 44, 45, 46, 47, 48, 49, 50, 51, 52, 53, 54, 55, 56, 57, 58, 59, 60, 61, 62, 63, 64, 65, 66, 67, 68, 69, 70, 71, 72, 73, 74, 75, 76, 77, 78, 79, 80, 81, 82, 83, 84, 85, 86, 87, 88, 89, 90, 91, 92, 93, 94, 95, 96, 97, 98, 99, 100, 101, 102, 103, 104, 105, 106, 107, 108, 109] 109 [0.9908256880733946, 0.00917431192660545]\n",
      "/l/users/santosh.sanjeev/model_soups/runs/test/fge/HAM/ResNet50/5.00e-05/fge-18.pt\n",
      "110 [1, 2, 3, 4, 5, 6, 7, 8, 9, 10, 11, 12, 13, 14, 15, 16, 17, 18, 19, 20, 21, 22, 23, 24, 25, 26, 27, 28, 29, 30, 31, 32, 33, 34, 35, 36, 37, 38, 39, 40, 41, 42, 43, 44, 45, 46, 47, 48, 49, 50, 51, 52, 53, 54, 55, 56, 57, 58, 59, 60, 61, 62, 63, 64, 65, 66, 67, 68, 69, 70, 71, 72, 73, 74, 75, 76, 77, 78, 79, 80, 81, 82, 83, 84, 85, 86, 87, 88, 89, 90, 91, 92, 93, 94, 95, 96, 97, 98, 99, 100, 101, 102, 103, 104, 105, 106, 107, 108, 109, 110] 110 [0.990909090909091, 0.009090909090909038]\n",
      "/l/users/santosh.sanjeev/model_soups/runs/test/fge/HAM/ResNet50/5.00e-06/fge-7.pt\n",
      "111 [1, 2, 3, 4, 5, 6, 7, 8, 9, 10, 11, 12, 13, 14, 15, 16, 17, 18, 19, 20, 21, 22, 23, 24, 25, 26, 27, 28, 29, 30, 31, 32, 33, 34, 35, 36, 37, 38, 39, 40, 41, 42, 43, 44, 45, 46, 47, 48, 49, 50, 51, 52, 53, 54, 55, 56, 57, 58, 59, 60, 61, 62, 63, 64, 65, 66, 67, 68, 69, 70, 71, 72, 73, 74, 75, 76, 77, 78, 79, 80, 81, 82, 83, 84, 85, 86, 87, 88, 89, 90, 91, 92, 93, 94, 95, 96, 97, 98, 99, 100, 101, 102, 103, 104, 105, 106, 107, 108, 109, 110, 111] 111 [0.990990990990991, 0.009009009009009028]\n",
      "/l/users/santosh.sanjeev/model_soups/runs/test/fge/HAM/ResNet50/1.00e-07/fge-25.pt\n",
      "112 [1, 2, 3, 4, 5, 6, 7, 8, 9, 10, 11, 12, 13, 14, 15, 16, 17, 18, 19, 20, 21, 22, 23, 24, 25, 26, 27, 28, 29, 30, 31, 32, 33, 34, 35, 36, 37, 38, 39, 40, 41, 42, 43, 44, 45, 46, 47, 48, 49, 50, 51, 52, 53, 54, 55, 56, 57, 58, 59, 60, 61, 62, 63, 64, 65, 66, 67, 68, 69, 70, 71, 72, 73, 74, 75, 76, 77, 78, 79, 80, 81, 82, 83, 84, 85, 86, 87, 88, 89, 90, 91, 92, 93, 94, 95, 96, 97, 98, 99, 100, 101, 102, 103, 104, 105, 106, 107, 108, 109, 110, 111, 112] 112 [0.9910714285714286, 0.008928571428571397]\n",
      "/l/users/santosh.sanjeev/model_soups/runs/test/fge/HAM/ResNet50/5.00e-05/fge-17.pt\n",
      "113 [1, 2, 3, 4, 5, 6, 7, 8, 9, 10, 11, 12, 13, 14, 15, 16, 17, 18, 19, 20, 21, 22, 23, 24, 25, 26, 27, 28, 29, 30, 31, 32, 33, 34, 35, 36, 37, 38, 39, 40, 41, 42, 43, 44, 45, 46, 47, 48, 49, 50, 51, 52, 53, 54, 55, 56, 57, 58, 59, 60, 61, 62, 63, 64, 65, 66, 67, 68, 69, 70, 71, 72, 73, 74, 75, 76, 77, 78, 79, 80, 81, 82, 83, 84, 85, 86, 87, 88, 89, 90, 91, 92, 93, 94, 95, 96, 97, 98, 99, 100, 101, 102, 103, 104, 105, 106, 107, 108, 109, 110, 111, 112, 113] 113 [0.9911504424778761, 0.008849557522123908]\n",
      "/l/users/santosh.sanjeev/model_soups/runs/test/fge/HAM/ResNet50/1.00e-07/fge-22.pt\n",
      "114 [1, 2, 3, 4, 5, 6, 7, 8, 9, 10, 11, 12, 13, 14, 15, 16, 17, 18, 19, 20, 21, 22, 23, 24, 25, 26, 27, 28, 29, 30, 31, 32, 33, 34, 35, 36, 37, 38, 39, 40, 41, 42, 43, 44, 45, 46, 47, 48, 49, 50, 51, 52, 53, 54, 55, 56, 57, 58, 59, 60, 61, 62, 63, 64, 65, 66, 67, 68, 69, 70, 71, 72, 73, 74, 75, 76, 77, 78, 79, 80, 81, 82, 83, 84, 85, 86, 87, 88, 89, 90, 91, 92, 93, 94, 95, 96, 97, 98, 99, 100, 101, 102, 103, 104, 105, 106, 107, 108, 109, 110, 111, 112, 113, 114] 114 [0.9912280701754386, 0.00877192982456143]\n",
      "/l/users/santosh.sanjeev/model_soups/runs/test/fge/HAM/ResNet50/1.00e-06/fge-16.pt\n",
      "115 [1, 2, 3, 4, 5, 6, 7, 8, 9, 10, 11, 12, 13, 14, 15, 16, 17, 18, 19, 20, 21, 22, 23, 24, 25, 26, 27, 28, 29, 30, 31, 32, 33, 34, 35, 36, 37, 38, 39, 40, 41, 42, 43, 44, 45, 46, 47, 48, 49, 50, 51, 52, 53, 54, 55, 56, 57, 58, 59, 60, 61, 62, 63, 64, 65, 66, 67, 68, 69, 70, 71, 72, 73, 74, 75, 76, 77, 78, 79, 80, 81, 82, 83, 84, 85, 86, 87, 88, 89, 90, 91, 92, 93, 94, 95, 96, 97, 98, 99, 100, 101, 102, 103, 104, 105, 106, 107, 108, 109, 110, 111, 112, 113, 114, 115] 115 [0.991304347826087, 0.008695652173912993]\n",
      "/l/users/santosh.sanjeev/model_soups/runs/test/fge/HAM/ResNet50/1.00e-03/fge-13.pt\n",
      "116 [1, 2, 3, 4, 5, 6, 7, 8, 9, 10, 11, 12, 13, 14, 15, 16, 17, 18, 19, 20, 21, 22, 23, 24, 25, 26, 27, 28, 29, 30, 31, 32, 33, 34, 35, 36, 37, 38, 39, 40, 41, 42, 43, 44, 45, 46, 47, 48, 49, 50, 51, 52, 53, 54, 55, 56, 57, 58, 59, 60, 61, 62, 63, 64, 65, 66, 67, 68, 69, 70, 71, 72, 73, 74, 75, 76, 77, 78, 79, 80, 81, 82, 83, 84, 85, 86, 87, 88, 89, 90, 91, 92, 93, 94, 95, 96, 97, 98, 99, 100, 101, 102, 103, 104, 105, 106, 107, 108, 109, 110, 111, 112, 113, 114, 115, 116] 116 [0.9913793103448276, 0.008620689655172376]\n",
      "/l/users/santosh.sanjeev/model_soups/runs/test/fge/HAM/ResNet50/1.00e-03/fge-8.pt\n",
      "117 [1, 2, 3, 4, 5, 6, 7, 8, 9, 10, 11, 12, 13, 14, 15, 16, 17, 18, 19, 20, 21, 22, 23, 24, 25, 26, 27, 28, 29, 30, 31, 32, 33, 34, 35, 36, 37, 38, 39, 40, 41, 42, 43, 44, 45, 46, 47, 48, 49, 50, 51, 52, 53, 54, 55, 56, 57, 58, 59, 60, 61, 62, 63, 64, 65, 66, 67, 68, 69, 70, 71, 72, 73, 74, 75, 76, 77, 78, 79, 80, 81, 82, 83, 84, 85, 86, 87, 88, 89, 90, 91, 92, 93, 94, 95, 96, 97, 98, 99, 100, 101, 102, 103, 104, 105, 106, 107, 108, 109, 110, 111, 112, 113, 114, 115, 116, 117] 117 [0.9914529914529915, 0.008547008547008517]\n",
      "/l/users/santosh.sanjeev/model_soups/runs/test/fge/HAM/ResNet50/1.00e-03/fge-14.pt\n",
      "118 [1, 2, 3, 4, 5, 6, 7, 8, 9, 10, 11, 12, 13, 14, 15, 16, 17, 18, 19, 20, 21, 22, 23, 24, 25, 26, 27, 28, 29, 30, 31, 32, 33, 34, 35, 36, 37, 38, 39, 40, 41, 42, 43, 44, 45, 46, 47, 48, 49, 50, 51, 52, 53, 54, 55, 56, 57, 58, 59, 60, 61, 62, 63, 64, 65, 66, 67, 68, 69, 70, 71, 72, 73, 74, 75, 76, 77, 78, 79, 80, 81, 82, 83, 84, 85, 86, 87, 88, 89, 90, 91, 92, 93, 94, 95, 96, 97, 98, 99, 100, 101, 102, 103, 104, 105, 106, 107, 108, 109, 110, 111, 112, 113, 114, 115, 116, 117, 118] 118 [0.9915254237288136, 0.008474576271186418]\n",
      "/l/users/santosh.sanjeev/model_soups/runs/test/fge/HAM/ResNet50/1.00e-03/fge-15.pt\n",
      "119 [1, 2, 3, 4, 5, 6, 7, 8, 9, 10, 11, 12, 13, 14, 15, 16, 17, 18, 19, 20, 21, 22, 23, 24, 25, 26, 27, 28, 29, 30, 31, 32, 33, 34, 35, 36, 37, 38, 39, 40, 41, 42, 43, 44, 45, 46, 47, 48, 49, 50, 51, 52, 53, 54, 55, 56, 57, 58, 59, 60, 61, 62, 63, 64, 65, 66, 67, 68, 69, 70, 71, 72, 73, 74, 75, 76, 77, 78, 79, 80, 81, 82, 83, 84, 85, 86, 87, 88, 89, 90, 91, 92, 93, 94, 95, 96, 97, 98, 99, 100, 101, 102, 103, 104, 105, 106, 107, 108, 109, 110, 111, 112, 113, 114, 115, 116, 117, 118, 119] 119 [0.9915966386554622, 0.008403361344537785]\n",
      "/l/users/santosh.sanjeev/model_soups/runs/test/fge/HAM/ResNet50/5.00e-05/fge-15.pt\n",
      "120 [1, 2, 3, 4, 5, 6, 7, 8, 9, 10, 11, 12, 13, 14, 15, 16, 17, 18, 19, 20, 21, 22, 23, 24, 25, 26, 27, 28, 29, 30, 31, 32, 33, 34, 35, 36, 37, 38, 39, 40, 41, 42, 43, 44, 45, 46, 47, 48, 49, 50, 51, 52, 53, 54, 55, 56, 57, 58, 59, 60, 61, 62, 63, 64, 65, 66, 67, 68, 69, 70, 71, 72, 73, 74, 75, 76, 77, 78, 79, 80, 81, 82, 83, 84, 85, 86, 87, 88, 89, 90, 91, 92, 93, 94, 95, 96, 97, 98, 99, 100, 101, 102, 103, 104, 105, 106, 107, 108, 109, 110, 111, 112, 113, 114, 115, 116, 117, 118, 119, 120] 120 [0.9916666666666667, 0.008333333333333304]\n",
      "/l/users/santosh.sanjeev/model_soups/runs/test/fge/HAM/ResNet50/5.00e-05/fge-23.pt\n",
      "121 [1, 2, 3, 4, 5, 6, 7, 8, 9, 10, 11, 12, 13, 14, 15, 16, 17, 18, 19, 20, 21, 22, 23, 24, 25, 26, 27, 28, 29, 30, 31, 32, 33, 34, 35, 36, 37, 38, 39, 40, 41, 42, 43, 44, 45, 46, 47, 48, 49, 50, 51, 52, 53, 54, 55, 56, 57, 58, 59, 60, 61, 62, 63, 64, 65, 66, 67, 68, 69, 70, 71, 72, 73, 74, 75, 76, 77, 78, 79, 80, 81, 82, 83, 84, 85, 86, 87, 88, 89, 90, 91, 92, 93, 94, 95, 96, 97, 98, 99, 100, 101, 102, 103, 104, 105, 106, 107, 108, 109, 110, 111, 112, 113, 114, 115, 116, 117, 118, 119, 120, 121] 121 [0.9917355371900827, 0.008264462809917328]\n",
      "/l/users/santosh.sanjeev/model_soups/runs/test/fge/HAM/ResNet50/5.00e-05/fge-2.pt\n",
      "122 [1, 2, 3, 4, 5, 6, 7, 8, 9, 10, 11, 12, 13, 14, 15, 16, 17, 18, 19, 20, 21, 22, 23, 24, 25, 26, 27, 28, 29, 30, 31, 32, 33, 34, 35, 36, 37, 38, 39, 40, 41, 42, 43, 44, 45, 46, 47, 48, 49, 50, 51, 52, 53, 54, 55, 56, 57, 58, 59, 60, 61, 62, 63, 64, 65, 66, 67, 68, 69, 70, 71, 72, 73, 74, 75, 76, 77, 78, 79, 80, 81, 82, 83, 84, 85, 86, 87, 88, 89, 90, 91, 92, 93, 94, 95, 96, 97, 98, 99, 100, 101, 102, 103, 104, 105, 106, 107, 108, 109, 110, 111, 112, 113, 114, 115, 116, 117, 118, 119, 120, 121, 122] 122 [0.9918032786885246, 0.008196721311475419]\n",
      "/l/users/santosh.sanjeev/model_soups/runs/test/fge/HAM/ResNet50/1.00e-05/fge-2.pt\n",
      "123 [1, 2, 3, 4, 5, 6, 7, 8, 9, 10, 11, 12, 13, 14, 15, 16, 17, 18, 19, 20, 21, 22, 23, 24, 25, 26, 27, 28, 29, 30, 31, 32, 33, 34, 35, 36, 37, 38, 39, 40, 41, 42, 43, 44, 45, 46, 47, 48, 49, 50, 51, 52, 53, 54, 55, 56, 57, 58, 59, 60, 61, 62, 63, 64, 65, 66, 67, 68, 69, 70, 71, 72, 73, 74, 75, 76, 77, 78, 79, 80, 81, 82, 83, 84, 85, 86, 87, 88, 89, 90, 91, 92, 93, 94, 95, 96, 97, 98, 99, 100, 101, 102, 103, 104, 105, 106, 107, 108, 109, 110, 111, 112, 113, 114, 115, 116, 117, 118, 119, 120, 121, 122, 123] 123 [0.991869918699187, 0.008130081300813052]\n",
      "/l/users/santosh.sanjeev/model_soups/runs/test/fge/HAM/ResNet50/1.00e-05/fge-3.pt\n",
      "124 [1, 2, 3, 4, 5, 6, 7, 8, 9, 10, 11, 12, 13, 14, 15, 16, 17, 18, 19, 20, 21, 22, 23, 24, 25, 26, 27, 28, 29, 30, 31, 32, 33, 34, 35, 36, 37, 38, 39, 40, 41, 42, 43, 44, 45, 46, 47, 48, 49, 50, 51, 52, 53, 54, 55, 56, 57, 58, 59, 60, 61, 62, 63, 64, 65, 66, 67, 68, 69, 70, 71, 72, 73, 74, 75, 76, 77, 78, 79, 80, 81, 82, 83, 84, 85, 86, 87, 88, 89, 90, 91, 92, 93, 94, 95, 96, 97, 98, 99, 100, 101, 102, 103, 104, 105, 106, 107, 108, 109, 110, 111, 112, 113, 114, 115, 116, 117, 118, 119, 120, 121, 122, 123, 124] 124 [0.9919354838709677, 0.008064516129032251]\n",
      "/l/users/santosh.sanjeev/model_soups/runs/test/fge/HAM/ResNet50/1.00e-07/fge-15.pt\n",
      "125 [1, 2, 3, 4, 5, 6, 7, 8, 9, 10, 11, 12, 13, 14, 15, 16, 17, 18, 19, 20, 21, 22, 23, 24, 25, 26, 27, 28, 29, 30, 31, 32, 33, 34, 35, 36, 37, 38, 39, 40, 41, 42, 43, 44, 45, 46, 47, 48, 49, 50, 51, 52, 53, 54, 55, 56, 57, 58, 59, 60, 61, 62, 63, 64, 65, 66, 67, 68, 69, 70, 71, 72, 73, 74, 75, 76, 77, 78, 79, 80, 81, 82, 83, 84, 85, 86, 87, 88, 89, 90, 91, 92, 93, 94, 95, 96, 97, 98, 99, 100, 101, 102, 103, 104, 105, 106, 107, 108, 109, 110, 111, 112, 113, 114, 115, 116, 117, 118, 119, 120, 121, 122, 123, 124, 125] 125 [0.992, 0.008000000000000007]\n",
      "/l/users/santosh.sanjeev/model_soups/runs/test/fge/HAM/ResNet50/1.00e-07/fge-21.pt\n",
      "126 [1, 2, 3, 4, 5, 6, 7, 8, 9, 10, 11, 12, 13, 14, 15, 16, 17, 18, 19, 20, 21, 22, 23, 24, 25, 26, 27, 28, 29, 30, 31, 32, 33, 34, 35, 36, 37, 38, 39, 40, 41, 42, 43, 44, 45, 46, 47, 48, 49, 50, 51, 52, 53, 54, 55, 56, 57, 58, 59, 60, 61, 62, 63, 64, 65, 66, 67, 68, 69, 70, 71, 72, 73, 74, 75, 76, 77, 78, 79, 80, 81, 82, 83, 84, 85, 86, 87, 88, 89, 90, 91, 92, 93, 94, 95, 96, 97, 98, 99, 100, 101, 102, 103, 104, 105, 106, 107, 108, 109, 110, 111, 112, 113, 114, 115, 116, 117, 118, 119, 120, 121, 122, 123, 124, 125, 126] 126 [0.9920634920634921, 0.007936507936507908]\n",
      "/l/users/santosh.sanjeev/model_soups/runs/test/fge/HAM/ResNet50/1.00e-07/fge-23.pt\n",
      "127 [1, 2, 3, 4, 5, 6, 7, 8, 9, 10, 11, 12, 13, 14, 15, 16, 17, 18, 19, 20, 21, 22, 23, 24, 25, 26, 27, 28, 29, 30, 31, 32, 33, 34, 35, 36, 37, 38, 39, 40, 41, 42, 43, 44, 45, 46, 47, 48, 49, 50, 51, 52, 53, 54, 55, 56, 57, 58, 59, 60, 61, 62, 63, 64, 65, 66, 67, 68, 69, 70, 71, 72, 73, 74, 75, 76, 77, 78, 79, 80, 81, 82, 83, 84, 85, 86, 87, 88, 89, 90, 91, 92, 93, 94, 95, 96, 97, 98, 99, 100, 101, 102, 103, 104, 105, 106, 107, 108, 109, 110, 111, 112, 113, 114, 115, 116, 117, 118, 119, 120, 121, 122, 123, 124, 125, 126, 127] 127 [0.9921259842519685, 0.007874015748031482]\n",
      "/l/users/santosh.sanjeev/model_soups/runs/test/fge/HAM/ResNet50/5.00e-05/fge-16.pt\n",
      "128 [1, 2, 3, 4, 5, 6, 7, 8, 9, 10, 11, 12, 13, 14, 15, 16, 17, 18, 19, 20, 21, 22, 23, 24, 25, 26, 27, 28, 29, 30, 31, 32, 33, 34, 35, 36, 37, 38, 39, 40, 41, 42, 43, 44, 45, 46, 47, 48, 49, 50, 51, 52, 53, 54, 55, 56, 57, 58, 59, 60, 61, 62, 63, 64, 65, 66, 67, 68, 69, 70, 71, 72, 73, 74, 75, 76, 77, 78, 79, 80, 81, 82, 83, 84, 85, 86, 87, 88, 89, 90, 91, 92, 93, 94, 95, 96, 97, 98, 99, 100, 101, 102, 103, 104, 105, 106, 107, 108, 109, 110, 111, 112, 113, 114, 115, 116, 117, 118, 119, 120, 121, 122, 123, 124, 125, 126, 127, 128] 128 [0.9921875, 0.0078125]\n",
      "/l/users/santosh.sanjeev/model_soups/runs/test/fge/HAM/ResNet50/1.00e-06/fge-18.pt\n",
      "129 [1, 2, 3, 4, 5, 6, 7, 8, 9, 10, 11, 12, 13, 14, 15, 16, 17, 18, 19, 20, 21, 22, 23, 24, 25, 26, 27, 28, 29, 30, 31, 32, 33, 34, 35, 36, 37, 38, 39, 40, 41, 42, 43, 44, 45, 46, 47, 48, 49, 50, 51, 52, 53, 54, 55, 56, 57, 58, 59, 60, 61, 62, 63, 64, 65, 66, 67, 68, 69, 70, 71, 72, 73, 74, 75, 76, 77, 78, 79, 80, 81, 82, 83, 84, 85, 86, 87, 88, 89, 90, 91, 92, 93, 94, 95, 96, 97, 98, 99, 100, 101, 102, 103, 104, 105, 106, 107, 108, 109, 110, 111, 112, 113, 114, 115, 116, 117, 118, 119, 120, 121, 122, 123, 124, 125, 126, 127, 128, 129] 129 [0.9922480620155039, 0.007751937984496138]\n",
      "/l/users/santosh.sanjeev/model_soups/runs/test/fge/HAM/ResNet50/5.00e-05/fge-12.pt\n",
      "130 [1, 2, 3, 4, 5, 6, 7, 8, 9, 10, 11, 12, 13, 14, 15, 16, 17, 18, 19, 20, 21, 22, 23, 24, 25, 26, 27, 28, 29, 30, 31, 32, 33, 34, 35, 36, 37, 38, 39, 40, 41, 42, 43, 44, 45, 46, 47, 48, 49, 50, 51, 52, 53, 54, 55, 56, 57, 58, 59, 60, 61, 62, 63, 64, 65, 66, 67, 68, 69, 70, 71, 72, 73, 74, 75, 76, 77, 78, 79, 80, 81, 82, 83, 84, 85, 86, 87, 88, 89, 90, 91, 92, 93, 94, 95, 96, 97, 98, 99, 100, 101, 102, 103, 104, 105, 106, 107, 108, 109, 110, 111, 112, 113, 114, 115, 116, 117, 118, 119, 120, 121, 122, 123, 124, 125, 126, 127, 128, 129, 130] 130 [0.9923076923076923, 0.007692307692307665]\n",
      "/l/users/santosh.sanjeev/model_soups/runs/test/fge/HAM/ResNet50/1.00e-06/fge-15.pt\n",
      "131 [1, 2, 3, 4, 5, 6, 7, 8, 9, 10, 11, 12, 13, 14, 15, 16, 17, 18, 19, 20, 21, 22, 23, 24, 25, 26, 27, 28, 29, 30, 31, 32, 33, 34, 35, 36, 37, 38, 39, 40, 41, 42, 43, 44, 45, 46, 47, 48, 49, 50, 51, 52, 53, 54, 55, 56, 57, 58, 59, 60, 61, 62, 63, 64, 65, 66, 67, 68, 69, 70, 71, 72, 73, 74, 75, 76, 77, 78, 79, 80, 81, 82, 83, 84, 85, 86, 87, 88, 89, 90, 91, 92, 93, 94, 95, 96, 97, 98, 99, 100, 101, 102, 103, 104, 105, 106, 107, 108, 109, 110, 111, 112, 113, 114, 115, 116, 117, 118, 119, 120, 121, 122, 123, 124, 125, 126, 127, 128, 129, 130, 131] 131 [0.9923664122137404, 0.007633587786259555]\n",
      "/l/users/santosh.sanjeev/model_soups/runs/test/fge/HAM/ResNet50/1.00e-06/fge-17.pt\n",
      "132 [1, 2, 3, 4, 5, 6, 7, 8, 9, 10, 11, 12, 13, 14, 15, 16, 17, 18, 19, 20, 21, 22, 23, 24, 25, 26, 27, 28, 29, 30, 31, 32, 33, 34, 35, 36, 37, 38, 39, 40, 41, 42, 43, 44, 45, 46, 47, 48, 49, 50, 51, 52, 53, 54, 55, 56, 57, 58, 59, 60, 61, 62, 63, 64, 65, 66, 67, 68, 69, 70, 71, 72, 73, 74, 75, 76, 77, 78, 79, 80, 81, 82, 83, 84, 85, 86, 87, 88, 89, 90, 91, 92, 93, 94, 95, 96, 97, 98, 99, 100, 101, 102, 103, 104, 105, 106, 107, 108, 109, 110, 111, 112, 113, 114, 115, 116, 117, 118, 119, 120, 121, 122, 123, 124, 125, 126, 127, 128, 129, 130, 131, 132] 132 [0.9924242424242424, 0.007575757575757569]\n",
      "/l/users/santosh.sanjeev/model_soups/runs/test/fge/HAM/ResNet50/1.00e-06/fge-12.pt\n",
      "133 [1, 2, 3, 4, 5, 6, 7, 8, 9, 10, 11, 12, 13, 14, 15, 16, 17, 18, 19, 20, 21, 22, 23, 24, 25, 26, 27, 28, 29, 30, 31, 32, 33, 34, 35, 36, 37, 38, 39, 40, 41, 42, 43, 44, 45, 46, 47, 48, 49, 50, 51, 52, 53, 54, 55, 56, 57, 58, 59, 60, 61, 62, 63, 64, 65, 66, 67, 68, 69, 70, 71, 72, 73, 74, 75, 76, 77, 78, 79, 80, 81, 82, 83, 84, 85, 86, 87, 88, 89, 90, 91, 92, 93, 94, 95, 96, 97, 98, 99, 100, 101, 102, 103, 104, 105, 106, 107, 108, 109, 110, 111, 112, 113, 114, 115, 116, 117, 118, 119, 120, 121, 122, 123, 124, 125, 126, 127, 128, 129, 130, 131, 132, 133] 133 [0.9924812030075187, 0.007518796992481258]\n",
      "/l/users/santosh.sanjeev/model_soups/runs/test/fge/HAM/ResNet50/1.00e-03/fge-16.pt\n",
      "134 [1, 2, 3, 4, 5, 6, 7, 8, 9, 10, 11, 12, 13, 14, 15, 16, 17, 18, 19, 20, 21, 22, 23, 24, 25, 26, 27, 28, 29, 30, 31, 32, 33, 34, 35, 36, 37, 38, 39, 40, 41, 42, 43, 44, 45, 46, 47, 48, 49, 50, 51, 52, 53, 54, 55, 56, 57, 58, 59, 60, 61, 62, 63, 64, 65, 66, 67, 68, 69, 70, 71, 72, 73, 74, 75, 76, 77, 78, 79, 80, 81, 82, 83, 84, 85, 86, 87, 88, 89, 90, 91, 92, 93, 94, 95, 96, 97, 98, 99, 100, 101, 102, 103, 104, 105, 106, 107, 108, 109, 110, 111, 112, 113, 114, 115, 116, 117, 118, 119, 120, 121, 122, 123, 124, 125, 126, 127, 128, 129, 130, 131, 132, 133, 134] 134 [0.9925373134328358, 0.007462686567164201]\n",
      "/l/users/santosh.sanjeev/model_soups/runs/test/fge/HAM/ResNet50/5.00e-05/fge-25.pt\n",
      "135 [1, 2, 3, 4, 5, 6, 7, 8, 9, 10, 11, 12, 13, 14, 15, 16, 17, 18, 19, 20, 21, 22, 23, 24, 25, 26, 27, 28, 29, 30, 31, 32, 33, 34, 35, 36, 37, 38, 39, 40, 41, 42, 43, 44, 45, 46, 47, 48, 49, 50, 51, 52, 53, 54, 55, 56, 57, 58, 59, 60, 61, 62, 63, 64, 65, 66, 67, 68, 69, 70, 71, 72, 73, 74, 75, 76, 77, 78, 79, 80, 81, 82, 83, 84, 85, 86, 87, 88, 89, 90, 91, 92, 93, 94, 95, 96, 97, 98, 99, 100, 101, 102, 103, 104, 105, 106, 107, 108, 109, 110, 111, 112, 113, 114, 115, 116, 117, 118, 119, 120, 121, 122, 123, 124, 125, 126, 127, 128, 129, 130, 131, 132, 133, 134, 135] 135 [0.9925925925925926, 0.007407407407407418]\n",
      "/l/users/santosh.sanjeev/model_soups/runs/test/fge/HAM/ResNet50/5.00e-05/fge-14.pt\n",
      "136 [1, 2, 3, 4, 5, 6, 7, 8, 9, 10, 11, 12, 13, 14, 15, 16, 17, 18, 19, 20, 21, 22, 23, 24, 25, 26, 27, 28, 29, 30, 31, 32, 33, 34, 35, 36, 37, 38, 39, 40, 41, 42, 43, 44, 45, 46, 47, 48, 49, 50, 51, 52, 53, 54, 55, 56, 57, 58, 59, 60, 61, 62, 63, 64, 65, 66, 67, 68, 69, 70, 71, 72, 73, 74, 75, 76, 77, 78, 79, 80, 81, 82, 83, 84, 85, 86, 87, 88, 89, 90, 91, 92, 93, 94, 95, 96, 97, 98, 99, 100, 101, 102, 103, 104, 105, 106, 107, 108, 109, 110, 111, 112, 113, 114, 115, 116, 117, 118, 119, 120, 121, 122, 123, 124, 125, 126, 127, 128, 129, 130, 131, 132, 133, 134, 135, 136] 136 [0.9926470588235294, 0.007352941176470562]\n",
      "/l/users/santosh.sanjeev/model_soups/runs/test/fge/HAM/ResNet50/5.00e-05/fge-13.pt\n",
      "137 [1, 2, 3, 4, 5, 6, 7, 8, 9, 10, 11, 12, 13, 14, 15, 16, 17, 18, 19, 20, 21, 22, 23, 24, 25, 26, 27, 28, 29, 30, 31, 32, 33, 34, 35, 36, 37, 38, 39, 40, 41, 42, 43, 44, 45, 46, 47, 48, 49, 50, 51, 52, 53, 54, 55, 56, 57, 58, 59, 60, 61, 62, 63, 64, 65, 66, 67, 68, 69, 70, 71, 72, 73, 74, 75, 76, 77, 78, 79, 80, 81, 82, 83, 84, 85, 86, 87, 88, 89, 90, 91, 92, 93, 94, 95, 96, 97, 98, 99, 100, 101, 102, 103, 104, 105, 106, 107, 108, 109, 110, 111, 112, 113, 114, 115, 116, 117, 118, 119, 120, 121, 122, 123, 124, 125, 126, 127, 128, 129, 130, 131, 132, 133, 134, 135, 136, 137] 137 [0.9927007299270073, 0.007299270072992692]\n",
      "/l/users/santosh.sanjeev/model_soups/runs/test/fge/HAM/ResNet50/5.00e-05/fge-22.pt\n",
      "138 [1, 2, 3, 4, 5, 6, 7, 8, 9, 10, 11, 12, 13, 14, 15, 16, 17, 18, 19, 20, 21, 22, 23, 24, 25, 26, 27, 28, 29, 30, 31, 32, 33, 34, 35, 36, 37, 38, 39, 40, 41, 42, 43, 44, 45, 46, 47, 48, 49, 50, 51, 52, 53, 54, 55, 56, 57, 58, 59, 60, 61, 62, 63, 64, 65, 66, 67, 68, 69, 70, 71, 72, 73, 74, 75, 76, 77, 78, 79, 80, 81, 82, 83, 84, 85, 86, 87, 88, 89, 90, 91, 92, 93, 94, 95, 96, 97, 98, 99, 100, 101, 102, 103, 104, 105, 106, 107, 108, 109, 110, 111, 112, 113, 114, 115, 116, 117, 118, 119, 120, 121, 122, 123, 124, 125, 126, 127, 128, 129, 130, 131, 132, 133, 134, 135, 136, 137, 138] 138 [0.9927536231884058, 0.007246376811594235]\n",
      "/l/users/santosh.sanjeev/model_soups/runs/test/fge/HAM/ResNet50/1.00e-03/fge-7.pt\n",
      "139 [1, 2, 3, 4, 5, 6, 7, 8, 9, 10, 11, 12, 13, 14, 15, 16, 17, 18, 19, 20, 21, 22, 23, 24, 25, 26, 27, 28, 29, 30, 31, 32, 33, 34, 35, 36, 37, 38, 39, 40, 41, 42, 43, 44, 45, 46, 47, 48, 49, 50, 51, 52, 53, 54, 55, 56, 57, 58, 59, 60, 61, 62, 63, 64, 65, 66, 67, 68, 69, 70, 71, 72, 73, 74, 75, 76, 77, 78, 79, 80, 81, 82, 83, 84, 85, 86, 87, 88, 89, 90, 91, 92, 93, 94, 95, 96, 97, 98, 99, 100, 101, 102, 103, 104, 105, 106, 107, 108, 109, 110, 111, 112, 113, 114, 115, 116, 117, 118, 119, 120, 121, 122, 123, 124, 125, 126, 127, 128, 129, 130, 131, 132, 133, 134, 135, 136, 137, 138, 139] 139 [0.9928057553956835, 0.007194244604316502]\n",
      "/l/users/santosh.sanjeev/model_soups/runs/test/fge/HAM/ResNet50/1.00e-03/fge-10.pt\n",
      "140 [1, 2, 3, 4, 5, 6, 7, 8, 9, 10, 11, 12, 13, 14, 15, 16, 17, 18, 19, 20, 21, 22, 23, 24, 25, 26, 27, 28, 29, 30, 31, 32, 33, 34, 35, 36, 37, 38, 39, 40, 41, 42, 43, 44, 45, 46, 47, 48, 49, 50, 51, 52, 53, 54, 55, 56, 57, 58, 59, 60, 61, 62, 63, 64, 65, 66, 67, 68, 69, 70, 71, 72, 73, 74, 75, 76, 77, 78, 79, 80, 81, 82, 83, 84, 85, 86, 87, 88, 89, 90, 91, 92, 93, 94, 95, 96, 97, 98, 99, 100, 101, 102, 103, 104, 105, 106, 107, 108, 109, 110, 111, 112, 113, 114, 115, 116, 117, 118, 119, 120, 121, 122, 123, 124, 125, 126, 127, 128, 129, 130, 131, 132, 133, 134, 135, 136, 137, 138, 139, 140] 140 [0.9928571428571429, 0.0071428571428571175]\n",
      "/l/users/santosh.sanjeev/model_soups/runs/test/fge/HAM/ResNet50/1.00e-04/fge-1.pt\n",
      "141 [1, 2, 3, 4, 5, 6, 7, 8, 9, 10, 11, 12, 13, 14, 15, 16, 17, 18, 19, 20, 21, 22, 23, 24, 25, 26, 27, 28, 29, 30, 31, 32, 33, 34, 35, 36, 37, 38, 39, 40, 41, 42, 43, 44, 45, 46, 47, 48, 49, 50, 51, 52, 53, 54, 55, 56, 57, 58, 59, 60, 61, 62, 63, 64, 65, 66, 67, 68, 69, 70, 71, 72, 73, 74, 75, 76, 77, 78, 79, 80, 81, 82, 83, 84, 85, 86, 87, 88, 89, 90, 91, 92, 93, 94, 95, 96, 97, 98, 99, 100, 101, 102, 103, 104, 105, 106, 107, 108, 109, 110, 111, 112, 113, 114, 115, 116, 117, 118, 119, 120, 121, 122, 123, 124, 125, 126, 127, 128, 129, 130, 131, 132, 133, 134, 135, 136, 137, 138, 139, 140, 141] 141 [0.9929078014184397, 0.007092198581560294]\n",
      "/l/users/santosh.sanjeev/model_soups/runs/test/fge/HAM/ResNet50/5.00e-05/fge-21.pt\n",
      "142 [1, 2, 3, 4, 5, 6, 7, 8, 9, 10, 11, 12, 13, 14, 15, 16, 17, 18, 19, 20, 21, 22, 23, 24, 25, 26, 27, 28, 29, 30, 31, 32, 33, 34, 35, 36, 37, 38, 39, 40, 41, 42, 43, 44, 45, 46, 47, 48, 49, 50, 51, 52, 53, 54, 55, 56, 57, 58, 59, 60, 61, 62, 63, 64, 65, 66, 67, 68, 69, 70, 71, 72, 73, 74, 75, 76, 77, 78, 79, 80, 81, 82, 83, 84, 85, 86, 87, 88, 89, 90, 91, 92, 93, 94, 95, 96, 97, 98, 99, 100, 101, 102, 103, 104, 105, 106, 107, 108, 109, 110, 111, 112, 113, 114, 115, 116, 117, 118, 119, 120, 121, 122, 123, 124, 125, 126, 127, 128, 129, 130, 131, 132, 133, 134, 135, 136, 137, 138, 139, 140, 141, 142] 142 [0.9929577464788732, 0.007042253521126751]\n",
      "/l/users/santosh.sanjeev/model_soups/runs/test/fge/HAM/ResNet50/1.00e-05/fge-15.pt\n",
      "143 [1, 2, 3, 4, 5, 6, 7, 8, 9, 10, 11, 12, 13, 14, 15, 16, 17, 18, 19, 20, 21, 22, 23, 24, 25, 26, 27, 28, 29, 30, 31, 32, 33, 34, 35, 36, 37, 38, 39, 40, 41, 42, 43, 44, 45, 46, 47, 48, 49, 50, 51, 52, 53, 54, 55, 56, 57, 58, 59, 60, 61, 62, 63, 64, 65, 66, 67, 68, 69, 70, 71, 72, 73, 74, 75, 76, 77, 78, 79, 80, 81, 82, 83, 84, 85, 86, 87, 88, 89, 90, 91, 92, 93, 94, 95, 96, 97, 98, 99, 100, 101, 102, 103, 104, 105, 106, 107, 108, 109, 110, 111, 112, 113, 114, 115, 116, 117, 118, 119, 120, 121, 122, 123, 124, 125, 126, 127, 128, 129, 130, 131, 132, 133, 134, 135, 136, 137, 138, 139, 140, 141, 142, 143] 143 [0.993006993006993, 0.006993006993006978]\n",
      "/l/users/santosh.sanjeev/model_soups/runs/test/fge/HAM/ResNet50/5.00e-05/fge-24.pt\n",
      "144 [1, 2, 3, 4, 5, 6, 7, 8, 9, 10, 11, 12, 13, 14, 15, 16, 17, 18, 19, 20, 21, 22, 23, 24, 25, 26, 27, 28, 29, 30, 31, 32, 33, 34, 35, 36, 37, 38, 39, 40, 41, 42, 43, 44, 45, 46, 47, 48, 49, 50, 51, 52, 53, 54, 55, 56, 57, 58, 59, 60, 61, 62, 63, 64, 65, 66, 67, 68, 69, 70, 71, 72, 73, 74, 75, 76, 77, 78, 79, 80, 81, 82, 83, 84, 85, 86, 87, 88, 89, 90, 91, 92, 93, 94, 95, 96, 97, 98, 99, 100, 101, 102, 103, 104, 105, 106, 107, 108, 109, 110, 111, 112, 113, 114, 115, 116, 117, 118, 119, 120, 121, 122, 123, 124, 125, 126, 127, 128, 129, 130, 131, 132, 133, 134, 135, 136, 137, 138, 139, 140, 141, 142, 143, 144] 144 [0.9930555555555556, 0.00694444444444442]\n",
      "/l/users/santosh.sanjeev/model_soups/runs/test/fge/HAM/ResNet50/5.00e-05/fge-20.pt\n",
      "145 [1, 2, 3, 4, 5, 6, 7, 8, 9, 10, 11, 12, 13, 14, 15, 16, 17, 18, 19, 20, 21, 22, 23, 24, 25, 26, 27, 28, 29, 30, 31, 32, 33, 34, 35, 36, 37, 38, 39, 40, 41, 42, 43, 44, 45, 46, 47, 48, 49, 50, 51, 52, 53, 54, 55, 56, 57, 58, 59, 60, 61, 62, 63, 64, 65, 66, 67, 68, 69, 70, 71, 72, 73, 74, 75, 76, 77, 78, 79, 80, 81, 82, 83, 84, 85, 86, 87, 88, 89, 90, 91, 92, 93, 94, 95, 96, 97, 98, 99, 100, 101, 102, 103, 104, 105, 106, 107, 108, 109, 110, 111, 112, 113, 114, 115, 116, 117, 118, 119, 120, 121, 122, 123, 124, 125, 126, 127, 128, 129, 130, 131, 132, 133, 134, 135, 136, 137, 138, 139, 140, 141, 142, 143, 144, 145] 145 [0.993103448275862, 0.006896551724137945]\n",
      "/l/users/santosh.sanjeev/model_soups/runs/test/fge/HAM/ResNet50/1.00e-03/fge-21.pt\n",
      "146 [1, 2, 3, 4, 5, 6, 7, 8, 9, 10, 11, 12, 13, 14, 15, 16, 17, 18, 19, 20, 21, 22, 23, 24, 25, 26, 27, 28, 29, 30, 31, 32, 33, 34, 35, 36, 37, 38, 39, 40, 41, 42, 43, 44, 45, 46, 47, 48, 49, 50, 51, 52, 53, 54, 55, 56, 57, 58, 59, 60, 61, 62, 63, 64, 65, 66, 67, 68, 69, 70, 71, 72, 73, 74, 75, 76, 77, 78, 79, 80, 81, 82, 83, 84, 85, 86, 87, 88, 89, 90, 91, 92, 93, 94, 95, 96, 97, 98, 99, 100, 101, 102, 103, 104, 105, 106, 107, 108, 109, 110, 111, 112, 113, 114, 115, 116, 117, 118, 119, 120, 121, 122, 123, 124, 125, 126, 127, 128, 129, 130, 131, 132, 133, 134, 135, 136, 137, 138, 139, 140, 141, 142, 143, 144, 145, 146] 146 [0.9931506849315068, 0.006849315068493178]\n",
      "/l/users/santosh.sanjeev/model_soups/runs/test/fge/HAM/ResNet50/5.00e-05/fge-19.pt\n",
      "147 [1, 2, 3, 4, 5, 6, 7, 8, 9, 10, 11, 12, 13, 14, 15, 16, 17, 18, 19, 20, 21, 22, 23, 24, 25, 26, 27, 28, 29, 30, 31, 32, 33, 34, 35, 36, 37, 38, 39, 40, 41, 42, 43, 44, 45, 46, 47, 48, 49, 50, 51, 52, 53, 54, 55, 56, 57, 58, 59, 60, 61, 62, 63, 64, 65, 66, 67, 68, 69, 70, 71, 72, 73, 74, 75, 76, 77, 78, 79, 80, 81, 82, 83, 84, 85, 86, 87, 88, 89, 90, 91, 92, 93, 94, 95, 96, 97, 98, 99, 100, 101, 102, 103, 104, 105, 106, 107, 108, 109, 110, 111, 112, 113, 114, 115, 116, 117, 118, 119, 120, 121, 122, 123, 124, 125, 126, 127, 128, 129, 130, 131, 132, 133, 134, 135, 136, 137, 138, 139, 140, 141, 142, 143, 144, 145, 146, 147] 147 [0.9931972789115646, 0.006802721088435382]\n",
      "/l/users/santosh.sanjeev/model_soups/runs/test/fge/HAM/ResNet50/1.00e-04/fge-2.pt\n",
      "148 [1, 2, 3, 4, 5, 6, 7, 8, 9, 10, 11, 12, 13, 14, 15, 16, 17, 18, 19, 20, 21, 22, 23, 24, 25, 26, 27, 28, 29, 30, 31, 32, 33, 34, 35, 36, 37, 38, 39, 40, 41, 42, 43, 44, 45, 46, 47, 48, 49, 50, 51, 52, 53, 54, 55, 56, 57, 58, 59, 60, 61, 62, 63, 64, 65, 66, 67, 68, 69, 70, 71, 72, 73, 74, 75, 76, 77, 78, 79, 80, 81, 82, 83, 84, 85, 86, 87, 88, 89, 90, 91, 92, 93, 94, 95, 96, 97, 98, 99, 100, 101, 102, 103, 104, 105, 106, 107, 108, 109, 110, 111, 112, 113, 114, 115, 116, 117, 118, 119, 120, 121, 122, 123, 124, 125, 126, 127, 128, 129, 130, 131, 132, 133, 134, 135, 136, 137, 138, 139, 140, 141, 142, 143, 144, 145, 146, 147, 148] 148 [0.9932432432432432, 0.006756756756756799]\n",
      "/l/users/santosh.sanjeev/model_soups/runs/test/fge/HAM/ResNet50/1.00e-04/fge--1.pt\n",
      "149 [1, 2, 3, 4, 5, 6, 7, 8, 9, 10, 11, 12, 13, 14, 15, 16, 17, 18, 19, 20, 21, 22, 23, 24, 25, 26, 27, 28, 29, 30, 31, 32, 33, 34, 35, 36, 37, 38, 39, 40, 41, 42, 43, 44, 45, 46, 47, 48, 49, 50, 51, 52, 53, 54, 55, 56, 57, 58, 59, 60, 61, 62, 63, 64, 65, 66, 67, 68, 69, 70, 71, 72, 73, 74, 75, 76, 77, 78, 79, 80, 81, 82, 83, 84, 85, 86, 87, 88, 89, 90, 91, 92, 93, 94, 95, 96, 97, 98, 99, 100, 101, 102, 103, 104, 105, 106, 107, 108, 109, 110, 111, 112, 113, 114, 115, 116, 117, 118, 119, 120, 121, 122, 123, 124, 125, 126, 127, 128, 129, 130, 131, 132, 133, 134, 135, 136, 137, 138, 139, 140, 141, 142, 143, 144, 145, 146, 147, 148, 149] 149 [0.9932885906040269, 0.006711409395973145]\n",
      "/l/users/santosh.sanjeev/model_soups/runs/test/fge/HAM/ResNet50/1.00e-03/fge-12.pt\n",
      "150 [1, 2, 3, 4, 5, 6, 7, 8, 9, 10, 11, 12, 13, 14, 15, 16, 17, 18, 19, 20, 21, 22, 23, 24, 25, 26, 27, 28, 29, 30, 31, 32, 33, 34, 35, 36, 37, 38, 39, 40, 41, 42, 43, 44, 45, 46, 47, 48, 49, 50, 51, 52, 53, 54, 55, 56, 57, 58, 59, 60, 61, 62, 63, 64, 65, 66, 67, 68, 69, 70, 71, 72, 73, 74, 75, 76, 77, 78, 79, 80, 81, 82, 83, 84, 85, 86, 87, 88, 89, 90, 91, 92, 93, 94, 95, 96, 97, 98, 99, 100, 101, 102, 103, 104, 105, 106, 107, 108, 109, 110, 111, 112, 113, 114, 115, 116, 117, 118, 119, 120, 121, 122, 123, 124, 125, 126, 127, 128, 129, 130, 131, 132, 133, 134, 135, 136, 137, 138, 139, 140, 141, 142, 143, 144, 145, 146, 147, 148, 149, 150] 150 [0.9933333333333333, 0.00666666666666671]\n",
      "/l/users/santosh.sanjeev/model_soups/runs/test/fge/HAM/ResNet50/1.00e-06/fge-10.pt\n",
      "151 [1, 2, 3, 4, 5, 6, 7, 8, 9, 10, 11, 12, 13, 14, 15, 16, 17, 18, 19, 20, 21, 22, 23, 24, 25, 26, 27, 28, 29, 30, 31, 32, 33, 34, 35, 36, 37, 38, 39, 40, 41, 42, 43, 44, 45, 46, 47, 48, 49, 50, 51, 52, 53, 54, 55, 56, 57, 58, 59, 60, 61, 62, 63, 64, 65, 66, 67, 68, 69, 70, 71, 72, 73, 74, 75, 76, 77, 78, 79, 80, 81, 82, 83, 84, 85, 86, 87, 88, 89, 90, 91, 92, 93, 94, 95, 96, 97, 98, 99, 100, 101, 102, 103, 104, 105, 106, 107, 108, 109, 110, 111, 112, 113, 114, 115, 116, 117, 118, 119, 120, 121, 122, 123, 124, 125, 126, 127, 128, 129, 130, 131, 132, 133, 134, 135, 136, 137, 138, 139, 140, 141, 142, 143, 144, 145, 146, 147, 148, 149, 150, 151] 151 [0.9933774834437086, 0.0066225165562914245]\n",
      "/l/users/santosh.sanjeev/model_soups/runs/test/fge/HAM/ResNet50/1.00e-03/fge-17.pt\n",
      "152 [1, 2, 3, 4, 5, 6, 7, 8, 9, 10, 11, 12, 13, 14, 15, 16, 17, 18, 19, 20, 21, 22, 23, 24, 25, 26, 27, 28, 29, 30, 31, 32, 33, 34, 35, 36, 37, 38, 39, 40, 41, 42, 43, 44, 45, 46, 47, 48, 49, 50, 51, 52, 53, 54, 55, 56, 57, 58, 59, 60, 61, 62, 63, 64, 65, 66, 67, 68, 69, 70, 71, 72, 73, 74, 75, 76, 77, 78, 79, 80, 81, 82, 83, 84, 85, 86, 87, 88, 89, 90, 91, 92, 93, 94, 95, 96, 97, 98, 99, 100, 101, 102, 103, 104, 105, 106, 107, 108, 109, 110, 111, 112, 113, 114, 115, 116, 117, 118, 119, 120, 121, 122, 123, 124, 125, 126, 127, 128, 129, 130, 131, 132, 133, 134, 135, 136, 137, 138, 139, 140, 141, 142, 143, 144, 145, 146, 147, 148, 149, 150, 151, 152] 152 [0.993421052631579, 0.006578947368421018]\n",
      "/l/users/santosh.sanjeev/model_soups/runs/test/fge/HAM/ResNet50/1.00e-06/fge-11.pt\n",
      "153 [1, 2, 3, 4, 5, 6, 7, 8, 9, 10, 11, 12, 13, 14, 15, 16, 17, 18, 19, 20, 21, 22, 23, 24, 25, 26, 27, 28, 29, 30, 31, 32, 33, 34, 35, 36, 37, 38, 39, 40, 41, 42, 43, 44, 45, 46, 47, 48, 49, 50, 51, 52, 53, 54, 55, 56, 57, 58, 59, 60, 61, 62, 63, 64, 65, 66, 67, 68, 69, 70, 71, 72, 73, 74, 75, 76, 77, 78, 79, 80, 81, 82, 83, 84, 85, 86, 87, 88, 89, 90, 91, 92, 93, 94, 95, 96, 97, 98, 99, 100, 101, 102, 103, 104, 105, 106, 107, 108, 109, 110, 111, 112, 113, 114, 115, 116, 117, 118, 119, 120, 121, 122, 123, 124, 125, 126, 127, 128, 129, 130, 131, 132, 133, 134, 135, 136, 137, 138, 139, 140, 141, 142, 143, 144, 145, 146, 147, 148, 149, 150, 151, 152, 153] 153 [0.9934640522875817, 0.006535947712418277]\n",
      "/l/users/santosh.sanjeev/model_soups/runs/test/fge/HAM/ResNet50/1.00e-06/fge-9.pt\n",
      "154 [1, 2, 3, 4, 5, 6, 7, 8, 9, 10, 11, 12, 13, 14, 15, 16, 17, 18, 19, 20, 21, 22, 23, 24, 25, 26, 27, 28, 29, 30, 31, 32, 33, 34, 35, 36, 37, 38, 39, 40, 41, 42, 43, 44, 45, 46, 47, 48, 49, 50, 51, 52, 53, 54, 55, 56, 57, 58, 59, 60, 61, 62, 63, 64, 65, 66, 67, 68, 69, 70, 71, 72, 73, 74, 75, 76, 77, 78, 79, 80, 81, 82, 83, 84, 85, 86, 87, 88, 89, 90, 91, 92, 93, 94, 95, 96, 97, 98, 99, 100, 101, 102, 103, 104, 105, 106, 107, 108, 109, 110, 111, 112, 113, 114, 115, 116, 117, 118, 119, 120, 121, 122, 123, 124, 125, 126, 127, 128, 129, 130, 131, 132, 133, 134, 135, 136, 137, 138, 139, 140, 141, 142, 143, 144, 145, 146, 147, 148, 149, 150, 151, 152, 153, 154] 154 [0.9935064935064936, 0.00649350649350644]\n",
      "/l/users/santosh.sanjeev/model_soups/runs/test/fge/HAM/ResNet50/1.00e-06/fge-8.pt\n",
      "155 [1, 2, 3, 4, 5, 6, 7, 8, 9, 10, 11, 12, 13, 14, 15, 16, 17, 18, 19, 20, 21, 22, 23, 24, 25, 26, 27, 28, 29, 30, 31, 32, 33, 34, 35, 36, 37, 38, 39, 40, 41, 42, 43, 44, 45, 46, 47, 48, 49, 50, 51, 52, 53, 54, 55, 56, 57, 58, 59, 60, 61, 62, 63, 64, 65, 66, 67, 68, 69, 70, 71, 72, 73, 74, 75, 76, 77, 78, 79, 80, 81, 82, 83, 84, 85, 86, 87, 88, 89, 90, 91, 92, 93, 94, 95, 96, 97, 98, 99, 100, 101, 102, 103, 104, 105, 106, 107, 108, 109, 110, 111, 112, 113, 114, 115, 116, 117, 118, 119, 120, 121, 122, 123, 124, 125, 126, 127, 128, 129, 130, 131, 132, 133, 134, 135, 136, 137, 138, 139, 140, 141, 142, 143, 144, 145, 146, 147, 148, 149, 150, 151, 152, 153, 154, 155] 155 [0.9935483870967742, 0.006451612903225823]\n",
      "/l/users/santosh.sanjeev/model_soups/runs/test/fge/HAM/ResNet50/1.00e-03/fge-6.pt\n",
      "156 [1, 2, 3, 4, 5, 6, 7, 8, 9, 10, 11, 12, 13, 14, 15, 16, 17, 18, 19, 20, 21, 22, 23, 24, 25, 26, 27, 28, 29, 30, 31, 32, 33, 34, 35, 36, 37, 38, 39, 40, 41, 42, 43, 44, 45, 46, 47, 48, 49, 50, 51, 52, 53, 54, 55, 56, 57, 58, 59, 60, 61, 62, 63, 64, 65, 66, 67, 68, 69, 70, 71, 72, 73, 74, 75, 76, 77, 78, 79, 80, 81, 82, 83, 84, 85, 86, 87, 88, 89, 90, 91, 92, 93, 94, 95, 96, 97, 98, 99, 100, 101, 102, 103, 104, 105, 106, 107, 108, 109, 110, 111, 112, 113, 114, 115, 116, 117, 118, 119, 120, 121, 122, 123, 124, 125, 126, 127, 128, 129, 130, 131, 132, 133, 134, 135, 136, 137, 138, 139, 140, 141, 142, 143, 144, 145, 146, 147, 148, 149, 150, 151, 152, 153, 154, 155, 156] 156 [0.9935897435897436, 0.0064102564102563875]\n",
      "/l/users/santosh.sanjeev/model_soups/runs/test/fge/HAM/ResNet50/1.00e-03/fge-2.pt\n",
      "157 [1, 2, 3, 4, 5, 6, 7, 8, 9, 10, 11, 12, 13, 14, 15, 16, 17, 18, 19, 20, 21, 22, 23, 24, 25, 26, 27, 28, 29, 30, 31, 32, 33, 34, 35, 36, 37, 38, 39, 40, 41, 42, 43, 44, 45, 46, 47, 48, 49, 50, 51, 52, 53, 54, 55, 56, 57, 58, 59, 60, 61, 62, 63, 64, 65, 66, 67, 68, 69, 70, 71, 72, 73, 74, 75, 76, 77, 78, 79, 80, 81, 82, 83, 84, 85, 86, 87, 88, 89, 90, 91, 92, 93, 94, 95, 96, 97, 98, 99, 100, 101, 102, 103, 104, 105, 106, 107, 108, 109, 110, 111, 112, 113, 114, 115, 116, 117, 118, 119, 120, 121, 122, 123, 124, 125, 126, 127, 128, 129, 130, 131, 132, 133, 134, 135, 136, 137, 138, 139, 140, 141, 142, 143, 144, 145, 146, 147, 148, 149, 150, 151, 152, 153, 154, 155, 156, 157] 157 [0.9936305732484076, 0.006369426751592355]\n",
      "/l/users/santosh.sanjeev/model_soups/runs/test/fge/HAM/ResNet50/1.00e-03/fge-5.pt\n",
      "158 [1, 2, 3, 4, 5, 6, 7, 8, 9, 10, 11, 12, 13, 14, 15, 16, 17, 18, 19, 20, 21, 22, 23, 24, 25, 26, 27, 28, 29, 30, 31, 32, 33, 34, 35, 36, 37, 38, 39, 40, 41, 42, 43, 44, 45, 46, 47, 48, 49, 50, 51, 52, 53, 54, 55, 56, 57, 58, 59, 60, 61, 62, 63, 64, 65, 66, 67, 68, 69, 70, 71, 72, 73, 74, 75, 76, 77, 78, 79, 80, 81, 82, 83, 84, 85, 86, 87, 88, 89, 90, 91, 92, 93, 94, 95, 96, 97, 98, 99, 100, 101, 102, 103, 104, 105, 106, 107, 108, 109, 110, 111, 112, 113, 114, 115, 116, 117, 118, 119, 120, 121, 122, 123, 124, 125, 126, 127, 128, 129, 130, 131, 132, 133, 134, 135, 136, 137, 138, 139, 140, 141, 142, 143, 144, 145, 146, 147, 148, 149, 150, 151, 152, 153, 154, 155, 156, 157, 158] 158 [0.9936708860759493, 0.006329113924050667]\n",
      "/l/users/santosh.sanjeev/model_soups/runs/test/fge/HAM/ResNet50/1.00e-03/fge-3.pt\n",
      "159 [1, 2, 3, 4, 5, 6, 7, 8, 9, 10, 11, 12, 13, 14, 15, 16, 17, 18, 19, 20, 21, 22, 23, 24, 25, 26, 27, 28, 29, 30, 31, 32, 33, 34, 35, 36, 37, 38, 39, 40, 41, 42, 43, 44, 45, 46, 47, 48, 49, 50, 51, 52, 53, 54, 55, 56, 57, 58, 59, 60, 61, 62, 63, 64, 65, 66, 67, 68, 69, 70, 71, 72, 73, 74, 75, 76, 77, 78, 79, 80, 81, 82, 83, 84, 85, 86, 87, 88, 89, 90, 91, 92, 93, 94, 95, 96, 97, 98, 99, 100, 101, 102, 103, 104, 105, 106, 107, 108, 109, 110, 111, 112, 113, 114, 115, 116, 117, 118, 119, 120, 121, 122, 123, 124, 125, 126, 127, 128, 129, 130, 131, 132, 133, 134, 135, 136, 137, 138, 139, 140, 141, 142, 143, 144, 145, 146, 147, 148, 149, 150, 151, 152, 153, 154, 155, 156, 157, 158, 159] 159 [0.9937106918238994, 0.0062893081761006275]\n",
      "/l/users/santosh.sanjeev/model_soups/runs/test/fge/HAM/ResNet50/1.00e-03/fge-4.pt\n",
      "160 [1, 2, 3, 4, 5, 6, 7, 8, 9, 10, 11, 12, 13, 14, 15, 16, 17, 18, 19, 20, 21, 22, 23, 24, 25, 26, 27, 28, 29, 30, 31, 32, 33, 34, 35, 36, 37, 38, 39, 40, 41, 42, 43, 44, 45, 46, 47, 48, 49, 50, 51, 52, 53, 54, 55, 56, 57, 58, 59, 60, 61, 62, 63, 64, 65, 66, 67, 68, 69, 70, 71, 72, 73, 74, 75, 76, 77, 78, 79, 80, 81, 82, 83, 84, 85, 86, 87, 88, 89, 90, 91, 92, 93, 94, 95, 96, 97, 98, 99, 100, 101, 102, 103, 104, 105, 106, 107, 108, 109, 110, 111, 112, 113, 114, 115, 116, 117, 118, 119, 120, 121, 122, 123, 124, 125, 126, 127, 128, 129, 130, 131, 132, 133, 134, 135, 136, 137, 138, 139, 140, 141, 142, 143, 144, 145, 146, 147, 148, 149, 150, 151, 152, 153, 154, 155, 156, 157, 158, 159, 160] 160 [0.99375, 0.006249999999999978]\n",
      "/l/users/santosh.sanjeev/model_soups/runs/test/fge/HAM/ResNet50/1.00e-03/fge-1.pt\n",
      "161 [1, 2, 3, 4, 5, 6, 7, 8, 9, 10, 11, 12, 13, 14, 15, 16, 17, 18, 19, 20, 21, 22, 23, 24, 25, 26, 27, 28, 29, 30, 31, 32, 33, 34, 35, 36, 37, 38, 39, 40, 41, 42, 43, 44, 45, 46, 47, 48, 49, 50, 51, 52, 53, 54, 55, 56, 57, 58, 59, 60, 61, 62, 63, 64, 65, 66, 67, 68, 69, 70, 71, 72, 73, 74, 75, 76, 77, 78, 79, 80, 81, 82, 83, 84, 85, 86, 87, 88, 89, 90, 91, 92, 93, 94, 95, 96, 97, 98, 99, 100, 101, 102, 103, 104, 105, 106, 107, 108, 109, 110, 111, 112, 113, 114, 115, 116, 117, 118, 119, 120, 121, 122, 123, 124, 125, 126, 127, 128, 129, 130, 131, 132, 133, 134, 135, 136, 137, 138, 139, 140, 141, 142, 143, 144, 145, 146, 147, 148, 149, 150, 151, 152, 153, 154, 155, 156, 157, 158, 159, 160, 161] 161 [0.9937888198757764, 0.006211180124223614]\n",
      "/l/users/santosh.sanjeev/model_soups/runs/test/fge/HAM/ResNet50/5.00e-04/fge-15.pt\n",
      "162 [1, 2, 3, 4, 5, 6, 7, 8, 9, 10, 11, 12, 13, 14, 15, 16, 17, 18, 19, 20, 21, 22, 23, 24, 25, 26, 27, 28, 29, 30, 31, 32, 33, 34, 35, 36, 37, 38, 39, 40, 41, 42, 43, 44, 45, 46, 47, 48, 49, 50, 51, 52, 53, 54, 55, 56, 57, 58, 59, 60, 61, 62, 63, 64, 65, 66, 67, 68, 69, 70, 71, 72, 73, 74, 75, 76, 77, 78, 79, 80, 81, 82, 83, 84, 85, 86, 87, 88, 89, 90, 91, 92, 93, 94, 95, 96, 97, 98, 99, 100, 101, 102, 103, 104, 105, 106, 107, 108, 109, 110, 111, 112, 113, 114, 115, 116, 117, 118, 119, 120, 121, 122, 123, 124, 125, 126, 127, 128, 129, 130, 131, 132, 133, 134, 135, 136, 137, 138, 139, 140, 141, 142, 143, 144, 145, 146, 147, 148, 149, 150, 151, 152, 153, 154, 155, 156, 157, 158, 159, 160, 161, 162] 162 [0.9938271604938271, 0.006172839506172867]\n",
      "/l/users/santosh.sanjeev/model_soups/runs/test/fge/HAM/ResNet50/1.00e-03/fge-0.pt\n",
      "163 [1, 2, 3, 4, 5, 6, 7, 8, 9, 10, 11, 12, 13, 14, 15, 16, 17, 18, 19, 20, 21, 22, 23, 24, 25, 26, 27, 28, 29, 30, 31, 32, 33, 34, 35, 36, 37, 38, 39, 40, 41, 42, 43, 44, 45, 46, 47, 48, 49, 50, 51, 52, 53, 54, 55, 56, 57, 58, 59, 60, 61, 62, 63, 64, 65, 66, 67, 68, 69, 70, 71, 72, 73, 74, 75, 76, 77, 78, 79, 80, 81, 82, 83, 84, 85, 86, 87, 88, 89, 90, 91, 92, 93, 94, 95, 96, 97, 98, 99, 100, 101, 102, 103, 104, 105, 106, 107, 108, 109, 110, 111, 112, 113, 114, 115, 116, 117, 118, 119, 120, 121, 122, 123, 124, 125, 126, 127, 128, 129, 130, 131, 132, 133, 134, 135, 136, 137, 138, 139, 140, 141, 142, 143, 144, 145, 146, 147, 148, 149, 150, 151, 152, 153, 154, 155, 156, 157, 158, 159, 160, 161, 162, 163] 163 [0.9938650306748467, 0.006134969325153339]\n",
      "/l/users/santosh.sanjeev/model_soups/runs/test/fge/HAM/ResNet50/5.00e-04/fge-11.pt\n",
      "164 [1, 2, 3, 4, 5, 6, 7, 8, 9, 10, 11, 12, 13, 14, 15, 16, 17, 18, 19, 20, 21, 22, 23, 24, 25, 26, 27, 28, 29, 30, 31, 32, 33, 34, 35, 36, 37, 38, 39, 40, 41, 42, 43, 44, 45, 46, 47, 48, 49, 50, 51, 52, 53, 54, 55, 56, 57, 58, 59, 60, 61, 62, 63, 64, 65, 66, 67, 68, 69, 70, 71, 72, 73, 74, 75, 76, 77, 78, 79, 80, 81, 82, 83, 84, 85, 86, 87, 88, 89, 90, 91, 92, 93, 94, 95, 96, 97, 98, 99, 100, 101, 102, 103, 104, 105, 106, 107, 108, 109, 110, 111, 112, 113, 114, 115, 116, 117, 118, 119, 120, 121, 122, 123, 124, 125, 126, 127, 128, 129, 130, 131, 132, 133, 134, 135, 136, 137, 138, 139, 140, 141, 142, 143, 144, 145, 146, 147, 148, 149, 150, 151, 152, 153, 154, 155, 156, 157, 158, 159, 160, 161, 162, 163, 164] 164 [0.9939024390243902, 0.0060975609756097615]\n",
      "/l/users/santosh.sanjeev/model_soups/runs/test/fge/HAM/ResNet50/5.00e-04/fge-13.pt\n",
      "165 [1, 2, 3, 4, 5, 6, 7, 8, 9, 10, 11, 12, 13, 14, 15, 16, 17, 18, 19, 20, 21, 22, 23, 24, 25, 26, 27, 28, 29, 30, 31, 32, 33, 34, 35, 36, 37, 38, 39, 40, 41, 42, 43, 44, 45, 46, 47, 48, 49, 50, 51, 52, 53, 54, 55, 56, 57, 58, 59, 60, 61, 62, 63, 64, 65, 66, 67, 68, 69, 70, 71, 72, 73, 74, 75, 76, 77, 78, 79, 80, 81, 82, 83, 84, 85, 86, 87, 88, 89, 90, 91, 92, 93, 94, 95, 96, 97, 98, 99, 100, 101, 102, 103, 104, 105, 106, 107, 108, 109, 110, 111, 112, 113, 114, 115, 116, 117, 118, 119, 120, 121, 122, 123, 124, 125, 126, 127, 128, 129, 130, 131, 132, 133, 134, 135, 136, 137, 138, 139, 140, 141, 142, 143, 144, 145, 146, 147, 148, 149, 150, 151, 152, 153, 154, 155, 156, 157, 158, 159, 160, 161, 162, 163, 164, 165] 165 [0.9939393939393939, 0.0060606060606061]\n",
      "/l/users/santosh.sanjeev/model_soups/runs/test/fge/HAM/ResNet50/5.00e-04/fge-9.pt\n",
      "166 [1, 2, 3, 4, 5, 6, 7, 8, 9, 10, 11, 12, 13, 14, 15, 16, 17, 18, 19, 20, 21, 22, 23, 24, 25, 26, 27, 28, 29, 30, 31, 32, 33, 34, 35, 36, 37, 38, 39, 40, 41, 42, 43, 44, 45, 46, 47, 48, 49, 50, 51, 52, 53, 54, 55, 56, 57, 58, 59, 60, 61, 62, 63, 64, 65, 66, 67, 68, 69, 70, 71, 72, 73, 74, 75, 76, 77, 78, 79, 80, 81, 82, 83, 84, 85, 86, 87, 88, 89, 90, 91, 92, 93, 94, 95, 96, 97, 98, 99, 100, 101, 102, 103, 104, 105, 106, 107, 108, 109, 110, 111, 112, 113, 114, 115, 116, 117, 118, 119, 120, 121, 122, 123, 124, 125, 126, 127, 128, 129, 130, 131, 132, 133, 134, 135, 136, 137, 138, 139, 140, 141, 142, 143, 144, 145, 146, 147, 148, 149, 150, 151, 152, 153, 154, 155, 156, 157, 158, 159, 160, 161, 162, 163, 164, 165, 166] 166 [0.9939759036144579, 0.0060240963855421326]\n",
      "/l/users/santosh.sanjeev/model_soups/runs/test/fge/HAM/ResNet50/5.00e-04/fge-14.pt\n",
      "167 [1, 2, 3, 4, 5, 6, 7, 8, 9, 10, 11, 12, 13, 14, 15, 16, 17, 18, 19, 20, 21, 22, 23, 24, 25, 26, 27, 28, 29, 30, 31, 32, 33, 34, 35, 36, 37, 38, 39, 40, 41, 42, 43, 44, 45, 46, 47, 48, 49, 50, 51, 52, 53, 54, 55, 56, 57, 58, 59, 60, 61, 62, 63, 64, 65, 66, 67, 68, 69, 70, 71, 72, 73, 74, 75, 76, 77, 78, 79, 80, 81, 82, 83, 84, 85, 86, 87, 88, 89, 90, 91, 92, 93, 94, 95, 96, 97, 98, 99, 100, 101, 102, 103, 104, 105, 106, 107, 108, 109, 110, 111, 112, 113, 114, 115, 116, 117, 118, 119, 120, 121, 122, 123, 124, 125, 126, 127, 128, 129, 130, 131, 132, 133, 134, 135, 136, 137, 138, 139, 140, 141, 142, 143, 144, 145, 146, 147, 148, 149, 150, 151, 152, 153, 154, 155, 156, 157, 158, 159, 160, 161, 162, 163, 164, 165, 166, 167] 167 [0.9940119760479041, 0.005988023952095856]\n",
      "/l/users/santosh.sanjeev/model_soups/runs/test/fge/HAM/ResNet50/5.00e-04/fge-16.pt\n",
      "168 [1, 2, 3, 4, 5, 6, 7, 8, 9, 10, 11, 12, 13, 14, 15, 16, 17, 18, 19, 20, 21, 22, 23, 24, 25, 26, 27, 28, 29, 30, 31, 32, 33, 34, 35, 36, 37, 38, 39, 40, 41, 42, 43, 44, 45, 46, 47, 48, 49, 50, 51, 52, 53, 54, 55, 56, 57, 58, 59, 60, 61, 62, 63, 64, 65, 66, 67, 68, 69, 70, 71, 72, 73, 74, 75, 76, 77, 78, 79, 80, 81, 82, 83, 84, 85, 86, 87, 88, 89, 90, 91, 92, 93, 94, 95, 96, 97, 98, 99, 100, 101, 102, 103, 104, 105, 106, 107, 108, 109, 110, 111, 112, 113, 114, 115, 116, 117, 118, 119, 120, 121, 122, 123, 124, 125, 126, 127, 128, 129, 130, 131, 132, 133, 134, 135, 136, 137, 138, 139, 140, 141, 142, 143, 144, 145, 146, 147, 148, 149, 150, 151, 152, 153, 154, 155, 156, 157, 158, 159, 160, 161, 162, 163, 164, 165, 166, 167, 168] 168 [0.9940476190476191, 0.005952380952380931]\n",
      "/l/users/santosh.sanjeev/model_soups/runs/test/fge/HAM/ResNet50/5.00e-04/fge-12.pt\n",
      "169 [1, 2, 3, 4, 5, 6, 7, 8, 9, 10, 11, 12, 13, 14, 15, 16, 17, 18, 19, 20, 21, 22, 23, 24, 25, 26, 27, 28, 29, 30, 31, 32, 33, 34, 35, 36, 37, 38, 39, 40, 41, 42, 43, 44, 45, 46, 47, 48, 49, 50, 51, 52, 53, 54, 55, 56, 57, 58, 59, 60, 61, 62, 63, 64, 65, 66, 67, 68, 69, 70, 71, 72, 73, 74, 75, 76, 77, 78, 79, 80, 81, 82, 83, 84, 85, 86, 87, 88, 89, 90, 91, 92, 93, 94, 95, 96, 97, 98, 99, 100, 101, 102, 103, 104, 105, 106, 107, 108, 109, 110, 111, 112, 113, 114, 115, 116, 117, 118, 119, 120, 121, 122, 123, 124, 125, 126, 127, 128, 129, 130, 131, 132, 133, 134, 135, 136, 137, 138, 139, 140, 141, 142, 143, 144, 145, 146, 147, 148, 149, 150, 151, 152, 153, 154, 155, 156, 157, 158, 159, 160, 161, 162, 163, 164, 165, 166, 167, 168, 169] 169 [0.9940828402366864, 0.00591715976331364]\n",
      "/l/users/santosh.sanjeev/model_soups/runs/test/fge/HAM/ResNet50/5.00e-04/fge-10.pt\n",
      "170 [1, 2, 3, 4, 5, 6, 7, 8, 9, 10, 11, 12, 13, 14, 15, 16, 17, 18, 19, 20, 21, 22, 23, 24, 25, 26, 27, 28, 29, 30, 31, 32, 33, 34, 35, 36, 37, 38, 39, 40, 41, 42, 43, 44, 45, 46, 47, 48, 49, 50, 51, 52, 53, 54, 55, 56, 57, 58, 59, 60, 61, 62, 63, 64, 65, 66, 67, 68, 69, 70, 71, 72, 73, 74, 75, 76, 77, 78, 79, 80, 81, 82, 83, 84, 85, 86, 87, 88, 89, 90, 91, 92, 93, 94, 95, 96, 97, 98, 99, 100, 101, 102, 103, 104, 105, 106, 107, 108, 109, 110, 111, 112, 113, 114, 115, 116, 117, 118, 119, 120, 121, 122, 123, 124, 125, 126, 127, 128, 129, 130, 131, 132, 133, 134, 135, 136, 137, 138, 139, 140, 141, 142, 143, 144, 145, 146, 147, 148, 149, 150, 151, 152, 153, 154, 155, 156, 157, 158, 159, 160, 161, 162, 163, 164, 165, 166, 167, 168, 169, 170] 170 [0.9941176470588236, 0.00588235294117645]\n",
      "/l/users/santosh.sanjeev/model_soups/runs/test/fge/HAM/ResNet50/1.00e-05/fge-11.pt\n",
      "171 [1, 2, 3, 4, 5, 6, 7, 8, 9, 10, 11, 12, 13, 14, 15, 16, 17, 18, 19, 20, 21, 22, 23, 24, 25, 26, 27, 28, 29, 30, 31, 32, 33, 34, 35, 36, 37, 38, 39, 40, 41, 42, 43, 44, 45, 46, 47, 48, 49, 50, 51, 52, 53, 54, 55, 56, 57, 58, 59, 60, 61, 62, 63, 64, 65, 66, 67, 68, 69, 70, 71, 72, 73, 74, 75, 76, 77, 78, 79, 80, 81, 82, 83, 84, 85, 86, 87, 88, 89, 90, 91, 92, 93, 94, 95, 96, 97, 98, 99, 100, 101, 102, 103, 104, 105, 106, 107, 108, 109, 110, 111, 112, 113, 114, 115, 116, 117, 118, 119, 120, 121, 122, 123, 124, 125, 126, 127, 128, 129, 130, 131, 132, 133, 134, 135, 136, 137, 138, 139, 140, 141, 142, 143, 144, 145, 146, 147, 148, 149, 150, 151, 152, 153, 154, 155, 156, 157, 158, 159, 160, 161, 162, 163, 164, 165, 166, 167, 168, 169, 170, 171] 171 [0.9941520467836257, 0.005847953216374324]\n",
      "/l/users/santosh.sanjeev/model_soups/runs/test/fge/HAM/ResNet50/5.00e-04/fge-23.pt\n",
      "172 [1, 2, 3, 4, 5, 6, 7, 8, 9, 10, 11, 12, 13, 14, 15, 16, 17, 18, 19, 20, 21, 22, 23, 24, 25, 26, 27, 28, 29, 30, 31, 32, 33, 34, 35, 36, 37, 38, 39, 40, 41, 42, 43, 44, 45, 46, 47, 48, 49, 50, 51, 52, 53, 54, 55, 56, 57, 58, 59, 60, 61, 62, 63, 64, 65, 66, 67, 68, 69, 70, 71, 72, 73, 74, 75, 76, 77, 78, 79, 80, 81, 82, 83, 84, 85, 86, 87, 88, 89, 90, 91, 92, 93, 94, 95, 96, 97, 98, 99, 100, 101, 102, 103, 104, 105, 106, 107, 108, 109, 110, 111, 112, 113, 114, 115, 116, 117, 118, 119, 120, 121, 122, 123, 124, 125, 126, 127, 128, 129, 130, 131, 132, 133, 134, 135, 136, 137, 138, 139, 140, 141, 142, 143, 144, 145, 146, 147, 148, 149, 150, 151, 152, 153, 154, 155, 156, 157, 158, 159, 160, 161, 162, 163, 164, 165, 166, 167, 168, 169, 170, 171, 172] 172 [0.9941860465116279, 0.005813953488372103]\n",
      "/l/users/santosh.sanjeev/model_soups/runs/test/fge/HAM/ResNet50/5.00e-04/fge-18.pt\n",
      "173 [1, 2, 3, 4, 5, 6, 7, 8, 9, 10, 11, 12, 13, 14, 15, 16, 17, 18, 19, 20, 21, 22, 23, 24, 25, 26, 27, 28, 29, 30, 31, 32, 33, 34, 35, 36, 37, 38, 39, 40, 41, 42, 43, 44, 45, 46, 47, 48, 49, 50, 51, 52, 53, 54, 55, 56, 57, 58, 59, 60, 61, 62, 63, 64, 65, 66, 67, 68, 69, 70, 71, 72, 73, 74, 75, 76, 77, 78, 79, 80, 81, 82, 83, 84, 85, 86, 87, 88, 89, 90, 91, 92, 93, 94, 95, 96, 97, 98, 99, 100, 101, 102, 103, 104, 105, 106, 107, 108, 109, 110, 111, 112, 113, 114, 115, 116, 117, 118, 119, 120, 121, 122, 123, 124, 125, 126, 127, 128, 129, 130, 131, 132, 133, 134, 135, 136, 137, 138, 139, 140, 141, 142, 143, 144, 145, 146, 147, 148, 149, 150, 151, 152, 153, 154, 155, 156, 157, 158, 159, 160, 161, 162, 163, 164, 165, 166, 167, 168, 169, 170, 171, 172, 173] 173 [0.9942196531791907, 0.005780346820809301]\n",
      "/l/users/santosh.sanjeev/model_soups/runs/test/fge/HAM/ResNet50/5.00e-04/fge-17.pt\n",
      "174 [1, 2, 3, 4, 5, 6, 7, 8, 9, 10, 11, 12, 13, 14, 15, 16, 17, 18, 19, 20, 21, 22, 23, 24, 25, 26, 27, 28, 29, 30, 31, 32, 33, 34, 35, 36, 37, 38, 39, 40, 41, 42, 43, 44, 45, 46, 47, 48, 49, 50, 51, 52, 53, 54, 55, 56, 57, 58, 59, 60, 61, 62, 63, 64, 65, 66, 67, 68, 69, 70, 71, 72, 73, 74, 75, 76, 77, 78, 79, 80, 81, 82, 83, 84, 85, 86, 87, 88, 89, 90, 91, 92, 93, 94, 95, 96, 97, 98, 99, 100, 101, 102, 103, 104, 105, 106, 107, 108, 109, 110, 111, 112, 113, 114, 115, 116, 117, 118, 119, 120, 121, 122, 123, 124, 125, 126, 127, 128, 129, 130, 131, 132, 133, 134, 135, 136, 137, 138, 139, 140, 141, 142, 143, 144, 145, 146, 147, 148, 149, 150, 151, 152, 153, 154, 155, 156, 157, 158, 159, 160, 161, 162, 163, 164, 165, 166, 167, 168, 169, 170, 171, 172, 173, 174] 174 [0.9942528735632183, 0.005747126436781658]\n",
      "/l/users/santosh.sanjeev/model_soups/runs/test/fge/HAM/ResNet50/5.00e-04/fge-21.pt\n",
      "175 [1, 2, 3, 4, 5, 6, 7, 8, 9, 10, 11, 12, 13, 14, 15, 16, 17, 18, 19, 20, 21, 22, 23, 24, 25, 26, 27, 28, 29, 30, 31, 32, 33, 34, 35, 36, 37, 38, 39, 40, 41, 42, 43, 44, 45, 46, 47, 48, 49, 50, 51, 52, 53, 54, 55, 56, 57, 58, 59, 60, 61, 62, 63, 64, 65, 66, 67, 68, 69, 70, 71, 72, 73, 74, 75, 76, 77, 78, 79, 80, 81, 82, 83, 84, 85, 86, 87, 88, 89, 90, 91, 92, 93, 94, 95, 96, 97, 98, 99, 100, 101, 102, 103, 104, 105, 106, 107, 108, 109, 110, 111, 112, 113, 114, 115, 116, 117, 118, 119, 120, 121, 122, 123, 124, 125, 126, 127, 128, 129, 130, 131, 132, 133, 134, 135, 136, 137, 138, 139, 140, 141, 142, 143, 144, 145, 146, 147, 148, 149, 150, 151, 152, 153, 154, 155, 156, 157, 158, 159, 160, 161, 162, 163, 164, 165, 166, 167, 168, 169, 170, 171, 172, 173, 174, 175] 175 [0.9942857142857143, 0.005714285714285672]\n",
      "/l/users/santosh.sanjeev/model_soups/runs/test/fge/HAM/ResNet50/1.00e-05/fge-13.pt\n",
      "176 [1, 2, 3, 4, 5, 6, 7, 8, 9, 10, 11, 12, 13, 14, 15, 16, 17, 18, 19, 20, 21, 22, 23, 24, 25, 26, 27, 28, 29, 30, 31, 32, 33, 34, 35, 36, 37, 38, 39, 40, 41, 42, 43, 44, 45, 46, 47, 48, 49, 50, 51, 52, 53, 54, 55, 56, 57, 58, 59, 60, 61, 62, 63, 64, 65, 66, 67, 68, 69, 70, 71, 72, 73, 74, 75, 76, 77, 78, 79, 80, 81, 82, 83, 84, 85, 86, 87, 88, 89, 90, 91, 92, 93, 94, 95, 96, 97, 98, 99, 100, 101, 102, 103, 104, 105, 106, 107, 108, 109, 110, 111, 112, 113, 114, 115, 116, 117, 118, 119, 120, 121, 122, 123, 124, 125, 126, 127, 128, 129, 130, 131, 132, 133, 134, 135, 136, 137, 138, 139, 140, 141, 142, 143, 144, 145, 146, 147, 148, 149, 150, 151, 152, 153, 154, 155, 156, 157, 158, 159, 160, 161, 162, 163, 164, 165, 166, 167, 168, 169, 170, 171, 172, 173, 174, 175, 176] 176 [0.9943181818181818, 0.005681818181818232]\n",
      "/l/users/santosh.sanjeev/model_soups/runs/test/fge/HAM/ResNet50/5.00e-04/fge-19.pt\n",
      "177 [1, 2, 3, 4, 5, 6, 7, 8, 9, 10, 11, 12, 13, 14, 15, 16, 17, 18, 19, 20, 21, 22, 23, 24, 25, 26, 27, 28, 29, 30, 31, 32, 33, 34, 35, 36, 37, 38, 39, 40, 41, 42, 43, 44, 45, 46, 47, 48, 49, 50, 51, 52, 53, 54, 55, 56, 57, 58, 59, 60, 61, 62, 63, 64, 65, 66, 67, 68, 69, 70, 71, 72, 73, 74, 75, 76, 77, 78, 79, 80, 81, 82, 83, 84, 85, 86, 87, 88, 89, 90, 91, 92, 93, 94, 95, 96, 97, 98, 99, 100, 101, 102, 103, 104, 105, 106, 107, 108, 109, 110, 111, 112, 113, 114, 115, 116, 117, 118, 119, 120, 121, 122, 123, 124, 125, 126, 127, 128, 129, 130, 131, 132, 133, 134, 135, 136, 137, 138, 139, 140, 141, 142, 143, 144, 145, 146, 147, 148, 149, 150, 151, 152, 153, 154, 155, 156, 157, 158, 159, 160, 161, 162, 163, 164, 165, 166, 167, 168, 169, 170, 171, 172, 173, 174, 175, 176, 177] 177 [0.9943502824858758, 0.005649717514124242]\n",
      "/l/users/santosh.sanjeev/model_soups/runs/test/fge/HAM/ResNet50/5.00e-04/fge-24.pt\n",
      "178 [1, 2, 3, 4, 5, 6, 7, 8, 9, 10, 11, 12, 13, 14, 15, 16, 17, 18, 19, 20, 21, 22, 23, 24, 25, 26, 27, 28, 29, 30, 31, 32, 33, 34, 35, 36, 37, 38, 39, 40, 41, 42, 43, 44, 45, 46, 47, 48, 49, 50, 51, 52, 53, 54, 55, 56, 57, 58, 59, 60, 61, 62, 63, 64, 65, 66, 67, 68, 69, 70, 71, 72, 73, 74, 75, 76, 77, 78, 79, 80, 81, 82, 83, 84, 85, 86, 87, 88, 89, 90, 91, 92, 93, 94, 95, 96, 97, 98, 99, 100, 101, 102, 103, 104, 105, 106, 107, 108, 109, 110, 111, 112, 113, 114, 115, 116, 117, 118, 119, 120, 121, 122, 123, 124, 125, 126, 127, 128, 129, 130, 131, 132, 133, 134, 135, 136, 137, 138, 139, 140, 141, 142, 143, 144, 145, 146, 147, 148, 149, 150, 151, 152, 153, 154, 155, 156, 157, 158, 159, 160, 161, 162, 163, 164, 165, 166, 167, 168, 169, 170, 171, 172, 173, 174, 175, 176, 177, 178] 178 [0.9943820224719101, 0.005617977528089901]\n",
      "/l/users/santosh.sanjeev/model_soups/runs/test/fge/HAM/ResNet50/5.00e-04/fge-25.pt\n",
      "179 [1, 2, 3, 4, 5, 6, 7, 8, 9, 10, 11, 12, 13, 14, 15, 16, 17, 18, 19, 20, 21, 22, 23, 24, 25, 26, 27, 28, 29, 30, 31, 32, 33, 34, 35, 36, 37, 38, 39, 40, 41, 42, 43, 44, 45, 46, 47, 48, 49, 50, 51, 52, 53, 54, 55, 56, 57, 58, 59, 60, 61, 62, 63, 64, 65, 66, 67, 68, 69, 70, 71, 72, 73, 74, 75, 76, 77, 78, 79, 80, 81, 82, 83, 84, 85, 86, 87, 88, 89, 90, 91, 92, 93, 94, 95, 96, 97, 98, 99, 100, 101, 102, 103, 104, 105, 106, 107, 108, 109, 110, 111, 112, 113, 114, 115, 116, 117, 118, 119, 120, 121, 122, 123, 124, 125, 126, 127, 128, 129, 130, 131, 132, 133, 134, 135, 136, 137, 138, 139, 140, 141, 142, 143, 144, 145, 146, 147, 148, 149, 150, 151, 152, 153, 154, 155, 156, 157, 158, 159, 160, 161, 162, 163, 164, 165, 166, 167, 168, 169, 170, 171, 172, 173, 174, 175, 176, 177, 178, 179] 179 [0.994413407821229, 0.005586592178770999]\n",
      "/l/users/santosh.sanjeev/model_soups/runs/test/fge/HAM/ResNet50/5.00e-04/fge-20.pt\n",
      "180 [1, 2, 3, 4, 5, 6, 7, 8, 9, 10, 11, 12, 13, 14, 15, 16, 17, 18, 19, 20, 21, 22, 23, 24, 25, 26, 27, 28, 29, 30, 31, 32, 33, 34, 35, 36, 37, 38, 39, 40, 41, 42, 43, 44, 45, 46, 47, 48, 49, 50, 51, 52, 53, 54, 55, 56, 57, 58, 59, 60, 61, 62, 63, 64, 65, 66, 67, 68, 69, 70, 71, 72, 73, 74, 75, 76, 77, 78, 79, 80, 81, 82, 83, 84, 85, 86, 87, 88, 89, 90, 91, 92, 93, 94, 95, 96, 97, 98, 99, 100, 101, 102, 103, 104, 105, 106, 107, 108, 109, 110, 111, 112, 113, 114, 115, 116, 117, 118, 119, 120, 121, 122, 123, 124, 125, 126, 127, 128, 129, 130, 131, 132, 133, 134, 135, 136, 137, 138, 139, 140, 141, 142, 143, 144, 145, 146, 147, 148, 149, 150, 151, 152, 153, 154, 155, 156, 157, 158, 159, 160, 161, 162, 163, 164, 165, 166, 167, 168, 169, 170, 171, 172, 173, 174, 175, 176, 177, 178, 179, 180] 180 [0.9944444444444445, 0.005555555555555536]\n",
      "/l/users/santosh.sanjeev/model_soups/runs/test/fge/HAM/ResNet50/5.00e-04/fge-22.pt\n",
      "181 [1, 2, 3, 4, 5, 6, 7, 8, 9, 10, 11, 12, 13, 14, 15, 16, 17, 18, 19, 20, 21, 22, 23, 24, 25, 26, 27, 28, 29, 30, 31, 32, 33, 34, 35, 36, 37, 38, 39, 40, 41, 42, 43, 44, 45, 46, 47, 48, 49, 50, 51, 52, 53, 54, 55, 56, 57, 58, 59, 60, 61, 62, 63, 64, 65, 66, 67, 68, 69, 70, 71, 72, 73, 74, 75, 76, 77, 78, 79, 80, 81, 82, 83, 84, 85, 86, 87, 88, 89, 90, 91, 92, 93, 94, 95, 96, 97, 98, 99, 100, 101, 102, 103, 104, 105, 106, 107, 108, 109, 110, 111, 112, 113, 114, 115, 116, 117, 118, 119, 120, 121, 122, 123, 124, 125, 126, 127, 128, 129, 130, 131, 132, 133, 134, 135, 136, 137, 138, 139, 140, 141, 142, 143, 144, 145, 146, 147, 148, 149, 150, 151, 152, 153, 154, 155, 156, 157, 158, 159, 160, 161, 162, 163, 164, 165, 166, 167, 168, 169, 170, 171, 172, 173, 174, 175, 176, 177, 178, 179, 180, 181] 181 [0.994475138121547, 0.0055248618784530246]\n",
      "/l/users/santosh.sanjeev/model_soups/runs/test/fge/HAM/ResNet50/1.00e-05/fge-12.pt\n",
      "182 [1, 2, 3, 4, 5, 6, 7, 8, 9, 10, 11, 12, 13, 14, 15, 16, 17, 18, 19, 20, 21, 22, 23, 24, 25, 26, 27, 28, 29, 30, 31, 32, 33, 34, 35, 36, 37, 38, 39, 40, 41, 42, 43, 44, 45, 46, 47, 48, 49, 50, 51, 52, 53, 54, 55, 56, 57, 58, 59, 60, 61, 62, 63, 64, 65, 66, 67, 68, 69, 70, 71, 72, 73, 74, 75, 76, 77, 78, 79, 80, 81, 82, 83, 84, 85, 86, 87, 88, 89, 90, 91, 92, 93, 94, 95, 96, 97, 98, 99, 100, 101, 102, 103, 104, 105, 106, 107, 108, 109, 110, 111, 112, 113, 114, 115, 116, 117, 118, 119, 120, 121, 122, 123, 124, 125, 126, 127, 128, 129, 130, 131, 132, 133, 134, 135, 136, 137, 138, 139, 140, 141, 142, 143, 144, 145, 146, 147, 148, 149, 150, 151, 152, 153, 154, 155, 156, 157, 158, 159, 160, 161, 162, 163, 164, 165, 166, 167, 168, 169, 170, 171, 172, 173, 174, 175, 176, 177, 178, 179, 180, 181, 182] 182 [0.9945054945054945, 0.005494505494505475]\n",
      "/l/users/santosh.sanjeev/model_soups/runs/test/fge/HAM/ResNet50/1.00e-05/fge-23.pt\n",
      "183 [1, 2, 3, 4, 5, 6, 7, 8, 9, 10, 11, 12, 13, 14, 15, 16, 17, 18, 19, 20, 21, 22, 23, 24, 25, 26, 27, 28, 29, 30, 31, 32, 33, 34, 35, 36, 37, 38, 39, 40, 41, 42, 43, 44, 45, 46, 47, 48, 49, 50, 51, 52, 53, 54, 55, 56, 57, 58, 59, 60, 61, 62, 63, 64, 65, 66, 67, 68, 69, 70, 71, 72, 73, 74, 75, 76, 77, 78, 79, 80, 81, 82, 83, 84, 85, 86, 87, 88, 89, 90, 91, 92, 93, 94, 95, 96, 97, 98, 99, 100, 101, 102, 103, 104, 105, 106, 107, 108, 109, 110, 111, 112, 113, 114, 115, 116, 117, 118, 119, 120, 121, 122, 123, 124, 125, 126, 127, 128, 129, 130, 131, 132, 133, 134, 135, 136, 137, 138, 139, 140, 141, 142, 143, 144, 145, 146, 147, 148, 149, 150, 151, 152, 153, 154, 155, 156, 157, 158, 159, 160, 161, 162, 163, 164, 165, 166, 167, 168, 169, 170, 171, 172, 173, 174, 175, 176, 177, 178, 179, 180, 181, 182, 183] 183 [0.994535519125683, 0.005464480874316946]\n",
      "/l/users/santosh.sanjeev/model_soups/runs/test/fge/HAM/ResNet50/1.00e-05/fge-14.pt\n",
      "184 [1, 2, 3, 4, 5, 6, 7, 8, 9, 10, 11, 12, 13, 14, 15, 16, 17, 18, 19, 20, 21, 22, 23, 24, 25, 26, 27, 28, 29, 30, 31, 32, 33, 34, 35, 36, 37, 38, 39, 40, 41, 42, 43, 44, 45, 46, 47, 48, 49, 50, 51, 52, 53, 54, 55, 56, 57, 58, 59, 60, 61, 62, 63, 64, 65, 66, 67, 68, 69, 70, 71, 72, 73, 74, 75, 76, 77, 78, 79, 80, 81, 82, 83, 84, 85, 86, 87, 88, 89, 90, 91, 92, 93, 94, 95, 96, 97, 98, 99, 100, 101, 102, 103, 104, 105, 106, 107, 108, 109, 110, 111, 112, 113, 114, 115, 116, 117, 118, 119, 120, 121, 122, 123, 124, 125, 126, 127, 128, 129, 130, 131, 132, 133, 134, 135, 136, 137, 138, 139, 140, 141, 142, 143, 144, 145, 146, 147, 148, 149, 150, 151, 152, 153, 154, 155, 156, 157, 158, 159, 160, 161, 162, 163, 164, 165, 166, 167, 168, 169, 170, 171, 172, 173, 174, 175, 176, 177, 178, 179, 180, 181, 182, 183, 184] 184 [0.9945652173913043, 0.005434782608695676]\n",
      "/l/users/santosh.sanjeev/model_soups/runs/test/fge/HAM/ResNet50/1.00e-05/fge-4.pt\n",
      "185 [1, 2, 3, 4, 5, 6, 7, 8, 9, 10, 11, 12, 13, 14, 15, 16, 17, 18, 19, 20, 21, 22, 23, 24, 25, 26, 27, 28, 29, 30, 31, 32, 33, 34, 35, 36, 37, 38, 39, 40, 41, 42, 43, 44, 45, 46, 47, 48, 49, 50, 51, 52, 53, 54, 55, 56, 57, 58, 59, 60, 61, 62, 63, 64, 65, 66, 67, 68, 69, 70, 71, 72, 73, 74, 75, 76, 77, 78, 79, 80, 81, 82, 83, 84, 85, 86, 87, 88, 89, 90, 91, 92, 93, 94, 95, 96, 97, 98, 99, 100, 101, 102, 103, 104, 105, 106, 107, 108, 109, 110, 111, 112, 113, 114, 115, 116, 117, 118, 119, 120, 121, 122, 123, 124, 125, 126, 127, 128, 129, 130, 131, 132, 133, 134, 135, 136, 137, 138, 139, 140, 141, 142, 143, 144, 145, 146, 147, 148, 149, 150, 151, 152, 153, 154, 155, 156, 157, 158, 159, 160, 161, 162, 163, 164, 165, 166, 167, 168, 169, 170, 171, 172, 173, 174, 175, 176, 177, 178, 179, 180, 181, 182, 183, 184, 185] 185 [0.9945945945945946, 0.00540540540540535]\n",
      "/l/users/santosh.sanjeev/model_soups/runs/test/fge/HAM/ResNet50/1.00e-07/fge-13.pt\n",
      "186 [1, 2, 3, 4, 5, 6, 7, 8, 9, 10, 11, 12, 13, 14, 15, 16, 17, 18, 19, 20, 21, 22, 23, 24, 25, 26, 27, 28, 29, 30, 31, 32, 33, 34, 35, 36, 37, 38, 39, 40, 41, 42, 43, 44, 45, 46, 47, 48, 49, 50, 51, 52, 53, 54, 55, 56, 57, 58, 59, 60, 61, 62, 63, 64, 65, 66, 67, 68, 69, 70, 71, 72, 73, 74, 75, 76, 77, 78, 79, 80, 81, 82, 83, 84, 85, 86, 87, 88, 89, 90, 91, 92, 93, 94, 95, 96, 97, 98, 99, 100, 101, 102, 103, 104, 105, 106, 107, 108, 109, 110, 111, 112, 113, 114, 115, 116, 117, 118, 119, 120, 121, 122, 123, 124, 125, 126, 127, 128, 129, 130, 131, 132, 133, 134, 135, 136, 137, 138, 139, 140, 141, 142, 143, 144, 145, 146, 147, 148, 149, 150, 151, 152, 153, 154, 155, 156, 157, 158, 159, 160, 161, 162, 163, 164, 165, 166, 167, 168, 169, 170, 171, 172, 173, 174, 175, 176, 177, 178, 179, 180, 181, 182, 183, 184, 185, 186] 186 [0.9946236559139785, 0.005376344086021501]\n",
      "/l/users/santosh.sanjeev/model_soups/runs/test/fge/HAM/ResNet50/1.00e-07/fge-14.pt\n",
      "187 [1, 2, 3, 4, 5, 6, 7, 8, 9, 10, 11, 12, 13, 14, 15, 16, 17, 18, 19, 20, 21, 22, 23, 24, 25, 26, 27, 28, 29, 30, 31, 32, 33, 34, 35, 36, 37, 38, 39, 40, 41, 42, 43, 44, 45, 46, 47, 48, 49, 50, 51, 52, 53, 54, 55, 56, 57, 58, 59, 60, 61, 62, 63, 64, 65, 66, 67, 68, 69, 70, 71, 72, 73, 74, 75, 76, 77, 78, 79, 80, 81, 82, 83, 84, 85, 86, 87, 88, 89, 90, 91, 92, 93, 94, 95, 96, 97, 98, 99, 100, 101, 102, 103, 104, 105, 106, 107, 108, 109, 110, 111, 112, 113, 114, 115, 116, 117, 118, 119, 120, 121, 122, 123, 124, 125, 126, 127, 128, 129, 130, 131, 132, 133, 134, 135, 136, 137, 138, 139, 140, 141, 142, 143, 144, 145, 146, 147, 148, 149, 150, 151, 152, 153, 154, 155, 156, 157, 158, 159, 160, 161, 162, 163, 164, 165, 166, 167, 168, 169, 170, 171, 172, 173, 174, 175, 176, 177, 178, 179, 180, 181, 182, 183, 184, 185, 186, 187] 187 [0.9946524064171123, 0.005347593582887722]\n",
      "/l/users/santosh.sanjeev/model_soups/runs/test/fge/HAM/ResNet50/1.00e-07/fge-11.pt\n",
      "188 [1, 2, 3, 4, 5, 6, 7, 8, 9, 10, 11, 12, 13, 14, 15, 16, 17, 18, 19, 20, 21, 22, 23, 24, 25, 26, 27, 28, 29, 30, 31, 32, 33, 34, 35, 36, 37, 38, 39, 40, 41, 42, 43, 44, 45, 46, 47, 48, 49, 50, 51, 52, 53, 54, 55, 56, 57, 58, 59, 60, 61, 62, 63, 64, 65, 66, 67, 68, 69, 70, 71, 72, 73, 74, 75, 76, 77, 78, 79, 80, 81, 82, 83, 84, 85, 86, 87, 88, 89, 90, 91, 92, 93, 94, 95, 96, 97, 98, 99, 100, 101, 102, 103, 104, 105, 106, 107, 108, 109, 110, 111, 112, 113, 114, 115, 116, 117, 118, 119, 120, 121, 122, 123, 124, 125, 126, 127, 128, 129, 130, 131, 132, 133, 134, 135, 136, 137, 138, 139, 140, 141, 142, 143, 144, 145, 146, 147, 148, 149, 150, 151, 152, 153, 154, 155, 156, 157, 158, 159, 160, 161, 162, 163, 164, 165, 166, 167, 168, 169, 170, 171, 172, 173, 174, 175, 176, 177, 178, 179, 180, 181, 182, 183, 184, 185, 186, 187, 188] 188 [0.9946808510638298, 0.005319148936170248]\n",
      "/l/users/santosh.sanjeev/model_soups/runs/test/fge/HAM/ResNet50/1.00e-06/fge-7.pt\n",
      "189 [1, 2, 3, 4, 5, 6, 7, 8, 9, 10, 11, 12, 13, 14, 15, 16, 17, 18, 19, 20, 21, 22, 23, 24, 25, 26, 27, 28, 29, 30, 31, 32, 33, 34, 35, 36, 37, 38, 39, 40, 41, 42, 43, 44, 45, 46, 47, 48, 49, 50, 51, 52, 53, 54, 55, 56, 57, 58, 59, 60, 61, 62, 63, 64, 65, 66, 67, 68, 69, 70, 71, 72, 73, 74, 75, 76, 77, 78, 79, 80, 81, 82, 83, 84, 85, 86, 87, 88, 89, 90, 91, 92, 93, 94, 95, 96, 97, 98, 99, 100, 101, 102, 103, 104, 105, 106, 107, 108, 109, 110, 111, 112, 113, 114, 115, 116, 117, 118, 119, 120, 121, 122, 123, 124, 125, 126, 127, 128, 129, 130, 131, 132, 133, 134, 135, 136, 137, 138, 139, 140, 141, 142, 143, 144, 145, 146, 147, 148, 149, 150, 151, 152, 153, 154, 155, 156, 157, 158, 159, 160, 161, 162, 163, 164, 165, 166, 167, 168, 169, 170, 171, 172, 173, 174, 175, 176, 177, 178, 179, 180, 181, 182, 183, 184, 185, 186, 187, 188, 189] 189 [0.9947089947089947, 0.005291005291005346]\n",
      "/l/users/santosh.sanjeev/model_soups/runs/test/fge/HAM/ResNet50/1.00e-06/fge-5.pt\n",
      "190 [1, 2, 3, 4, 5, 6, 7, 8, 9, 10, 11, 12, 13, 14, 15, 16, 17, 18, 19, 20, 21, 22, 23, 24, 25, 26, 27, 28, 29, 30, 31, 32, 33, 34, 35, 36, 37, 38, 39, 40, 41, 42, 43, 44, 45, 46, 47, 48, 49, 50, 51, 52, 53, 54, 55, 56, 57, 58, 59, 60, 61, 62, 63, 64, 65, 66, 67, 68, 69, 70, 71, 72, 73, 74, 75, 76, 77, 78, 79, 80, 81, 82, 83, 84, 85, 86, 87, 88, 89, 90, 91, 92, 93, 94, 95, 96, 97, 98, 99, 100, 101, 102, 103, 104, 105, 106, 107, 108, 109, 110, 111, 112, 113, 114, 115, 116, 117, 118, 119, 120, 121, 122, 123, 124, 125, 126, 127, 128, 129, 130, 131, 132, 133, 134, 135, 136, 137, 138, 139, 140, 141, 142, 143, 144, 145, 146, 147, 148, 149, 150, 151, 152, 153, 154, 155, 156, 157, 158, 159, 160, 161, 162, 163, 164, 165, 166, 167, 168, 169, 170, 171, 172, 173, 174, 175, 176, 177, 178, 179, 180, 181, 182, 183, 184, 185, 186, 187, 188, 189, 190] 190 [0.9947368421052631, 0.0052631578947368585]\n",
      "/l/users/santosh.sanjeev/model_soups/runs/test/fge/HAM/ResNet50/1.00e-07/fge-12.pt\n",
      "191 [1, 2, 3, 4, 5, 6, 7, 8, 9, 10, 11, 12, 13, 14, 15, 16, 17, 18, 19, 20, 21, 22, 23, 24, 25, 26, 27, 28, 29, 30, 31, 32, 33, 34, 35, 36, 37, 38, 39, 40, 41, 42, 43, 44, 45, 46, 47, 48, 49, 50, 51, 52, 53, 54, 55, 56, 57, 58, 59, 60, 61, 62, 63, 64, 65, 66, 67, 68, 69, 70, 71, 72, 73, 74, 75, 76, 77, 78, 79, 80, 81, 82, 83, 84, 85, 86, 87, 88, 89, 90, 91, 92, 93, 94, 95, 96, 97, 98, 99, 100, 101, 102, 103, 104, 105, 106, 107, 108, 109, 110, 111, 112, 113, 114, 115, 116, 117, 118, 119, 120, 121, 122, 123, 124, 125, 126, 127, 128, 129, 130, 131, 132, 133, 134, 135, 136, 137, 138, 139, 140, 141, 142, 143, 144, 145, 146, 147, 148, 149, 150, 151, 152, 153, 154, 155, 156, 157, 158, 159, 160, 161, 162, 163, 164, 165, 166, 167, 168, 169, 170, 171, 172, 173, 174, 175, 176, 177, 178, 179, 180, 181, 182, 183, 184, 185, 186, 187, 188, 189, 190, 191] 191 [0.9947643979057592, 0.005235602094240788]\n",
      "/l/users/santosh.sanjeev/model_soups/runs/test/fge/HAM/ResNet50/1.00e-07/fge-7.pt\n",
      "192 [1, 2, 3, 4, 5, 6, 7, 8, 9, 10, 11, 12, 13, 14, 15, 16, 17, 18, 19, 20, 21, 22, 23, 24, 25, 26, 27, 28, 29, 30, 31, 32, 33, 34, 35, 36, 37, 38, 39, 40, 41, 42, 43, 44, 45, 46, 47, 48, 49, 50, 51, 52, 53, 54, 55, 56, 57, 58, 59, 60, 61, 62, 63, 64, 65, 66, 67, 68, 69, 70, 71, 72, 73, 74, 75, 76, 77, 78, 79, 80, 81, 82, 83, 84, 85, 86, 87, 88, 89, 90, 91, 92, 93, 94, 95, 96, 97, 98, 99, 100, 101, 102, 103, 104, 105, 106, 107, 108, 109, 110, 111, 112, 113, 114, 115, 116, 117, 118, 119, 120, 121, 122, 123, 124, 125, 126, 127, 128, 129, 130, 131, 132, 133, 134, 135, 136, 137, 138, 139, 140, 141, 142, 143, 144, 145, 146, 147, 148, 149, 150, 151, 152, 153, 154, 155, 156, 157, 158, 159, 160, 161, 162, 163, 164, 165, 166, 167, 168, 169, 170, 171, 172, 173, 174, 175, 176, 177, 178, 179, 180, 181, 182, 183, 184, 185, 186, 187, 188, 189, 190, 191, 192] 192 [0.9947916666666666, 0.00520833333333337]\n",
      "/l/users/santosh.sanjeev/model_soups/runs/test/fge/HAM/ResNet50/1.00e-06/fge-6.pt\n",
      "193 [1, 2, 3, 4, 5, 6, 7, 8, 9, 10, 11, 12, 13, 14, 15, 16, 17, 18, 19, 20, 21, 22, 23, 24, 25, 26, 27, 28, 29, 30, 31, 32, 33, 34, 35, 36, 37, 38, 39, 40, 41, 42, 43, 44, 45, 46, 47, 48, 49, 50, 51, 52, 53, 54, 55, 56, 57, 58, 59, 60, 61, 62, 63, 64, 65, 66, 67, 68, 69, 70, 71, 72, 73, 74, 75, 76, 77, 78, 79, 80, 81, 82, 83, 84, 85, 86, 87, 88, 89, 90, 91, 92, 93, 94, 95, 96, 97, 98, 99, 100, 101, 102, 103, 104, 105, 106, 107, 108, 109, 110, 111, 112, 113, 114, 115, 116, 117, 118, 119, 120, 121, 122, 123, 124, 125, 126, 127, 128, 129, 130, 131, 132, 133, 134, 135, 136, 137, 138, 139, 140, 141, 142, 143, 144, 145, 146, 147, 148, 149, 150, 151, 152, 153, 154, 155, 156, 157, 158, 159, 160, 161, 162, 163, 164, 165, 166, 167, 168, 169, 170, 171, 172, 173, 174, 175, 176, 177, 178, 179, 180, 181, 182, 183, 184, 185, 186, 187, 188, 189, 190, 191, 192, 193] 193 [0.9948186528497409, 0.005181347150259086]\n",
      "/l/users/santosh.sanjeev/model_soups/runs/test/fge/HAM/ResNet50/1.00e-06/fge-4.pt\n",
      "194 [1, 2, 3, 4, 5, 6, 7, 8, 9, 10, 11, 12, 13, 14, 15, 16, 17, 18, 19, 20, 21, 22, 23, 24, 25, 26, 27, 28, 29, 30, 31, 32, 33, 34, 35, 36, 37, 38, 39, 40, 41, 42, 43, 44, 45, 46, 47, 48, 49, 50, 51, 52, 53, 54, 55, 56, 57, 58, 59, 60, 61, 62, 63, 64, 65, 66, 67, 68, 69, 70, 71, 72, 73, 74, 75, 76, 77, 78, 79, 80, 81, 82, 83, 84, 85, 86, 87, 88, 89, 90, 91, 92, 93, 94, 95, 96, 97, 98, 99, 100, 101, 102, 103, 104, 105, 106, 107, 108, 109, 110, 111, 112, 113, 114, 115, 116, 117, 118, 119, 120, 121, 122, 123, 124, 125, 126, 127, 128, 129, 130, 131, 132, 133, 134, 135, 136, 137, 138, 139, 140, 141, 142, 143, 144, 145, 146, 147, 148, 149, 150, 151, 152, 153, 154, 155, 156, 157, 158, 159, 160, 161, 162, 163, 164, 165, 166, 167, 168, 169, 170, 171, 172, 173, 174, 175, 176, 177, 178, 179, 180, 181, 182, 183, 184, 185, 186, 187, 188, 189, 190, 191, 192, 193, 194] 194 [0.9948453608247423, 0.005154639175257714]\n",
      "/l/users/santosh.sanjeev/model_soups/runs/test/fge/HAM/ResNet50/1.00e-07/fge-8.pt\n",
      "195 [1, 2, 3, 4, 5, 6, 7, 8, 9, 10, 11, 12, 13, 14, 15, 16, 17, 18, 19, 20, 21, 22, 23, 24, 25, 26, 27, 28, 29, 30, 31, 32, 33, 34, 35, 36, 37, 38, 39, 40, 41, 42, 43, 44, 45, 46, 47, 48, 49, 50, 51, 52, 53, 54, 55, 56, 57, 58, 59, 60, 61, 62, 63, 64, 65, 66, 67, 68, 69, 70, 71, 72, 73, 74, 75, 76, 77, 78, 79, 80, 81, 82, 83, 84, 85, 86, 87, 88, 89, 90, 91, 92, 93, 94, 95, 96, 97, 98, 99, 100, 101, 102, 103, 104, 105, 106, 107, 108, 109, 110, 111, 112, 113, 114, 115, 116, 117, 118, 119, 120, 121, 122, 123, 124, 125, 126, 127, 128, 129, 130, 131, 132, 133, 134, 135, 136, 137, 138, 139, 140, 141, 142, 143, 144, 145, 146, 147, 148, 149, 150, 151, 152, 153, 154, 155, 156, 157, 158, 159, 160, 161, 162, 163, 164, 165, 166, 167, 168, 169, 170, 171, 172, 173, 174, 175, 176, 177, 178, 179, 180, 181, 182, 183, 184, 185, 186, 187, 188, 189, 190, 191, 192, 193, 194, 195] 195 [0.9948717948717949, 0.00512820512820511]\n",
      "/l/users/santosh.sanjeev/model_soups/runs/test/fge/HAM/ResNet50/1.00e-07/fge-10.pt\n",
      "196 [1, 2, 3, 4, 5, 6, 7, 8, 9, 10, 11, 12, 13, 14, 15, 16, 17, 18, 19, 20, 21, 22, 23, 24, 25, 26, 27, 28, 29, 30, 31, 32, 33, 34, 35, 36, 37, 38, 39, 40, 41, 42, 43, 44, 45, 46, 47, 48, 49, 50, 51, 52, 53, 54, 55, 56, 57, 58, 59, 60, 61, 62, 63, 64, 65, 66, 67, 68, 69, 70, 71, 72, 73, 74, 75, 76, 77, 78, 79, 80, 81, 82, 83, 84, 85, 86, 87, 88, 89, 90, 91, 92, 93, 94, 95, 96, 97, 98, 99, 100, 101, 102, 103, 104, 105, 106, 107, 108, 109, 110, 111, 112, 113, 114, 115, 116, 117, 118, 119, 120, 121, 122, 123, 124, 125, 126, 127, 128, 129, 130, 131, 132, 133, 134, 135, 136, 137, 138, 139, 140, 141, 142, 143, 144, 145, 146, 147, 148, 149, 150, 151, 152, 153, 154, 155, 156, 157, 158, 159, 160, 161, 162, 163, 164, 165, 166, 167, 168, 169, 170, 171, 172, 173, 174, 175, 176, 177, 178, 179, 180, 181, 182, 183, 184, 185, 186, 187, 188, 189, 190, 191, 192, 193, 194, 195, 196] 196 [0.9948979591836735, 0.005102040816326481]\n",
      "/l/users/santosh.sanjeev/model_soups/runs/test/fge/HAM/ResNet50/1.00e-07/fge-6.pt\n",
      "197 [1, 2, 3, 4, 5, 6, 7, 8, 9, 10, 11, 12, 13, 14, 15, 16, 17, 18, 19, 20, 21, 22, 23, 24, 25, 26, 27, 28, 29, 30, 31, 32, 33, 34, 35, 36, 37, 38, 39, 40, 41, 42, 43, 44, 45, 46, 47, 48, 49, 50, 51, 52, 53, 54, 55, 56, 57, 58, 59, 60, 61, 62, 63, 64, 65, 66, 67, 68, 69, 70, 71, 72, 73, 74, 75, 76, 77, 78, 79, 80, 81, 82, 83, 84, 85, 86, 87, 88, 89, 90, 91, 92, 93, 94, 95, 96, 97, 98, 99, 100, 101, 102, 103, 104, 105, 106, 107, 108, 109, 110, 111, 112, 113, 114, 115, 116, 117, 118, 119, 120, 121, 122, 123, 124, 125, 126, 127, 128, 129, 130, 131, 132, 133, 134, 135, 136, 137, 138, 139, 140, 141, 142, 143, 144, 145, 146, 147, 148, 149, 150, 151, 152, 153, 154, 155, 156, 157, 158, 159, 160, 161, 162, 163, 164, 165, 166, 167, 168, 169, 170, 171, 172, 173, 174, 175, 176, 177, 178, 179, 180, 181, 182, 183, 184, 185, 186, 187, 188, 189, 190, 191, 192, 193, 194, 195, 196, 197] 197 [0.9949238578680203, 0.005076142131979711]\n",
      "/l/users/santosh.sanjeev/model_soups/runs/test/fge/HAM/ResNet50/1.00e-07/fge-9.pt\n",
      "198 [1, 2, 3, 4, 5, 6, 7, 8, 9, 10, 11, 12, 13, 14, 15, 16, 17, 18, 19, 20, 21, 22, 23, 24, 25, 26, 27, 28, 29, 30, 31, 32, 33, 34, 35, 36, 37, 38, 39, 40, 41, 42, 43, 44, 45, 46, 47, 48, 49, 50, 51, 52, 53, 54, 55, 56, 57, 58, 59, 60, 61, 62, 63, 64, 65, 66, 67, 68, 69, 70, 71, 72, 73, 74, 75, 76, 77, 78, 79, 80, 81, 82, 83, 84, 85, 86, 87, 88, 89, 90, 91, 92, 93, 94, 95, 96, 97, 98, 99, 100, 101, 102, 103, 104, 105, 106, 107, 108, 109, 110, 111, 112, 113, 114, 115, 116, 117, 118, 119, 120, 121, 122, 123, 124, 125, 126, 127, 128, 129, 130, 131, 132, 133, 134, 135, 136, 137, 138, 139, 140, 141, 142, 143, 144, 145, 146, 147, 148, 149, 150, 151, 152, 153, 154, 155, 156, 157, 158, 159, 160, 161, 162, 163, 164, 165, 166, 167, 168, 169, 170, 171, 172, 173, 174, 175, 176, 177, 178, 179, 180, 181, 182, 183, 184, 185, 186, 187, 188, 189, 190, 191, 192, 193, 194, 195, 196, 197, 198] 198 [0.9949494949494949, 0.005050505050505083]\n",
      "/l/users/santosh.sanjeev/model_soups/runs/test/fge/HAM/ResNet50/1.00e-06/fge-1.pt\n",
      "199 [1, 2, 3, 4, 5, 6, 7, 8, 9, 10, 11, 12, 13, 14, 15, 16, 17, 18, 19, 20, 21, 22, 23, 24, 25, 26, 27, 28, 29, 30, 31, 32, 33, 34, 35, 36, 37, 38, 39, 40, 41, 42, 43, 44, 45, 46, 47, 48, 49, 50, 51, 52, 53, 54, 55, 56, 57, 58, 59, 60, 61, 62, 63, 64, 65, 66, 67, 68, 69, 70, 71, 72, 73, 74, 75, 76, 77, 78, 79, 80, 81, 82, 83, 84, 85, 86, 87, 88, 89, 90, 91, 92, 93, 94, 95, 96, 97, 98, 99, 100, 101, 102, 103, 104, 105, 106, 107, 108, 109, 110, 111, 112, 113, 114, 115, 116, 117, 118, 119, 120, 121, 122, 123, 124, 125, 126, 127, 128, 129, 130, 131, 132, 133, 134, 135, 136, 137, 138, 139, 140, 141, 142, 143, 144, 145, 146, 147, 148, 149, 150, 151, 152, 153, 154, 155, 156, 157, 158, 159, 160, 161, 162, 163, 164, 165, 166, 167, 168, 169, 170, 171, 172, 173, 174, 175, 176, 177, 178, 179, 180, 181, 182, 183, 184, 185, 186, 187, 188, 189, 190, 191, 192, 193, 194, 195, 196, 197, 198, 199] 199 [0.9949748743718593, 0.005025125628140725]\n",
      "/l/users/santosh.sanjeev/model_soups/runs/test/fge/HAM/ResNet50/1.00e-06/fge-3.pt\n",
      "200 [1, 2, 3, 4, 5, 6, 7, 8, 9, 10, 11, 12, 13, 14, 15, 16, 17, 18, 19, 20, 21, 22, 23, 24, 25, 26, 27, 28, 29, 30, 31, 32, 33, 34, 35, 36, 37, 38, 39, 40, 41, 42, 43, 44, 45, 46, 47, 48, 49, 50, 51, 52, 53, 54, 55, 56, 57, 58, 59, 60, 61, 62, 63, 64, 65, 66, 67, 68, 69, 70, 71, 72, 73, 74, 75, 76, 77, 78, 79, 80, 81, 82, 83, 84, 85, 86, 87, 88, 89, 90, 91, 92, 93, 94, 95, 96, 97, 98, 99, 100, 101, 102, 103, 104, 105, 106, 107, 108, 109, 110, 111, 112, 113, 114, 115, 116, 117, 118, 119, 120, 121, 122, 123, 124, 125, 126, 127, 128, 129, 130, 131, 132, 133, 134, 135, 136, 137, 138, 139, 140, 141, 142, 143, 144, 145, 146, 147, 148, 149, 150, 151, 152, 153, 154, 155, 156, 157, 158, 159, 160, 161, 162, 163, 164, 165, 166, 167, 168, 169, 170, 171, 172, 173, 174, 175, 176, 177, 178, 179, 180, 181, 182, 183, 184, 185, 186, 187, 188, 189, 190, 191, 192, 193, 194, 195, 196, 197, 198, 199, 200] 200 [0.995, 0.0050000000000000044]\n",
      "/l/users/santosh.sanjeev/model_soups/runs/test/fge/HAM/ResNet50/1.00e-06/fge-2.pt\n",
      "201 [1, 2, 3, 4, 5, 6, 7, 8, 9, 10, 11, 12, 13, 14, 15, 16, 17, 18, 19, 20, 21, 22, 23, 24, 25, 26, 27, 28, 29, 30, 31, 32, 33, 34, 35, 36, 37, 38, 39, 40, 41, 42, 43, 44, 45, 46, 47, 48, 49, 50, 51, 52, 53, 54, 55, 56, 57, 58, 59, 60, 61, 62, 63, 64, 65, 66, 67, 68, 69, 70, 71, 72, 73, 74, 75, 76, 77, 78, 79, 80, 81, 82, 83, 84, 85, 86, 87, 88, 89, 90, 91, 92, 93, 94, 95, 96, 97, 98, 99, 100, 101, 102, 103, 104, 105, 106, 107, 108, 109, 110, 111, 112, 113, 114, 115, 116, 117, 118, 119, 120, 121, 122, 123, 124, 125, 126, 127, 128, 129, 130, 131, 132, 133, 134, 135, 136, 137, 138, 139, 140, 141, 142, 143, 144, 145, 146, 147, 148, 149, 150, 151, 152, 153, 154, 155, 156, 157, 158, 159, 160, 161, 162, 163, 164, 165, 166, 167, 168, 169, 170, 171, 172, 173, 174, 175, 176, 177, 178, 179, 180, 181, 182, 183, 184, 185, 186, 187, 188, 189, 190, 191, 192, 193, 194, 195, 196, 197, 198, 199, 200, 201] 201 [0.9950248756218906, 0.00497512437810943]\n",
      "/l/users/santosh.sanjeev/model_soups/runs/test/fge/HAM/ResNet50/1.00e-06/fge-0.pt\n",
      "202 [1, 2, 3, 4, 5, 6, 7, 8, 9, 10, 11, 12, 13, 14, 15, 16, 17, 18, 19, 20, 21, 22, 23, 24, 25, 26, 27, 28, 29, 30, 31, 32, 33, 34, 35, 36, 37, 38, 39, 40, 41, 42, 43, 44, 45, 46, 47, 48, 49, 50, 51, 52, 53, 54, 55, 56, 57, 58, 59, 60, 61, 62, 63, 64, 65, 66, 67, 68, 69, 70, 71, 72, 73, 74, 75, 76, 77, 78, 79, 80, 81, 82, 83, 84, 85, 86, 87, 88, 89, 90, 91, 92, 93, 94, 95, 96, 97, 98, 99, 100, 101, 102, 103, 104, 105, 106, 107, 108, 109, 110, 111, 112, 113, 114, 115, 116, 117, 118, 119, 120, 121, 122, 123, 124, 125, 126, 127, 128, 129, 130, 131, 132, 133, 134, 135, 136, 137, 138, 139, 140, 141, 142, 143, 144, 145, 146, 147, 148, 149, 150, 151, 152, 153, 154, 155, 156, 157, 158, 159, 160, 161, 162, 163, 164, 165, 166, 167, 168, 169, 170, 171, 172, 173, 174, 175, 176, 177, 178, 179, 180, 181, 182, 183, 184, 185, 186, 187, 188, 189, 190, 191, 192, 193, 194, 195, 196, 197, 198, 199, 200, 201, 202] 202 [0.995049504950495, 0.004950495049504955]\n",
      "/l/users/santosh.sanjeev/model_soups/runs/test/fge/HAM/ResNet50/1.00e-07/fge-5.pt\n",
      "203 [1, 2, 3, 4, 5, 6, 7, 8, 9, 10, 11, 12, 13, 14, 15, 16, 17, 18, 19, 20, 21, 22, 23, 24, 25, 26, 27, 28, 29, 30, 31, 32, 33, 34, 35, 36, 37, 38, 39, 40, 41, 42, 43, 44, 45, 46, 47, 48, 49, 50, 51, 52, 53, 54, 55, 56, 57, 58, 59, 60, 61, 62, 63, 64, 65, 66, 67, 68, 69, 70, 71, 72, 73, 74, 75, 76, 77, 78, 79, 80, 81, 82, 83, 84, 85, 86, 87, 88, 89, 90, 91, 92, 93, 94, 95, 96, 97, 98, 99, 100, 101, 102, 103, 104, 105, 106, 107, 108, 109, 110, 111, 112, 113, 114, 115, 116, 117, 118, 119, 120, 121, 122, 123, 124, 125, 126, 127, 128, 129, 130, 131, 132, 133, 134, 135, 136, 137, 138, 139, 140, 141, 142, 143, 144, 145, 146, 147, 148, 149, 150, 151, 152, 153, 154, 155, 156, 157, 158, 159, 160, 161, 162, 163, 164, 165, 166, 167, 168, 169, 170, 171, 172, 173, 174, 175, 176, 177, 178, 179, 180, 181, 182, 183, 184, 185, 186, 187, 188, 189, 190, 191, 192, 193, 194, 195, 196, 197, 198, 199, 200, 201, 202, 203] 203 [0.9950738916256158, 0.0049261083743842304]\n",
      "/l/users/santosh.sanjeev/model_soups/runs/test/fge/HAM/ResNet50/1.00e-07/fge-3.pt\n",
      "204 [1, 2, 3, 4, 5, 6, 7, 8, 9, 10, 11, 12, 13, 14, 15, 16, 17, 18, 19, 20, 21, 22, 23, 24, 25, 26, 27, 28, 29, 30, 31, 32, 33, 34, 35, 36, 37, 38, 39, 40, 41, 42, 43, 44, 45, 46, 47, 48, 49, 50, 51, 52, 53, 54, 55, 56, 57, 58, 59, 60, 61, 62, 63, 64, 65, 66, 67, 68, 69, 70, 71, 72, 73, 74, 75, 76, 77, 78, 79, 80, 81, 82, 83, 84, 85, 86, 87, 88, 89, 90, 91, 92, 93, 94, 95, 96, 97, 98, 99, 100, 101, 102, 103, 104, 105, 106, 107, 108, 109, 110, 111, 112, 113, 114, 115, 116, 117, 118, 119, 120, 121, 122, 123, 124, 125, 126, 127, 128, 129, 130, 131, 132, 133, 134, 135, 136, 137, 138, 139, 140, 141, 142, 143, 144, 145, 146, 147, 148, 149, 150, 151, 152, 153, 154, 155, 156, 157, 158, 159, 160, 161, 162, 163, 164, 165, 166, 167, 168, 169, 170, 171, 172, 173, 174, 175, 176, 177, 178, 179, 180, 181, 182, 183, 184, 185, 186, 187, 188, 189, 190, 191, 192, 193, 194, 195, 196, 197, 198, 199, 200, 201, 202, 203, 204] 204 [0.9950980392156863, 0.004901960784313708]\n",
      "/l/users/santosh.sanjeev/model_soups/runs/test/fge/HAM/ResNet50/1.00e-07/fge-4.pt\n",
      "205 [1, 2, 3, 4, 5, 6, 7, 8, 9, 10, 11, 12, 13, 14, 15, 16, 17, 18, 19, 20, 21, 22, 23, 24, 25, 26, 27, 28, 29, 30, 31, 32, 33, 34, 35, 36, 37, 38, 39, 40, 41, 42, 43, 44, 45, 46, 47, 48, 49, 50, 51, 52, 53, 54, 55, 56, 57, 58, 59, 60, 61, 62, 63, 64, 65, 66, 67, 68, 69, 70, 71, 72, 73, 74, 75, 76, 77, 78, 79, 80, 81, 82, 83, 84, 85, 86, 87, 88, 89, 90, 91, 92, 93, 94, 95, 96, 97, 98, 99, 100, 101, 102, 103, 104, 105, 106, 107, 108, 109, 110, 111, 112, 113, 114, 115, 116, 117, 118, 119, 120, 121, 122, 123, 124, 125, 126, 127, 128, 129, 130, 131, 132, 133, 134, 135, 136, 137, 138, 139, 140, 141, 142, 143, 144, 145, 146, 147, 148, 149, 150, 151, 152, 153, 154, 155, 156, 157, 158, 159, 160, 161, 162, 163, 164, 165, 166, 167, 168, 169, 170, 171, 172, 173, 174, 175, 176, 177, 178, 179, 180, 181, 182, 183, 184, 185, 186, 187, 188, 189, 190, 191, 192, 193, 194, 195, 196, 197, 198, 199, 200, 201, 202, 203, 204, 205] 205 [0.9951219512195122, 0.004878048780487809]\n",
      "/l/users/santosh.sanjeev/model_soups/runs/test/fge/HAM/ResNet50/1.00e-07/fge-2.pt\n",
      "206 [1, 2, 3, 4, 5, 6, 7, 8, 9, 10, 11, 12, 13, 14, 15, 16, 17, 18, 19, 20, 21, 22, 23, 24, 25, 26, 27, 28, 29, 30, 31, 32, 33, 34, 35, 36, 37, 38, 39, 40, 41, 42, 43, 44, 45, 46, 47, 48, 49, 50, 51, 52, 53, 54, 55, 56, 57, 58, 59, 60, 61, 62, 63, 64, 65, 66, 67, 68, 69, 70, 71, 72, 73, 74, 75, 76, 77, 78, 79, 80, 81, 82, 83, 84, 85, 86, 87, 88, 89, 90, 91, 92, 93, 94, 95, 96, 97, 98, 99, 100, 101, 102, 103, 104, 105, 106, 107, 108, 109, 110, 111, 112, 113, 114, 115, 116, 117, 118, 119, 120, 121, 122, 123, 124, 125, 126, 127, 128, 129, 130, 131, 132, 133, 134, 135, 136, 137, 138, 139, 140, 141, 142, 143, 144, 145, 146, 147, 148, 149, 150, 151, 152, 153, 154, 155, 156, 157, 158, 159, 160, 161, 162, 163, 164, 165, 166, 167, 168, 169, 170, 171, 172, 173, 174, 175, 176, 177, 178, 179, 180, 181, 182, 183, 184, 185, 186, 187, 188, 189, 190, 191, 192, 193, 194, 195, 196, 197, 198, 199, 200, 201, 202, 203, 204, 205, 206] 206 [0.9951456310679612, 0.004854368932038833]\n",
      "/l/users/santosh.sanjeev/model_soups/runs/test/fge/HAM/ResNet50/1.00e-07/fge-1.pt\n",
      "207 [1, 2, 3, 4, 5, 6, 7, 8, 9, 10, 11, 12, 13, 14, 15, 16, 17, 18, 19, 20, 21, 22, 23, 24, 25, 26, 27, 28, 29, 30, 31, 32, 33, 34, 35, 36, 37, 38, 39, 40, 41, 42, 43, 44, 45, 46, 47, 48, 49, 50, 51, 52, 53, 54, 55, 56, 57, 58, 59, 60, 61, 62, 63, 64, 65, 66, 67, 68, 69, 70, 71, 72, 73, 74, 75, 76, 77, 78, 79, 80, 81, 82, 83, 84, 85, 86, 87, 88, 89, 90, 91, 92, 93, 94, 95, 96, 97, 98, 99, 100, 101, 102, 103, 104, 105, 106, 107, 108, 109, 110, 111, 112, 113, 114, 115, 116, 117, 118, 119, 120, 121, 122, 123, 124, 125, 126, 127, 128, 129, 130, 131, 132, 133, 134, 135, 136, 137, 138, 139, 140, 141, 142, 143, 144, 145, 146, 147, 148, 149, 150, 151, 152, 153, 154, 155, 156, 157, 158, 159, 160, 161, 162, 163, 164, 165, 166, 167, 168, 169, 170, 171, 172, 173, 174, 175, 176, 177, 178, 179, 180, 181, 182, 183, 184, 185, 186, 187, 188, 189, 190, 191, 192, 193, 194, 195, 196, 197, 198, 199, 200, 201, 202, 203, 204, 205, 206, 207] 207 [0.9951690821256038, 0.004830917874396157]\n",
      "/l/users/santosh.sanjeev/model_soups/runs/test/fge/HAM/ResNet50/1.00e-07/fge-0.pt\n",
      "208 [1, 2, 3, 4, 5, 6, 7, 8, 9, 10, 11, 12, 13, 14, 15, 16, 17, 18, 19, 20, 21, 22, 23, 24, 25, 26, 27, 28, 29, 30, 31, 32, 33, 34, 35, 36, 37, 38, 39, 40, 41, 42, 43, 44, 45, 46, 47, 48, 49, 50, 51, 52, 53, 54, 55, 56, 57, 58, 59, 60, 61, 62, 63, 64, 65, 66, 67, 68, 69, 70, 71, 72, 73, 74, 75, 76, 77, 78, 79, 80, 81, 82, 83, 84, 85, 86, 87, 88, 89, 90, 91, 92, 93, 94, 95, 96, 97, 98, 99, 100, 101, 102, 103, 104, 105, 106, 107, 108, 109, 110, 111, 112, 113, 114, 115, 116, 117, 118, 119, 120, 121, 122, 123, 124, 125, 126, 127, 128, 129, 130, 131, 132, 133, 134, 135, 136, 137, 138, 139, 140, 141, 142, 143, 144, 145, 146, 147, 148, 149, 150, 151, 152, 153, 154, 155, 156, 157, 158, 159, 160, 161, 162, 163, 164, 165, 166, 167, 168, 169, 170, 171, 172, 173, 174, 175, 176, 177, 178, 179, 180, 181, 182, 183, 184, 185, 186, 187, 188, 189, 190, 191, 192, 193, 194, 195, 196, 197, 198, 199, 200, 201, 202, 203, 204, 205, 206, 207, 208] 208 [0.9951923076923077, 0.004807692307692291]\n"
     ]
    },
    {
     "name": "stderr",
     "output_type": "stream",
     "text": [
      "100%|██████████| 12/12 [00:07<00:00,  1.50it/s]"
     ]
    },
    {
     "name": "stdout",
     "output_type": "stream",
     "text": [
      "0.5497183402379354 0.7947716346153846 0.6573740544650706 0.6067910280729715 0.6531146374961019 0\n"
     ]
    },
    {
     "name": "stderr",
     "output_type": "stream",
     "text": [
      "\n"
     ]
    }
   ],
   "source": [
    "import copy\n",
    "print(\"Uniform souping ...\")\n",
    "state_dict_0 = torch.load(final_val_df.iloc[0]['model_path'])['model_state']\n",
    "models_done = [1]\n",
    "for index, row in final_val_df.iloc[1:].iterrows():\n",
    "    print(row['model_path'])\n",
    "    state_dict_1 = torch.load(row['model_path'])['model_state']\n",
    "    alphal = [len(models_done)/(len(models_done)+1), 1- (len(models_done)/(len(models_done)+1))]\n",
    "    models_done.append(index)\n",
    "    model = get_model(MODEL, num_classes=NUM_CLASSES)\n",
    "    uniform_model = souping(model, [state_dict_0, state_dict_1], alphal)\n",
    "    uniform_model.to('cuda')\n",
    "    # uniform_test_loss, uniform_test_acc, uniform_test_f1, uniform_test_recall, uniform_test_kappa, uniform_test_auc = val_step(uniform_model, val_loader, train_loader, loss, 'cuda', 'MultiClass')\n",
    "    # print(uniform_test_acc)\n",
    "    state_dict_0 = copy.deepcopy(uniform_model.state_dict())\n",
    "    print(index, models_done, len(models_done), alphal)\n",
    "    # uniform_model.to('cuda')\n",
    "\n",
    "uniform_test_loss, uniform_test_acc, uniform_test_f1, uniform_test_recall, uniform_test_kappa, uniform_test_auc = val_step(uniform_model, test_loader, train_loader, loss, 'cuda', 'MultiClass')\n",
    "print(uniform_test_loss, uniform_test_acc, uniform_test_f1, uniform_test_recall, uniform_test_kappa, uniform_test_auc )\n",
    "#greedy\n"
   ]
  },
  {
   "cell_type": "code",
   "execution_count": 6,
   "metadata": {},
   "outputs": [
    {
     "name": "stdout",
     "output_type": "stream",
     "text": [
      "Greedy souping ...\n"
     ]
    }
   ],
   "source": [
    "import copy\n",
    "\n",
    "print(\"Greedy souping ...\")\n",
    "model = get_model(MODEL, num_classes=NUM_CLASSES)\n",
    "\n",
    "def greedy_souping_v2(NUM_CLASSES, val_loader, train_loader, loss, DEVICE, CLASSIFICATION, sort_by):\n",
    "    # ranked_candidates = [i for i in range(len(val_models))]\n",
    "    # ranked_candidates.sort(key=lambda x: -val_results[x])\n",
    "\n",
    "        \n",
    "    # ranked_candidates_names = [i for i in range(len(val_models))]\n",
    "    # ranked_candidates_names.sort(key=lambda x: -val_results[x])\n",
    "\n",
    "    current_best = final_val_df.iloc[0][val_sort_by]\n",
    "\n",
    "    # print(ranked_candidates_names)\n",
    "\n",
    "    print('currentttttttt bestttttttt', current_best, final_val_df.iloc[0]['model_path'])\n",
    "\n",
    "    \n",
    "    best_ingredients = [1]\n",
    "    models_done = [1]\n",
    "    state_dict_0 = torch.load(final_val_df.iloc[0]['model_path'])['model_state']\n",
    "    # best_ingredients_names = ranked_candidates_names[:1]\n",
    "    for index, row in final_val_df.iloc[1:].iterrows():\n",
    "        print(row['model_path'])\n",
    "        state_dict_1 = torch.load(row['model_path'])['model_state']\n",
    "        alphal = [len(best_ingredients)/(len(best_ingredients)+1), 1- (len(best_ingredients)/(len(best_ingredients)+1))]\n",
    "        model = get_model(MODEL, num_classes=NUM_CLASSES)\n",
    "        uniform_model = souping(model, [state_dict_0, state_dict_1], alphal)\n",
    "        uniform_model.to('cuda')\n",
    "\n",
    "\n",
    "        # add current index to the ingredients\n",
    "        ingredient_indices = best_ingredients + [index]\n",
    "        # alphal = [0 for i in range(len(state_dicts))]\n",
    "        # for j in ingredient_indices:\n",
    "        #     alphal[j] = 1 / len(ingredient_indices)\n",
    "\n",
    "        # benchmark and conditionally append\n",
    "        greedy_val_loss, greedy_val_acc, greedy_val_f1, greedy_val_recall, greedy_val_kappa, greedy_val_auc = val_step(uniform_model, val_loader, train_loader, loss, DEVICE, CLASSIFICATION)\n",
    "        if 'F1' in sort_by:            \n",
    "            print(f'Models {ingredient_indices} got {greedy_val_f1} on validation.')\n",
    "            if greedy_val_f1 > current_best:\n",
    "                current_best = greedy_val_f1\n",
    "                best_ingredients = ingredient_indices\n",
    "                models_done.append(index)\n",
    "                # best_ingredients_names = ingredient_names\n",
    "                state_dict_0 = copy.deepcopy(uniform_model.state_dict())\n",
    "                print(index, models_done, len(models_done), alphal)\n",
    "        elif 'Recall' in sort_by:\n",
    "            print(f'Models {ingredient_indices} got {greedy_val_recall} on validation.')\n",
    "            if greedy_val_recall > current_best:\n",
    "                current_best = greedy_val_recall\n",
    "                best_ingredients = ingredient_indices\n",
    "                models_done.append(index)\n",
    "\n",
    "                # best_ingredients_names = ingredient_names\n",
    "                state_dict_0 = copy.deepcopy(uniform_model.state_dict())\n",
    "                print(index, models_done, len(models_done), alphal)\n",
    "        elif 'Accuracy' in sort_by:\n",
    "            print(f'Models {ingredient_indices} got {greedy_val_acc} on validation.')\n",
    "            if greedy_val_acc > current_best:\n",
    "                current_best = greedy_val_acc\n",
    "                best_ingredients = ingredient_indices\n",
    "                models_done.append(index)\n",
    "\n",
    "                # best_ingredients_names = ingredient_names\n",
    "                state_dict_0 = copy.deepcopy(uniform_model.state_dict())\n",
    "                print(index, models_done, len(models_done), alphal)\n",
    "        elif 'Kappa' in sort_by:\n",
    "            print(f'Models {ingredient_indices} got {greedy_val_kappa} on validation.')\n",
    "            if greedy_val_kappa > current_best:\n",
    "                current_best = greedy_val_kappa\n",
    "                best_ingredients = ingredient_indices\n",
    "                models_done.append(index)\n",
    "\n",
    "                # best_ingredients_names = ingredient_names\n",
    "                state_dict_0 = copy.deepcopy(uniform_model.state_dict())\n",
    "                print(index, models_done, len(models_done), alphal)\n",
    "        elif 'AUC' in sort_by:\n",
    "            print(f'Models {ingredient_indices} got {greedy_val_auc}% on validation.')\n",
    "            if greedy_val_auc > current_best:\n",
    "                current_best = greedy_val_auc\n",
    "                best_ingredients = ingredient_indices\n",
    "                models_done.append(index)\n",
    "                # best_ingredients_names = ingredient_names\n",
    "                state_dict_0 = copy.deepcopy(uniform_model.state_dict())\n",
    "                print(index, models_done, len(models_done), alphal)\n",
    "        print(best_ingredients)\n",
    "    # alphal = [0 for i in range(len(state_dicts))]\n",
    "    # for j in best_ingredients:\n",
    "    #     alphal[j] = 1 / len(best_ingredients)\n",
    "    # greedy_model = souping(model, state_dicts, alphal)\n",
    "\n",
    "    return best_ingredients\n"
   ]
  },
  {
   "cell_type": "code",
   "execution_count": 9,
   "metadata": {},
   "outputs": [
    {
     "name": "stdout",
     "output_type": "stream",
     "text": [
      "currentttttttt bestttttttt 0.8889670724165498 /l/users/santosh.sanjeev/model_soups/runs/test/fge/HAM/DeiT-S/1.00e-05/fge-9.pt\n",
      "/l/users/santosh.sanjeev/model_soups/runs/test/fge/HAM/DeiT-S/1.00e-05/fge-10.pt\n"
     ]
    },
    {
     "name": "stderr",
     "output_type": "stream",
     "text": [
      "100%|██████████| 2/2 [00:03<00:00,  1.87s/it]\n"
     ]
    },
    {
     "name": "stdout",
     "output_type": "stream",
     "text": [
      "Models [1, 2] got 0.8889670724165498 on validation.\n",
      "[1]\n",
      "/l/users/santosh.sanjeev/model_soups/runs/test/fge/HAM/DeiT-S/5.00e-06/fge-0.pt\n"
     ]
    },
    {
     "name": "stderr",
     "output_type": "stream",
     "text": [
      "100%|██████████| 2/2 [00:03<00:00,  1.88s/it]\n"
     ]
    },
    {
     "name": "stdout",
     "output_type": "stream",
     "text": [
      "Models [1, 3] got 0.8806047030785706 on validation.\n",
      "[1]\n",
      "/l/users/santosh.sanjeev/model_soups/runs/test/fge/HAM/DeiT-S/1.00e-05/fge-23.pt\n"
     ]
    },
    {
     "name": "stderr",
     "output_type": "stream",
     "text": [
      "100%|██████████| 2/2 [00:03<00:00,  1.87s/it]\n"
     ]
    },
    {
     "name": "stdout",
     "output_type": "stream",
     "text": [
      "Models [1, 4] got 0.8878056322307194 on validation.\n",
      "[1]\n",
      "/l/users/santosh.sanjeev/model_soups/runs/test/fge/HAM/DeiT-S/1.00e-05/fge-7.pt\n"
     ]
    },
    {
     "name": "stderr",
     "output_type": "stream",
     "text": [
      "100%|██████████| 2/2 [00:03<00:00,  1.86s/it]\n"
     ]
    },
    {
     "name": "stdout",
     "output_type": "stream",
     "text": [
      "Models [1, 5] got 0.8859367693862467 on validation.\n",
      "[1]\n",
      "/l/users/santosh.sanjeev/model_soups/runs/test/fge/HAM/DeiT-S/1.00e-05/fge-20.pt\n"
     ]
    },
    {
     "name": "stderr",
     "output_type": "stream",
     "text": [
      "100%|██████████| 2/2 [00:03<00:00,  1.76s/it]\n"
     ]
    },
    {
     "name": "stdout",
     "output_type": "stream",
     "text": [
      "Models [1, 6] got 0.8942991387242258 on validation.\n",
      "6 [1, 6] 2 [0.5, 0.5]\n",
      "[1, 6]\n",
      "/l/users/santosh.sanjeev/model_soups/runs/test/fge/HAM/DeiT-S/1.00e-05/fge-25.pt\n"
     ]
    },
    {
     "name": "stderr",
     "output_type": "stream",
     "text": [
      "100%|██████████| 2/2 [00:03<00:00,  1.87s/it]\n"
     ]
    },
    {
     "name": "stdout",
     "output_type": "stream",
     "text": [
      "Models [1, 6, 7] got 0.8942991387242258 on validation.\n",
      "[1, 6]\n",
      "/l/users/santosh.sanjeev/model_soups/runs/test/fge/HAM/DeiT-S/1.00e-05/fge-18.pt\n"
     ]
    },
    {
     "name": "stderr",
     "output_type": "stream",
     "text": [
      "100%|██████████| 2/2 [00:03<00:00,  1.78s/it]\n"
     ]
    },
    {
     "name": "stdout",
     "output_type": "stream",
     "text": [
      "Models [1, 6, 8] got 0.8942991387242258 on validation.\n",
      "[1, 6]\n",
      "/l/users/santosh.sanjeev/model_soups/runs/test/fge/HAM/DeiT-S/5.00e-06/fge-18.pt\n"
     ]
    },
    {
     "name": "stderr",
     "output_type": "stream",
     "text": [
      "100%|██████████| 2/2 [00:03<00:00,  1.91s/it]\n"
     ]
    },
    {
     "name": "stdout",
     "output_type": "stream",
     "text": [
      "Models [1, 6, 9] got 0.8942991387242258 on validation.\n",
      "[1, 6]\n",
      "/l/users/santosh.sanjeev/model_soups/runs/test/fge/HAM/DeiT-S/1.00e-05/fge-4.pt\n"
     ]
    },
    {
     "name": "stderr",
     "output_type": "stream",
     "text": [
      "100%|██████████| 2/2 [00:03<00:00,  1.80s/it]\n"
     ]
    },
    {
     "name": "stdout",
     "output_type": "stream",
     "text": [
      "Models [1, 6, 10] got 0.8776034360529134 on validation.\n",
      "[1, 6]\n",
      "/l/users/santosh.sanjeev/model_soups/runs/test/fge/HAM/DeiT-S/1.00e-05/fge-3.pt\n"
     ]
    },
    {
     "name": "stderr",
     "output_type": "stream",
     "text": [
      "100%|██████████| 2/2 [00:03<00:00,  1.81s/it]\n"
     ]
    },
    {
     "name": "stdout",
     "output_type": "stream",
     "text": [
      "Models [1, 6, 11] got 0.8942991387242258 on validation.\n",
      "[1, 6]\n",
      "/l/users/santosh.sanjeev/model_soups/runs/test/fge/HAM/DeiT-S/1.00e-05/fge-5.pt\n"
     ]
    },
    {
     "name": "stderr",
     "output_type": "stream",
     "text": [
      "100%|██████████| 2/2 [00:03<00:00,  1.84s/it]\n"
     ]
    },
    {
     "name": "stdout",
     "output_type": "stream",
     "text": [
      "Models [1, 6, 12] got 0.8954605789100561 on validation.\n",
      "12 [1, 6, 12] 3 [0.6666666666666666, 0.33333333333333337]\n",
      "[1, 6, 12]\n",
      "/l/users/santosh.sanjeev/model_soups/runs/test/fge/HAM/DeiT-S/1.00e-07/fge-15.pt\n"
     ]
    },
    {
     "name": "stderr",
     "output_type": "stream",
     "text": [
      "100%|██████████| 2/2 [00:03<00:00,  1.87s/it]\n"
     ]
    },
    {
     "name": "stdout",
     "output_type": "stream",
     "text": [
      "Models [1, 6, 12, 13] got 0.8889670724165498 on validation.\n",
      "[1, 6, 12]\n",
      "/l/users/santosh.sanjeev/model_soups/runs/test/fge/HAM/DeiT-S/1.00e-05/fge-19.pt\n"
     ]
    },
    {
     "name": "stderr",
     "output_type": "stream",
     "text": [
      "100%|██████████| 2/2 [00:03<00:00,  1.83s/it]\n"
     ]
    },
    {
     "name": "stdout",
     "output_type": "stream",
     "text": [
      "Models [1, 6, 12, 14] got 0.8764419958670829 on validation.\n",
      "[1, 6, 12]\n",
      "/l/users/santosh.sanjeev/model_soups/runs/test/fge/HAM/DeiT-S/1.00e-05/fge-22.pt\n"
     ]
    },
    {
     "name": "stderr",
     "output_type": "stream",
     "text": [
      "100%|██████████| 2/2 [00:03<00:00,  1.82s/it]\n"
     ]
    },
    {
     "name": "stdout",
     "output_type": "stream",
     "text": [
      "Models [1, 6, 12, 15] got 0.8776034360529134 on validation.\n",
      "[1, 6, 12]\n",
      "/l/users/santosh.sanjeev/model_soups/runs/test/fge/HAM/DeiT-S/5.00e-06/fge-21.pt\n"
     ]
    },
    {
     "name": "stderr",
     "output_type": "stream",
     "text": [
      "100%|██████████| 2/2 [00:03<00:00,  1.89s/it]\n"
     ]
    },
    {
     "name": "stdout",
     "output_type": "stream",
     "text": [
      "Models [1, 6, 12, 16] got 0.8954605789100561 on validation.\n",
      "[1, 6, 12]\n",
      "/l/users/santosh.sanjeev/model_soups/runs/test/fge/HAM/DeiT-S/1.00e-05/fge-16.pt\n"
     ]
    },
    {
     "name": "stderr",
     "output_type": "stream",
     "text": [
      "100%|██████████| 2/2 [00:03<00:00,  1.90s/it]\n"
     ]
    },
    {
     "name": "stdout",
     "output_type": "stream",
     "text": [
      "Models [1, 6, 12, 17] got 0.8776034360529134 on validation.\n",
      "[1, 6, 12]\n",
      "/l/users/santosh.sanjeev/model_soups/runs/test/fge/HAM/DeiT-S/5.00e-06/fge-20.pt\n"
     ]
    },
    {
     "name": "stderr",
     "output_type": "stream",
     "text": [
      "100%|██████████| 2/2 [00:03<00:00,  1.88s/it]\n"
     ]
    },
    {
     "name": "stdout",
     "output_type": "stream",
     "text": [
      "Models [1, 6, 12, 18] got 0.8764419958670829 on validation.\n",
      "[1, 6, 12]\n",
      "/l/users/santosh.sanjeev/model_soups/runs/test/fge/HAM/DeiT-S/1.00e-05/fge-24.pt\n"
     ]
    },
    {
     "name": "stderr",
     "output_type": "stream",
     "text": [
      "100%|██████████| 2/2 [00:03<00:00,  1.89s/it]\n"
     ]
    },
    {
     "name": "stdout",
     "output_type": "stream",
     "text": [
      "Models [1, 6, 12, 19] got 0.8942991387242258 on validation.\n",
      "[1, 6, 12]\n",
      "/l/users/santosh.sanjeev/model_soups/runs/test/fge/HAM/DeiT-S/5.00e-06/fge-4.pt\n"
     ]
    },
    {
     "name": "stderr",
     "output_type": "stream",
     "text": [
      "100%|██████████| 2/2 [00:03<00:00,  1.84s/it]\n"
     ]
    },
    {
     "name": "stdout",
     "output_type": "stream",
     "text": [
      "Models [1, 6, 12, 20] got 0.8889670724165498 on validation.\n",
      "[1, 6, 12]\n",
      "/l/users/santosh.sanjeev/model_soups/runs/test/fge/HAM/DeiT-S/1.00e-05/fge-13.pt\n"
     ]
    },
    {
     "name": "stderr",
     "output_type": "stream",
     "text": [
      "100%|██████████| 2/2 [00:03<00:00,  1.82s/it]\n"
     ]
    },
    {
     "name": "stdout",
     "output_type": "stream",
     "text": [
      "Models [1, 6, 12, 21] got 0.8901285126023801 on validation.\n",
      "[1, 6, 12]\n",
      "/l/users/santosh.sanjeev/model_soups/runs/test/fge/HAM/DeiT-S/1.00e-07/fge-14.pt\n"
     ]
    },
    {
     "name": "stderr",
     "output_type": "stream",
     "text": [
      "100%|██████████| 2/2 [00:03<00:00,  1.86s/it]\n"
     ]
    },
    {
     "name": "stdout",
     "output_type": "stream",
     "text": [
      "Models [1, 6, 12, 22] got 0.8886578578216209 on validation.\n",
      "[1, 6, 12]\n",
      "/l/users/santosh.sanjeev/model_soups/runs/test/fge/HAM/DeiT-S/1.00e-05/fge-6.pt\n"
     ]
    },
    {
     "name": "stderr",
     "output_type": "stream",
     "text": [
      "100%|██████████| 2/2 [00:03<00:00,  1.86s/it]\n"
     ]
    },
    {
     "name": "stdout",
     "output_type": "stream",
     "text": [
      "Models [1, 6, 12, 23] got 0.8776034360529134 on validation.\n",
      "[1, 6, 12]\n",
      "/l/users/santosh.sanjeev/model_soups/runs/test/fge/HAM/DeiT-S/1.00e-07/fge-25.pt\n"
     ]
    },
    {
     "name": "stderr",
     "output_type": "stream",
     "text": [
      "100%|██████████| 2/2 [00:03<00:00,  1.87s/it]\n"
     ]
    },
    {
     "name": "stdout",
     "output_type": "stream",
     "text": [
      "Models [1, 6, 12, 24] got 0.8966220190958867 on validation.\n",
      "24 [1, 6, 12, 24] 4 [0.75, 0.25]\n",
      "[1, 6, 12, 24]\n",
      "/l/users/santosh.sanjeev/model_soups/runs/test/fge/HAM/DeiT-S/5.00e-06/fge-19.pt\n"
     ]
    },
    {
     "name": "stderr",
     "output_type": "stream",
     "text": [
      "100%|██████████| 2/2 [00:03<00:00,  1.80s/it]\n"
     ]
    },
    {
     "name": "stdout",
     "output_type": "stream",
     "text": [
      "Models [1, 6, 12, 24, 25] got 0.872640541804305 on validation.\n",
      "[1, 6, 12, 24]\n",
      "/l/users/santosh.sanjeev/model_soups/runs/test/fge/HAM/DeiT-S/5.00e-06/fge-14.pt\n"
     ]
    },
    {
     "name": "stderr",
     "output_type": "stream",
     "text": [
      "100%|██████████| 2/2 [00:03<00:00,  1.87s/it]\n"
     ]
    },
    {
     "name": "stdout",
     "output_type": "stream",
     "text": [
      "Models [1, 6, 12, 24, 26] got 0.8898192980074512 on validation.\n",
      "[1, 6, 12, 24]\n",
      "/l/users/santosh.sanjeev/model_soups/runs/test/fge/HAM/DeiT-S/1.00e-05/fge-21.pt\n"
     ]
    },
    {
     "name": "stderr",
     "output_type": "stream",
     "text": [
      "100%|██████████| 2/2 [00:03<00:00,  1.86s/it]\n"
     ]
    },
    {
     "name": "stdout",
     "output_type": "stream",
     "text": [
      "Models [1, 6, 12, 24, 27] got 0.8870982095720771 on validation.\n",
      "[1, 6, 12, 24]\n",
      "/l/users/santosh.sanjeev/model_soups/runs/test/fge/HAM/DeiT-S/5.00e-06/fge-25.pt\n"
     ]
    },
    {
     "name": "stderr",
     "output_type": "stream",
     "text": [
      "100%|██████████| 2/2 [00:03<00:00,  1.89s/it]\n"
     ]
    },
    {
     "name": "stdout",
     "output_type": "stream",
     "text": [
      "Models [1, 6, 12, 24, 28] got 0.8874964176357905 on validation.\n",
      "[1, 6, 12, 24]\n",
      "/l/users/santosh.sanjeev/model_soups/runs/test/fge/HAM/DeiT-S/5.00e-06/fge-13.pt\n"
     ]
    },
    {
     "name": "stderr",
     "output_type": "stream",
     "text": [
      "100%|██████████| 2/2 [00:03<00:00,  1.88s/it]\n"
     ]
    },
    {
     "name": "stdout",
     "output_type": "stream",
     "text": [
      "Models [1, 6, 12, 24, 29] got 0.8898192980074512 on validation.\n",
      "[1, 6, 12, 24]\n",
      "/l/users/santosh.sanjeev/model_soups/runs/test/fge/HAM/DeiT-S/5.00e-06/fge-6.pt\n"
     ]
    },
    {
     "name": "stderr",
     "output_type": "stream",
     "text": [
      "100%|██████████| 2/2 [00:03<00:00,  1.80s/it]\n"
     ]
    },
    {
     "name": "stdout",
     "output_type": "stream",
     "text": [
      "Models [1, 6, 12, 24, 30] got 0.8859367693862467 on validation.\n",
      "[1, 6, 12, 24]\n",
      "/l/users/santosh.sanjeev/model_soups/runs/test/fge/HAM/DeiT-S/5.00e-06/fge-2.pt\n"
     ]
    },
    {
     "name": "stderr",
     "output_type": "stream",
     "text": [
      "100%|██████████| 2/2 [00:03<00:00,  1.85s/it]\n"
     ]
    },
    {
     "name": "stdout",
     "output_type": "stream",
     "text": [
      "Models [1, 6, 12, 24, 31] got 0.8966220190958867 on validation.\n",
      "[1, 6, 12, 24]\n",
      "/l/users/santosh.sanjeev/model_soups/runs/test/fge/HAM/DeiT-S/5.00e-05/fge-7.pt\n"
     ]
    },
    {
     "name": "stderr",
     "output_type": "stream",
     "text": [
      "100%|██████████| 2/2 [00:03<00:00,  1.90s/it]\n"
     ]
    },
    {
     "name": "stdout",
     "output_type": "stream",
     "text": [
      "Models [1, 6, 12, 24, 32] got 0.8657567461574429 on validation.\n",
      "[1, 6, 12, 24]\n",
      "/l/users/santosh.sanjeev/model_soups/runs/test/fge/HAM/DeiT-S/1.00e-05/fge-2.pt\n"
     ]
    },
    {
     "name": "stderr",
     "output_type": "stream",
     "text": [
      "100%|██████████| 2/2 [00:03<00:00,  1.88s/it]\n"
     ]
    },
    {
     "name": "stdout",
     "output_type": "stream",
     "text": [
      "Models [1, 6, 12, 24, 33] got 0.8954605789100561 on validation.\n",
      "[1, 6, 12, 24]\n",
      "/l/users/santosh.sanjeev/model_soups/runs/test/fge/HAM/DeiT-S/1.00e-05/fge-14.pt\n"
     ]
    },
    {
     "name": "stderr",
     "output_type": "stream",
     "text": [
      "100%|██████████| 2/2 [00:03<00:00,  1.84s/it]\n"
     ]
    },
    {
     "name": "stdout",
     "output_type": "stream",
     "text": [
      "Models [1, 6, 12, 24, 34] got 0.8901285126023801 on validation.\n",
      "[1, 6, 12, 24]\n",
      "/l/users/santosh.sanjeev/model_soups/runs/test/fge/HAM/DeiT-S/1.00e-05/fge-17.pt\n"
     ]
    },
    {
     "name": "stderr",
     "output_type": "stream",
     "text": [
      "100%|██████████| 2/2 [00:03<00:00,  1.85s/it]\n"
     ]
    },
    {
     "name": "stdout",
     "output_type": "stream",
     "text": [
      "Models [1, 6, 12, 24, 35] got 0.8680796265291039 on validation.\n",
      "[1, 6, 12, 24]\n",
      "/l/users/santosh.sanjeev/model_soups/runs/test/fge/HAM/DeiT-S/1.00e-07/fge-18.pt\n"
     ]
    },
    {
     "name": "stderr",
     "output_type": "stream",
     "text": [
      "100%|██████████| 2/2 [00:03<00:00,  1.85s/it]\n"
     ]
    },
    {
     "name": "stdout",
     "output_type": "stream",
     "text": [
      "Models [1, 6, 12, 24, 36] got 0.8898192980074512 on validation.\n",
      "[1, 6, 12, 24]\n",
      "/l/users/santosh.sanjeev/model_soups/runs/test/fge/HAM/DeiT-S/1.00e-05/fge-11.pt\n"
     ]
    },
    {
     "name": "stderr",
     "output_type": "stream",
     "text": [
      "100%|██████████| 2/2 [00:03<00:00,  1.82s/it]\n"
     ]
    },
    {
     "name": "stdout",
     "output_type": "stream",
     "text": [
      "Models [1, 6, 12, 24, 37] got 0.8886578578216209 on validation.\n",
      "[1, 6, 12, 24]\n",
      "/l/users/santosh.sanjeev/model_soups/runs/test/fge/HAM/DeiT-S/1.00e-05/fge-0.pt\n"
     ]
    },
    {
     "name": "stderr",
     "output_type": "stream",
     "text": [
      "100%|██████████| 2/2 [00:03<00:00,  1.90s/it]\n"
     ]
    },
    {
     "name": "stdout",
     "output_type": "stream",
     "text": [
      "Models [1, 6, 12, 24, 38] got 0.8711099295594069 on validation.\n",
      "[1, 6, 12, 24]\n",
      "/l/users/santosh.sanjeev/model_soups/runs/test/fge/HAM/DeiT-S/5.00e-06/fge-17.pt\n"
     ]
    },
    {
     "name": "stderr",
     "output_type": "stream",
     "text": [
      "100%|██████████| 2/2 [00:03<00:00,  1.87s/it]\n"
     ]
    },
    {
     "name": "stdout",
     "output_type": "stream",
     "text": [
      "Models [1, 6, 12, 24, 39] got 0.8966220190958867 on validation.\n",
      "[1, 6, 12, 24]\n",
      "/l/users/santosh.sanjeev/model_soups/runs/test/fge/HAM/DeiT-S/5.00e-06/fge-1.pt\n"
     ]
    },
    {
     "name": "stderr",
     "output_type": "stream",
     "text": [
      "100%|██████████| 2/2 [00:03<00:00,  1.87s/it]\n"
     ]
    },
    {
     "name": "stdout",
     "output_type": "stream",
     "text": [
      "Models [1, 6, 12, 24, 40] got 0.8966220190958867 on validation.\n",
      "[1, 6, 12, 24]\n",
      "/l/users/santosh.sanjeev/model_soups/runs/test/fge/HAM/DeiT-S/1.00e-05/fge-1.pt\n"
     ]
    },
    {
     "name": "stderr",
     "output_type": "stream",
     "text": [
      "100%|██████████| 2/2 [00:03<00:00,  1.90s/it]\n"
     ]
    },
    {
     "name": "stdout",
     "output_type": "stream",
     "text": [
      "Models [1, 6, 12, 24, 41] got 0.8954605789100561 on validation.\n",
      "[1, 6, 12, 24]\n",
      "/l/users/santosh.sanjeev/model_soups/runs/test/fge/HAM/DeiT-S/1.00e-05/fge-12.pt\n"
     ]
    },
    {
     "name": "stderr",
     "output_type": "stream",
     "text": [
      "100%|██████████| 2/2 [00:03<00:00,  1.85s/it]\n"
     ]
    },
    {
     "name": "stdout",
     "output_type": "stream",
     "text": [
      "Models [1, 6, 12, 24, 42] got 0.8966220190958867 on validation.\n",
      "[1, 6, 12, 24]\n",
      "/l/users/santosh.sanjeev/model_soups/runs/test/fge/HAM/DeiT-S/5.00e-05/fge-24.pt\n"
     ]
    },
    {
     "name": "stderr",
     "output_type": "stream",
     "text": [
      "100%|██████████| 2/2 [00:03<00:00,  1.81s/it]\n"
     ]
    },
    {
     "name": "stdout",
     "output_type": "stream",
     "text": [
      "Models [1, 6, 12, 24, 43] got 0.8829355023605895 on validation.\n",
      "[1, 6, 12, 24]\n",
      "/l/users/santosh.sanjeev/model_soups/runs/test/fge/HAM/DeiT-S/5.00e-06/fge-22.pt\n"
     ]
    },
    {
     "name": "stderr",
     "output_type": "stream",
     "text": [
      "100%|██████████| 2/2 [00:03<00:00,  1.85s/it]\n"
     ]
    },
    {
     "name": "stdout",
     "output_type": "stream",
     "text": [
      "Models [1, 6, 12, 24, 44] got 0.8764419958670829 on validation.\n",
      "[1, 6, 12, 24]\n",
      "/l/users/santosh.sanjeev/model_soups/runs/test/fge/HAM/DeiT-S/5.00e-05/fge-25.pt\n"
     ]
    },
    {
     "name": "stderr",
     "output_type": "stream",
     "text": [
      "100%|██████████| 2/2 [00:03<00:00,  1.87s/it]\n"
     ]
    },
    {
     "name": "stdout",
     "output_type": "stream",
     "text": [
      "Models [1, 6, 12, 24, 45] got 0.8764419958670829 on validation.\n",
      "[1, 6, 12, 24]\n",
      "/l/users/santosh.sanjeev/model_soups/runs/test/fge/HAM/DeiT-S/5.00e-06/fge-24.pt\n"
     ]
    },
    {
     "name": "stderr",
     "output_type": "stream",
     "text": [
      "100%|██████████| 2/2 [00:03<00:00,  1.84s/it]\n"
     ]
    },
    {
     "name": "stdout",
     "output_type": "stream",
     "text": [
      "Models [1, 6, 12, 24, 46] got 0.8696392747786476 on validation.\n",
      "[1, 6, 12, 24]\n",
      "/l/users/santosh.sanjeev/model_soups/runs/test/fge/HAM/DeiT-S/1.00e-07/fge-23.pt\n"
     ]
    },
    {
     "name": "stderr",
     "output_type": "stream",
     "text": [
      "100%|██████████| 2/2 [00:03<00:00,  1.87s/it]\n"
     ]
    },
    {
     "name": "stdout",
     "output_type": "stream",
     "text": [
      "Models [1, 6, 12, 24, 47] got 0.8722713697452373 on validation.\n",
      "[1, 6, 12, 24]\n",
      "/l/users/santosh.sanjeev/model_soups/runs/test/fge/HAM/DeiT-S/1.00e-05/fge-8.pt\n"
     ]
    },
    {
     "name": "stderr",
     "output_type": "stream",
     "text": [
      "100%|██████████| 2/2 [00:03<00:00,  1.87s/it]\n"
     ]
    },
    {
     "name": "stdout",
     "output_type": "stream",
     "text": [
      "Models [1, 6, 12, 24, 48] got 0.8966220190958867 on validation.\n",
      "[1, 6, 12, 24]\n",
      "/l/users/santosh.sanjeev/model_soups/runs/test/fge/HAM/DeiT-S/5.00e-06/fge-11.pt\n"
     ]
    },
    {
     "name": "stderr",
     "output_type": "stream",
     "text": [
      "100%|██████████| 2/2 [00:03<00:00,  1.85s/it]\n"
     ]
    },
    {
     "name": "stdout",
     "output_type": "stream",
     "text": [
      "Models [1, 6, 12, 24, 49] got 0.865468648656802 on validation.\n",
      "[1, 6, 12, 24]\n",
      "/l/users/santosh.sanjeev/model_soups/runs/test/fge/HAM/DeiT-S/1.00e-07/fge-21.pt\n"
     ]
    },
    {
     "name": "stderr",
     "output_type": "stream",
     "text": [
      "100%|██████████| 2/2 [00:03<00:00,  1.86s/it]\n"
     ]
    },
    {
     "name": "stdout",
     "output_type": "stream",
     "text": [
      "Models [1, 6, 12, 24, 50] got 0.8966220190958867 on validation.\n",
      "[1, 6, 12, 24]\n",
      "/l/users/santosh.sanjeev/model_soups/runs/test/fge/HAM/DeiT-S/5.00e-05/fge-8.pt\n"
     ]
    },
    {
     "name": "stderr",
     "output_type": "stream",
     "text": [
      "100%|██████████| 2/2 [00:03<00:00,  1.88s/it]\n"
     ]
    },
    {
     "name": "stdout",
     "output_type": "stream",
     "text": [
      "Models [1, 6, 12, 24, 51] got 0.8601154652548381 on validation.\n",
      "[1, 6, 12, 24]\n",
      "/l/users/santosh.sanjeev/model_soups/runs/test/fge/HAM/DeiT-S/5.00e-06/fge-3.pt\n"
     ]
    },
    {
     "name": "stderr",
     "output_type": "stream",
     "text": [
      "100%|██████████| 2/2 [00:03<00:00,  1.85s/it]\n"
     ]
    },
    {
     "name": "stdout",
     "output_type": "stream",
     "text": [
      "Models [1, 6, 12, 24, 52] got 0.8886578578216209 on validation.\n",
      "[1, 6, 12, 24]\n",
      "/l/users/santosh.sanjeev/model_soups/runs/test/fge/HAM/DeiT-S/1.00e-07/fge-10.pt\n"
     ]
    },
    {
     "name": "stderr",
     "output_type": "stream",
     "text": [
      "100%|██████████| 2/2 [00:03<00:00,  1.87s/it]\n"
     ]
    },
    {
     "name": "stdout",
     "output_type": "stream",
     "text": [
      "Models [1, 6, 12, 24, 53] got 0.8833257915139449 on validation.\n",
      "[1, 6, 12, 24]\n",
      "/l/users/santosh.sanjeev/model_soups/runs/test/fge/HAM/DeiT-S/5.00e-05/fge-12.pt\n"
     ]
    },
    {
     "name": "stderr",
     "output_type": "stream",
     "text": [
      "100%|██████████| 2/2 [00:03<00:00,  1.87s/it]\n"
     ]
    },
    {
     "name": "stdout",
     "output_type": "stream",
     "text": [
      "Models [1, 6, 12, 24, 54] got 0.870800714964478 on validation.\n",
      "[1, 6, 12, 24]\n",
      "/l/users/santosh.sanjeev/model_soups/runs/test/fge/HAM/DeiT-S/1.00e-07/fge-7.pt\n"
     ]
    },
    {
     "name": "stderr",
     "output_type": "stream",
     "text": [
      "100%|██████████| 2/2 [00:03<00:00,  1.93s/it]\n"
     ]
    },
    {
     "name": "stdout",
     "output_type": "stream",
     "text": [
      "Models [1, 6, 12, 24, 55] got 0.9016448708086339 on validation.\n",
      "55 [1, 6, 12, 24, 55] 5 [0.8, 0.19999999999999996]\n",
      "[1, 6, 12, 24, 55]\n",
      "/l/users/santosh.sanjeev/model_soups/runs/test/fge/HAM/DeiT-S/1.00e-07/fge-12.pt\n"
     ]
    },
    {
     "name": "stderr",
     "output_type": "stream",
     "text": [
      "100%|██████████| 2/2 [00:03<00:00,  1.89s/it]\n"
     ]
    },
    {
     "name": "stdout",
     "output_type": "stream",
     "text": [
      "Models [1, 6, 12, 24, 55, 56] got 0.8606584762508108 on validation.\n",
      "[1, 6, 12, 24, 55]\n",
      "/l/users/santosh.sanjeev/model_soups/runs/test/fge/HAM/DeiT-S/5.00e-05/fge-1.pt\n"
     ]
    },
    {
     "name": "stderr",
     "output_type": "stream",
     "text": [
      "100%|██████████| 2/2 [00:03<00:00,  1.97s/it]\n"
     ]
    },
    {
     "name": "stdout",
     "output_type": "stream",
     "text": [
      "Models [1, 6, 12, 24, 55, 57] got 0.8818340196388977 on validation.\n",
      "[1, 6, 12, 24, 55]\n",
      "/l/users/santosh.sanjeev/model_soups/runs/test/fge/HAM/DeiT-S/5.00e-05/fge-9.pt\n"
     ]
    },
    {
     "name": "stderr",
     "output_type": "stream",
     "text": [
      "100%|██████████| 2/2 [00:03<00:00,  1.89s/it]\n"
     ]
    },
    {
     "name": "stdout",
     "output_type": "stream",
     "text": [
      "Models [1, 6, 12, 24, 55, 58] got 0.8848643226692008 on validation.\n",
      "[1, 6, 12, 24, 55]\n",
      "/l/users/santosh.sanjeev/model_soups/runs/test/fge/HAM/DeiT-S/5.00e-06/fge-16.pt\n"
     ]
    },
    {
     "name": "stderr",
     "output_type": "stream",
     "text": [
      "100%|██████████| 2/2 [00:03<00:00,  1.99s/it]\n"
     ]
    },
    {
     "name": "stdout",
     "output_type": "stream",
     "text": [
      "Models [1, 6, 12, 24, 55, 59] got 0.8921210612848244 on validation.\n",
      "[1, 6, 12, 24, 55]\n",
      "/l/users/santosh.sanjeev/model_soups/runs/test/fge/HAM/DeiT-S/1.00e-07/fge-13.pt\n"
     ]
    },
    {
     "name": "stderr",
     "output_type": "stream",
     "text": [
      "100%|██████████| 2/2 [00:03<00:00,  1.86s/it]\n"
     ]
    },
    {
     "name": "stdout",
     "output_type": "stream",
     "text": [
      "Models [1, 6, 12, 24, 55, 60] got 0.8609676908457395 on validation.\n",
      "[1, 6, 12, 24, 55]\n",
      "/l/users/santosh.sanjeev/model_soups/runs/test/fge/HAM/DeiT-S/5.00e-05/fge-15.pt\n"
     ]
    },
    {
     "name": "stderr",
     "output_type": "stream",
     "text": [
      "100%|██████████| 2/2 [00:03<00:00,  1.86s/it]\n"
     ]
    },
    {
     "name": "stdout",
     "output_type": "stream",
     "text": [
      "Models [1, 6, 12, 24, 55, 61] got 0.8761327812721541 on validation.\n",
      "[1, 6, 12, 24, 55]\n",
      "/l/users/santosh.sanjeev/model_soups/runs/test/fge/HAM/DeiT-S/5.00e-06/fge-23.pt\n"
     ]
    },
    {
     "name": "stderr",
     "output_type": "stream",
     "text": [
      "100%|██████████| 2/2 [00:03<00:00,  1.88s/it]\n"
     ]
    },
    {
     "name": "stdout",
     "output_type": "stream",
     "text": [
      "Models [1, 6, 12, 24, 55, 62] got 0.9028063109944642 on validation.\n",
      "62 [1, 6, 12, 24, 55, 62] 6 [0.8333333333333334, 0.16666666666666663]\n",
      "[1, 6, 12, 24, 55, 62]\n",
      "/l/users/santosh.sanjeev/model_soups/runs/test/fge/HAM/DeiT-S/1.00e-07/fge-19.pt\n"
     ]
    },
    {
     "name": "stderr",
     "output_type": "stream",
     "text": [
      "100%|██████████| 2/2 [00:03<00:00,  1.88s/it]\n"
     ]
    },
    {
     "name": "stdout",
     "output_type": "stream",
     "text": [
      "Models [1, 6, 12, 24, 55, 62, 63] got 0.8837586919468452 on validation.\n",
      "[1, 6, 12, 24, 55, 62]\n",
      "/l/users/santosh.sanjeev/model_soups/runs/test/fge/HAM/DeiT-S/5.00e-05/fge-11.pt\n"
     ]
    },
    {
     "name": "stderr",
     "output_type": "stream",
     "text": [
      "100%|██████████| 2/2 [00:03<00:00,  1.89s/it]\n"
     ]
    },
    {
     "name": "stdout",
     "output_type": "stream",
     "text": [
      "Models [1, 6, 12, 24, 55, 62, 64] got 0.857085162224535 on validation.\n",
      "[1, 6, 12, 24, 55, 62]\n",
      "/l/users/santosh.sanjeev/model_soups/runs/test/fge/HAM/DeiT-S/5.00e-06/fge-8.pt\n"
     ]
    },
    {
     "name": "stderr",
     "output_type": "stream",
     "text": [
      "100%|██████████| 2/2 [00:03<00:00,  1.94s/it]\n"
     ]
    },
    {
     "name": "stdout",
     "output_type": "stream",
     "text": [
      "Models [1, 6, 12, 24, 55, 62, 65] got 0.8867889949771482 on validation.\n",
      "[1, 6, 12, 24, 55, 62]\n",
      "/l/users/santosh.sanjeev/model_soups/runs/test/fge/HAM/DeiT-S/5.00e-05/fge-3.pt\n"
     ]
    },
    {
     "name": "stderr",
     "output_type": "stream",
     "text": [
      "100%|██████████| 2/2 [00:03<00:00,  1.99s/it]\n"
     ]
    },
    {
     "name": "stdout",
     "output_type": "stream",
     "text": [
      "Models [1, 6, 12, 24, 55, 62, 66] got 0.8639768767817548 on validation.\n",
      "[1, 6, 12, 24, 55, 62]\n",
      "/l/users/santosh.sanjeev/model_soups/runs/test/fge/HAM/DeiT-S/5.00e-06/fge-10.pt\n"
     ]
    },
    {
     "name": "stderr",
     "output_type": "stream",
     "text": [
      "100%|██████████| 2/2 [00:04<00:00,  2.03s/it]\n"
     ]
    },
    {
     "name": "stdout",
     "output_type": "stream",
     "text": [
      "Models [1, 6, 12, 24, 55, 62, 67] got 0.8689318521200055 on validation.\n",
      "[1, 6, 12, 24, 55, 62]\n",
      "/l/users/santosh.sanjeev/model_soups/runs/test/fge/HAM/DeiT-S/5.00e-05/fge-16.pt\n"
     ]
    },
    {
     "name": "stderr",
     "output_type": "stream",
     "text": [
      "100%|██████████| 2/2 [00:03<00:00,  1.89s/it]\n"
     ]
    },
    {
     "name": "stdout",
     "output_type": "stream",
     "text": [
      "Models [1, 6, 12, 24, 55, 62, 68] got 0.851753095916859 on validation.\n",
      "[1, 6, 12, 24, 55, 62]\n",
      "/l/users/santosh.sanjeev/model_soups/runs/test/fge/HAM/DeiT-S/1.00e-07/fge-24.pt\n"
     ]
    },
    {
     "name": "stderr",
     "output_type": "stream",
     "text": [
      "100%|██████████| 2/2 [00:03<00:00,  1.84s/it]\n"
     ]
    },
    {
     "name": "stdout",
     "output_type": "stream",
     "text": [
      "Models [1, 6, 12, 24, 55, 62, 69] got 0.8754253586135119 on validation.\n",
      "[1, 6, 12, 24, 55, 62]\n",
      "/l/users/santosh.sanjeev/model_soups/runs/test/fge/HAM/DeiT-S/5.00e-05/fge-20.pt\n"
     ]
    },
    {
     "name": "stderr",
     "output_type": "stream",
     "text": [
      "100%|██████████| 2/2 [00:03<00:00,  1.98s/it]\n"
     ]
    },
    {
     "name": "stdout",
     "output_type": "stream",
     "text": [
      "Models [1, 6, 12, 24, 55, 62, 70] got 0.8601154652548381 on validation.\n",
      "[1, 6, 12, 24, 55, 62]\n",
      "/l/users/santosh.sanjeev/model_soups/runs/test/fge/HAM/DeiT-S/1.00e-07/fge-17.pt\n"
     ]
    },
    {
     "name": "stderr",
     "output_type": "stream",
     "text": [
      "100%|██████████| 2/2 [00:03<00:00,  1.93s/it]\n"
     ]
    },
    {
     "name": "stdout",
     "output_type": "stream",
     "text": [
      "Models [1, 6, 12, 24, 55, 62, 71] got 0.8867889949771482 on validation.\n",
      "[1, 6, 12, 24, 55, 62]\n",
      "/l/users/santosh.sanjeev/model_soups/runs/test/fge/HAM/DeiT-S/1.00e-07/fge-8.pt\n"
     ]
    },
    {
     "name": "stderr",
     "output_type": "stream",
     "text": [
      "100%|██████████| 2/2 [00:03<00:00,  1.91s/it]\n"
     ]
    },
    {
     "name": "stdout",
     "output_type": "stream",
     "text": [
      "Models [1, 6, 12, 24, 55, 62, 72] got 0.8609676908457395 on validation.\n",
      "[1, 6, 12, 24, 55, 62]\n",
      "/l/users/santosh.sanjeev/model_soups/runs/test/fge/HAM/DeiT-S/5.00e-04/fge-15.pt\n"
     ]
    },
    {
     "name": "stderr",
     "output_type": "stream",
     "text": [
      "100%|██████████| 2/2 [00:03<00:00,  1.90s/it]\n"
     ]
    },
    {
     "name": "stdout",
     "output_type": "stream",
     "text": [
      "Models [1, 6, 12, 24, 55, 62, 73] got 0.26586270871985157 on validation.\n",
      "[1, 6, 12, 24, 55, 62]\n",
      "/l/users/santosh.sanjeev/model_soups/runs/test/fge/HAM/DeiT-S/1.00e-07/fge-16.pt\n"
     ]
    },
    {
     "name": "stderr",
     "output_type": "stream",
     "text": [
      "100%|██████████| 2/2 [00:03<00:00,  1.88s/it]\n"
     ]
    },
    {
     "name": "stdout",
     "output_type": "stream",
     "text": [
      "Models [1, 6, 12, 24, 55, 62, 74] got 0.8856275547913179 on validation.\n",
      "[1, 6, 12, 24, 55, 62]\n",
      "/l/users/santosh.sanjeev/model_soups/runs/test/fge/HAM/DeiT-S/1.00e-07/fge-9.pt\n"
     ]
    },
    {
     "name": "stderr",
     "output_type": "stream",
     "text": [
      "100%|██████████| 2/2 [00:03<00:00,  1.87s/it]\n"
     ]
    },
    {
     "name": "stdout",
     "output_type": "stream",
     "text": [
      "Models [1, 6, 12, 24, 55, 62, 75] got 0.8674611973392461 on validation.\n",
      "[1, 6, 12, 24, 55, 62]\n",
      "/l/users/santosh.sanjeev/model_soups/runs/test/fge/HAM/DeiT-S/5.00e-05/fge-2.pt\n"
     ]
    },
    {
     "name": "stderr",
     "output_type": "stream",
     "text": [
      "100%|██████████| 2/2 [00:03<00:00,  1.85s/it]\n"
     ]
    },
    {
     "name": "stdout",
     "output_type": "stream",
     "text": [
      "Models [1, 6, 12, 24, 55, 62, 76] got 0.8559237220387047 on validation.\n",
      "[1, 6, 12, 24, 55, 62]\n",
      "/l/users/santosh.sanjeev/model_soups/runs/test/fge/HAM/DeiT-S/1.00e-07/fge-20.pt\n"
     ]
    },
    {
     "name": "stderr",
     "output_type": "stream",
     "text": [
      "100%|██████████| 2/2 [00:03<00:00,  1.85s/it]\n"
     ]
    },
    {
     "name": "stdout",
     "output_type": "stream",
     "text": [
      "Models [1, 6, 12, 24, 55, 62, 77] got 0.8772651854533388 on validation.\n",
      "[1, 6, 12, 24, 55, 62]\n",
      "/l/users/santosh.sanjeev/model_soups/runs/test/fge/HAM/DeiT-S/5.00e-04/fge-16.pt\n"
     ]
    },
    {
     "name": "stderr",
     "output_type": "stream",
     "text": [
      "100%|██████████| 2/2 [00:03<00:00,  1.87s/it]\n"
     ]
    },
    {
     "name": "stdout",
     "output_type": "stream",
     "text": [
      "Models [1, 6, 12, 24, 55, 62, 78] got 0.26586270871985157 on validation.\n",
      "[1, 6, 12, 24, 55, 62]\n",
      "/l/users/santosh.sanjeev/model_soups/runs/test/fge/HAM/DeiT-S/5.00e-05/fge-0.pt\n"
     ]
    },
    {
     "name": "stderr",
     "output_type": "stream",
     "text": [
      "100%|██████████| 2/2 [00:03<00:00,  1.94s/it]\n"
     ]
    },
    {
     "name": "stdout",
     "output_type": "stream",
     "text": [
      "Models [1, 6, 12, 24, 55, 62, 79] got 0.8897981809131635 on validation.\n",
      "[1, 6, 12, 24, 55, 62]\n",
      "/l/users/santosh.sanjeev/model_soups/runs/test/fge/HAM/DeiT-S/1.00e-06/fge-15.pt\n"
     ]
    },
    {
     "name": "stderr",
     "output_type": "stream",
     "text": [
      "100%|██████████| 2/2 [00:03<00:00,  1.85s/it]\n"
     ]
    },
    {
     "name": "stdout",
     "output_type": "stream",
     "text": [
      "Models [1, 6, 12, 24, 55, 62, 80] got 0.8856275547913179 on validation.\n",
      "[1, 6, 12, 24, 55, 62]\n",
      "/l/users/santosh.sanjeev/model_soups/runs/test/fge/HAM/DeiT-S/1.00e-06/fge-3.pt\n"
     ]
    },
    {
     "name": "stderr",
     "output_type": "stream",
     "text": [
      "100%|██████████| 2/2 [00:03<00:00,  1.92s/it]\n"
     ]
    },
    {
     "name": "stdout",
     "output_type": "stream",
     "text": [
      "Models [1, 6, 12, 24, 55, 62, 81] got 0.8720221126144471 on validation.\n",
      "[1, 6, 12, 24, 55, 62]\n",
      "/l/users/santosh.sanjeev/model_soups/runs/test/fge/HAM/DeiT-S/5.00e-05/fge-14.pt\n"
     ]
    },
    {
     "name": "stderr",
     "output_type": "stream",
     "text": [
      "100%|██████████| 2/2 [00:03<00:00,  1.89s/it]\n"
     ]
    },
    {
     "name": "stdout",
     "output_type": "stream",
     "text": [
      "Models [1, 6, 12, 24, 55, 62, 82] got 0.857085162224535 on validation.\n",
      "[1, 6, 12, 24, 55, 62]\n",
      "/l/users/santosh.sanjeev/model_soups/runs/test/fge/HAM/DeiT-S/5.00e-04/fge-2.pt\n"
     ]
    },
    {
     "name": "stderr",
     "output_type": "stream",
     "text": [
      "100%|██████████| 2/2 [00:03<00:00,  1.96s/it]\n"
     ]
    },
    {
     "name": "stdout",
     "output_type": "stream",
     "text": [
      "Models [1, 6, 12, 24, 55, 62, 83] got 0.24984539270253553 on validation.\n",
      "[1, 6, 12, 24, 55, 62]\n",
      "/l/users/santosh.sanjeev/model_soups/runs/test/fge/HAM/DeiT-S/5.00e-05/fge-13.pt\n"
     ]
    },
    {
     "name": "stderr",
     "output_type": "stream",
     "text": [
      "100%|██████████| 2/2 [00:03<00:00,  1.90s/it]\n"
     ]
    },
    {
     "name": "stdout",
     "output_type": "stream",
     "text": [
      "Models [1, 6, 12, 24, 55, 62, 84] got 0.857085162224535 on validation.\n",
      "[1, 6, 12, 24, 55, 62]\n",
      "/l/users/santosh.sanjeev/model_soups/runs/test/fge/HAM/DeiT-S/5.00e-05/fge-10.pt\n"
     ]
    },
    {
     "name": "stderr",
     "output_type": "stream",
     "text": [
      "100%|██████████| 2/2 [00:04<00:00,  2.22s/it]\n"
     ]
    },
    {
     "name": "stdout",
     "output_type": "stream",
     "text": [
      "Models [1, 6, 12, 24, 55, 62, 85] got 0.857085162224535 on validation.\n",
      "[1, 6, 12, 24, 55, 62]\n",
      "/l/users/santosh.sanjeev/model_soups/runs/test/fge/HAM/DeiT-S/5.00e-05/fge-21.pt\n"
     ]
    },
    {
     "name": "stderr",
     "output_type": "stream",
     "text": [
      "100%|██████████| 2/2 [00:04<00:00,  2.02s/it]\n"
     ]
    },
    {
     "name": "stdout",
     "output_type": "stream",
     "text": [
      "Models [1, 6, 12, 24, 55, 62, 86] got 0.877972608111981 on validation.\n",
      "[1, 6, 12, 24, 55, 62]\n",
      "/l/users/santosh.sanjeev/model_soups/runs/test/fge/HAM/DeiT-S/5.00e-04/fge-4.pt\n"
     ]
    },
    {
     "name": "stderr",
     "output_type": "stream",
     "text": [
      "100%|██████████| 2/2 [00:04<00:00,  2.07s/it]\n"
     ]
    },
    {
     "name": "stdout",
     "output_type": "stream",
     "text": [
      "Models [1, 6, 12, 24, 55, 62, 87] got 0.24984539270253553 on validation.\n",
      "[1, 6, 12, 24, 55, 62]\n",
      "/l/users/santosh.sanjeev/model_soups/runs/test/fge/HAM/DeiT-S/5.00e-04/fge-5.pt\n"
     ]
    },
    {
     "name": "stderr",
     "output_type": "stream",
     "text": [
      "100%|██████████| 2/2 [00:04<00:00,  2.04s/it]\n"
     ]
    },
    {
     "name": "stdout",
     "output_type": "stream",
     "text": [
      "Models [1, 6, 12, 24, 55, 62, 88] got 0.24984539270253553 on validation.\n",
      "[1, 6, 12, 24, 55, 62]\n",
      "/l/users/santosh.sanjeev/model_soups/runs/test/fge/HAM/DeiT-S/5.00e-04/fge-6.pt\n"
     ]
    },
    {
     "name": "stderr",
     "output_type": "stream",
     "text": [
      "100%|██████████| 2/2 [00:04<00:00,  2.03s/it]\n"
     ]
    },
    {
     "name": "stdout",
     "output_type": "stream",
     "text": [
      "Models [1, 6, 12, 24, 55, 62, 89] got 0.24984539270253553 on validation.\n",
      "[1, 6, 12, 24, 55, 62]\n",
      "/l/users/santosh.sanjeev/model_soups/runs/test/fge/HAM/DeiT-S/5.00e-05/fge-6.pt\n"
     ]
    },
    {
     "name": "stderr",
     "output_type": "stream",
     "text": [
      "100%|██████████| 2/2 [00:04<00:00,  2.02s/it]\n"
     ]
    },
    {
     "name": "stdout",
     "output_type": "stream",
     "text": [
      "Models [1, 6, 12, 24, 55, 62, 90] got 0.8559237220387047 on validation.\n",
      "[1, 6, 12, 24, 55, 62]\n",
      "/l/users/santosh.sanjeev/model_soups/runs/test/fge/HAM/DeiT-S/1.00e-07/fge-11.pt\n"
     ]
    },
    {
     "name": "stderr",
     "output_type": "stream",
     "text": [
      "100%|██████████| 2/2 [00:04<00:00,  2.18s/it]\n"
     ]
    },
    {
     "name": "stdout",
     "output_type": "stream",
     "text": [
      "Models [1, 6, 12, 24, 55, 62, 91] got 0.8856275547913179 on validation.\n",
      "[1, 6, 12, 24, 55, 62]\n",
      "/l/users/santosh.sanjeev/model_soups/runs/test/fge/HAM/DeiT-S/5.00e-04/fge-13.pt\n"
     ]
    },
    {
     "name": "stderr",
     "output_type": "stream",
     "text": [
      "100%|██████████| 2/2 [00:04<00:00,  2.14s/it]\n"
     ]
    },
    {
     "name": "stdout",
     "output_type": "stream",
     "text": [
      "Models [1, 6, 12, 24, 55, 62, 92] got 0.2593692022263451 on validation.\n",
      "[1, 6, 12, 24, 55, 62]\n",
      "/l/users/santosh.sanjeev/model_soups/runs/test/fge/HAM/DeiT-S/5.00e-04/fge-3.pt\n"
     ]
    },
    {
     "name": "stderr",
     "output_type": "stream",
     "text": [
      "100%|██████████| 2/2 [00:04<00:00,  2.23s/it]\n"
     ]
    },
    {
     "name": "stdout",
     "output_type": "stream",
     "text": [
      "Models [1, 6, 12, 24, 55, 62, 93] got 0.24984539270253553 on validation.\n",
      "[1, 6, 12, 24, 55, 62]\n",
      "/l/users/santosh.sanjeev/model_soups/runs/test/fge/HAM/DeiT-S/1.00e-06/fge-20.pt\n"
     ]
    },
    {
     "name": "stderr",
     "output_type": "stream",
     "text": [
      "100%|██████████| 2/2 [00:04<00:00,  2.18s/it]\n"
     ]
    },
    {
     "name": "stdout",
     "output_type": "stream",
     "text": [
      "Models [1, 6, 12, 24, 55, 62, 94] got 0.8932825014706547 on validation.\n",
      "[1, 6, 12, 24, 55, 62]\n",
      "/l/users/santosh.sanjeev/model_soups/runs/test/fge/HAM/DeiT-S/5.00e-05/fge-5.pt\n"
     ]
    },
    {
     "name": "stderr",
     "output_type": "stream",
     "text": [
      "100%|██████████| 2/2 [00:04<00:00,  2.07s/it]\n"
     ]
    },
    {
     "name": "stdout",
     "output_type": "stream",
     "text": [
      "Models [1, 6, 12, 24, 55, 62, 95] got 0.8559237220387047 on validation.\n",
      "[1, 6, 12, 24, 55, 62]\n",
      "/l/users/santosh.sanjeev/model_soups/runs/test/fge/HAM/DeiT-S/5.00e-04/fge-18.pt\n"
     ]
    },
    {
     "name": "stderr",
     "output_type": "stream",
     "text": [
      "100%|██████████| 2/2 [00:04<00:00,  2.04s/it]\n"
     ]
    },
    {
     "name": "stdout",
     "output_type": "stream",
     "text": [
      "Models [1, 6, 12, 24, 55, 62, 96] got 0.26586270871985157 on validation.\n",
      "[1, 6, 12, 24, 55, 62]\n",
      "/l/users/santosh.sanjeev/model_soups/runs/test/fge/HAM/DeiT-S/5.00e-04/fge-14.pt\n"
     ]
    },
    {
     "name": "stderr",
     "output_type": "stream",
     "text": [
      "100%|██████████| 2/2 [00:03<00:00,  1.96s/it]\n"
     ]
    },
    {
     "name": "stdout",
     "output_type": "stream",
     "text": [
      "Models [1, 6, 12, 24, 55, 62, 97] got 0.26586270871985157 on validation.\n",
      "[1, 6, 12, 24, 55, 62]\n",
      "/l/users/santosh.sanjeev/model_soups/runs/test/fge/HAM/DeiT-S/5.00e-06/fge-12.pt\n"
     ]
    },
    {
     "name": "stderr",
     "output_type": "stream",
     "text": [
      "100%|██████████| 2/2 [00:04<00:00,  2.14s/it]\n"
     ]
    },
    {
     "name": "stdout",
     "output_type": "stream",
     "text": [
      "Models [1, 6, 12, 24, 55, 62, 98] got 0.8802954884836417 on validation.\n",
      "[1, 6, 12, 24, 55, 62]\n",
      "/l/users/santosh.sanjeev/model_soups/runs/test/fge/HAM/DeiT-S/5.00e-05/fge-19.pt\n"
     ]
    },
    {
     "name": "stderr",
     "output_type": "stream",
     "text": [
      "100%|██████████| 2/2 [00:04<00:00,  2.18s/it]\n"
     ]
    },
    {
     "name": "stdout",
     "output_type": "stream",
     "text": [
      "Models [1, 6, 12, 24, 55, 62, 99] got 0.8791340482978114 on validation.\n",
      "[1, 6, 12, 24, 55, 62]\n",
      "/l/users/santosh.sanjeev/model_soups/runs/test/fge/HAM/DeiT-S/1.00e-06/fge-22.pt\n"
     ]
    },
    {
     "name": "stderr",
     "output_type": "stream",
     "text": [
      "100%|██████████| 2/2 [00:04<00:00,  2.13s/it]\n"
     ]
    },
    {
     "name": "stdout",
     "output_type": "stream",
     "text": [
      "Models [1, 6, 12, 24, 55, 62, 100] got 0.8867889949771482 on validation.\n",
      "[1, 6, 12, 24, 55, 62]\n",
      "/l/users/santosh.sanjeev/model_soups/runs/test/fge/HAM/DeiT-S/5.00e-05/fge-23.pt\n"
     ]
    },
    {
     "name": "stderr",
     "output_type": "stream",
     "text": [
      "100%|██████████| 2/2 [01:20<00:00, 40.33s/it]\n"
     ]
    },
    {
     "name": "stdout",
     "output_type": "stream",
     "text": [
      "Models [1, 6, 12, 24, 55, 62, 101] got 0.877972608111981 on validation.\n",
      "[1, 6, 12, 24, 55, 62]\n",
      "/l/users/santosh.sanjeev/model_soups/runs/test/fge/HAM/DeiT-S/5.00e-05/fge-18.pt\n"
     ]
    },
    {
     "name": "stderr",
     "output_type": "stream",
     "text": [
      "100%|██████████| 2/2 [00:03<00:00,  1.82s/it]\n"
     ]
    },
    {
     "name": "stdout",
     "output_type": "stream",
     "text": [
      "Models [1, 6, 12, 24, 55, 62, 102] got 0.8601154652548381 on validation.\n",
      "[1, 6, 12, 24, 55, 62]\n",
      "/l/users/santosh.sanjeev/model_soups/runs/test/fge/HAM/DeiT-S/5.00e-05/fge-17.pt\n"
     ]
    },
    {
     "name": "stderr",
     "output_type": "stream",
     "text": [
      "100%|██████████| 2/2 [00:03<00:00,  1.81s/it]\n"
     ]
    },
    {
     "name": "stdout",
     "output_type": "stream",
     "text": [
      "Models [1, 6, 12, 24, 55, 62, 103] got 0.8505916557310285 on validation.\n",
      "[1, 6, 12, 24, 55, 62]\n",
      "/l/users/santosh.sanjeev/model_soups/runs/test/fge/HAM/DeiT-S/5.00e-06/fge-15.pt\n"
     ]
    },
    {
     "name": "stderr",
     "output_type": "stream",
     "text": [
      "100%|██████████| 2/2 [00:03<00:00,  1.77s/it]\n"
     ]
    },
    {
     "name": "stdout",
     "output_type": "stream",
     "text": [
      "Models [1, 6, 12, 24, 55, 62, 104] got 0.8867889949771482 on validation.\n",
      "[1, 6, 12, 24, 55, 62]\n",
      "/l/users/santosh.sanjeev/model_soups/runs/test/fge/HAM/DeiT-S/5.00e-05/fge-4.pt\n"
     ]
    },
    {
     "name": "stderr",
     "output_type": "stream",
     "text": [
      "100%|██████████| 2/2 [00:03<00:00,  1.70s/it]\n"
     ]
    },
    {
     "name": "stdout",
     "output_type": "stream",
     "text": [
      "Models [1, 6, 12, 24, 55, 62, 105] got 0.8559237220387047 on validation.\n",
      "[1, 6, 12, 24, 55, 62]\n",
      "/l/users/santosh.sanjeev/model_soups/runs/test/fge/HAM/DeiT-S/5.00e-04/fge-1.pt\n"
     ]
    },
    {
     "name": "stderr",
     "output_type": "stream",
     "text": [
      "100%|██████████| 2/2 [00:03<00:00,  1.70s/it]\n"
     ]
    },
    {
     "name": "stdout",
     "output_type": "stream",
     "text": [
      "Models [1, 6, 12, 24, 55, 62, 106] got 0.24984539270253553 on validation.\n",
      "[1, 6, 12, 24, 55, 62]\n",
      "/l/users/santosh.sanjeev/model_soups/runs/test/fge/HAM/DeiT-S/5.00e-05/fge-22.pt\n"
     ]
    },
    {
     "name": "stderr",
     "output_type": "stream",
     "text": [
      "100%|██████████| 2/2 [00:03<00:00,  1.69s/it]\n"
     ]
    },
    {
     "name": "stdout",
     "output_type": "stream",
     "text": [
      "Models [1, 6, 12, 24, 55, 62, 107] got 0.8684487985881714 on validation.\n",
      "[1, 6, 12, 24, 55, 62]\n",
      "/l/users/santosh.sanjeev/model_soups/runs/test/fge/HAM/DeiT-S/5.00e-06/fge-9.pt\n"
     ]
    },
    {
     "name": "stderr",
     "output_type": "stream",
     "text": [
      "100%|██████████| 2/2 [00:03<00:00,  1.72s/it]\n"
     ]
    },
    {
     "name": "stdout",
     "output_type": "stream",
     "text": [
      "Models [1, 6, 12, 24, 55, 62, 108] got 0.8624383456264989 on validation.\n",
      "[1, 6, 12, 24, 55, 62]\n",
      "/l/users/santosh.sanjeev/model_soups/runs/test/fge/HAM/DeiT-S/1.00e-06/fge-5.pt\n"
     ]
    },
    {
     "name": "stderr",
     "output_type": "stream",
     "text": [
      "100%|██████████| 2/2 [00:03<00:00,  1.72s/it]\n"
     ]
    },
    {
     "name": "stdout",
     "output_type": "stream",
     "text": [
      "Models [1, 6, 12, 24, 55, 62, 109] got 0.8609676908457395 on validation.\n",
      "[1, 6, 12, 24, 55, 62]\n",
      "/l/users/santosh.sanjeev/model_soups/runs/test/fge/HAM/DeiT-S/5.00e-04/fge-7.pt\n"
     ]
    },
    {
     "name": "stderr",
     "output_type": "stream",
     "text": [
      "100%|██████████| 2/2 [00:08<00:00,  4.14s/it]\n"
     ]
    },
    {
     "name": "stdout",
     "output_type": "stream",
     "text": [
      "Models [1, 6, 12, 24, 55, 62, 110] got 0.2593692022263451 on validation.\n",
      "[1, 6, 12, 24, 55, 62]\n",
      "/l/users/santosh.sanjeev/model_soups/runs/test/fge/HAM/DeiT-S/5.00e-04/fge-25.pt\n"
     ]
    },
    {
     "name": "stderr",
     "output_type": "stream",
     "text": [
      "100%|██████████| 2/2 [00:03<00:00,  1.82s/it]\n"
     ]
    },
    {
     "name": "stdout",
     "output_type": "stream",
     "text": [
      "Models [1, 6, 12, 24, 55, 62, 111] got 0.26586270871985157 on validation.\n",
      "[1, 6, 12, 24, 55, 62]\n",
      "/l/users/santosh.sanjeev/model_soups/runs/test/fge/HAM/DeiT-S/5.00e-04/fge-17.pt\n"
     ]
    },
    {
     "name": "stderr",
     "output_type": "stream",
     "text": [
      "100%|██████████| 2/2 [00:03<00:00,  1.73s/it]\n"
     ]
    },
    {
     "name": "stdout",
     "output_type": "stream",
     "text": [
      "Models [1, 6, 12, 24, 55, 62, 112] got 0.26586270871985157 on validation.\n",
      "[1, 6, 12, 24, 55, 62]\n",
      "/l/users/santosh.sanjeev/model_soups/runs/test/fge/HAM/DeiT-S/1.00e-06/fge-7.pt\n"
     ]
    },
    {
     "name": "stderr",
     "output_type": "stream",
     "text": [
      "100%|██████████| 2/2 [00:03<00:00,  1.75s/it]\n"
     ]
    },
    {
     "name": "stdout",
     "output_type": "stream",
     "text": [
      "Models [1, 6, 12, 24, 55, 62, 113] got 0.8686226375250765 on validation.\n",
      "[1, 6, 12, 24, 55, 62]\n",
      "/l/users/santosh.sanjeev/model_soups/runs/test/fge/HAM/DeiT-S/5.00e-04/fge-12.pt\n"
     ]
    },
    {
     "name": "stderr",
     "output_type": "stream",
     "text": [
      "100%|██████████| 2/2 [00:03<00:00,  1.69s/it]\n"
     ]
    },
    {
     "name": "stdout",
     "output_type": "stream",
     "text": [
      "Models [1, 6, 12, 24, 55, 62, 114] got 0.2593692022263451 on validation.\n",
      "[1, 6, 12, 24, 55, 62]\n",
      "/l/users/santosh.sanjeev/model_soups/runs/test/fge/HAM/DeiT-S/5.00e-04/fge-24.pt\n"
     ]
    },
    {
     "name": "stderr",
     "output_type": "stream",
     "text": [
      "100%|██████████| 2/2 [00:03<00:00,  1.74s/it]\n"
     ]
    },
    {
     "name": "stdout",
     "output_type": "stream",
     "text": [
      "Models [1, 6, 12, 24, 55, 62, 115] got 0.26586270871985157 on validation.\n",
      "[1, 6, 12, 24, 55, 62]\n",
      "/l/users/santosh.sanjeev/model_soups/runs/test/fge/HAM/DeiT-S/1.00e-06/fge-6.pt\n"
     ]
    },
    {
     "name": "stderr",
     "output_type": "stream",
     "text": [
      "100%|██████████| 2/2 [00:03<00:00,  1.81s/it]\n"
     ]
    },
    {
     "name": "stdout",
     "output_type": "stream",
     "text": [
      "Models [1, 6, 12, 24, 55, 62, 116] got 0.867770411934175 on validation.\n",
      "[1, 6, 12, 24, 55, 62]\n",
      "/l/users/santosh.sanjeev/model_soups/runs/test/fge/HAM/DeiT-S/1.00e-06/fge-1.pt\n"
     ]
    },
    {
     "name": "stderr",
     "output_type": "stream",
     "text": [
      "100%|██████████| 2/2 [00:03<00:00,  1.76s/it]\n"
     ]
    },
    {
     "name": "stdout",
     "output_type": "stream",
     "text": [
      "Models [1, 6, 12, 24, 55, 62, 117] got 0.8609676908457395 on validation.\n",
      "[1, 6, 12, 24, 55, 62]\n",
      "/l/users/santosh.sanjeev/model_soups/runs/test/fge/HAM/DeiT-S/1.00e-06/fge-2.pt\n"
     ]
    },
    {
     "name": "stderr",
     "output_type": "stream",
     "text": [
      "100%|██████████| 2/2 [00:03<00:00,  1.75s/it]\n"
     ]
    },
    {
     "name": "stdout",
     "output_type": "stream",
     "text": [
      "Models [1, 6, 12, 24, 55, 62, 118] got 0.8609676908457395 on validation.\n",
      "[1, 6, 12, 24, 55, 62]\n",
      "/l/users/santosh.sanjeev/model_soups/runs/test/fge/HAM/DeiT-S/5.00e-04/fge-0.pt\n"
     ]
    },
    {
     "name": "stderr",
     "output_type": "stream",
     "text": [
      "100%|██████████| 2/2 [00:03<00:00,  1.80s/it]\n"
     ]
    },
    {
     "name": "stdout",
     "output_type": "stream",
     "text": [
      "Models [1, 6, 12, 24, 55, 62, 119] got 0.24984539270253553 on validation.\n",
      "[1, 6, 12, 24, 55, 62]\n",
      "/l/users/santosh.sanjeev/model_soups/runs/test/fge/HAM/DeiT-S/1.00e-04/fge-18.pt\n"
     ]
    },
    {
     "name": "stderr",
     "output_type": "stream",
     "text": [
      "100%|██████████| 2/2 [00:03<00:00,  1.74s/it]\n"
     ]
    },
    {
     "name": "stdout",
     "output_type": "stream",
     "text": [
      "Models [1, 6, 12, 24, 55, 62, 120] got 0.6968290420381013 on validation.\n",
      "[1, 6, 12, 24, 55, 62]\n",
      "/l/users/santosh.sanjeev/model_soups/runs/test/fge/HAM/DeiT-S/1.00e-06/fge-17.pt\n"
     ]
    },
    {
     "name": "stderr",
     "output_type": "stream",
     "text": [
      "100%|██████████| 2/2 [00:03<00:00,  1.73s/it]\n"
     ]
    },
    {
     "name": "stdout",
     "output_type": "stream",
     "text": [
      "Models [1, 6, 12, 24, 55, 62, 121] got 0.8932825014706547 on validation.\n",
      "[1, 6, 12, 24, 55, 62]\n",
      "/l/users/santosh.sanjeev/model_soups/runs/test/fge/HAM/DeiT-S/1.00e-05/fge-15.pt\n"
     ]
    },
    {
     "name": "stderr",
     "output_type": "stream",
     "text": [
      "100%|██████████| 2/2 [00:03<00:00,  1.74s/it]\n"
     ]
    },
    {
     "name": "stdout",
     "output_type": "stream",
     "text": [
      "Models [1, 6, 12, 24, 55, 62, 122] got 0.890959621098994 on validation.\n",
      "[1, 6, 12, 24, 55, 62]\n",
      "/l/users/santosh.sanjeev/model_soups/runs/test/fge/HAM/DeiT-S/1.00e-04/fge-19.pt\n"
     ]
    },
    {
     "name": "stderr",
     "output_type": "stream",
     "text": [
      "100%|██████████| 2/2 [00:03<00:00,  1.72s/it]\n"
     ]
    },
    {
     "name": "stdout",
     "output_type": "stream",
     "text": [
      "Models [1, 6, 12, 24, 55, 62, 123] got 0.6789718991809585 on validation.\n",
      "[1, 6, 12, 24, 55, 62]\n",
      "/l/users/santosh.sanjeev/model_soups/runs/test/fge/HAM/DeiT-S/1.00e-04/fge-7.pt\n"
     ]
    },
    {
     "name": "stderr",
     "output_type": "stream",
     "text": [
      "100%|██████████| 2/2 [00:03<00:00,  1.78s/it]\n"
     ]
    },
    {
     "name": "stdout",
     "output_type": "stream",
     "text": [
      "Models [1, 6, 12, 24, 55, 62, 124] got 0.6789718991809585 on validation.\n",
      "[1, 6, 12, 24, 55, 62]\n",
      "/l/users/santosh.sanjeev/model_soups/runs/test/fge/HAM/DeiT-S/1.00e-06/fge-23.pt\n"
     ]
    },
    {
     "name": "stderr",
     "output_type": "stream",
     "text": [
      "100%|██████████| 2/2 [00:03<00:00,  1.80s/it]\n"
     ]
    },
    {
     "name": "stdout",
     "output_type": "stream",
     "text": [
      "Models [1, 6, 12, 24, 55, 62, 125] got 0.8932825014706547 on validation.\n",
      "[1, 6, 12, 24, 55, 62]\n",
      "/l/users/santosh.sanjeev/model_soups/runs/test/fge/HAM/DeiT-S/1.00e-06/fge-16.pt\n"
     ]
    },
    {
     "name": "stderr",
     "output_type": "stream",
     "text": [
      "100%|██████████| 2/2 [00:03<00:00,  1.78s/it]\n"
     ]
    },
    {
     "name": "stdout",
     "output_type": "stream",
     "text": [
      "Models [1, 6, 12, 24, 55, 62, 126] got 0.8932825014706547 on validation.\n",
      "[1, 6, 12, 24, 55, 62]\n",
      "/l/users/santosh.sanjeev/model_soups/runs/test/fge/HAM/DeiT-S/1.00e-04/fge-23.pt\n"
     ]
    },
    {
     "name": "stderr",
     "output_type": "stream",
     "text": [
      "100%|██████████| 2/2 [00:03<00:00,  1.74s/it]\n"
     ]
    },
    {
     "name": "stdout",
     "output_type": "stream",
     "text": [
      "Models [1, 6, 12, 24, 55, 62, 127] got 0.6789718991809585 on validation.\n",
      "[1, 6, 12, 24, 55, 62]\n",
      "/l/users/santosh.sanjeev/model_soups/runs/test/fge/HAM/DeiT-S/1.00e-04/fge-16.pt\n"
     ]
    },
    {
     "name": "stderr",
     "output_type": "stream",
     "text": [
      "100%|██████████| 2/2 [00:03<00:00,  1.76s/it]\n"
     ]
    },
    {
     "name": "stdout",
     "output_type": "stream",
     "text": [
      "Models [1, 6, 12, 24, 55, 62, 128] got 0.6789718991809585 on validation.\n",
      "[1, 6, 12, 24, 55, 62]\n",
      "/l/users/santosh.sanjeev/model_soups/runs/test/fge/HAM/DeiT-S/5.00e-06/fge-7.pt\n"
     ]
    },
    {
     "name": "stderr",
     "output_type": "stream",
     "text": [
      "100%|██████████| 2/2 [00:03<00:00,  1.76s/it]\n"
     ]
    },
    {
     "name": "stdout",
     "output_type": "stream",
     "text": [
      "Models [1, 6, 12, 24, 55, 62, 129] got 0.8867889949771482 on validation.\n",
      "[1, 6, 12, 24, 55, 62]\n",
      "/l/users/santosh.sanjeev/model_soups/runs/test/fge/HAM/DeiT-S/1.00e-04/fge-17.pt\n"
     ]
    },
    {
     "name": "stderr",
     "output_type": "stream",
     "text": [
      "100%|██████████| 2/2 [00:03<00:00,  1.76s/it]\n"
     ]
    },
    {
     "name": "stdout",
     "output_type": "stream",
     "text": [
      "Models [1, 6, 12, 24, 55, 62, 130] got 0.6789718991809585 on validation.\n",
      "[1, 6, 12, 24, 55, 62]\n",
      "/l/users/santosh.sanjeev/model_soups/runs/test/fge/HAM/DeiT-S/1.00e-04/fge-25.pt\n"
     ]
    },
    {
     "name": "stderr",
     "output_type": "stream",
     "text": [
      "100%|██████████| 2/2 [00:03<00:00,  1.74s/it]\n"
     ]
    },
    {
     "name": "stdout",
     "output_type": "stream",
     "text": [
      "Models [1, 6, 12, 24, 55, 62, 131] got 0.7036317631265366 on validation.\n",
      "[1, 6, 12, 24, 55, 62]\n",
      "/l/users/santosh.sanjeev/model_soups/runs/test/fge/HAM/DeiT-S/1.00e-04/fge-11.pt\n"
     ]
    },
    {
     "name": "stderr",
     "output_type": "stream",
     "text": [
      "100%|██████████| 2/2 [00:03<00:00,  1.78s/it]\n"
     ]
    },
    {
     "name": "stdout",
     "output_type": "stream",
     "text": [
      "Models [1, 6, 12, 24, 55, 62, 132] got 0.6869360604552242 on validation.\n",
      "[1, 6, 12, 24, 55, 62]\n",
      "/l/users/santosh.sanjeev/model_soups/runs/test/fge/HAM/DeiT-S/1.00e-04/fge-21.pt\n"
     ]
    },
    {
     "name": "stderr",
     "output_type": "stream",
     "text": [
      "100%|██████████| 2/2 [00:03<00:00,  1.74s/it]\n"
     ]
    },
    {
     "name": "stdout",
     "output_type": "stream",
     "text": [
      "Models [1, 6, 12, 24, 55, 62, 133] got 0.6789718991809585 on validation.\n",
      "[1, 6, 12, 24, 55, 62]\n",
      "/l/users/santosh.sanjeev/model_soups/runs/test/fge/HAM/DeiT-S/1.00e-04/fge-14.pt\n"
     ]
    },
    {
     "name": "stderr",
     "output_type": "stream",
     "text": [
      "100%|██████████| 2/2 [00:03<00:00,  1.77s/it]\n"
     ]
    },
    {
     "name": "stdout",
     "output_type": "stream",
     "text": [
      "Models [1, 6, 12, 24, 55, 62, 134] got 0.6789718991809585 on validation.\n",
      "[1, 6, 12, 24, 55, 62]\n",
      "/l/users/santosh.sanjeev/model_soups/runs/test/fge/HAM/DeiT-S/1.00e-04/fge-12.pt\n"
     ]
    },
    {
     "name": "stderr",
     "output_type": "stream",
     "text": [
      "100%|██████████| 2/2 [00:03<00:00,  1.73s/it]\n"
     ]
    },
    {
     "name": "stdout",
     "output_type": "stream",
     "text": [
      "Models [1, 6, 12, 24, 55, 62, 135] got 0.688495708704768 on validation.\n",
      "[1, 6, 12, 24, 55, 62]\n",
      "/l/users/santosh.sanjeev/model_soups/runs/test/fge/HAM/DeiT-S/1.00e-04/fge-3.pt\n"
     ]
    },
    {
     "name": "stderr",
     "output_type": "stream",
     "text": [
      "100%|██████████| 2/2 [00:03<00:00,  1.74s/it]\n"
     ]
    },
    {
     "name": "stdout",
     "output_type": "stream",
     "text": [
      "Models [1, 6, 12, 24, 55, 62, 136] got 0.688495708704768 on validation.\n",
      "[1, 6, 12, 24, 55, 62]\n",
      "/l/users/santosh.sanjeev/model_soups/runs/test/fge/HAM/DeiT-S/1.00e-04/fge-5.pt\n"
     ]
    },
    {
     "name": "stderr",
     "output_type": "stream",
     "text": [
      "100%|██████████| 2/2 [00:03<00:00,  1.75s/it]\n"
     ]
    },
    {
     "name": "stdout",
     "output_type": "stream",
     "text": [
      "Models [1, 6, 12, 24, 55, 62, 137] got 0.688495708704768 on validation.\n",
      "[1, 6, 12, 24, 55, 62]\n",
      "/l/users/santosh.sanjeev/model_soups/runs/test/fge/HAM/DeiT-S/1.00e-04/fge-24.pt\n"
     ]
    },
    {
     "name": "stderr",
     "output_type": "stream",
     "text": [
      "100%|██████████| 2/2 [00:03<00:00,  1.71s/it]\n"
     ]
    },
    {
     "name": "stdout",
     "output_type": "stream",
     "text": [
      "Models [1, 6, 12, 24, 55, 62, 138] got 0.6937387815436595 on validation.\n",
      "[1, 6, 12, 24, 55, 62]\n",
      "/l/users/santosh.sanjeev/model_soups/runs/test/fge/HAM/DeiT-S/5.00e-06/fge-5.pt\n"
     ]
    },
    {
     "name": "stderr",
     "output_type": "stream",
     "text": [
      "100%|██████████| 2/2 [00:03<00:00,  1.74s/it]\n"
     ]
    },
    {
     "name": "stdout",
     "output_type": "stream",
     "text": [
      "Models [1, 6, 12, 24, 55, 62, 139] got 0.8921210612848244 on validation.\n",
      "[1, 6, 12, 24, 55, 62]\n",
      "/l/users/santosh.sanjeev/model_soups/runs/test/fge/HAM/DeiT-S/1.00e-04/fge-22.pt\n"
     ]
    },
    {
     "name": "stderr",
     "output_type": "stream",
     "text": [
      "100%|██████████| 2/2 [00:03<00:00,  1.75s/it]\n"
     ]
    },
    {
     "name": "stdout",
     "output_type": "stream",
     "text": [
      "Models [1, 6, 12, 24, 55, 62, 140] got 0.6789718991809585 on validation.\n",
      "[1, 6, 12, 24, 55, 62]\n",
      "/l/users/santosh.sanjeev/model_soups/runs/test/fge/HAM/DeiT-S/1.00e-07/fge-22.pt\n"
     ]
    },
    {
     "name": "stderr",
     "output_type": "stream",
     "text": [
      "100%|██████████| 2/2 [00:03<00:00,  1.70s/it]\n"
     ]
    },
    {
     "name": "stdout",
     "output_type": "stream",
     "text": [
      "Models [1, 6, 12, 24, 55, 62, 141] got 0.8921210612848244 on validation.\n",
      "[1, 6, 12, 24, 55, 62]\n",
      "/l/users/santosh.sanjeev/model_soups/runs/test/fge/HAM/DeiT-S/1.00e-06/fge-24.pt\n"
     ]
    },
    {
     "name": "stderr",
     "output_type": "stream",
     "text": [
      "100%|██████████| 2/2 [00:03<00:00,  1.71s/it]\n"
     ]
    },
    {
     "name": "stdout",
     "output_type": "stream",
     "text": [
      "Models [1, 6, 12, 24, 55, 62, 142] got 0.8742639184276815 on validation.\n",
      "[1, 6, 12, 24, 55, 62]\n",
      "/l/users/santosh.sanjeev/model_soups/runs/test/fge/HAM/DeiT-S/1.00e-04/fge-13.pt\n"
     ]
    },
    {
     "name": "stderr",
     "output_type": "stream",
     "text": [
      "100%|██████████| 2/2 [00:03<00:00,  1.75s/it]\n"
     ]
    },
    {
     "name": "stdout",
     "output_type": "stream",
     "text": [
      "Models [1, 6, 12, 24, 55, 62, 143] got 0.6857746202693937 on validation.\n",
      "[1, 6, 12, 24, 55, 62]\n",
      "/l/users/santosh.sanjeev/model_soups/runs/test/fge/HAM/DeiT-S/1.00e-04/fge-9.pt\n"
     ]
    },
    {
     "name": "stderr",
     "output_type": "stream",
     "text": [
      "100%|██████████| 2/2 [00:03<00:00,  1.73s/it]\n"
     ]
    },
    {
     "name": "stdout",
     "output_type": "stream",
     "text": [
      "Models [1, 6, 12, 24, 55, 62, 144] got 0.6857746202693937 on validation.\n",
      "[1, 6, 12, 24, 55, 62]\n",
      "/l/users/santosh.sanjeev/model_soups/runs/test/fge/HAM/DeiT-S/1.00e-04/fge-20.pt\n"
     ]
    },
    {
     "name": "stderr",
     "output_type": "stream",
     "text": [
      "100%|██████████| 2/2 [00:03<00:00,  1.75s/it]\n"
     ]
    },
    {
     "name": "stdout",
     "output_type": "stream",
     "text": [
      "Models [1, 6, 12, 24, 55, 62, 145] got 0.6789718991809585 on validation.\n",
      "[1, 6, 12, 24, 55, 62]\n",
      "/l/users/santosh.sanjeev/model_soups/runs/test/fge/HAM/DeiT-S/1.00e-04/fge-10.pt\n"
     ]
    },
    {
     "name": "stderr",
     "output_type": "stream",
     "text": [
      "100%|██████████| 2/2 [00:03<00:00,  1.75s/it]\n"
     ]
    },
    {
     "name": "stdout",
     "output_type": "stream",
     "text": [
      "Models [1, 6, 12, 24, 55, 62, 146] got 0.6857746202693937 on validation.\n",
      "[1, 6, 12, 24, 55, 62]\n",
      "/l/users/santosh.sanjeev/model_soups/runs/test/fge/HAM/DeiT-S/1.00e-06/fge-19.pt\n"
     ]
    },
    {
     "name": "stderr",
     "output_type": "stream",
     "text": [
      "100%|██████████| 2/2 [00:03<00:00,  1.77s/it]\n"
     ]
    },
    {
     "name": "stdout",
     "output_type": "stream",
     "text": [
      "Models [1, 6, 12, 24, 55, 62, 147] got 0.8624383456264989 on validation.\n",
      "[1, 6, 12, 24, 55, 62]\n",
      "/l/users/santosh.sanjeev/model_soups/runs/test/fge/HAM/DeiT-S/1.00e-06/fge-12.pt\n"
     ]
    },
    {
     "name": "stderr",
     "output_type": "stream",
     "text": [
      "100%|██████████| 2/2 [00:03<00:00,  1.72s/it]\n"
     ]
    },
    {
     "name": "stdout",
     "output_type": "stream",
     "text": [
      "Models [1, 6, 12, 24, 55, 62, 148] got 0.8932825014706547 on validation.\n",
      "[1, 6, 12, 24, 55, 62]\n",
      "/l/users/santosh.sanjeev/model_soups/runs/test/fge/HAM/DeiT-S/1.00e-06/fge-18.pt\n"
     ]
    },
    {
     "name": "stderr",
     "output_type": "stream",
     "text": [
      "100%|██████████| 2/2 [00:03<00:00,  1.80s/it]\n"
     ]
    },
    {
     "name": "stdout",
     "output_type": "stream",
     "text": [
      "Models [1, 6, 12, 24, 55, 62, 149] got 0.8932825014706547 on validation.\n",
      "[1, 6, 12, 24, 55, 62]\n",
      "/l/users/santosh.sanjeev/model_soups/runs/test/fge/HAM/DeiT-S/1.00e-06/fge-9.pt\n"
     ]
    },
    {
     "name": "stderr",
     "output_type": "stream",
     "text": [
      "100%|██████████| 2/2 [00:03<00:00,  1.73s/it]\n"
     ]
    },
    {
     "name": "stdout",
     "output_type": "stream",
     "text": [
      "Models [1, 6, 12, 24, 55, 62, 150] got 0.8742639184276815 on validation.\n",
      "[1, 6, 12, 24, 55, 62]\n",
      "/l/users/santosh.sanjeev/model_soups/runs/test/fge/HAM/DeiT-S/1.00e-06/fge-13.pt\n"
     ]
    },
    {
     "name": "stderr",
     "output_type": "stream",
     "text": [
      "100%|██████████| 2/2 [00:03<00:00,  1.81s/it]\n"
     ]
    },
    {
     "name": "stdout",
     "output_type": "stream",
     "text": [
      "Models [1, 6, 12, 24, 55, 62, 151] got 0.8754253586135119 on validation.\n",
      "[1, 6, 12, 24, 55, 62]\n",
      "/l/users/santosh.sanjeev/model_soups/runs/test/fge/HAM/DeiT-S/1.00e-06/fge-25.pt\n"
     ]
    },
    {
     "name": "stderr",
     "output_type": "stream",
     "text": [
      "100%|██████████| 2/2 [00:03<00:00,  1.73s/it]\n"
     ]
    },
    {
     "name": "stdout",
     "output_type": "stream",
     "text": [
      "Models [1, 6, 12, 24, 55, 62, 152] got 0.8932825014706547 on validation.\n",
      "[1, 6, 12, 24, 55, 62]\n",
      "/l/users/santosh.sanjeev/model_soups/runs/test/fge/HAM/DeiT-S/1.00e-06/fge-8.pt\n"
     ]
    },
    {
     "name": "stderr",
     "output_type": "stream",
     "text": [
      "100%|██████████| 2/2 [00:03<00:00,  1.78s/it]\n"
     ]
    },
    {
     "name": "stdout",
     "output_type": "stream",
     "text": [
      "Models [1, 6, 12, 24, 55, 62, 153] got 0.8742639184276815 on validation.\n",
      "[1, 6, 12, 24, 55, 62]\n",
      "/l/users/santosh.sanjeev/model_soups/runs/test/fge/HAM/DeiT-S/1.00e-04/fge-8.pt\n"
     ]
    },
    {
     "name": "stderr",
     "output_type": "stream",
     "text": [
      "100%|██████████| 2/2 [00:03<00:00,  1.73s/it]\n"
     ]
    },
    {
     "name": "stdout",
     "output_type": "stream",
     "text": [
      "Models [1, 6, 12, 24, 55, 62, 154] got 0.6869360604552242 on validation.\n",
      "[1, 6, 12, 24, 55, 62]\n",
      "/l/users/santosh.sanjeev/model_soups/runs/test/fge/HAM/DeiT-S/1.00e-04/fge-4.pt\n"
     ]
    },
    {
     "name": "stderr",
     "output_type": "stream",
     "text": [
      "100%|██████████| 2/2 [00:03<00:00,  1.78s/it]\n"
     ]
    },
    {
     "name": "stdout",
     "output_type": "stream",
     "text": [
      "Models [1, 6, 12, 24, 55, 62, 155] got 0.688495708704768 on validation.\n",
      "[1, 6, 12, 24, 55, 62]\n",
      "/l/users/santosh.sanjeev/model_soups/runs/test/fge/HAM/DeiT-S/1.00e-04/fge-15.pt\n"
     ]
    },
    {
     "name": "stderr",
     "output_type": "stream",
     "text": [
      "100%|██████████| 2/2 [00:03<00:00,  1.79s/it]\n"
     ]
    },
    {
     "name": "stdout",
     "output_type": "stream",
     "text": [
      "Models [1, 6, 12, 24, 55, 62, 156] got 0.6857746202693937 on validation.\n",
      "[1, 6, 12, 24, 55, 62]\n",
      "/l/users/santosh.sanjeev/model_soups/runs/test/fge/HAM/DeiT-S/1.00e-06/fge-14.pt\n"
     ]
    },
    {
     "name": "stderr",
     "output_type": "stream",
     "text": [
      "100%|██████████| 2/2 [00:03<00:00,  1.77s/it]\n"
     ]
    },
    {
     "name": "stdout",
     "output_type": "stream",
     "text": [
      "Models [1, 6, 12, 24, 55, 62, 157] got 0.8932825014706547 on validation.\n",
      "[1, 6, 12, 24, 55, 62]\n",
      "/l/users/santosh.sanjeev/model_soups/runs/test/fge/HAM/DeiT-S/1.00e-06/fge-21.pt\n"
     ]
    },
    {
     "name": "stderr",
     "output_type": "stream",
     "text": [
      "100%|██████████| 2/2 [00:03<00:00,  1.82s/it]\n"
     ]
    },
    {
     "name": "stdout",
     "output_type": "stream",
     "text": [
      "Models [1, 6, 12, 24, 55, 62, 158] got 0.8867889949771482 on validation.\n",
      "[1, 6, 12, 24, 55, 62]\n",
      "/l/users/santosh.sanjeev/model_soups/runs/test/fge/HAM/DeiT-S/5.00e-04/fge-11.pt\n"
     ]
    },
    {
     "name": "stderr",
     "output_type": "stream",
     "text": [
      "100%|██████████| 2/2 [00:03<00:00,  1.81s/it]\n"
     ]
    },
    {
     "name": "stdout",
     "output_type": "stream",
     "text": [
      "Models [1, 6, 12, 24, 55, 62, 159] got 0.2593692022263451 on validation.\n",
      "[1, 6, 12, 24, 55, 62]\n",
      "/l/users/santosh.sanjeev/model_soups/runs/test/fge/HAM/DeiT-S/1.00e-04/fge-1.pt\n"
     ]
    },
    {
     "name": "stderr",
     "output_type": "stream",
     "text": [
      "100%|██████████| 2/2 [00:03<00:00,  1.77s/it]\n"
     ]
    },
    {
     "name": "stdout",
     "output_type": "stream",
     "text": [
      "Models [1, 6, 12, 24, 55, 62, 160] got 0.688495708704768 on validation.\n",
      "[1, 6, 12, 24, 55, 62]\n",
      "/l/users/santosh.sanjeev/model_soups/runs/test/fge/HAM/DeiT-S/5.00e-04/fge-22.pt\n"
     ]
    },
    {
     "name": "stderr",
     "output_type": "stream",
     "text": [
      "100%|██████████| 2/2 [00:03<00:00,  1.75s/it]\n"
     ]
    },
    {
     "name": "stdout",
     "output_type": "stream",
     "text": [
      "Models [1, 6, 12, 24, 55, 62, 161] got 0.26586270871985157 on validation.\n",
      "[1, 6, 12, 24, 55, 62]\n",
      "/l/users/santosh.sanjeev/model_soups/runs/test/fge/HAM/DeiT-S/5.00e-04/fge-19.pt\n"
     ]
    },
    {
     "name": "stderr",
     "output_type": "stream",
     "text": [
      "100%|██████████| 2/2 [00:03<00:00,  1.77s/it]\n"
     ]
    },
    {
     "name": "stdout",
     "output_type": "stream",
     "text": [
      "Models [1, 6, 12, 24, 55, 62, 162] got 0.26586270871985157 on validation.\n",
      "[1, 6, 12, 24, 55, 62]\n",
      "/l/users/santosh.sanjeev/model_soups/runs/test/fge/HAM/DeiT-S/1.00e-04/fge-6.pt\n"
     ]
    },
    {
     "name": "stderr",
     "output_type": "stream",
     "text": [
      "100%|██████████| 2/2 [00:03<00:00,  1.78s/it]\n"
     ]
    },
    {
     "name": "stdout",
     "output_type": "stream",
     "text": [
      "Models [1, 6, 12, 24, 55, 62, 163] got 0.688495708704768 on validation.\n",
      "[1, 6, 12, 24, 55, 62]\n",
      "/l/users/santosh.sanjeev/model_soups/runs/test/fge/HAM/DeiT-S/5.00e-04/fge-20.pt\n"
     ]
    },
    {
     "name": "stderr",
     "output_type": "stream",
     "text": [
      "100%|██████████| 2/2 [00:03<00:00,  1.76s/it]\n"
     ]
    },
    {
     "name": "stdout",
     "output_type": "stream",
     "text": [
      "Models [1, 6, 12, 24, 55, 62, 164] got 0.26586270871985157 on validation.\n",
      "[1, 6, 12, 24, 55, 62]\n",
      "/l/users/santosh.sanjeev/model_soups/runs/test/fge/HAM/DeiT-S/1.00e-07/fge-5.pt\n"
     ]
    },
    {
     "name": "stderr",
     "output_type": "stream",
     "text": [
      "100%|██████████| 2/2 [00:03<00:00,  1.80s/it]\n"
     ]
    },
    {
     "name": "stdout",
     "output_type": "stream",
     "text": [
      "Models [1, 6, 12, 24, 55, 62, 165] got 0.8609676908457395 on validation.\n",
      "[1, 6, 12, 24, 55, 62]\n",
      "/l/users/santosh.sanjeev/model_soups/runs/test/fge/HAM/DeiT-S/1.00e-06/fge-11.pt\n"
     ]
    },
    {
     "name": "stderr",
     "output_type": "stream",
     "text": [
      "100%|██████████| 2/2 [00:03<00:00,  1.79s/it]\n"
     ]
    },
    {
     "name": "stdout",
     "output_type": "stream",
     "text": [
      "Models [1, 6, 12, 24, 55, 62, 166] got 0.8621291310315701 on validation.\n",
      "[1, 6, 12, 24, 55, 62]\n",
      "/l/users/santosh.sanjeev/model_soups/runs/test/fge/HAM/DeiT-S/5.00e-04/fge-21.pt\n"
     ]
    },
    {
     "name": "stderr",
     "output_type": "stream",
     "text": [
      "100%|██████████| 2/2 [00:03<00:00,  1.73s/it]\n"
     ]
    },
    {
     "name": "stdout",
     "output_type": "stream",
     "text": [
      "Models [1, 6, 12, 24, 55, 62, 167] got 0.26586270871985157 on validation.\n",
      "[1, 6, 12, 24, 55, 62]\n",
      "/l/users/santosh.sanjeev/model_soups/runs/test/fge/HAM/DeiT-S/1.00e-04/fge-2.pt\n"
     ]
    },
    {
     "name": "stderr",
     "output_type": "stream",
     "text": [
      "100%|██████████| 2/2 [00:03<00:00,  1.76s/it]\n"
     ]
    },
    {
     "name": "stdout",
     "output_type": "stream",
     "text": [
      "Models [1, 6, 12, 24, 55, 62, 168] got 0.6952984297932032 on validation.\n",
      "[1, 6, 12, 24, 55, 62]\n",
      "/l/users/santosh.sanjeev/model_soups/runs/test/fge/HAM/DeiT-S/5.00e-04/fge-10.pt\n"
     ]
    },
    {
     "name": "stderr",
     "output_type": "stream",
     "text": [
      "100%|██████████| 2/2 [00:03<00:00,  1.80s/it]\n"
     ]
    },
    {
     "name": "stdout",
     "output_type": "stream",
     "text": [
      "Models [1, 6, 12, 24, 55, 62, 169] got 0.2593692022263451 on validation.\n",
      "[1, 6, 12, 24, 55, 62]\n",
      "/l/users/santosh.sanjeev/model_soups/runs/test/fge/HAM/DeiT-S/1.00e-03/fge-4.pt\n"
     ]
    },
    {
     "name": "stderr",
     "output_type": "stream",
     "text": [
      "100%|██████████| 2/2 [00:03<00:00,  1.74s/it]\n"
     ]
    },
    {
     "name": "stdout",
     "output_type": "stream",
     "text": [
      "Models [1, 6, 12, 24, 55, 62, 170] got 0.14285714285714285 on validation.\n",
      "[1, 6, 12, 24, 55, 62]\n",
      "/l/users/santosh.sanjeev/model_soups/runs/test/fge/HAM/DeiT-S/5.00e-04/fge-8.pt\n"
     ]
    },
    {
     "name": "stderr",
     "output_type": "stream",
     "text": [
      "100%|██████████| 2/2 [00:03<00:00,  1.76s/it]\n"
     ]
    },
    {
     "name": "stdout",
     "output_type": "stream",
     "text": [
      "Models [1, 6, 12, 24, 55, 62, 171] got 0.2593692022263451 on validation.\n",
      "[1, 6, 12, 24, 55, 62]\n",
      "/l/users/santosh.sanjeev/model_soups/runs/test/fge/HAM/DeiT-S/1.00e-06/fge-4.pt\n"
     ]
    },
    {
     "name": "stderr",
     "output_type": "stream",
     "text": [
      "100%|██████████| 2/2 [00:03<00:00,  1.85s/it]\n"
     ]
    },
    {
     "name": "stdout",
     "output_type": "stream",
     "text": [
      "Models [1, 6, 12, 24, 55, 62, 172] got 0.867770411934175 on validation.\n",
      "[1, 6, 12, 24, 55, 62]\n",
      "/l/users/santosh.sanjeev/model_soups/runs/test/fge/HAM/DeiT-S/5.00e-04/fge-9.pt\n"
     ]
    },
    {
     "name": "stderr",
     "output_type": "stream",
     "text": [
      "100%|██████████| 2/2 [00:03<00:00,  1.90s/it]\n"
     ]
    },
    {
     "name": "stdout",
     "output_type": "stream",
     "text": [
      "Models [1, 6, 12, 24, 55, 62, 173] got 0.2593692022263451 on validation.\n",
      "[1, 6, 12, 24, 55, 62]\n",
      "/l/users/santosh.sanjeev/model_soups/runs/test/fge/HAM/DeiT-S/1.00e-06/fge-10.pt\n"
     ]
    },
    {
     "name": "stderr",
     "output_type": "stream",
     "text": [
      "100%|██████████| 2/2 [00:04<00:00,  2.07s/it]\n"
     ]
    },
    {
     "name": "stdout",
     "output_type": "stream",
     "text": [
      "Models [1, 6, 12, 24, 55, 62, 174] got 0.8754253586135119 on validation.\n",
      "[1, 6, 12, 24, 55, 62]\n",
      "/l/users/santosh.sanjeev/model_soups/runs/test/fge/HAM/DeiT-S/1.00e-03/fge-3.pt\n"
     ]
    },
    {
     "name": "stderr",
     "output_type": "stream",
     "text": [
      "100%|██████████| 2/2 [00:04<00:00,  2.05s/it]\n"
     ]
    },
    {
     "name": "stdout",
     "output_type": "stream",
     "text": [
      "Models [1, 6, 12, 24, 55, 62, 175] got 0.14285714285714285 on validation.\n",
      "[1, 6, 12, 24, 55, 62]\n",
      "/l/users/santosh.sanjeev/model_soups/runs/test/fge/HAM/DeiT-S/5.00e-04/fge-23.pt\n"
     ]
    },
    {
     "name": "stderr",
     "output_type": "stream",
     "text": [
      "100%|██████████| 2/2 [00:03<00:00,  1.90s/it]\n"
     ]
    },
    {
     "name": "stdout",
     "output_type": "stream",
     "text": [
      "Models [1, 6, 12, 24, 55, 62, 176] got 0.26586270871985157 on validation.\n",
      "[1, 6, 12, 24, 55, 62]\n",
      "/l/users/santosh.sanjeev/model_soups/runs/test/fge/HAM/DeiT-S/1.00e-04/fge--1.pt\n"
     ]
    },
    {
     "name": "stderr",
     "output_type": "stream",
     "text": [
      "100%|██████████| 2/2 [00:03<00:00,  1.90s/it]\n"
     ]
    },
    {
     "name": "stdout",
     "output_type": "stream",
     "text": [
      "Models [1, 6, 12, 24, 55, 62, 177] got 0.6952984297932032 on validation.\n",
      "[1, 6, 12, 24, 55, 62]\n",
      "/l/users/santosh.sanjeev/model_soups/runs/test/fge/HAM/DeiT-S/1.00e-03/fge-5.pt\n"
     ]
    },
    {
     "name": "stderr",
     "output_type": "stream",
     "text": [
      "100%|██████████| 2/2 [00:03<00:00,  1.87s/it]\n"
     ]
    },
    {
     "name": "stdout",
     "output_type": "stream",
     "text": [
      "Models [1, 6, 12, 24, 55, 62, 178] got 0.14285714285714285 on validation.\n",
      "[1, 6, 12, 24, 55, 62]\n",
      "/l/users/santosh.sanjeev/model_soups/runs/test/fge/HAM/DeiT-S/1.00e-06/fge-0.pt\n"
     ]
    },
    {
     "name": "stderr",
     "output_type": "stream",
     "text": [
      "100%|██████████| 2/2 [00:03<00:00,  1.89s/it]\n"
     ]
    },
    {
     "name": "stdout",
     "output_type": "stream",
     "text": [
      "Models [1, 6, 12, 24, 55, 62, 179] got 0.8541649697573044 on validation.\n",
      "[1, 6, 12, 24, 55, 62]\n",
      "/l/users/santosh.sanjeev/model_soups/runs/test/fge/HAM/DeiT-S/1.00e-03/fge-6.pt\n"
     ]
    },
    {
     "name": "stderr",
     "output_type": "stream",
     "text": [
      "100%|██████████| 2/2 [00:03<00:00,  1.85s/it]\n"
     ]
    },
    {
     "name": "stdout",
     "output_type": "stream",
     "text": [
      "Models [1, 6, 12, 24, 55, 62, 180] got 0.14285714285714285 on validation.\n",
      "[1, 6, 12, 24, 55, 62]\n",
      "/l/users/santosh.sanjeev/model_soups/runs/test/fge/HAM/DeiT-S/1.00e-03/fge-7.pt\n"
     ]
    },
    {
     "name": "stderr",
     "output_type": "stream",
     "text": [
      "100%|██████████| 2/2 [00:03<00:00,  1.90s/it]\n"
     ]
    },
    {
     "name": "stdout",
     "output_type": "stream",
     "text": [
      "Models [1, 6, 12, 24, 55, 62, 181] got 0.14285714285714285 on validation.\n",
      "[1, 6, 12, 24, 55, 62]\n",
      "/l/users/santosh.sanjeev/model_soups/runs/test/fge/HAM/DeiT-S/1.00e-03/fge-8.pt\n"
     ]
    },
    {
     "name": "stderr",
     "output_type": "stream",
     "text": [
      "100%|██████████| 2/2 [00:03<00:00,  1.81s/it]\n"
     ]
    },
    {
     "name": "stdout",
     "output_type": "stream",
     "text": [
      "Models [1, 6, 12, 24, 55, 62, 182] got 0.14285714285714285 on validation.\n",
      "[1, 6, 12, 24, 55, 62]\n",
      "/l/users/santosh.sanjeev/model_soups/runs/test/fge/HAM/DeiT-S/1.00e-07/fge-6.pt\n"
     ]
    },
    {
     "name": "stderr",
     "output_type": "stream",
     "text": [
      "100%|██████████| 2/2 [00:03<00:00,  1.88s/it]\n"
     ]
    },
    {
     "name": "stdout",
     "output_type": "stream",
     "text": [
      "Models [1, 6, 12, 24, 55, 62, 183] got 0.8609676908457395 on validation.\n",
      "[1, 6, 12, 24, 55, 62]\n",
      "/l/users/santosh.sanjeev/model_soups/runs/test/fge/HAM/DeiT-S/1.00e-07/fge-4.pt\n"
     ]
    },
    {
     "name": "stderr",
     "output_type": "stream",
     "text": [
      "100%|██████████| 2/2 [00:03<00:00,  1.93s/it]\n"
     ]
    },
    {
     "name": "stdout",
     "output_type": "stream",
     "text": [
      "Models [1, 6, 12, 24, 55, 62, 184] got 0.8704915003695491 on validation.\n",
      "[1, 6, 12, 24, 55, 62]\n",
      "/l/users/santosh.sanjeev/model_soups/runs/test/fge/HAM/DeiT-S/1.00e-03/fge-18.pt\n"
     ]
    },
    {
     "name": "stderr",
     "output_type": "stream",
     "text": [
      "100%|██████████| 2/2 [00:03<00:00,  1.96s/it]\n"
     ]
    },
    {
     "name": "stdout",
     "output_type": "stream",
     "text": [
      "Models [1, 6, 12, 24, 55, 62, 185] got 0.14285714285714285 on validation.\n",
      "[1, 6, 12, 24, 55, 62]\n",
      "/l/users/santosh.sanjeev/model_soups/runs/test/fge/HAM/DeiT-S/1.00e-03/fge-15.pt\n"
     ]
    },
    {
     "name": "stderr",
     "output_type": "stream",
     "text": [
      "100%|██████████| 2/2 [00:03<00:00,  1.87s/it]\n"
     ]
    },
    {
     "name": "stdout",
     "output_type": "stream",
     "text": [
      "Models [1, 6, 12, 24, 55, 62, 186] got 0.14285714285714285 on validation.\n",
      "[1, 6, 12, 24, 55, 62]\n",
      "/l/users/santosh.sanjeev/model_soups/runs/test/fge/HAM/DeiT-S/1.00e-03/fge-13.pt\n"
     ]
    },
    {
     "name": "stderr",
     "output_type": "stream",
     "text": [
      "100%|██████████| 2/2 [00:03<00:00,  1.87s/it]\n"
     ]
    },
    {
     "name": "stdout",
     "output_type": "stream",
     "text": [
      "Models [1, 6, 12, 24, 55, 62, 187] got 0.14285714285714285 on validation.\n",
      "[1, 6, 12, 24, 55, 62]\n",
      "/l/users/santosh.sanjeev/model_soups/runs/test/fge/HAM/DeiT-S/1.00e-03/fge-12.pt\n"
     ]
    },
    {
     "name": "stderr",
     "output_type": "stream",
     "text": [
      "100%|██████████| 2/2 [00:03<00:00,  1.92s/it]\n"
     ]
    },
    {
     "name": "stdout",
     "output_type": "stream",
     "text": [
      "Models [1, 6, 12, 24, 55, 62, 188] got 0.14285714285714285 on validation.\n",
      "[1, 6, 12, 24, 55, 62]\n",
      "/l/users/santosh.sanjeev/model_soups/runs/test/fge/HAM/DeiT-S/1.00e-03/fge-10.pt\n"
     ]
    },
    {
     "name": "stderr",
     "output_type": "stream",
     "text": [
      "100%|██████████| 2/2 [00:03<00:00,  1.86s/it]\n"
     ]
    },
    {
     "name": "stdout",
     "output_type": "stream",
     "text": [
      "Models [1, 6, 12, 24, 55, 62, 189] got 0.14285714285714285 on validation.\n",
      "[1, 6, 12, 24, 55, 62]\n",
      "/l/users/santosh.sanjeev/model_soups/runs/test/fge/HAM/DeiT-S/1.00e-03/fge-9.pt\n"
     ]
    },
    {
     "name": "stderr",
     "output_type": "stream",
     "text": [
      "100%|██████████| 2/2 [00:03<00:00,  1.88s/it]\n"
     ]
    },
    {
     "name": "stdout",
     "output_type": "stream",
     "text": [
      "Models [1, 6, 12, 24, 55, 62, 190] got 0.14285714285714285 on validation.\n",
      "[1, 6, 12, 24, 55, 62]\n",
      "/l/users/santosh.sanjeev/model_soups/runs/test/fge/HAM/DeiT-S/1.00e-03/fge-14.pt\n"
     ]
    },
    {
     "name": "stderr",
     "output_type": "stream",
     "text": [
      "100%|██████████| 2/2 [00:03<00:00,  1.90s/it]\n"
     ]
    },
    {
     "name": "stdout",
     "output_type": "stream",
     "text": [
      "Models [1, 6, 12, 24, 55, 62, 191] got 0.14285714285714285 on validation.\n",
      "[1, 6, 12, 24, 55, 62]\n",
      "/l/users/santosh.sanjeev/model_soups/runs/test/fge/HAM/DeiT-S/1.00e-03/fge-11.pt\n"
     ]
    },
    {
     "name": "stderr",
     "output_type": "stream",
     "text": [
      "100%|██████████| 2/2 [00:03<00:00,  1.90s/it]\n"
     ]
    },
    {
     "name": "stdout",
     "output_type": "stream",
     "text": [
      "Models [1, 6, 12, 24, 55, 62, 192] got 0.14285714285714285 on validation.\n",
      "[1, 6, 12, 24, 55, 62]\n",
      "/l/users/santosh.sanjeev/model_soups/runs/test/fge/HAM/DeiT-S/1.00e-07/fge-1.pt\n"
     ]
    },
    {
     "name": "stderr",
     "output_type": "stream",
     "text": [
      "100%|██████████| 2/2 [00:03<00:00,  1.89s/it]\n"
     ]
    },
    {
     "name": "stdout",
     "output_type": "stream",
     "text": [
      "Models [1, 6, 12, 24, 55, 62, 193] got 0.8625273390952833 on validation.\n",
      "[1, 6, 12, 24, 55, 62]\n",
      "/l/users/santosh.sanjeev/model_soups/runs/test/fge/HAM/DeiT-S/1.00e-07/fge-2.pt\n"
     ]
    },
    {
     "name": "stderr",
     "output_type": "stream",
     "text": [
      "100%|██████████| 2/2 [00:03<00:00,  1.89s/it]\n"
     ]
    },
    {
     "name": "stdout",
     "output_type": "stream",
     "text": [
      "Models [1, 6, 12, 24, 55, 62, 194] got 0.8704915003695491 on validation.\n",
      "[1, 6, 12, 24, 55, 62]\n",
      "/l/users/santosh.sanjeev/model_soups/runs/test/fge/HAM/DeiT-S/1.00e-07/fge-3.pt\n"
     ]
    },
    {
     "name": "stderr",
     "output_type": "stream",
     "text": [
      "100%|██████████| 2/2 [00:03<00:00,  1.91s/it]\n"
     ]
    },
    {
     "name": "stdout",
     "output_type": "stream",
     "text": [
      "Models [1, 6, 12, 24, 55, 62, 195] got 0.8772942214579845 on validation.\n",
      "[1, 6, 12, 24, 55, 62]\n",
      "/l/users/santosh.sanjeev/model_soups/runs/test/fge/HAM/DeiT-S/1.00e-03/fge-2.pt\n"
     ]
    },
    {
     "name": "stderr",
     "output_type": "stream",
     "text": [
      "100%|██████████| 2/2 [00:03<00:00,  1.85s/it]\n"
     ]
    },
    {
     "name": "stdout",
     "output_type": "stream",
     "text": [
      "Models [1, 6, 12, 24, 55, 62, 196] got 0.14285714285714285 on validation.\n",
      "[1, 6, 12, 24, 55, 62]\n",
      "/l/users/santosh.sanjeev/model_soups/runs/test/fge/HAM/DeiT-S/1.00e-03/fge-0.pt\n"
     ]
    },
    {
     "name": "stderr",
     "output_type": "stream",
     "text": [
      "100%|██████████| 2/2 [00:03<00:00,  1.94s/it]\n"
     ]
    },
    {
     "name": "stdout",
     "output_type": "stream",
     "text": [
      "Models [1, 6, 12, 24, 55, 62, 197] got 0.14285714285714285 on validation.\n",
      "[1, 6, 12, 24, 55, 62]\n",
      "/l/users/santosh.sanjeev/model_soups/runs/test/fge/HAM/DeiT-S/1.00e-07/fge-0.pt\n"
     ]
    },
    {
     "name": "stderr",
     "output_type": "stream",
     "text": [
      "100%|██████████| 2/2 [00:03<00:00,  1.84s/it]\n"
     ]
    },
    {
     "name": "stdout",
     "output_type": "stream",
     "text": [
      "Models [1, 6, 12, 24, 55, 62, 198] got 0.8625273390952833 on validation.\n",
      "[1, 6, 12, 24, 55, 62]\n",
      "/l/users/santosh.sanjeev/model_soups/runs/test/fge/HAM/DeiT-S/1.00e-03/fge-1.pt\n"
     ]
    },
    {
     "name": "stderr",
     "output_type": "stream",
     "text": [
      "100%|██████████| 2/2 [00:03<00:00,  1.89s/it]\n"
     ]
    },
    {
     "name": "stdout",
     "output_type": "stream",
     "text": [
      "Models [1, 6, 12, 24, 55, 62, 199] got 0.14285714285714285 on validation.\n",
      "[1, 6, 12, 24, 55, 62]\n",
      "/l/users/santosh.sanjeev/model_soups/runs/test/fge/HAM/DeiT-S/1.00e-03/fge-23.pt\n"
     ]
    },
    {
     "name": "stderr",
     "output_type": "stream",
     "text": [
      "100%|██████████| 2/2 [00:03<00:00,  1.87s/it]\n"
     ]
    },
    {
     "name": "stdout",
     "output_type": "stream",
     "text": [
      "Models [1, 6, 12, 24, 55, 62, 200] got 0.14285714285714285 on validation.\n",
      "[1, 6, 12, 24, 55, 62]\n",
      "/l/users/santosh.sanjeev/model_soups/runs/test/fge/HAM/DeiT-S/1.00e-03/fge-20.pt\n"
     ]
    },
    {
     "name": "stderr",
     "output_type": "stream",
     "text": [
      "100%|██████████| 2/2 [00:03<00:00,  1.89s/it]\n"
     ]
    },
    {
     "name": "stdout",
     "output_type": "stream",
     "text": [
      "Models [1, 6, 12, 24, 55, 62, 201] got 0.14285714285714285 on validation.\n",
      "[1, 6, 12, 24, 55, 62]\n",
      "/l/users/santosh.sanjeev/model_soups/runs/test/fge/HAM/DeiT-S/1.00e-03/fge-25.pt\n"
     ]
    },
    {
     "name": "stderr",
     "output_type": "stream",
     "text": [
      "100%|██████████| 2/2 [00:03<00:00,  1.87s/it]\n"
     ]
    },
    {
     "name": "stdout",
     "output_type": "stream",
     "text": [
      "Models [1, 6, 12, 24, 55, 62, 202] got 0.14285714285714285 on validation.\n",
      "[1, 6, 12, 24, 55, 62]\n",
      "/l/users/santosh.sanjeev/model_soups/runs/test/fge/HAM/DeiT-S/1.00e-03/fge-24.pt\n"
     ]
    },
    {
     "name": "stderr",
     "output_type": "stream",
     "text": [
      "100%|██████████| 2/2 [00:03<00:00,  1.87s/it]\n"
     ]
    },
    {
     "name": "stdout",
     "output_type": "stream",
     "text": [
      "Models [1, 6, 12, 24, 55, 62, 203] got 0.14285714285714285 on validation.\n",
      "[1, 6, 12, 24, 55, 62]\n",
      "/l/users/santosh.sanjeev/model_soups/runs/test/fge/HAM/DeiT-S/1.00e-03/fge-16.pt\n"
     ]
    },
    {
     "name": "stderr",
     "output_type": "stream",
     "text": [
      "100%|██████████| 2/2 [00:03<00:00,  1.85s/it]\n"
     ]
    },
    {
     "name": "stdout",
     "output_type": "stream",
     "text": [
      "Models [1, 6, 12, 24, 55, 62, 204] got 0.14285714285714285 on validation.\n",
      "[1, 6, 12, 24, 55, 62]\n",
      "/l/users/santosh.sanjeev/model_soups/runs/test/fge/HAM/DeiT-S/1.00e-03/fge-17.pt\n"
     ]
    },
    {
     "name": "stderr",
     "output_type": "stream",
     "text": [
      "100%|██████████| 2/2 [00:03<00:00,  1.87s/it]\n"
     ]
    },
    {
     "name": "stdout",
     "output_type": "stream",
     "text": [
      "Models [1, 6, 12, 24, 55, 62, 205] got 0.14285714285714285 on validation.\n",
      "[1, 6, 12, 24, 55, 62]\n",
      "/l/users/santosh.sanjeev/model_soups/runs/test/fge/HAM/DeiT-S/1.00e-03/fge-19.pt\n"
     ]
    },
    {
     "name": "stderr",
     "output_type": "stream",
     "text": [
      "100%|██████████| 2/2 [00:03<00:00,  1.88s/it]\n"
     ]
    },
    {
     "name": "stdout",
     "output_type": "stream",
     "text": [
      "Models [1, 6, 12, 24, 55, 62, 206] got 0.14285714285714285 on validation.\n",
      "[1, 6, 12, 24, 55, 62]\n",
      "/l/users/santosh.sanjeev/model_soups/runs/test/fge/HAM/DeiT-S/1.00e-03/fge-21.pt\n"
     ]
    },
    {
     "name": "stderr",
     "output_type": "stream",
     "text": [
      "100%|██████████| 2/2 [00:03<00:00,  1.90s/it]\n"
     ]
    },
    {
     "name": "stdout",
     "output_type": "stream",
     "text": [
      "Models [1, 6, 12, 24, 55, 62, 207] got 0.14285714285714285 on validation.\n",
      "[1, 6, 12, 24, 55, 62]\n",
      "/l/users/santosh.sanjeev/model_soups/runs/test/fge/HAM/DeiT-S/1.00e-03/fge-22.pt\n"
     ]
    },
    {
     "name": "stderr",
     "output_type": "stream",
     "text": [
      "100%|██████████| 2/2 [00:03<00:00,  1.79s/it]\n"
     ]
    },
    {
     "name": "stdout",
     "output_type": "stream",
     "text": [
      "Models [1, 6, 12, 24, 55, 62, 208] got 0.14285714285714285 on validation.\n",
      "[1, 6, 12, 24, 55, 62]\n",
      "VAL INGREDIENTS [1, 6, 12, 24, 55, 62]\n"
     ]
    }
   ],
   "source": [
    "\n",
    "best_ingredients = greedy_souping_v2(NUM_CLASSES, val_loader,train_loader, loss, 'cuda' , 'MultiClass', val_sort_by)\n",
    "# greedy_model.to('cuda')\n",
    "print('VAL INGREDIENTS',best_ingredients)\n",
    "# greedy_test_loss, greedy_test_acc, greedy_test_f1, greedy_test_recall, greedy_test_kappa, greedy_test_auc = val_step(greedy_model, test_loader, train_loader, loss, 'cuda', 'MultiClass')\n",
    "# print(greedy_test_loss, greedy_test_acc, greedy_test_f1, greedy_test_recall, greedy_test_kappa, greedy_test_auc)\n",
    "\n",
    "\n",
    "# test_results = list(results_test_df['Test Accuracy'])\n",
    "# test_models = list(results_test_df[\"Model Name\"])\n",
    "# best_ingredients_test = greedy_souping_v2(NUM_CLASSES, test_loader, train_loader, loss, 'cuda', 'MultiClass', test_sort_by)\n",
    "# print('TEST INGREDIENTS', best_ingredients_test)\n",
    "# greedy_model_test.to('cuda')\n",
    "# greedy_test_loss_test, greedy_test_acc_test, greedy_test_f1_test, greedy_test_recall_test, greedy_test_kappa_test, greedy_test_auc_test = val_step(greedy_model_test, test_loader, train_loader, loss, 'cuda', 'MultiClass')\n",
    "# print(greedy_test_loss_test, greedy_test_acc_test, greedy_test_f1_test, greedy_test_recall_test, greedy_test_kappa_test, greedy_test_auc_test)"
   ]
  },
  {
   "cell_type": "code",
   "execution_count": 10,
   "metadata": {},
   "outputs": [
    {
     "name": "stdout",
     "output_type": "stream",
     "text": [
      "[0, 5, 11, 23, 54, 61]\n",
      "['/l/users/santosh.sanjeev/model_soups/runs/test/fge/HAM/DeiT-S/1.00e-05/fge-9.pt', '/l/users/santosh.sanjeev/model_soups/runs/test/fge/HAM/DeiT-S/1.00e-05/fge-20.pt', '/l/users/santosh.sanjeev/model_soups/runs/test/fge/HAM/DeiT-S/1.00e-05/fge-5.pt', '/l/users/santosh.sanjeev/model_soups/runs/test/fge/HAM/DeiT-S/1.00e-07/fge-25.pt', '/l/users/santosh.sanjeev/model_soups/runs/test/fge/HAM/DeiT-S/1.00e-07/fge-7.pt', '/l/users/santosh.sanjeev/model_soups/runs/test/fge/HAM/DeiT-S/5.00e-06/fge-23.pt']\n",
      "[0.16666666666666666, 0.16666666666666666, 0.16666666666666666, 0.16666666666666666, 0.16666666666666666, 0.16666666666666666]\n"
     ]
    },
    {
     "name": "stderr",
     "output_type": "stream",
     "text": [
      "100%|██████████| 2/2 [00:17<00:00,  8.78s/it]\n"
     ]
    },
    {
     "name": "stdout",
     "output_type": "stream",
     "text": [
      "0.31167416274547577 0.9263822115384616 0.8949101250038017 0.9028063109944642 0.8622524290742754 0\n"
     ]
    },
    {
     "name": "stderr",
     "output_type": "stream",
     "text": [
      "100%|██████████| 12/12 [02:06<00:00, 10.56s/it]"
     ]
    },
    {
     "name": "stdout",
     "output_type": "stream",
     "text": [
      "0.5659152840574583 0.8258213141025642 0.709280300687521 0.6601539064571288 0.7015500532528232 0\n"
     ]
    },
    {
     "name": "stderr",
     "output_type": "stream",
     "text": [
      "\n"
     ]
    },
    {
     "ename": "",
     "evalue": "",
     "output_type": "error",
     "traceback": [
      "\u001b[1;31mThe Kernel crashed while executing code in the the current cell or a previous cell. Please review the code in the cell(s) to identify a possible cause of the failure. Click <a href='https://aka.ms/vscodeJupyterKernelCrash'>here</a> for more info. View Jupyter <a href='command:jupyter.viewOutput'>log</a> for further details."
     ]
    }
   ],
   "source": [
    "# List of desired model names\n",
    "desired_models = [1, 6, 12, 24, 55, 62]\n",
    "[1, 6, 12, 24, 55, 62]\n",
    "desired_models = [model-1 for model in desired_models]\n",
    "print(desired_models)\n",
    "# Models [1, 2, 3, 16, 17, 27, 35, 49] got 0.9822265625 on validation.\n",
    "\n",
    "# Models [1, 2, 3, 16, 17, 27] got 0.9818359375 on validation.\n",
    "\n",
    "\n",
    "# Filter dataframe based on desired model names and extract model paths\n",
    "model_paths = final_val_df.iloc[desired_models]['model_path'].tolist()\n",
    "print(model_paths)\n",
    "# 0.850390625\n",
    "state_dicts = []\n",
    "for model in model_paths:\n",
    "    state_dicts.append(torch.load(model)['model_state'])\n",
    "\n",
    "alphas = [1/len(state_dicts)]* len(state_dicts)\n",
    "print(alphas)\n",
    "model = get_model(MODEL, num_classes=NUM_CLASSES)\n",
    "greedy_model = souping(model, state_dicts, alphas)\n",
    "greedy_model.to('cuda')\n",
    "\n",
    "greedy_val_loss, greedy_val_acc, greedy_val_f1, greedy_val_recall, greedy_val_kappa, greedy_val_auc = val_step(greedy_model, val_loader, train_loader, loss, 'cuda', 'MultiClass')\n",
    "print(greedy_val_loss, greedy_val_acc, greedy_val_f1, greedy_val_recall, greedy_val_kappa, greedy_val_auc)\n",
    "greedy_test_loss, greedy_test_acc, greedy_test_f1, greedy_test_recall, greedy_test_kappa, greedy_test_auc = val_step(greedy_model, test_loader, train_loader, loss, 'cuda', 'MultiClass')\n",
    "print(greedy_test_loss, greedy_test_acc, greedy_test_f1, greedy_test_recall, greedy_test_kappa, greedy_test_auc)\n",
    "\n",
    "# greedy_test_loss_test, greedy_test_acc_test, greedy_test_f1_test, greedy_test_recall_test, greedy_test_kappa_test, greedy_test_auc_test = val_step(greedy_model_test, test_loader, train_loader, loss, 'cuda', 'MultiClass')\n",
    "# print(greedy_test_loss_test, greedy_test_acc_test, greedy_test_f1_test, greedy_test_recall_test, greedy_test_kappa_test, greedy_test_auc_test)"
   ]
  },
  {
   "cell_type": "code",
   "execution_count": null,
   "metadata": {},
   "outputs": [],
   "source": []
  }
 ],
 "metadata": {
  "kernelspec": {
   "display_name": "nunoodles",
   "language": "python",
   "name": "python3"
  },
  "language_info": {
   "codemirror_mode": {
    "name": "ipython",
    "version": 3
   },
   "file_extension": ".py",
   "mimetype": "text/x-python",
   "name": "python",
   "nbconvert_exporter": "python",
   "pygments_lexer": "ipython3",
   "version": "3.8.18"
  },
  "orig_nbformat": 4
 },
 "nbformat": 4,
 "nbformat_minor": 2
}
